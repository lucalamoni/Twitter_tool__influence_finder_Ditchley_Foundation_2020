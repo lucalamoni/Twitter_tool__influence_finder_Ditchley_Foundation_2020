{
 "cells": [
  {
   "cell_type": "code",
   "execution_count": 1,
   "metadata": {},
   "outputs": [],
   "source": [
    "import sys\n",
    "import os\n",
    "import time\n",
    "import json\n",
    "import csv\n",
    "import threading\n",
    "import queue\n",
    "import asyncio\n",
    "import nest_asyncio\n",
    "nest_asyncio.apply()\n",
    "import twint\n",
    "\n",
    "sys.path.insert(1, '../')\n",
    "from src.data import journalists as journos\n",
    "from src.data import twint_tools as tt"
   ]
  },
  {
   "cell_type": "code",
   "execution_count": null,
   "metadata": {},
   "outputs": [],
   "source": [
    "tweets = []\n",
    "c = twint.Config()\n",
    "c.Username = 'bobthephysicist'\n",
    "c.Profile_full = True\n",
    "c.Retweets = True\n",
    "c.Store_object = True\n",
    "c.Store_object_tweets_list = tweets\n",
    "\n",
    "twint.run.Search(c)"
   ]
  },
  {
   "cell_type": "code",
   "execution_count": 15,
   "metadata": {},
   "outputs": [
    {
     "data": {
      "text/plain": [
       "{'id': 1294994947163267072,\n",
       " 'id_str': '1294994947163267072',\n",
       " 'conversation_id': '1294994947163267072',\n",
       " 'datetime': 1597585829000,\n",
       " 'datestamp': '2020-08-16',\n",
       " 'timestamp': '14:50:29',\n",
       " 'user_id': 927293298280198145,\n",
       " 'user_id_str': '927293298280198145',\n",
       " 'username': 'bobthephysicist',\n",
       " 'name': 'Robert Webster',\n",
       " 'place': '',\n",
       " 'timezone': 'GMT Daylight Time',\n",
       " 'mentions': ['ellen_dev'],\n",
       " 'urls': ['https://twitter.com/carolecadwalla/status/1294901393191514112'],\n",
       " 'photos': [],\n",
       " 'video': 0,\n",
       " 'tweet': 'I\\'ve just been discussing this with @ellen_dev. There has been a lot of discussion surrounding #alevels2020 about \"the Algorithm\" that treats it as some mystical entity where all the blame can be placed. This completely ignores that a human being told a computer 1/3 https://twitter.com/carolecadwalla/status/1294901393191514112\\xa0…',\n",
       " 'hashtags': ['#alevels2020'],\n",
       " 'cashtags': [],\n",
       " 'replies_count': '1',\n",
       " 'retweets_count': '0',\n",
       " 'likes_count': '2',\n",
       " 'link': 'https://twitter.com/bobthephysicist/status/1294994947163267072',\n",
       " 'user_rt_id': '',\n",
       " 'user_rt': '',\n",
       " 'retweet': False,\n",
       " 'retweet_id': '',\n",
       " 'retweet_date': '',\n",
       " 'quote_url': 'https://twitter.com/carolecadwalla/status/1294901393191514112',\n",
       " 'near': '',\n",
       " 'geo': '',\n",
       " 'source': '',\n",
       " 'reply_to': [{'user_id': '927293298280198145', 'username': 'bobthephysicist'},\n",
       "  {'user_id': '790112248165531648', 'username': 'ellen_dev'}],\n",
       " 'translate': '',\n",
       " 'trans_src': '',\n",
       " 'trans_dest': ''}"
      ]
     },
     "execution_count": 15,
     "metadata": {},
     "output_type": "execute_result"
    }
   ],
   "source": [
    "vars(tweets[3])"
   ]
  },
  {
   "cell_type": "code",
   "execution_count": 2,
   "metadata": {},
   "outputs": [
    {
     "name": "stdout",
     "output_type": "stream",
     "text": [
      "3\n"
     ]
    }
   ],
   "source": [
    "keyword = 'cybersecurity'\n",
    "journo_handles = journos.get_handles_by_keyword(keyword)\n",
    "print(len(journo_handles))"
   ]
  },
  {
   "cell_type": "code",
   "execution_count": 3,
   "metadata": {},
   "outputs": [
    {
     "data": {
      "text/plain": [
       "{'date_range': ('2020-01-01', '2020-08-15'), 'n_retries': 5, 'suppress': False}"
      ]
     },
     "execution_count": 3,
     "metadata": {},
     "output_type": "execute_result"
    }
   ],
   "source": []
  },
  {
   "cell_type": "code",
   "execution_count": 3,
   "metadata": {},
   "outputs": [
    {
     "name": "stdout",
     "output_type": "stream",
     "text": [
      "Attempt #1 to get tweets of @_lucyingham\n",
      "Attempt #1 to get tweets of @JesscaHaworth\n",
      "Attempt #1 to get tweets of @Ad_Nauseum74\n"
     ]
    },
    {
     "name": "stderr",
     "output_type": "stream",
     "text": [
      "CRITICAL:root:twint.get:User:'NoneType' object is not subscriptable\n",
      "CRITICAL:root:twint.get:User:'NoneType' object is not subscriptable\n",
      "CRITICAL:root:twint.get:User:'NoneType' object is not subscriptable\n"
     ]
    },
    {
     "name": "stdout",
     "output_type": "stream",
     "text": [
      "Results for @Ad_Nauseum74 saved to: ../data/raw/cybersecurity_tweets_Ad_Nauseum74.csv\n",
      "Results for @JesscaHaworth saved to: ../data/raw/cybersecurity_tweets_JesscaHaworth.csv\n",
      "Results for @_lucyingham saved to: ../data/raw/cybersecurity_tweets__lucyingham.csv\n"
     ]
    }
   ],
   "source": [
    "kwargs = {'date_range':('2020-01-01 00:00:00', None),\n",
    "         'n_retries':5,\n",
    "         'suppress':False}\n",
    "tt.twint_in_queue(tt._search_tweets_by_user, 3, journo_handles, args=('../data/raw/cybersecurity_',), kwargs=kwargs)"
   ]
  },
  {
   "cell_type": "code",
   "execution_count": null,
   "metadata": {},
   "outputs": [],
   "source": [
    "kwargs = {'n_retries':5,\n",
    "         'suppress':False}\n",
    "tt.twint_in_queue(tt._get_friends, 3, journo_handles, args=('../data/raw/cybersecurity_',), kwargs=kwargs)"
   ]
  },
  {
   "cell_type": "code",
   "execution_count": 4,
   "metadata": {},
   "outputs": [
    {
     "name": "stdout",
     "output_type": "stream",
     "text": [
      "Attempt #1 to get tweets of @bobthephysicist\n"
     ]
    },
    {
     "name": "stderr",
     "output_type": "stream",
     "text": [
      "CRITICAL:root:twint.get:User:'NoneType' object is not subscriptable\n"
     ]
    },
    {
     "name": "stdout",
     "output_type": "stream",
     "text": [
      "Results for @bobthephysicist saved to: ../data/raw/tweets_bobthephysicist.csv\n"
     ]
    }
   ],
   "source": [
    "kwargs = {'date_range':('2020-01-01 00:00:00', None),\n",
    "         'n_retries':5,\n",
    "         'suppress':False}\n",
    "tt.twint_in_queue(tt._search_tweets_by_user, 1, ['bobthephysicist',], args=('../data/raw/',), kwargs=kwargs)"
   ]
  },
  {
   "cell_type": "code",
   "execution_count": null,
   "metadata": {},
   "outputs": [],
   "source": []
  }
 ],
 "metadata": {
  "kernelspec": {
   "display_name": "Python 3",
   "language": "python",
   "name": "python3"
  },
  "language_info": {
   "codemirror_mode": {
    "name": "ipython",
    "version": 3
   },
   "file_extension": ".py",
   "mimetype": "text/x-python",
   "name": "python",
   "nbconvert_exporter": "python",
   "pygments_lexer": "ipython3",
   "version": "3.7.4"
  }
 },
 "nbformat": 4,
 "nbformat_minor": 4
}
