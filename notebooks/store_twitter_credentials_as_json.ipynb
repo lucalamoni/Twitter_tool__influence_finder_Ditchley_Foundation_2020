{
 "cells": [
  {
   "cell_type": "markdown",
   "metadata": {},
   "source": [
    "## Handling Twitter Credentials for API-based access\n",
    "\n",
    "For Python modules such as `tweepy` or `python-twitter`, scraping is achieved by API calls.  Thus, API tokens are required in conjunction with code based on these modules.\n",
    "\n",
    "Rather than hard-coding access keys, which should be confidential, the code snipped below (which is based on code from the article here; https://stackabuse.com/accessing-the-twitter-api-with-python/) generates a json file which can be kept separate and can be loaded separately for security.  \n",
    "\n",
    "TODO: Check potential security issues with GitHub.  Probably want to tell any git repos to ignore the resulting json file.  "
   ]
  },
  {
   "cell_type": "code",
   "execution_count": 2,
   "metadata": {},
   "outputs": [
    {
     "name": "stdin",
     "output_type": "stream",
     "text": [
      "Consumer Key:  ·························\n",
      "Consumer Secret Key:  ··················································\n",
      "Access Token:  ··················································\n",
      "Access Secret Token:  ·············································\n"
     ]
    }
   ],
   "source": [
    "import os\n",
    "import json\n",
    "import getpass\n",
    "\n",
    "fp = '../twitter_credentials.json' # Defines where the json file will be saved, ../ corresponds to the top level of the git repo\n",
    "\n",
    "def store_creds_as_json(filepath):\n",
    "    # Enter your keys/secrets as strings in the following fields\n",
    "    credentials = {}\n",
    "    credentials['CONSUMER_KEY'] = getpass.getpass('Consumer Key: ')\n",
    "    credentials['CONSUMER_SECRET'] = getpass.getpass('Consumer Secret Key: ')\n",
    "    credentials['ACCESS_TOKEN'] = getpass.getpass('Access Token: ')\n",
    "    credentials['ACCESS_SECRET'] = getpass.getpass('Access Secret Token: ')\n",
    "\n",
    "    # Save the credentials object to file\n",
    "    with open(filepath, \"w\") as file:\n",
    "        json.dump(credentials, file)\n",
    "        \n",
    "store_creds_as_json(fp)"
   ]
  },
  {
   "cell_type": "code",
   "execution_count": null,
   "metadata": {},
   "outputs": [],
   "source": []
  }
 ],
 "metadata": {
  "kernelspec": {
   "display_name": "Python 3",
   "language": "python",
   "name": "python3"
  },
  "language_info": {
   "codemirror_mode": {
    "name": "ipython",
    "version": 3
   },
   "file_extension": ".py",
   "mimetype": "text/x-python",
   "name": "python",
   "nbconvert_exporter": "python",
   "pygments_lexer": "ipython3",
   "version": "3.7.1"
  }
 },
 "nbformat": 4,
 "nbformat_minor": 4
}
