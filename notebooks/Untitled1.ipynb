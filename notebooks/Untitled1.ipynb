{
 "cells": [
  {
   "cell_type": "code",
   "execution_count": 1,
   "metadata": {},
   "outputs": [],
   "source": [
    "import sys\n",
    "import os\n",
    "import time\n",
    "import json\n",
    "import csv\n",
    "import threading\n",
    "import queue\n",
    "import asyncio \n",
    "import nest_asyncio\n",
    "nest_asyncio.apply()\n",
    "import twint\n",
    "import pandas as pd\n",
    "\n",
    "sys.path.insert(1, 'C:/Users/Luca/Aug20_Ditchley')\n",
    "from src.data import data_cleanup"
   ]
  },
  {
   "cell_type": "markdown",
   "metadata": {},
   "source": [
    "If the source data is TWINT"
   ]
  },
  {
   "cell_type": "code",
   "execution_count": null,
   "metadata": {},
   "outputs": [],
   "source": [
    "# Load the dataframe\n",
    "df_twint = pd.read_csv(r\"C:/Users/Luca/Aug20_Ditchley/data/processed/twint_political_19082020_inParallel_with_index.csv\")"
   ]
  },
  {
   "cell_type": "code",
   "execution_count": null,
   "metadata": {},
   "outputs": [],
   "source": [
    "#Create the template\n",
    "test_twint = data_cleanup.standard_tweet_dataset_setup('test_twint')\n",
    "test_twint"
   ]
  },
  {
   "cell_type": "code",
   "execution_count": null,
   "metadata": {},
   "outputs": [],
   "source": [
    "#fill the template\n",
    "new_standard = data_cleanup.fill_standard_tweet_dataset_with_twint(test_twint, df_twint)\n",
    "new_standard.head()"
   ]
  },
  {
   "cell_type": "code",
   "execution_count": null,
   "metadata": {},
   "outputs": [],
   "source": [
    "# Save the dataframe\n",
    "new_standard.to_csv(r\"C:/Users/Luca/Aug20_Ditchley/data/processed/standardised_political_tweets_19082020.csv\",index=False)"
   ]
  },
  {
   "cell_type": "markdown",
   "metadata": {},
   "source": [
    "If the source data is API"
   ]
  },
  {
   "cell_type": "code",
   "execution_count": 2,
   "metadata": {},
   "outputs": [
    {
     "name": "stderr",
     "output_type": "stream",
     "text": [
      "c:\\python37\\lib\\site-packages\\IPython\\core\\interactiveshell.py:3057: DtypeWarning: Columns (0,10,11,12,14,16,23,29) have mixed types. Specify dtype option on import or set low_memory=False.\n",
      "  interactivity=interactivity, compiler=compiler, result=result)\n"
     ]
    }
   ],
   "source": [
    "# Load the dataframe\n",
    "df_API = pd.read_csv(r\"C:/Users/Luca/Aug20_Ditchley/data/processed/API_political_tweets_18082020.csv\")"
   ]
  },
  {
   "cell_type": "code",
   "execution_count": null,
   "metadata": {},
   "outputs": [],
   "source": [
    "#Create the template\n",
    "test_API = data_cleanup.standard_tweet_dataset_setup('test_API')\n",
    "test_API"
   ]
  },
  {
   "cell_type": "code",
   "execution_count": null,
   "metadata": {},
   "outputs": [],
   "source": [
    "#fill the template\n",
    "new_standard_api = data_cleanup.fill_standard_tweet_dataset_with_API(test_API, df_API)\n",
    "new_standard_api.head()"
   ]
  },
  {
   "cell_type": "code",
   "execution_count": 3,
   "metadata": {},
   "outputs": [
    {
     "data": {
      "text/html": [
       "<div>\n",
       "<style scoped>\n",
       "    .dataframe tbody tr th:only-of-type {\n",
       "        vertical-align: middle;\n",
       "    }\n",
       "\n",
       "    .dataframe tbody tr th {\n",
       "        vertical-align: top;\n",
       "    }\n",
       "\n",
       "    .dataframe thead th {\n",
       "        text-align: right;\n",
       "    }\n",
       "</style>\n",
       "<table border=\"1\" class=\"dataframe\">\n",
       "  <thead>\n",
       "    <tr style=\"text-align: right;\">\n",
       "      <th></th>\n",
       "      <th>tweet_id</th>\n",
       "      <th>conversation_id</th>\n",
       "      <th>in_reply_to_status_id</th>\n",
       "      <th>reply_to</th>\n",
       "      <th>in_reply_to_user_id</th>\n",
       "      <th>in_reply_to_screen_name</th>\n",
       "      <th>user_id</th>\n",
       "      <th>screen_name</th>\n",
       "      <th>tweet_created_at</th>\n",
       "      <th>text</th>\n",
       "      <th>replies_count</th>\n",
       "      <th>retweets_count</th>\n",
       "      <th>likes_count</th>\n",
       "      <th>hashtags</th>\n",
       "      <th>retweet_text</th>\n",
       "      <th>topics</th>\n",
       "    </tr>\n",
       "  </thead>\n",
       "  <tbody>\n",
       "  </tbody>\n",
       "</table>\n",
       "</div>"
      ],
      "text/plain": [
       "Empty DataFrame\n",
       "Columns: [tweet_id, conversation_id, in_reply_to_status_id, reply_to, in_reply_to_user_id, in_reply_to_screen_name, user_id, screen_name, tweet_created_at, text, replies_count, retweets_count, likes_count, hashtags, retweet_text, topics]\n",
       "Index: []"
      ]
     },
     "execution_count": 3,
     "metadata": {},
     "output_type": "execute_result"
    }
   ],
   "source": [
    "# Save the dataframe\n",
    "new_standard_api.to_csv(r\"C:/Users/Luca/Aug20_Ditchley/data/processed/standardised_political_API_tweets_19082020.csv\",index=False)"
   ]
  },
  {
   "cell_type": "code",
   "execution_count": 4,
   "metadata": {},
   "outputs": [
    {
     "data": {
      "text/html": [
       "<div>\n",
       "<style scoped>\n",
       "    .dataframe tbody tr th:only-of-type {\n",
       "        vertical-align: middle;\n",
       "    }\n",
       "\n",
       "    .dataframe tbody tr th {\n",
       "        vertical-align: top;\n",
       "    }\n",
       "\n",
       "    .dataframe thead th {\n",
       "        text-align: right;\n",
       "    }\n",
       "</style>\n",
       "<table border=\"1\" class=\"dataframe\">\n",
       "  <thead>\n",
       "    <tr style=\"text-align: right;\">\n",
       "      <th></th>\n",
       "      <th>tweet_id</th>\n",
       "      <th>conversation_id</th>\n",
       "      <th>in_reply_to_status_id</th>\n",
       "      <th>reply_to</th>\n",
       "      <th>in_reply_to_user_id</th>\n",
       "      <th>in_reply_to_screen_name</th>\n",
       "      <th>user_id</th>\n",
       "      <th>screen_name</th>\n",
       "      <th>tweet_created_at</th>\n",
       "      <th>text</th>\n",
       "      <th>replies_count</th>\n",
       "      <th>retweets_count</th>\n",
       "      <th>likes_count</th>\n",
       "      <th>hashtags</th>\n",
       "      <th>retweet_text</th>\n",
       "      <th>topics</th>\n",
       "    </tr>\n",
       "  </thead>\n",
       "  <tbody>\n",
       "    <tr>\n",
       "      <th>0</th>\n",
       "      <td>1294958898110226433</td>\n",
       "      <td>NaN</td>\n",
       "      <td>1.294733e+18</td>\n",
       "      <td>NaN</td>\n",
       "      <td>2.332024e+09</td>\n",
       "      <td>aureliebonal</td>\n",
       "      <td>16133363</td>\n",
       "      <td>shippersunbound</td>\n",
       "      <td>2020-08-16 11:27:15</td>\n",
       "      <td>@AurelieBonal So sad we’ve lost you but I had ...</td>\n",
       "      <td>NaN</td>\n",
       "      <td>0.0</td>\n",
       "      <td>4.0</td>\n",
       "      <td>[]</td>\n",
       "      <td>None</td>\n",
       "      <td>NaN</td>\n",
       "    </tr>\n",
       "    <tr>\n",
       "      <th>1</th>\n",
       "      <td>1294669509215891457</td>\n",
       "      <td>NaN</td>\n",
       "      <td>1.294669e+18</td>\n",
       "      <td>NaN</td>\n",
       "      <td>1.931189e+07</td>\n",
       "      <td>gabrielmilland</td>\n",
       "      <td>16133363</td>\n",
       "      <td>shippersunbound</td>\n",
       "      <td>2020-08-15 16:17:19</td>\n",
       "      <td>@gabrielmilland @MotoClark Should be in the ca...</td>\n",
       "      <td>NaN</td>\n",
       "      <td>0.0</td>\n",
       "      <td>0.0</td>\n",
       "      <td>[]</td>\n",
       "      <td>None</td>\n",
       "      <td>NaN</td>\n",
       "    </tr>\n",
       "    <tr>\n",
       "      <th>2</th>\n",
       "      <td>1292712727773937665</td>\n",
       "      <td>NaN</td>\n",
       "      <td>1.292508e+18</td>\n",
       "      <td>NaN</td>\n",
       "      <td>1.441128e+08</td>\n",
       "      <td>almurray</td>\n",
       "      <td>16133363</td>\n",
       "      <td>shippersunbound</td>\n",
       "      <td>2020-08-10 06:41:46</td>\n",
       "      <td>@almurray Hope it went well. I trust the new s...</td>\n",
       "      <td>NaN</td>\n",
       "      <td>0.0</td>\n",
       "      <td>4.0</td>\n",
       "      <td>[]</td>\n",
       "      <td>None</td>\n",
       "      <td>NaN</td>\n",
       "    </tr>\n",
       "    <tr>\n",
       "      <th>3</th>\n",
       "      <td>1291753132549169158</td>\n",
       "      <td>NaN</td>\n",
       "      <td>1.291736e+18</td>\n",
       "      <td>NaN</td>\n",
       "      <td>1.634545e+08</td>\n",
       "      <td>guywalters</td>\n",
       "      <td>16133363</td>\n",
       "      <td>shippersunbound</td>\n",
       "      <td>2020-08-07 15:08:41</td>\n",
       "      <td>@guywalters more like the much loved  black sh...</td>\n",
       "      <td>NaN</td>\n",
       "      <td>1.0</td>\n",
       "      <td>17.0</td>\n",
       "      <td>[]</td>\n",
       "      <td>None</td>\n",
       "      <td>NaN</td>\n",
       "    </tr>\n",
       "    <tr>\n",
       "      <th>4</th>\n",
       "      <td>1291672741742030848</td>\n",
       "      <td>NaN</td>\n",
       "      <td>1.291671e+18</td>\n",
       "      <td>NaN</td>\n",
       "      <td>1.574824e+07</td>\n",
       "      <td>tommctague</td>\n",
       "      <td>16133363</td>\n",
       "      <td>shippersunbound</td>\n",
       "      <td>2020-08-07 09:49:14</td>\n",
       "      <td>@TomMcTague @Freddygray31 He needs to point at...</td>\n",
       "      <td>NaN</td>\n",
       "      <td>1.0</td>\n",
       "      <td>8.0</td>\n",
       "      <td>[]</td>\n",
       "      <td>None</td>\n",
       "      <td>NaN</td>\n",
       "    </tr>\n",
       "  </tbody>\n",
       "</table>\n",
       "</div>"
      ],
      "text/plain": [
       "              tweet_id conversation_id  in_reply_to_status_id reply_to  \\\n",
       "0  1294958898110226433             NaN           1.294733e+18      NaN   \n",
       "1  1294669509215891457             NaN           1.294669e+18      NaN   \n",
       "2  1292712727773937665             NaN           1.292508e+18      NaN   \n",
       "3  1291753132549169158             NaN           1.291736e+18      NaN   \n",
       "4  1291672741742030848             NaN           1.291671e+18      NaN   \n",
       "\n",
       "   in_reply_to_user_id in_reply_to_screen_name   user_id      screen_name  \\\n",
       "0         2.332024e+09            aureliebonal  16133363  shippersunbound   \n",
       "1         1.931189e+07          gabrielmilland  16133363  shippersunbound   \n",
       "2         1.441128e+08                almurray  16133363  shippersunbound   \n",
       "3         1.634545e+08              guywalters  16133363  shippersunbound   \n",
       "4         1.574824e+07              tommctague  16133363  shippersunbound   \n",
       "\n",
       "      tweet_created_at                                               text  \\\n",
       "0  2020-08-16 11:27:15  @AurelieBonal So sad we’ve lost you but I had ...   \n",
       "1  2020-08-15 16:17:19  @gabrielmilland @MotoClark Should be in the ca...   \n",
       "2  2020-08-10 06:41:46  @almurray Hope it went well. I trust the new s...   \n",
       "3  2020-08-07 15:08:41  @guywalters more like the much loved  black sh...   \n",
       "4  2020-08-07 09:49:14  @TomMcTague @Freddygray31 He needs to point at...   \n",
       "\n",
       "  replies_count  retweets_count  likes_count hashtags retweet_text topics  \n",
       "0           NaN             0.0          4.0       []         None    NaN  \n",
       "1           NaN             0.0          0.0       []         None    NaN  \n",
       "2           NaN             0.0          4.0       []         None    NaN  \n",
       "3           NaN             1.0         17.0       []         None    NaN  \n",
       "4           NaN             1.0          8.0       []         None    NaN  "
      ]
     },
     "execution_count": 4,
     "metadata": {},
     "output_type": "execute_result"
    }
   ],
   "source": []
  },
  {
   "cell_type": "code",
   "execution_count": 5,
   "metadata": {},
   "outputs": [],
   "source": []
  }
 ],
 "metadata": {
  "kernelspec": {
   "display_name": "Python 3",
   "language": "python",
   "name": "python3"
  },
  "language_info": {
   "codemirror_mode": {
    "name": "ipython",
    "version": 3
   },
   "file_extension": ".py",
   "mimetype": "text/x-python",
   "name": "python",
   "nbconvert_exporter": "python",
   "pygments_lexer": "ipython3",
   "version": "3.7.4"
  }
 },
 "nbformat": 4,
 "nbformat_minor": 4
}
