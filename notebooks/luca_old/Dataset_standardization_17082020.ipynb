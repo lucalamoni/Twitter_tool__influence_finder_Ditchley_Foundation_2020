{
 "cells": [
  {
   "cell_type": "code",
   "execution_count": 6,
   "metadata": {},
   "outputs": [],
   "source": [
    "#####################################################################################################\n",
    "#####################################################################################################\n",
    "#Test to homogenize the two cyber/education datasets\n",
    "#import seaborn as sns\n",
    "#import matplotlib.pyplot as plt\n",
    "import pandas as pd\n",
    "\n",
    "\n",
    "#For tweets:\n",
    "#tweet_id, user_id, in_reply_to_status_id,\n",
    "#tweet_created_at, text, retweet_count, favourite_count, hashtags, mentions, topics\n",
    "\n",
    "#For users:\n",
    "#user_id, name, screen_name, location, user_description, user_friends_n, \n",
    "#user_followers_n, prof_created_at, favourites_count, verified, statuses_count, topics"
   ]
  },
  {
   "cell_type": "code",
   "execution_count": null,
   "metadata": {},
   "outputs": [],
   "source": [
    "# Load the dataframes\n",
    "df_API = pd.read_csv(r\"C:/Users/Luca/Aug20_Ditchley/data/processed/politic_tweets_14082020.csv\")\n",
    "df_twint = pd.read_csv(r\"C:/Users/Luca/Aug20_Ditchley/data/processed/twint_politic_16082020_inParallel_with_index.csv\")"
   ]
  },
  {
   "cell_type": "code",
   "execution_count": 3,
   "metadata": {},
   "outputs": [],
   "source": [
    "# create the dataframe with the columns we decided\n",
    "\n",
    "tweets_standard = pd.DataFrame(columns = [#tweet info\n",
    "                                                'tweet_id', 'conversation_id','user_id', 'reply_to',\n",
    "                                                'tweet_created_at_date','tweet_created_at_time', 'text','replies_count', \n",
    "                                                'retweets_count', 'favourite_count','likes_count',\n",
    "                                               'hashtags', 'topics', \n",
    "                                               #user info\n",
    "                                               'user_id', 'screen_name',  'name',\n",
    "                                               'location', 'user_description', 'user_friends_n', 'user_followers_n', \n",
    "                                               'prof_created_at', 'favourites_count', 'verified', 'statuses_count'])\n",
    "# Start assigning the columns\n",
    "tweets_standard['tweet_id'] = df_twint['id']\n",
    "tweets_standard['conversation_id'] = df_twint['conversation_id']\n",
    "tweets_standard['user_id'] = df_twint['user_id']\n",
    "tweets_standard['reply_to'] = df_twint['reply_to']\n",
    "tweets_standard['tweet_created_at_date'] = df_twint['date']\n",
    "tweets_standard['tweet_created_at_time'] = df_twint['time']\n",
    "tweets_standard['text'] = df_twint['tweet']\n",
    "tweets_standard['replies_count'] = df_twint['replies_count']\n",
    "tweets_standard['retweets_count'] = df_twint['retweets_count']\n",
    "tweets_standard['likes_count'] = df_twint['likes_count']\n",
    "tweets_standard['hashtags'] = df_twint['hashtags']\n",
    "tweets_standard['user_id'] = df_twint['user_id']\n",
    "tweets_standard['screen_name'] = df_twint['username']"
   ]
  },
  {
   "cell_type": "code",
   "execution_count": 4,
   "metadata": {},
   "outputs": [],
   "source": [
    "# make sure all usernames are lowercase\n",
    "df_API.screen_name = df_API.screen_name.str.lower()"
   ]
  },
  {
   "cell_type": "code",
   "execution_count": null,
   "metadata": {},
   "outputs": [],
   "source": [
    "# Run loop to assign API user info to the new dataset (based on twint dataset rows)\n",
    "for name_i in df_API.screen_name.unique():\n",
    "    \n",
    "    name_index = df_API[df_API.screen_name == name_i].first_valid_index()    \n",
    "    tweets_standard.loc[tweets_standard['screen_name']==name_i, 'name'] = df_API.name[name_index]    \n",
    "    tweets_standard.loc[tweets_standard['screen_name']==name_i, 'location'] = df_API.location[name_index]    \n",
    "    tweets_standard.loc[tweets_standard['screen_name']==name_i, 'user_description'] = df_API.user_description[name_index]    \n",
    "    tweets_standard.loc[tweets_standard['screen_name']==name_i, 'user_friends_n'] = df_API.user_friends_n[name_index]    \n",
    "    tweets_standard.loc[tweets_standard['screen_name']==name_i, 'user_followers_n'] = df_API.user_followers_n[name_index]    \n",
    "    tweets_standard.loc[tweets_standard['screen_name']==name_i, 'prof_created_at'] = df_API.prof_created_at[name_index]    \n",
    "    tweets_standard.loc[tweets_standard['screen_name']==name_i, 'favourites_count'] = df_API.favourites_count[name_index]    \n",
    "    tweets_standard.loc[tweets_standard['screen_name']==name_i, 'verified'] = df_API.verified[name_index]    \n",
    "    tweets_standard.loc[tweets_standard['screen_name']==name_i, 'statuses_count'] = df_API.statuses_count[name_index]\n",
    "    \n",
    "  "
   ]
  },
  {
   "cell_type": "code",
   "execution_count": null,
   "metadata": {},
   "outputs": [],
   "source": [
    "# check head\n",
    "tweets_standard.head()"
   ]
  },
  {
   "cell_type": "code",
   "execution_count": null,
   "metadata": {},
   "outputs": [],
   "source": [
    "# check tail\n",
    "tweets_standard.tail()"
   ]
  },
  {
   "cell_type": "code",
   "execution_count": null,
   "metadata": {},
   "outputs": [],
   "source": [
    "# Save\n",
    "\n",
    "tweets_standard.to_csv(r\"C:/Users/Luca/Aug20_Ditchley/data/processed/standardised_cyber_tweets.csv\",index=False)"
   ]
  },
  {
   "cell_type": "code",
   "execution_count": null,
   "metadata": {},
   "outputs": [],
   "source": []
  }
 ],
 "metadata": {
  "kernelspec": {
   "display_name": "Python 3",
   "language": "python",
   "name": "python3"
  },
  "language_info": {
   "codemirror_mode": {
    "name": "ipython",
    "version": 3
   },
   "file_extension": ".py",
   "mimetype": "text/x-python",
   "name": "python",
   "nbconvert_exporter": "python",
   "pygments_lexer": "ipython3",
   "version": "3.7.4"
  }
 },
 "nbformat": 4,
 "nbformat_minor": 4
}
