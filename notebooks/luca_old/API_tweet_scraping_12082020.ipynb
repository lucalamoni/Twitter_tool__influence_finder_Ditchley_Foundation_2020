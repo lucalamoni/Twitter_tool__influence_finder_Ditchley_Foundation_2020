{
 "cells": [
  {
   "cell_type": "code",
   "execution_count": 12,
   "metadata": {
    "colab": {
     "base_uri": "https://localhost:8080/",
     "height": 51
    },
    "colab_type": "code",
    "executionInfo": {
     "elapsed": 651,
     "status": "ok",
     "timestamp": 1597236768478,
     "user": {
      "displayName": "luca lamoni",
      "photoUrl": "https://lh3.googleusercontent.com/a-/AOh14GiZMpGjRPw1MibJF_PsAz5kbsPgPkSGpE7n4w8mKQ=s64",
      "userId": "07353226337550152050"
     },
     "user_tz": -120
    },
    "id": "-MEOE6vaIIUH",
    "outputId": "8d8f3537-2f3d-44e9-da0d-f216460ab9a4"
   },
   "outputs": [
    {
     "name": "stdout",
     "output_type": "stream",
     "text": [
      "/content/drive\n",
      "Drive already mounted at /content/drive; to attempt to forcibly remount, call drive.mount(\"/content/drive\", force_remount=True).\n"
     ]
    }
   ],
   "source": [
    "# Mount Google Drive\n",
    "from google.colab import drive # import drive from google colab\n",
    "\n",
    "ROOT = \"/content/drive\"     # default location for the drive\n",
    "print(ROOT)                 # print content of ROOT (Optional)\n",
    "\n",
    "drive.mount(ROOT)           # we mount the google drive at /content/drive\n"
   ]
  },
  {
   "cell_type": "code",
   "execution_count": 13,
   "metadata": {
    "colab": {
     "base_uri": "https://localhost:8080/",
     "height": 34
    },
    "colab_type": "code",
    "executionInfo": {
     "elapsed": 645,
     "status": "ok",
     "timestamp": 1597236773435,
     "user": {
      "displayName": "luca lamoni",
      "photoUrl": "https://lh3.googleusercontent.com/a-/AOh14GiZMpGjRPw1MibJF_PsAz5kbsPgPkSGpE7n4w8mKQ=s64",
      "userId": "07353226337550152050"
     },
     "user_tz": -120
    },
    "id": "V10vhmK4IU80",
    "outputId": "e4321649-0bb8-4fc8-a0b7-b3e715839833"
   },
   "outputs": [
    {
     "name": "stdout",
     "output_type": "stream",
     "text": [
      "/content/drive/My Drive/Colab Notebooks\n"
     ]
    }
   ],
   "source": [
    "# Change directory in google drive\n",
    "%cd '//content//drive//My Drive/Colab Notebooks//'"
   ]
  },
  {
   "cell_type": "code",
   "execution_count": 14,
   "metadata": {
    "colab": {},
    "colab_type": "code",
    "executionInfo": {
     "elapsed": 606,
     "status": "ok",
     "timestamp": 1597236775476,
     "user": {
      "displayName": "luca lamoni",
      "photoUrl": "https://lh3.googleusercontent.com/a-/AOh14GiZMpGjRPw1MibJF_PsAz5kbsPgPkSGpE7n4w8mKQ=s64",
      "userId": "07353226337550152050"
     },
     "user_tz": -120
    },
    "id": "RYcVh0_cIcXI"
   },
   "outputs": [],
   "source": [
    "#import pacjages\n",
    "import os\n",
    "import time\n",
    "import json\n",
    "import pandas as pd\n",
    "import tweepy\n",
    "import datetime"
   ]
  },
  {
   "cell_type": "code",
   "execution_count": 24,
   "metadata": {
    "colab": {},
    "colab_type": "code",
    "executionInfo": {
     "elapsed": 655,
     "status": "ok",
     "timestamp": 1597239577459,
     "user": {
      "displayName": "luca lamoni",
      "photoUrl": "https://lh3.googleusercontent.com/a-/AOh14GiZMpGjRPw1MibJF_PsAz5kbsPgPkSGpE7n4w8mKQ=s64",
      "userId": "07353226337550152050"
     },
     "user_tz": -120
    },
    "id": "Pld_12D6HFRn"
   },
   "outputs": [],
   "source": [
    "# this was taken from https://towardsdatascience.com/tweepy-for-beginners-24baf21f2c25, it uses a class to create the api and define the things we want to extract. Right now I have used my \n",
    "#API credentials but we need to change this using Rob method\n",
    "class TweetMiner(object):\n",
    "\n",
    "    result_limit    =   20    \n",
    "    data            =   []\n",
    "    api             =   False\n",
    "    '''\n",
    "    ##################################Bit I am changing\n",
    "    api_keys_fp = '//content//drive//My Drive//Colab Notebooks//twitter_credentials.json'\n",
    "    def load_api(keys_file):\n",
    "      # Load twitter credentials\n",
    "      with open(keys_file, 'r') as file:\n",
    "        creds = json.load(file)\n",
    "\n",
    "    # Use credentials to set up API access authorisation\n",
    "    #auth = tweepy.OAuthHandler(creds['CONSUMER_KEY'], creds['CONSUMER_SECRET'])\n",
    "    #auth.set_access_token(creds['ACCESS_TOKEN'], creds['ACCESS_SECRET'])\n",
    "    #api = tweepy.API(auth, wait_on_rate_limit=True)\n",
    "    \n",
    "    #return api\n",
    "    twitter_keys = {\n",
    "        'consumer_key':        creds['CONSUMER_KEY'],\n",
    "        'consumer_secret':     creds['CONSUMER_SECRET'],\n",
    "        'access_token_key':    creds['ACCESS_TOKEN'],\n",
    "        'access_token_secret': creds['ACCESS_SECRET']\n",
    "    }\n",
    "    '''\n",
    "###############################################\n",
    "\n",
    "    twitter_keys = {\n",
    "        'consumer_key':        'iwvyIvriy0AwHR0T7n1AfJJDi',\n",
    "        'consumer_secret':     '8A3UbQzrOmLKq9hhTwghp0oH4uga0p84GDNNiqeCR7gAhc0JPH',\n",
    "        'access_token_key':    '1291308136679317504-opzlc5uR8yPUOYf5xtB07KVaOFKE7U',\n",
    "        'access_token_secret': 'n0fQkOk7atzzYksXXtiyVcN9B8Wc3LukVhdA2wKt9rsDH'\n",
    "    }\n",
    " \n",
    "    \n",
    "    def __init__(self, keys_dict=twitter_keys, api=api, result_limit = 20):\n",
    "        \n",
    "        self.twitter_keys = keys_dict\n",
    "        \n",
    "        auth = tweepy.OAuthHandler(keys_dict['consumer_key'], keys_dict['consumer_secret'])\n",
    "        auth.set_access_token(keys_dict['access_token_key'], keys_dict['access_token_secret'])\n",
    "        \n",
    "        self.api = tweepy.API(auth, wait_on_rate_limit=True)\n",
    "        self.twitter_keys = keys_dict\n",
    "        \n",
    "        self.result_limit = result_limit\n",
    "        \n",
    "\n",
    "    def mine_user_tweets(self, user=\"dril\", #BECAUSE WHO ELSE!\n",
    "                         mine_rewteets=False,\n",
    "                         max_pages=5):\n",
    "\n",
    "        data           =  []\n",
    "        last_tweet_id  =  False\n",
    "        page           =  1\n",
    "        \n",
    "        while page <= max_pages:\n",
    "            if last_tweet_id:\n",
    "                statuses   =   self.api.user_timeline(screen_name=user,\n",
    "                                                     count=self.result_limit,\n",
    "                                                     max_id=last_tweet_id - 1,\n",
    "                                                     tweet_mode = 'extended',\n",
    "                                                     include_retweets=True)        \n",
    "            else:\n",
    "                statuses   =   self.api.user_timeline(screen_name=user,\n",
    "                                                        count=self.result_limit,\n",
    "                                                        tweet_mode = 'extended',\n",
    "                                                        include_retweets=True)\n",
    "                \n",
    "            for item in statuses:\n",
    "\n",
    "                mined = {\n",
    "\n",
    "                    #user info\n",
    "                    'user_id':         item.user.id,\n",
    "                    'name':            item.user.name,\n",
    "                    'screen_name':     item.user.screen_name,\n",
    "                    'location':        item.user.location,\n",
    "                    'user_description':item.user.description,\n",
    "                    'user_friends_n':  item.user.friends_count,\n",
    "                    'user_followers_n':item.user.followers_count,\n",
    "                    'listed_count':    item.user.listed_count,\n",
    "                    'prof_created_at': item.user.created_at,\n",
    "                    'favourites_count':item.user.favourites_count,\n",
    "                    'verified':        item.user.verified,\n",
    "                    'statuses_count':  item.user.statuses_count,\n",
    "                    'contributors_enabled': item.user.contributors_enabled,\n",
    "\n",
    "                    #tweets data\n",
    "                    'tweet_created_at':item.created_at,\n",
    "                    'tweet_id':        item.id,\n",
    "                    'text':            item.full_text,\n",
    "                    'truncated':       item.truncated,\n",
    "                    'display_text_range': item.display_text_range,\n",
    "                    #'tweet_entities':  item.entities,\n",
    "                    'source':          item.source,\n",
    "                    'source_url':      item.source_url,\n",
    "                    'in_reply_to_status_id':item.in_reply_to_status_id,\n",
    "                    'in_reply_to_user_id': item.in_reply_to_user_id,\n",
    "                    'in_reply_to_screen_name': item.in_reply_to_screen_name,\n",
    "                    'is_quote_status': item.is_quote_status,\n",
    "                    'retweet_count':   item.retweet_count,                    \n",
    "                    'favourite_count': item.favorite_count,\n",
    "                    'hashtags':        item.entities['hashtags'],\n",
    "                    'mentions':        item.entities['user_mentions'],\n",
    "                    #'location':        item.place,\n",
    "                    'source_device':   item.source,\n",
    "                    'retweeted':       item.retweeted\n",
    "                    \n",
    "                      \n",
    "                }\n",
    "                \n",
    "                try:\n",
    "                    mined['retweet_text'] = item.retweeted_status.full_text\n",
    "                except:\n",
    "                    mined['retweet_text'] = 'None'\n",
    "                try:\n",
    "                    mined['quote_text'] = item.quoted_status.full_text\n",
    "                    mined['quote_screen_name'] = status.quoted_status.user.screen_name\n",
    "                except:\n",
    "                    mined['quote_text'] = 'None'\n",
    "                    mined['quote_screen_name'] = 'None'\n",
    "                \n",
    "                last_tweet_id = item.id\n",
    "                data.append(mined)\n",
    "                \n",
    "            page += 1\n",
    "            \n",
    "        return data"
   ]
  },
  {
   "cell_type": "code",
   "execution_count": 45,
   "metadata": {
    "colab": {},
    "colab_type": "code",
    "executionInfo": {
     "elapsed": 3798,
     "status": "ok",
     "timestamp": 1597269681681,
     "user": {
      "displayName": "luca lamoni",
      "photoUrl": "https://lh3.googleusercontent.com/a-/AOh14GiZMpGjRPw1MibJF_PsAz5kbsPgPkSGpE7n4w8mKQ=s64",
      "userId": "07353226337550152050"
     },
     "user_tz": -120
    },
    "id": "8JCq_dcSJDL2"
   },
   "outputs": [],
   "source": [
    "#now use the scraping function to get a list of journalist twitter handles based on a keyword\n",
    "%run LL_function_to_scrape_journalists_webpage.ipynb\n",
    "twitter_handles = scrape_journalist_website('cyber')\n",
    "users = twitter_handles['twitter_handle']"
   ]
  },
  {
   "cell_type": "code",
   "execution_count": 47,
   "metadata": {
    "colab": {
     "base_uri": "https://localhost:8080/",
     "height": 221
    },
    "colab_type": "code",
    "executionInfo": {
     "elapsed": 604,
     "status": "ok",
     "timestamp": 1597269704671,
     "user": {
      "displayName": "luca lamoni",
      "photoUrl": "https://lh3.googleusercontent.com/a-/AOh14GiZMpGjRPw1MibJF_PsAz5kbsPgPkSGpE7n4w8mKQ=s64",
      "userId": "07353226337550152050"
     },
     "user_tz": -120
    },
    "id": "rjCUF9d66OZl",
    "outputId": "7f911d8c-1aff-44f0-977d-1394833249a0"
   },
   "outputs": [
    {
     "data": {
      "text/plain": [
       "['jennystrasburg',\n",
       " 'dannsimmons',\n",
       " 'LeoKelion',\n",
       " 'gordoncorera',\n",
       " 'joetidy',\n",
       " '_lucyingham',\n",
       " 'dannyjpalmer',\n",
       " 'SophiaFurber',\n",
       " 'SCFGallagher',\n",
       " 'MsHannahMurphy',\n",
       " 'JesscaHaworth',\n",
       " 'Ad_Nauseum74']"
      ]
     },
     "execution_count": 47,
     "metadata": {
      "tags": []
     },
     "output_type": "execute_result"
    }
   ],
   "source": [
    "list(users)"
   ]
  },
  {
   "cell_type": "code",
   "execution_count": 40,
   "metadata": {
    "colab": {},
    "colab_type": "code",
    "executionInfo": {
     "elapsed": 667,
     "status": "ok",
     "timestamp": 1597240819805,
     "user": {
      "displayName": "luca lamoni",
      "photoUrl": "https://lh3.googleusercontent.com/a-/AOh14GiZMpGjRPw1MibJF_PsAz5kbsPgPkSGpE7n4w8mKQ=s64",
      "userId": "07353226337550152050"
     },
     "user_tz": -120
    },
    "id": "VxrRnIsJJMPu"
   },
   "outputs": [],
   "source": [
    "#initialize the class\n",
    "miner=TweetMiner(result_limit = 200)"
   ]
  },
  {
   "cell_type": "code",
   "execution_count": null,
   "metadata": {
    "colab": {},
    "colab_type": "code",
    "id": "_ZpI0wVnJTRv"
   },
   "outputs": [],
   "source": [
    "#mined_tweets = miner.mine_user_tweets(user=USER, max_pages=17)\n",
    "\n",
    "#mined_tweets_df= pd.DataFrame(mined_tweets)"
   ]
  },
  {
   "cell_type": "code",
   "execution_count": 41,
   "metadata": {
    "colab": {
     "base_uri": "https://localhost:8080/",
     "height": 51
    },
    "colab_type": "code",
    "executionInfo": {
     "elapsed": 3507287,
     "status": "ok",
     "timestamp": 1597244337482,
     "user": {
      "displayName": "luca lamoni",
      "photoUrl": "https://lh3.googleusercontent.com/a-/AOh14GiZMpGjRPw1MibJF_PsAz5kbsPgPkSGpE7n4w8mKQ=s64",
      "userId": "07353226337550152050"
     },
     "user_tz": -120
    },
    "id": "859RGzpiMZdF",
    "outputId": "d8f2bb55-d83a-4805-b7b1-3f94e12c25fc"
   },
   "outputs": [
    {
     "name": "stdout",
     "output_type": "stream",
     "text": [
      "MrNiallMcGarry is invalid or locked\n",
      "AndyRoocroft is invalid or locked\n"
     ]
    }
   ],
   "source": [
    "# this is taken from the same website, it basically run the scraping on a list of users\n",
    "# there is a part where it pauses of it gets some errors (probably due to API tweets limits)\n",
    "#probably that part can be modified or tweaked to work better.\n",
    "import time\n",
    "\n",
    "handle_list= list(users)\n",
    "\n",
    "twitter_dict={}\n",
    "counter=0\n",
    "\n",
    "for name in handle_list:\n",
    "    try:\n",
    "      twitter_dict[name]=[]\n",
    "      twitter_dict[name].append(miner.mine_user_tweets(user=name, max_pages=17))\n",
    "      counter = counter +1\n",
    "\n",
    "      #if counter%40==0:\n",
    "        #time.sleep(900) #15 minute sleep time\n",
    "    #if name invalid print name and remove key\n",
    "    except:\n",
    "      print(name, 'is invalid or locked')\n",
    "      twitter_dict.pop(name)\n",
    "    \n",
    "    \n",
    "all_tweets=pd.concat([pd.DataFrame(twitter_dict[i][0]) for i in twitter_dict])"
   ]
  },
  {
   "cell_type": "code",
   "execution_count": null,
   "metadata": {
    "colab": {
     "base_uri": "https://localhost:8080/",
     "height": 34
    },
    "colab_type": "code",
    "executionInfo": {
     "elapsed": 674,
     "status": "ok",
     "timestamp": 1597224026687,
     "user": {
      "displayName": "luca lamoni",
      "photoUrl": "https://lh3.googleusercontent.com/a-/AOh14GiZMpGjRPw1MibJF_PsAz5kbsPgPkSGpE7n4w8mKQ=s64",
      "userId": "07353226337550152050"
     },
     "user_tz": -120
    },
    "id": "HHkq2iCheb79",
    "outputId": "42bd58a1-a06c-4607-8656-eac256f90c8a"
   },
   "outputs": [
    {
     "data": {
      "text/plain": [
       "Timestamp('2009-02-23 14:11:02')"
      ]
     },
     "execution_count": 16,
     "metadata": {
      "tags": []
     },
     "output_type": "execute_result"
    }
   ],
   "source": [
    "#check the dataframe\n",
    "min(all_tweets['created_at'])"
   ]
  },
  {
   "cell_type": "code",
   "execution_count": 42,
   "metadata": {
    "colab": {
     "base_uri": "https://localhost:8080/",
     "height": 496
    },
    "colab_type": "code",
    "executionInfo": {
     "elapsed": 760,
     "status": "ok",
     "timestamp": 1597246156679,
     "user": {
      "displayName": "luca lamoni",
      "photoUrl": "https://lh3.googleusercontent.com/a-/AOh14GiZMpGjRPw1MibJF_PsAz5kbsPgPkSGpE7n4w8mKQ=s64",
      "userId": "07353226337550152050"
     },
     "user_tz": -120
    },
    "id": "Ar01dahdeoEE",
    "outputId": "b55d5a0a-8329-4ee2-8632-580a569e34a8"
   },
   "outputs": [
    {
     "data": {
      "text/html": [
       "<div>\n",
       "<style scoped>\n",
       "    .dataframe tbody tr th:only-of-type {\n",
       "        vertical-align: middle;\n",
       "    }\n",
       "\n",
       "    .dataframe tbody tr th {\n",
       "        vertical-align: top;\n",
       "    }\n",
       "\n",
       "    .dataframe thead th {\n",
       "        text-align: right;\n",
       "    }\n",
       "</style>\n",
       "<table border=\"1\" class=\"dataframe\">\n",
       "  <thead>\n",
       "    <tr style=\"text-align: right;\">\n",
       "      <th></th>\n",
       "      <th>user_id</th>\n",
       "      <th>name</th>\n",
       "      <th>screen_name</th>\n",
       "      <th>location</th>\n",
       "      <th>user_description</th>\n",
       "      <th>user_friends_n</th>\n",
       "      <th>user_followers_n</th>\n",
       "      <th>listed_count</th>\n",
       "      <th>prof_created_at</th>\n",
       "      <th>favourites_count</th>\n",
       "      <th>verified</th>\n",
       "      <th>statuses_count</th>\n",
       "      <th>contributors_enabled</th>\n",
       "      <th>tweet_created_at</th>\n",
       "      <th>tweet_id</th>\n",
       "      <th>text</th>\n",
       "      <th>truncated</th>\n",
       "      <th>display_text_range</th>\n",
       "      <th>source</th>\n",
       "      <th>source_url</th>\n",
       "      <th>in_reply_to_status_id</th>\n",
       "      <th>in_reply_to_user_id</th>\n",
       "      <th>in_reply_to_screen_name</th>\n",
       "      <th>is_quote_status</th>\n",
       "      <th>retweet_count</th>\n",
       "      <th>favourite_count</th>\n",
       "      <th>hashtags</th>\n",
       "      <th>mentions</th>\n",
       "      <th>source_device</th>\n",
       "      <th>retweeted</th>\n",
       "      <th>retweet_text</th>\n",
       "      <th>quote_text</th>\n",
       "      <th>quote_screen_name</th>\n",
       "    </tr>\n",
       "  </thead>\n",
       "  <tbody>\n",
       "    <tr>\n",
       "      <th>0</th>\n",
       "      <td>9947892</td>\n",
       "      <td>Paul Cockerton</td>\n",
       "      <td>paulcockerton</td>\n",
       "      <td>East London via East Hull</td>\n",
       "      <td>Work: @DailyMirror. paul.cockerton@mirror.co.u...</td>\n",
       "      <td>2460</td>\n",
       "      <td>3644</td>\n",
       "      <td>112</td>\n",
       "      <td>2007-11-04 21:16:24</td>\n",
       "      <td>5197</td>\n",
       "      <td>True</td>\n",
       "      <td>6933</td>\n",
       "      <td>False</td>\n",
       "      <td>2020-08-10 17:52:11</td>\n",
       "      <td>1292881442549182466</td>\n",
       "      <td>@gemmaoaten Always tempting to tell the whole ...</td>\n",
       "      <td>False</td>\n",
       "      <td>[12, 119]</td>\n",
       "      <td>Twitter for iPhone</td>\n",
       "      <td>http://twitter.com/download/iphone</td>\n",
       "      <td>1.2928e+18</td>\n",
       "      <td>3.37364e+08</td>\n",
       "      <td>gemmaoaten</td>\n",
       "      <td>False</td>\n",
       "      <td>0</td>\n",
       "      <td>1</td>\n",
       "      <td>[]</td>\n",
       "      <td>[{'screen_name': 'gemmaoaten', 'name': 'Gemma ...</td>\n",
       "      <td>Twitter for iPhone</td>\n",
       "      <td>False</td>\n",
       "      <td>None</td>\n",
       "      <td>None</td>\n",
       "      <td>None</td>\n",
       "    </tr>\n",
       "    <tr>\n",
       "      <th>1</th>\n",
       "      <td>9947892</td>\n",
       "      <td>Paul Cockerton</td>\n",
       "      <td>paulcockerton</td>\n",
       "      <td>East London via East Hull</td>\n",
       "      <td>Work: @DailyMirror. paul.cockerton@mirror.co.u...</td>\n",
       "      <td>2460</td>\n",
       "      <td>3644</td>\n",
       "      <td>112</td>\n",
       "      <td>2007-11-04 21:16:24</td>\n",
       "      <td>5197</td>\n",
       "      <td>True</td>\n",
       "      <td>6933</td>\n",
       "      <td>False</td>\n",
       "      <td>2020-08-10 17:37:45</td>\n",
       "      <td>1292877812123279362</td>\n",
       "      <td>@CockertonFc good luck this season.</td>\n",
       "      <td>False</td>\n",
       "      <td>[0, 35]</td>\n",
       "      <td>Twitter for iPhone</td>\n",
       "      <td>http://twitter.com/download/iphone</td>\n",
       "      <td>NaN</td>\n",
       "      <td>1.28745e+18</td>\n",
       "      <td>CockertonFc</td>\n",
       "      <td>False</td>\n",
       "      <td>5</td>\n",
       "      <td>9</td>\n",
       "      <td>[]</td>\n",
       "      <td>[{'screen_name': 'CockertonFc', 'name': 'Cocke...</td>\n",
       "      <td>Twitter for iPhone</td>\n",
       "      <td>False</td>\n",
       "      <td>None</td>\n",
       "      <td>None</td>\n",
       "      <td>None</td>\n",
       "    </tr>\n",
       "    <tr>\n",
       "      <th>2</th>\n",
       "      <td>9947892</td>\n",
       "      <td>Paul Cockerton</td>\n",
       "      <td>paulcockerton</td>\n",
       "      <td>East London via East Hull</td>\n",
       "      <td>Work: @DailyMirror. paul.cockerton@mirror.co.u...</td>\n",
       "      <td>2460</td>\n",
       "      <td>3644</td>\n",
       "      <td>112</td>\n",
       "      <td>2007-11-04 21:16:24</td>\n",
       "      <td>5197</td>\n",
       "      <td>True</td>\n",
       "      <td>6933</td>\n",
       "      <td>False</td>\n",
       "      <td>2020-08-10 15:41:41</td>\n",
       "      <td>1292848603824820224</td>\n",
       "      <td>RT @RossMcCaff: Mad how we're about 3 days awa...</td>\n",
       "      <td>False</td>\n",
       "      <td>[0, 106]</td>\n",
       "      <td>TweetDeck</td>\n",
       "      <td>https://about.twitter.com/products/tweetdeck</td>\n",
       "      <td>NaN</td>\n",
       "      <td>NaN</td>\n",
       "      <td>None</td>\n",
       "      <td>False</td>\n",
       "      <td>37</td>\n",
       "      <td>0</td>\n",
       "      <td>[]</td>\n",
       "      <td>[{'screen_name': 'RossMcCaff', 'name': 'Ross M...</td>\n",
       "      <td>TweetDeck</td>\n",
       "      <td>False</td>\n",
       "      <td>Mad how we're about 3 days away from this bein...</td>\n",
       "      <td>None</td>\n",
       "      <td>None</td>\n",
       "    </tr>\n",
       "    <tr>\n",
       "      <th>3</th>\n",
       "      <td>9947892</td>\n",
       "      <td>Paul Cockerton</td>\n",
       "      <td>paulcockerton</td>\n",
       "      <td>East London via East Hull</td>\n",
       "      <td>Work: @DailyMirror. paul.cockerton@mirror.co.u...</td>\n",
       "      <td>2460</td>\n",
       "      <td>3644</td>\n",
       "      <td>112</td>\n",
       "      <td>2007-11-04 21:16:24</td>\n",
       "      <td>5197</td>\n",
       "      <td>True</td>\n",
       "      <td>6933</td>\n",
       "      <td>False</td>\n",
       "      <td>2020-08-07 12:58:55</td>\n",
       "      <td>1291720477485010945</td>\n",
       "      <td>@Tigerfan11 Do you have more info on the campa...</td>\n",
       "      <td>False</td>\n",
       "      <td>[12, 56]</td>\n",
       "      <td>Twitter for iPhone</td>\n",
       "      <td>http://twitter.com/download/iphone</td>\n",
       "      <td>1.29171e+18</td>\n",
       "      <td>1.98564e+07</td>\n",
       "      <td>Tigerfan11</td>\n",
       "      <td>False</td>\n",
       "      <td>0</td>\n",
       "      <td>0</td>\n",
       "      <td>[]</td>\n",
       "      <td>[{'screen_name': 'Tigerfan11', 'name': 'Paul R...</td>\n",
       "      <td>Twitter for iPhone</td>\n",
       "      <td>False</td>\n",
       "      <td>None</td>\n",
       "      <td>None</td>\n",
       "      <td>None</td>\n",
       "    </tr>\n",
       "    <tr>\n",
       "      <th>4</th>\n",
       "      <td>9947892</td>\n",
       "      <td>Paul Cockerton</td>\n",
       "      <td>paulcockerton</td>\n",
       "      <td>East London via East Hull</td>\n",
       "      <td>Work: @DailyMirror. paul.cockerton@mirror.co.u...</td>\n",
       "      <td>2460</td>\n",
       "      <td>3644</td>\n",
       "      <td>112</td>\n",
       "      <td>2007-11-04 21:16:24</td>\n",
       "      <td>5197</td>\n",
       "      <td>True</td>\n",
       "      <td>6933</td>\n",
       "      <td>False</td>\n",
       "      <td>2020-08-06 18:10:10</td>\n",
       "      <td>1291436419848773633</td>\n",
       "      <td>A nurse and her Tory voting husband claim they...</td>\n",
       "      <td>False</td>\n",
       "      <td>[0, 137]</td>\n",
       "      <td>TweetDeck</td>\n",
       "      <td>https://about.twitter.com/products/tweetdeck</td>\n",
       "      <td>NaN</td>\n",
       "      <td>NaN</td>\n",
       "      <td>None</td>\n",
       "      <td>True</td>\n",
       "      <td>0</td>\n",
       "      <td>0</td>\n",
       "      <td>[]</td>\n",
       "      <td>[]</td>\n",
       "      <td>TweetDeck</td>\n",
       "      <td>False</td>\n",
       "      <td>None</td>\n",
       "      <td>None</td>\n",
       "      <td>None</td>\n",
       "    </tr>\n",
       "  </tbody>\n",
       "</table>\n",
       "</div>"
      ],
      "text/plain": [
       "   user_id            name  ... quote_text quote_screen_name\n",
       "0  9947892  Paul Cockerton  ...       None              None\n",
       "1  9947892  Paul Cockerton  ...       None              None\n",
       "2  9947892  Paul Cockerton  ...       None              None\n",
       "3  9947892  Paul Cockerton  ...       None              None\n",
       "4  9947892  Paul Cockerton  ...       None              None\n",
       "\n",
       "[5 rows x 33 columns]"
      ]
     },
     "execution_count": 42,
     "metadata": {
      "tags": []
     },
     "output_type": "execute_result"
    }
   ],
   "source": [
    "all_tweets.head()"
   ]
  },
  {
   "cell_type": "code",
   "execution_count": 28,
   "metadata": {
    "colab": {
     "base_uri": "https://localhost:8080/",
     "height": 34
    },
    "colab_type": "code",
    "executionInfo": {
     "elapsed": 588,
     "status": "ok",
     "timestamp": 1597239734836,
     "user": {
      "displayName": "luca lamoni",
      "photoUrl": "https://lh3.googleusercontent.com/a-/AOh14GiZMpGjRPw1MibJF_PsAz5kbsPgPkSGpE7n4w8mKQ=s64",
      "userId": "07353226337550152050"
     },
     "user_tz": -120
    },
    "id": "F1iWCKhZ6Ax5",
    "outputId": "448e3f8a-da5d-4183-e183-de012ba56c1a"
   },
   "outputs": [
    {
     "data": {
      "text/plain": [
       "27842"
      ]
     },
     "execution_count": 28,
     "metadata": {
      "tags": []
     },
     "output_type": "execute_result"
    }
   ],
   "source": [
    "len(all_tweets)"
   ]
  },
  {
   "cell_type": "code",
   "execution_count": 44,
   "metadata": {
    "colab": {},
    "colab_type": "code",
    "executionInfo": {
     "elapsed": 28183,
     "status": "ok",
     "timestamp": 1597246205572,
     "user": {
      "displayName": "luca lamoni",
      "photoUrl": "https://lh3.googleusercontent.com/a-/AOh14GiZMpGjRPw1MibJF_PsAz5kbsPgPkSGpE7n4w8mKQ=s64",
      "userId": "07353226337550152050"
     },
     "user_tz": -120
    },
    "id": "tNJ4jjSOe0bM"
   },
   "outputs": [],
   "source": [
    "# save CSV file\n",
    "all_tweets.to_csv(r'//content//drive//My Drive/Colab Notebooks//politics_tweets_12082020.csv',index = False)"
   ]
  }
 ],
 "metadata": {
  "colab": {
   "authorship_tag": "ABX9TyP0gmDA6Fh3IYheHITYdi/P",
   "collapsed_sections": [],
   "name": "API_tweet_scraping_12082020.ipynb",
   "provenance": [
    {
     "file_id": "1q3O5RgE6g4csdaoAjw1zc4lLdH7yPoCU",
     "timestamp": 1597228910683
    }
   ]
  },
  "kernelspec": {
   "display_name": "Python 3",
   "language": "python",
   "name": "python3"
  },
  "language_info": {
   "codemirror_mode": {
    "name": "ipython",
    "version": 3
   },
   "file_extension": ".py",
   "mimetype": "text/x-python",
   "name": "python",
   "nbconvert_exporter": "python",
   "pygments_lexer": "ipython3",
   "version": "3.6.10"
  }
 },
 "nbformat": 4,
 "nbformat_minor": 4
}
