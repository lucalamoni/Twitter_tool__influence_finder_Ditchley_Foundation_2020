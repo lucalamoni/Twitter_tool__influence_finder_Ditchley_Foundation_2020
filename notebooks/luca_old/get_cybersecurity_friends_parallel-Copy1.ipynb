{
 "cells": [
  {
   "cell_type": "markdown",
   "metadata": {},
   "source": [
    "# Scraping journalists then using twint to get who they follow"
   ]
  },
  {
   "cell_type": "code",
   "execution_count": null,
   "metadata": {},
   "outputs": [],
   "source": [
    "import sys\n",
    "import os\n",
    "import time\n",
    "import json\n",
    "import csv\n",
    "import threading\n",
    "import queue\n",
    "import asyncio \n",
    "import nest_asyncio\n",
    "nest_asyncio.apply()\n",
    "import twint\n",
    "\n",
    "sys.path.insert(1, 'C:/Users/Luca/Aug20_Ditchley')\n",
    "from src.data import journalists as journos"
   ]
  },
  {
   "cell_type": "markdown",
   "metadata": {},
   "source": [
    "### 1. Getting journalist twitter handles according to topic"
   ]
  },
  {
   "cell_type": "code",
   "execution_count": 2,
   "metadata": {},
   "outputs": [
    {
     "name": "stdout",
     "output_type": "stream",
     "text": [
      "450\n"
     ]
    }
   ],
   "source": [
    "keyword = 'politic'\n",
    "journo_handles = journos.get_handles_by_keyword(keyword)\n",
    "print(len(journo_handles))"
   ]
  },
  {
   "cell_type": "code",
   "execution_count": 3,
   "metadata": {},
   "outputs": [
    {
     "name": "stdout",
     "output_type": "stream",
     "text": [
      "['ShippersUnbound', 'TomMcTague', 'paulcockerton', 'NicolaRBartlett', 'DelMody', 'patrickwintour', 'dansabbagh', 'james_randerson', 'peterwalker99', 'hugh_muir', 'JohnDomokos', 'NigelpMorris', 'CharlieCooper8', 'Davidmkeys', 'tobyhelm', 'DavidWooding', 'elashton', 'ryansabey', 'katyballs', 'edwardmalnick', 'SheridanDani', 'elliotttimes', 'patrick_kidd', 'SamCoatesSky', 'PickardJE', 'khalafroula', 'robertshrimsley', 'RKWinvisibleman', 'Steven_Swinford', 'TimRoss_1', 'simon_telegraph', 'gordonrayner', 'nadiakhomami', 'JBeattieMirror', 'NigelNelson', 'RJPartington', 'GuardianHeather', 'FinanceJames', 'trevadavies', 'benglaze', 'mudiek', 'christopherhope', 'stephenkb', 'ladyhaja', 'tnewtondunn', 'ChrisMusson', 'LOS_Fisher', 'jennirsl', 'martinbeckford', 'johnestevens', 'danbloom1', 'philipstephens', 'darrendodd', 'tompeck', 'TMScotExpress', 'andrewrawnsley', 'nicholaswatt', 'martinkettle', 'fperraudin', 'mikeysmith', 'tamcohen', 'bbcnickrobinson', 'afneil', 'bbclaurak', 'rosschawkins', 'chrislindsay_', 'nickeardleybbc', 'blakeyblogs', 'petesaull', 'sarah_bloch', 'chloefhayward', 'BBCNormanS', 'BBCHughPym', 'gavinhewitt01', 'JPonpolitics', 'ChrisMasonBBC', 'Jo_Coburn', 'BBCJamesVincent', 'BBCBenWright', 'RobBurl', 'PaulRowleyBBC', 'DarranMarshall', 'carolewalkercw', 'SimonHareBBC', 'patersonjon', 'BBCGarethG', 'samwdhouse', 'mccaffertynaomi', 'GemmaLDillon', 'Tinglepolitics', 'DArcyTiP', 'EmmaVardyTV', 'tycornel', 'BBCVickiYoung', 'jolohobro', 'Emily_Compton', 'janetmcallen', 'GlennBBC', 'iainjwatson', 'iAlexhunt', 'markdevenport', 'carolinemplatt', 'jacqmci', 'KatySearle', 'BBC_Arif', 'stvewan', 'BBCandrewkerr', 'bettington', 'Gregstweet', 'SiDedman', 'AlexForsythBBC', 'Emilio_SanPedro', 'susana_mendonca', 'robwatsonbbc', 'michellemayman', 'lizrawlings', 'rosenbaum6', 'PaulTwinn', 'ascheema', 'hayoub', 'richardlawson79', 'adamfleming', 'jonsnowC4', 'carldinnen', 'GaryGibbonBlog', 'NickMartinSKY', 'benm_d', 'harry_horton', 'LibbyWienerITV', 'petermacmahon', 'DanielHewittITV', 'simonharrisitv', 'PaulBrandITV', 'adrianmasters84', 'EllieJPrice', 'philhornbyitv', 'Alison1mackITV', 'davidbevanwood', 'camera_sam', 'andybell5news', 'PippaCrerar', 'nicholascecil', 'JoeMurphyLondon', 'JamesTapsfield', 'DavidHughesPA', 'AndyWoodcock', 'StefanRousseau', 'theousherwood', 'lynseybews', 'singharj', 'sam_lister_', 'danskywilliams', 'RaynerSkyNews', 'amberdebotton', 'SophyRidgeSky', 'adamboultonSKY', 'joncraig', 'Itwitius', 'SkyNewsBen', 'kyliemaclellan', 'mark_mclaughlin', 'richardpreston_', 'ebrep', 'RobDotHutton', 'AlexJFMorales', 'kitty_donaldson', 'WJames_Reuters', 'aljwhite', 'nedsimons', 'marguerite_how', 'Martha_Gill', 'NeaveBarker', 'SophiaSleigh', 'gemma_charles', 'alicejritchie', 'KateEMcCann', 'CatNeilan', 'IsabelHardman', 'JGForsyth', 'SebastianEPayne', 'JenWilliamsMEN', 'AishaIqbalKhan', 'RobParsonsYP', 'mattholehouse', 'P_Madeley_Star', 'tomedwardsbbchw', 'LaurenM0ss', 'ANDREWGAVED', 'johncmorgan3', 'StephenTowns10', 'MrHarryCole', 'RalphBlackburn', 'JohnHenryOwen', 'Elaine_Loughlin', 'chris_sw17', 'toryboypierce', 'johanntasker', 'MrNiallMcGarry', 'shanecroucher', 'EEsbegbie', 'EEadele', 'paulwaugh', 'jonwalker121', 'PaulOnPolitics', 'Laura_K_Hughes', 'esmeashcroft', 'mrdavidbol', 'SandemanKit', 'TheSimonGilbert', 'RSLFlint', 'andydphilip', 'KieranPAndrews', 'NewsAnnabelle', 'journokatie', 'ianswansonen', 'alistairkgrant', 'LizzyBuchan', 'patersonHT', 'HTScotPol', 'JoshuaPowling', 'BBC_Hayley', 'RachStretton', 'pn_tomcotterill', 'Danjamesmartin', 'Sinclair_H', 'NifS', 'BillJacobsLT', 'HLeather_Star', 'PressBench', 'DavidPBMaddox', 'MarkAitken1', 'AllisonMorris1', 'casualgardener1', 'GrainneDeeney', 'AndrewEQuinn', 'DeansOfCardiff', 'ruthmosalski', 'dp_williamson', 'AliceEThompson', 'LauraSLea', 'EmiliaDavies1', 'Cemlyn', 'PaulNeilMartin', 'Lynnccourtney', 'Owain_Phillips', 'JCrichtonSmith', 'AilsaChalk', 'EmmaWoodsITV', 'ITVEmmaH', 'HannahWilkinso9', 'GregoryHoare', 'KenReid_utv', 'Tracey_utv', 'BROPHONTHEBEAT', 'BBCHelenCatt', 'MarkerJParker', 'EmilyKHudson', 'BenRTWeisz', 'sussexnatalie', 'JackFiehn', 'amandaakass', 'SimsonPete', 'newsmansimon', 'mistercraig', 'DanOB1986', 'dsmithradio', 'bethan_nimmo', 'BenoitStevenson', 'Hannahjourno', 'paulejhawkins', 'ameliareynolds0', 'IrwinSuffolkpol', 'SianGrz', 'WilliamAllott', 'phi1mccann', 'lizssaul', 'stanchers', 'robmayor', 'Laura_E_Coffey', 'LeicesterTim', 'EuanDuncan4', 'iredalepolitics', 'SharonPolitics', 'BBCRichardMoss', 'benschofield', 'chamiltonbbc', 'kevfitz21', 'EuanDoak', 'gyme7', 'hdotjones', 'alicart', 'andysilke', 'Sean__Clare', 'kevin_larkin', 'LizzieRoberts', 'MikeStevensBBC', 'BBCFHewison', 'BBCRobertCooper', 'michael_wildbbc', 'BBCMarkDenten', 'SandyRashty', 'Jess_Shankleman', 'BethRigby', 'NeilMackay', 'OliDugmore', 'jwestjourno', 'jamesalexmorris', 'piperliza', 'bypatrickdaly', 'TomSheldrickITV', 'ThomasWPenny', 'ShehabKhan', 'rafaelbehr', 'Mahmut_Hamsici', 'NikiBlasina', 'BazBam', 'rowenamason', 'DrMarcusP', 'GeorgeWParker', 'simonchilds13', 'matt_dathan', 'LauraHusbo', 'SteffanPowell', 'ionewells', 'MaeveShearlaw', 'NaimehNamjoo', 'ElizabethGlinka', 'NatashaC', 'Rob_Merrick', 'RichardVaughan1', 'AysheaBuksh', 'Kate_M_Proctor', 'ChaplainChloe', 'GregHeffer', 'e_casalicchio', 'PatrickChristys', 'HadyaAlalawiBBC', 'lealapad', 'Jack_W_Fenwick', 'jessicaelgot', 'Finneganporter', 'gallardo_ortega', 'Harrison_EmLou', 'vanya_damyanova', 'JBintcliffe', 'JamesHbfbs', 'sebastiansalek', 'HarriLine', 'breeallegretti', 'adampayne26', 'RichRJohnstone', 'murphy_simon', 'jrmaidment', 'jamswilliams85', 'fionamaxwell', 'greenmiranda', 'carlapassino', 'Alain_Tolhurst', 'JoshLRussell', 'totalcrime', 'jagalley', 'WalkersRambles', 'GavinCleaver', 'janemccallion', 'CamillaTominey', 'jpearcejourno', 'Mike_Blackley', 'Gareth_Rose', 'joepike', 'RBanerjee23', 'BlewettSam', 'Jack_Blanchard_', 'amylouisejones', 'Conorpope', 'kate_day', 'HarryYorke1', 'James_T_Bourne', 'JasminGray2', 'JasonGroves1', 'NinaNanji', 'lewis_goodall', 'kateforrester', 'Mollie_Malone1', 'montaukian', 'dzuidijk', 'RachBradleyITV', 'tricmak', 'g_lanktree', 'GeorgiaArlott', 'rwmorris', 'Porritt', 'Adamstoon1', 'NajibaFeroz', 'PASnowdon', 'geochesterton', 'Silvia_Amaro', 'Joe_Mayes', 'Lucy_Webster_', 'CharlieCHoyle', 'AndyRoocroft', 'mateirosca', 'Simon_Vaughan', 'dcakraemer', 'mr_suares', 'ClaireEllicott1', '_katedevlin', 'FCDWhittaker', 'Lesreidpolitics', 'HugoGye', 'wizbates', 'journomatei', 'ClaireWNews', 'JasmineCC_95', 'benson_louise', 'Jennifer_Bray', 'TonyMcDougal1', 'frankietobi', 'NRaikesy', 'ccarbajocua', 'JoshuaNevett', 'garethvcross', 'matt_hfoster', 'AVMikhailova', 'tpgcolson', 'HarrisonJones7', 'sebwhale', 'katewilsea', 'RebeccaHenrys', 'LiamThorpECHO', 'TomPeterkin', 'HelenaVesty', 'robpowellnews', 'jamesmca90', 'Dennynews', 'HackBlackburn', 'WillHayCardiff', 'EmilyHWoods', 'C_PMalik', 'paulhutcheon', 'eleanormia', 'jleather', 'EleniCourea', 'neilpooran', 'C_DHealey', 'andrewiconnell', 'WritesBright', 'paulwalsh2609', 'politicsIN', 'PatrickBurnsBBC', 'Jimmief95']\n"
     ]
    }
   ],
   "source": [
    "print(journo_handles)"
   ]
  },
  {
   "cell_type": "code",
   "execution_count": 6,
   "metadata": {},
   "outputs": [
    {
     "ename": "ValueError",
     "evalue": "'P_Madeley_Star' is not in list",
     "output_type": "error",
     "traceback": [
      "\u001b[1;31m---------------------------------------------------------------------------\u001b[0m",
      "\u001b[1;31mValueError\u001b[0m                                Traceback (most recent call last)",
      "\u001b[1;32m<ipython-input-6-c72f339e8687>\u001b[0m in \u001b[0;36m<module>\u001b[1;34m\u001b[0m\n\u001b[1;32m----> 1\u001b[1;33m \u001b[0mjourno_handles\u001b[0m\u001b[1;33m.\u001b[0m\u001b[0mindex\u001b[0m\u001b[1;33m(\u001b[0m\u001b[1;34m'P_Madeley_Star'\u001b[0m\u001b[1;33m)\u001b[0m\u001b[1;33m\u001b[0m\u001b[1;33m\u001b[0m\u001b[0m\n\u001b[0m",
      "\u001b[1;31mValueError\u001b[0m: 'P_Madeley_Star' is not in list"
     ]
    }
   ],
   "source": [
    "#this journalist has a locked account\n",
    "journo_handles.index('P_Madeley_Star')\n",
    "journo_handles.pop(184)"
   ]
  },
  {
   "cell_type": "markdown",
   "metadata": {},
   "source": [
    "## 2. Loop over journalists and get who they follow"
   ]
  },
  {
   "cell_type": "markdown",
   "metadata": {},
   "source": [
    "### 2.2 Storing each threads results as csv files (USE THIS)\n",
    "\n",
    "This seems to work quite nicely, and may even be more reliable than storing in memory.  \n",
    "\n",
    "Note that any recursive use to get data that was missed has to be done manually by alternately using the last two cells before section 3 to recheck the failed list and run it."
   ]
  },
  {
   "cell_type": "code",
   "execution_count": 5,
   "metadata": {},
   "outputs": [],
   "source": [
    "num_threads = 6 # num_threads can be any amount, but only so many can be run in parallel, according to number of cores you have.\n",
    "# import multiprocessing; multiprocessing.cpu_count() can tell you how many cores python can see."
   ]
  },
  {
   "cell_type": "code",
   "execution_count": 6,
   "metadata": {},
   "outputs": [],
   "source": [
    "def get_friends(q, fp, persist):\n",
    "    '''\n",
    "    Params\n",
    "    ------\n",
    "    q : a Queue instance\n",
    "    \n",
    "    fp : string\n",
    "        Provides the path where the file should be saved.\n",
    "    persist : bool\n",
    "        If True, make a repeat attempt if attempt fails.\n",
    "    '''\n",
    "    while True: \n",
    "        username = q.get()\n",
    "        success = False\n",
    "        filepath = fp+'friends_'+username+'.csv'\n",
    "        while not success:\n",
    "            print('Attempting to get friends of @'+username)\n",
    "            c = twint.Config()\n",
    "            c.Username = username\n",
    "            c.User_full = False\n",
    "            c.Hide_output = True\n",
    "            c.Output = filepath\n",
    "\n",
    "            twint.run.Following(c)\n",
    "            \n",
    "            if persist:\n",
    "                if os.path.exists(filepath):\n",
    "                    success = True\n",
    "                    print('Friends of @'+username+' saved.')\n",
    "            else:\n",
    "                success = True\n",
    "        q.task_done()"
   ]
  },
  {
   "cell_type": "code",
   "execution_count": 7,
   "metadata": {},
   "outputs": [
    {
     "name": "stdout",
     "output_type": "stream",
     "text": [
      "Attempting to get friends of @_lucyingham\n",
      "Attempting to get friends of @JesscaHaworth\n",
      "Attempting to get friends of @Ad_Nauseum74\n"
     ]
    },
    {
     "name": "stderr",
     "output_type": "stream",
     "text": [
      "CRITICAL:root:twint.get:User:'NoneType' object is not subscriptable\n",
      "CRITICAL:root:twint.feed:Follow:IndexError\n"
     ]
    },
    {
     "name": "stdout",
     "output_type": "stream",
     "text": [
      "Friends of @_lucyingham saved.\n"
     ]
    },
    {
     "name": "stderr",
     "output_type": "stream",
     "text": [
      "CRITICAL:root:twint.get:User:'NoneType' object is not subscriptable\n",
      "CRITICAL:root:twint.get:User:'NoneType' object is not subscriptable\n",
      "CRITICAL:root:twint.feed:Follow:IndexError\n"
     ]
    },
    {
     "name": "stdout",
     "output_type": "stream",
     "text": [
      "Attempting to get friends of @Ad_Nauseum74\n"
     ]
    },
    {
     "name": "stderr",
     "output_type": "stream",
     "text": [
      "CRITICAL:root:twint.get:User:'NoneType' object is not subscriptable\n",
      "CRITICAL:root:twint.feed:Follow:IndexError\n",
      "CRITICAL:root:twint.feed:Follow:IndexError\n"
     ]
    },
    {
     "name": "stdout",
     "output_type": "stream",
     "text": [
      "Friends of @Ad_Nauseum74 saved.\n"
     ]
    },
    {
     "name": "stderr",
     "output_type": "stream",
     "text": [
      "CRITICAL:root:twint.feed:Follow:IndexError\n",
      "CRITICAL:root:twint.feed:Follow:IndexError\n"
     ]
    },
    {
     "name": "stdout",
     "output_type": "stream",
     "text": [
      "Friends of @JesscaHaworth saved.\n"
     ]
    }
   ],
   "source": [
    "q = queue.Queue(maxsize=0)\n",
    "\n",
    "for i in range(num_threads): # Loop to create threads\n",
    "    worker = threading.Thread(target=get_friends, args=(q, '../data/raw/'+keyword+'_', True)) # Change persist to True to tell the code to keep trying until results are written to file.\n",
    "    worker.setDaemon(True)\n",
    "    worker.start()\n",
    "\n",
    "for username in journo_handles: # Loop to add journalists usernames to the queue\n",
    "    q.put(username)\n",
    "\n",
    "q.join()"
   ]
  },
  {
   "cell_type": "code",
   "execution_count": 14,
   "metadata": {},
   "outputs": [
    {
     "name": "stdout",
     "output_type": "stream",
     "text": [
      "@_lucyingham follows 507 users.\n",
      "@JesscaHaworth follows 1936 users.\n",
      "@Ad_Nauseum74 follows 365 users.\n",
      "\n",
      "Total number of handles pulled: 2808\n",
      "Number of unique twitter handles: 1702\n",
      "\n",
      "Zero following in list for users: []\n"
     ]
    }
   ],
   "source": [
    "all_handles = []\n",
    "all_users = []\n",
    "failed = []\n",
    "for name in journo_handles:\n",
    "    filepath = '../data/raw/'+keyword+'_friends_'+name+'.csv'\n",
    "    if not os.path.exists(filepath):\n",
    "        failed.append(name)\n",
    "    else:\n",
    "        with open(filepath, newline='') as f:\n",
    "            reader = csv.reader(f)\n",
    "            handles = list(reader)\n",
    "            all_handles.extend([handle[0] for handle in handles])\n",
    "            all_users.extend([name for handle in handles])\n",
    "            print('@'+name+' follows '+str(len(handles))+' users.')\n",
    "            \n",
    "print('\\nTotal number of handles pulled: '+str(len(all_handles)))\n",
    "\n",
    "unique = len(set(all_handles))\n",
    "print('Number of unique twitter handles: '+str(unique))\n",
    "\n",
    "print('\\nZero following in list for users: '+str(failed))"
   ]
  },
  {
   "cell_type": "code",
   "execution_count": 2,
   "metadata": {},
   "outputs": [
    {
     "ename": "NameError",
     "evalue": "name 'all_users' is not defined",
     "output_type": "error",
     "traceback": [
      "\u001b[1;31m---------------------------------------------------------------------------\u001b[0m",
      "\u001b[1;31mNameError\u001b[0m                                 Traceback (most recent call last)",
      "\u001b[1;32m<ipython-input-2-3ec13e9c3b2f>\u001b[0m in \u001b[0;36m<module>\u001b[1;34m\u001b[0m\n\u001b[1;32m----> 1\u001b[1;33m \u001b[0mall_users\u001b[0m\u001b[1;33m\u001b[0m\u001b[1;33m\u001b[0m\u001b[0m\n\u001b[0m",
      "\u001b[1;31mNameError\u001b[0m: name 'all_users' is not defined"
     ]
    }
   ],
   "source": [
    "all_users"
   ]
  },
  {
   "cell_type": "markdown",
   "metadata": {},
   "source": [
    "If some of the requests seem to have failed, can try them again:"
   ]
  },
  {
   "cell_type": "code",
   "execution_count": 17,
   "metadata": {},
   "outputs": [
    {
     "name": "stderr",
     "output_type": "stream",
     "text": [
      "CRITICAL:root:twint.get:User:'NoneType' object is not subscriptable\n",
      "CRITICAL:root:twint.feed:Follow:IndexError\n",
      "CRITICAL:root:twint.feed:Follow:IndexError\n"
     ]
    }
   ],
   "source": [
    "q = queue.Queue(maxsize=0)\n",
    "\n",
    "for i in range(num_threads): # Loop to create threads\n",
    "    worker = threading.Thread(target=get_friends, args=(q, '../data/raw/'+keyword+'_', False))\n",
    "    worker.setDaemon(True)\n",
    "    worker.start()\n",
    "\n",
    "for username in failed: # Loop to add journalists usernames to the queue\n",
    "    q.put(username)\n",
    "\n",
    "q.join()"
   ]
  },
  {
   "cell_type": "markdown",
   "metadata": {},
   "source": [
    "Interestingly, most of the handles must appear only once, suggesting there are only a few users that are followed by more than one of the journalists in this list."
   ]
  },
  {
   "cell_type": "markdown",
   "metadata": {},
   "source": [
    "## 3. Store the data in one csv file using pandas"
   ]
  },
  {
   "cell_type": "code",
   "execution_count": 15,
   "metadata": {},
   "outputs": [],
   "source": [
    "import pandas as pd"
   ]
  },
  {
   "cell_type": "code",
   "execution_count": 16,
   "metadata": {},
   "outputs": [],
   "source": [
    "df = pd.DataFrame(list(zip(all_users, all_handles)), \n",
    "               columns =['screen_name', 'friend'])"
   ]
  },
  {
   "cell_type": "code",
   "execution_count": 17,
   "metadata": {},
   "outputs": [
    {
     "data": {
      "text/html": [
       "<div>\n",
       "<style scoped>\n",
       "    .dataframe tbody tr th:only-of-type {\n",
       "        vertical-align: middle;\n",
       "    }\n",
       "\n",
       "    .dataframe tbody tr th {\n",
       "        vertical-align: top;\n",
       "    }\n",
       "\n",
       "    .dataframe thead th {\n",
       "        text-align: right;\n",
       "    }\n",
       "</style>\n",
       "<table border=\"1\" class=\"dataframe\">\n",
       "  <thead>\n",
       "    <tr style=\"text-align: right;\">\n",
       "      <th></th>\n",
       "      <th>screen_name</th>\n",
       "      <th>friend</th>\n",
       "    </tr>\n",
       "  </thead>\n",
       "  <tbody>\n",
       "    <tr>\n",
       "      <th>0</th>\n",
       "      <td>_lucyingham</td>\n",
       "      <td>SarahCAndersen</td>\n",
       "    </tr>\n",
       "    <tr>\n",
       "      <th>1</th>\n",
       "      <td>_lucyingham</td>\n",
       "      <td>JoeBelBruno</td>\n",
       "    </tr>\n",
       "    <tr>\n",
       "      <th>2</th>\n",
       "      <td>_lucyingham</td>\n",
       "      <td>Danny_D_Pearson</td>\n",
       "    </tr>\n",
       "    <tr>\n",
       "      <th>3</th>\n",
       "      <td>_lucyingham</td>\n",
       "      <td>jeremyscahill</td>\n",
       "    </tr>\n",
       "    <tr>\n",
       "      <th>4</th>\n",
       "      <td>_lucyingham</td>\n",
       "      <td>davidgraeber</td>\n",
       "    </tr>\n",
       "  </tbody>\n",
       "</table>\n",
       "</div>"
      ],
      "text/plain": [
       "   screen_name           friend\n",
       "0  _lucyingham   SarahCAndersen\n",
       "1  _lucyingham      JoeBelBruno\n",
       "2  _lucyingham  Danny_D_Pearson\n",
       "3  _lucyingham    jeremyscahill\n",
       "4  _lucyingham     davidgraeber"
      ]
     },
     "execution_count": 17,
     "metadata": {},
     "output_type": "execute_result"
    }
   ],
   "source": [
    "df.head()"
   ]
  },
  {
   "cell_type": "code",
   "execution_count": 18,
   "metadata": {},
   "outputs": [],
   "source": [
    "df.to_csv('../data/raw/'+keyword+'_journalist_friends.csv', index=False)"
   ]
  },
  {
   "cell_type": "markdown",
   "metadata": {},
   "source": [
    "## 4. Quick inspection of data"
   ]
  },
  {
   "cell_type": "code",
   "execution_count": 19,
   "metadata": {},
   "outputs": [],
   "source": [
    "from collections import Counter"
   ]
  },
  {
   "cell_type": "code",
   "execution_count": 20,
   "metadata": {},
   "outputs": [],
   "source": [
    "counted = Counter(all_handles)"
   ]
  },
  {
   "cell_type": "code",
   "execution_count": null,
   "metadata": {},
   "outputs": [],
   "source": [
    "counted.most_common(50)"
   ]
  },
  {
   "cell_type": "code",
   "execution_count": 35,
   "metadata": {},
   "outputs": [],
   "source": []
  },
  {
   "cell_type": "code",
   "execution_count": 7,
   "metadata": {},
   "outputs": [],
   "source": [
    "### from here I try the same but for tweets\n",
    "\n",
    "\n",
    "\n",
    "def get_tweets(q, fp, persist):\n",
    "    '''\n",
    "    Params\n",
    "    ------\n",
    "    q : a Queue instance\n",
    "    \n",
    "    fp : string\n",
    "        Provides the path where the file should be saved.\n",
    "    persist : bool\n",
    "        If True, make a repeat attempt if attempt fails.\n",
    "    '''\n",
    "    while True: \n",
    "        username = q.get()\n",
    "        success = False\n",
    "        filepath = fp+'friends_'+username+'.csv'\n",
    "        while not success:\n",
    "            print('Attempting to get tweets of @'+username)\n",
    "            c = twint.Config()\n",
    "            c.Username = username\n",
    "            c.User_full = False\n",
    "            c.Hide_output = True\n",
    "            c.Pandas =True\n",
    "            c.Until = '2020-08-01'\n",
    "            c.Since = '2019-08-01'\n",
    "            c.Output = filepath\n",
    "\n",
    "            twint.run.Search(c)\n",
    "            tweets = tweets.append(twint.storage.panda.Tweets_df)\n",
    "            \n",
    "            if persist:\n",
    "                if os.path.exists(filepath):\n",
    "                    success = True\n",
    "                    print('Tweets of @'+username+' saved.')\n",
    "            else:\n",
    "                success = True\n",
    "        q.task_done()"
   ]
  },
  {
   "cell_type": "code",
   "execution_count": 9,
   "metadata": {},
   "outputs": [],
   "source": [
    "num_threads = 7 # num_threads can be any amount, but only so many can be run in parallel, according to number of cores you have.\n",
    "# import multiprocessing; multiprocessing.cpu_count() can tell you how many cores python can see."
   ]
  },
  {
   "cell_type": "code",
   "execution_count": null,
   "metadata": {},
   "outputs": [
    {
     "name": "stdout",
     "output_type": "stream",
     "text": [
      "Attempting to get tweets of @ShippersUnboundAttempting to get tweets of @TomMcTague\n",
      "Attempting to get tweets of @paulcockertonAttempting to get tweets of @NicolaRBartlett\n",
      "\n",
      "Attempting to get tweets of @DelMody\n",
      "Attempting to get tweets of @patrickwintour\n",
      "\n",
      "Attempting to get tweets of @dansabbagh\n"
     ]
    },
    {
     "name": "stderr",
     "output_type": "stream",
     "text": [
      "CRITICAL:root:twint.get:User:'NoneType' object is not subscriptable\n",
      "Exception in thread Thread-7:\n",
      "Traceback (most recent call last):\n",
      "  File \"c:\\python37\\lib\\threading.py\", line 926, in _bootstrap_inner\n",
      "    self.run()\n",
      "  File \"c:\\python37\\lib\\threading.py\", line 870, in run\n",
      "    self._target(*self._args, **self._kwargs)\n",
      "  File \"<ipython-input-7-efa372ab57fd>\", line 31, in get_tweets\n",
      "    twint.run.Search(c)\n",
      "  File \"c:\\python37\\scripts\\src\\twint\\twint\\run.py\", line 384, in Search\n",
      "    run(config, callback)\n",
      "  File \"c:\\python37\\scripts\\src\\twint\\twint\\run.py\", line 283, in run\n",
      "    get_event_loop().run_until_complete(Twint(config).main(callback))\n",
      "  File \"c:\\python37\\lib\\site-packages\\nest_asyncio.py\", line 95, in run_until_complete\n",
      "    return f.result()\n",
      "  File \"c:\\python37\\lib\\asyncio\\futures.py\", line 178, in result\n",
      "    raise self._exception\n",
      "  File \"c:\\python37\\lib\\asyncio\\tasks.py\", line 251, in __step\n",
      "    result = coro.throw(exc)\n",
      "  File \"c:\\python37\\scripts\\src\\twint\\twint\\run.py\", line 209, in main\n",
      "    await task\n",
      "  File \"c:\\python37\\lib\\asyncio\\futures.py\", line 260, in __await__\n",
      "    yield self  # This tells Task to wait for completion.\n",
      "  File \"c:\\python37\\lib\\asyncio\\tasks.py\", line 318, in __wakeup\n",
      "    future.result()\n",
      "  File \"c:\\python37\\lib\\asyncio\\futures.py\", line 178, in result\n",
      "    raise self._exception\n",
      "  File \"c:\\python37\\lib\\asyncio\\tasks.py\", line 249, in __step\n",
      "    result = coro.send(None)\n",
      "  File \"c:\\python37\\scripts\\src\\twint\\twint\\run.py\", line 226, in run\n",
      "    raise ValueError(\"Cannot find twitter account with name = \" + self.config.Username)\n",
      "ValueError: Cannot find twitter account with name = dansabbagh\n",
      "\n",
      "CRITICAL:root:twint.get:User:'NoneType' object is not subscriptable\n",
      "CRITICAL:root:twint.get:User:'NoneType' object is not subscriptable\n",
      "CRITICAL:root:twint.get:User:'NoneType' object is not subscriptable\n",
      "CRITICAL:root:twint.get:User:'NoneType' object is not subscriptable\n",
      "CRITICAL:root:twint.get:User:'NoneType' object is not subscriptable\n",
      "Exception in thread Thread-11:\n",
      "Traceback (most recent call last):\n",
      "  File \"c:\\python37\\lib\\threading.py\", line 926, in _bootstrap_inner\n",
      "    self.run()\n",
      "  File \"c:\\python37\\lib\\threading.py\", line 870, in run\n",
      "    self._target(*self._args, **self._kwargs)\n",
      "  File \"<ipython-input-7-efa372ab57fd>\", line 31, in get_tweets\n",
      "    twint.run.Search(c)\n",
      "  File \"c:\\python37\\scripts\\src\\twint\\twint\\run.py\", line 384, in Search\n",
      "    run(config, callback)\n",
      "  File \"c:\\python37\\scripts\\src\\twint\\twint\\run.py\", line 283, in run\n",
      "    get_event_loop().run_until_complete(Twint(config).main(callback))\n",
      "  File \"c:\\python37\\lib\\site-packages\\nest_asyncio.py\", line 95, in run_until_complete\n",
      "    return f.result()\n",
      "  File \"c:\\python37\\lib\\asyncio\\futures.py\", line 178, in result\n",
      "    raise self._exception\n",
      "  File \"c:\\python37\\lib\\asyncio\\tasks.py\", line 251, in __step\n",
      "    result = coro.throw(exc)\n",
      "  File \"c:\\python37\\scripts\\src\\twint\\twint\\run.py\", line 209, in main\n",
      "    await task\n",
      "  File \"c:\\python37\\lib\\asyncio\\futures.py\", line 260, in __await__\n",
      "    yield self  # This tells Task to wait for completion.\n",
      "  File \"c:\\python37\\lib\\asyncio\\tasks.py\", line 318, in __wakeup\n",
      "    future.result()\n",
      "  File \"c:\\python37\\lib\\asyncio\\futures.py\", line 178, in result\n",
      "    raise self._exception\n",
      "  File \"c:\\python37\\lib\\asyncio\\tasks.py\", line 249, in __step\n",
      "    result = coro.send(None)\n",
      "  File \"c:\\python37\\scripts\\src\\twint\\twint\\run.py\", line 226, in run\n",
      "    raise ValueError(\"Cannot find twitter account with name = \" + self.config.Username)\n",
      "ValueError: Cannot find twitter account with name = NicolaRBartlett\n",
      "\n",
      "Exception in thread Thread-10:\n",
      "Traceback (most recent call last):\n",
      "  File \"c:\\python37\\lib\\threading.py\", line 926, in _bootstrap_inner\n",
      "    self.run()\n",
      "  File \"c:\\python37\\lib\\threading.py\", line 870, in run\n",
      "    self._target(*self._args, **self._kwargs)\n",
      "  File \"<ipython-input-7-efa372ab57fd>\", line 31, in get_tweets\n",
      "    twint.run.Search(c)\n",
      "  File \"c:\\python37\\scripts\\src\\twint\\twint\\run.py\", line 384, in Search\n",
      "    run(config, callback)\n",
      "  File \"c:\\python37\\scripts\\src\\twint\\twint\\run.py\", line 283, in run\n",
      "    get_event_loop().run_until_complete(Twint(config).main(callback))\n",
      "  File \"c:\\python37\\lib\\site-packages\\nest_asyncio.py\", line 95, in run_until_complete\n",
      "    return f.result()\n",
      "  File \"c:\\python37\\lib\\asyncio\\futures.py\", line 178, in result\n",
      "    raise self._exception\n",
      "  File \"c:\\python37\\lib\\asyncio\\tasks.py\", line 251, in __step\n",
      "    result = coro.throw(exc)\n",
      "  File \"c:\\python37\\scripts\\src\\twint\\twint\\run.py\", line 209, in main\n",
      "    await task\n",
      "  File \"c:\\python37\\lib\\asyncio\\futures.py\", line 260, in __await__\n",
      "    yield self  # This tells Task to wait for completion.\n",
      "  File \"c:\\python37\\lib\\asyncio\\tasks.py\", line 318, in __wakeup\n",
      "    future.result()\n",
      "  File \"c:\\python37\\lib\\asyncio\\futures.py\", line 178, in result\n",
      "    raise self._exception\n",
      "  File \"c:\\python37\\lib\\asyncio\\tasks.py\", line 249, in __step\n",
      "    result = coro.send(None)\n",
      "  File \"c:\\python37\\scripts\\src\\twint\\twint\\run.py\", line 226, in run\n",
      "    raise ValueError(\"Cannot find twitter account with name = \" + self.config.Username)\n",
      "ValueError: Cannot find twitter account with name = paulcockerton\n",
      "\n",
      "CRITICAL:root:twint.get:User:'NoneType' object is not subscriptable\n",
      "Exception in thread Thread-9:\n",
      "Traceback (most recent call last):\n",
      "  File \"c:\\python37\\lib\\threading.py\", line 926, in _bootstrap_inner\n",
      "    self.run()\n",
      "  File \"c:\\python37\\lib\\threading.py\", line 870, in run\n",
      "    self._target(*self._args, **self._kwargs)\n",
      "  File \"<ipython-input-7-efa372ab57fd>\", line 31, in get_tweets\n",
      "    twint.run.Search(c)\n",
      "  File \"c:\\python37\\scripts\\src\\twint\\twint\\run.py\", line 384, in Search\n",
      "    run(config, callback)\n",
      "  File \"c:\\python37\\scripts\\src\\twint\\twint\\run.py\", line 283, in run\n",
      "    get_event_loop().run_until_complete(Twint(config).main(callback))\n",
      "  File \"c:\\python37\\lib\\site-packages\\nest_asyncio.py\", line 95, in run_until_complete\n",
      "    return f.result()\n",
      "  File \"c:\\python37\\lib\\asyncio\\futures.py\", line 178, in result\n",
      "    raise self._exception\n",
      "  File \"c:\\python37\\lib\\asyncio\\tasks.py\", line 251, in __step\n",
      "    result = coro.throw(exc)\n",
      "  File \"c:\\python37\\scripts\\src\\twint\\twint\\run.py\", line 209, in main\n",
      "    await task\n",
      "  File \"c:\\python37\\lib\\asyncio\\futures.py\", line 260, in __await__\n",
      "    yield self  # This tells Task to wait for completion.\n",
      "  File \"c:\\python37\\lib\\asyncio\\tasks.py\", line 318, in __wakeup\n",
      "    future.result()\n",
      "  File \"c:\\python37\\lib\\asyncio\\futures.py\", line 178, in result\n",
      "    raise self._exception\n",
      "  File \"c:\\python37\\lib\\asyncio\\tasks.py\", line 249, in __step\n",
      "    result = coro.send(None)\n",
      "  File \"c:\\python37\\scripts\\src\\twint\\twint\\run.py\", line 226, in run\n",
      "    raise ValueError(\"Cannot find twitter account with name = \" + self.config.Username)\n",
      "ValueError: Cannot find twitter account with name = ShippersUnbound\n",
      "\n",
      "Exception in thread Thread-6:\n",
      "Traceback (most recent call last):\n",
      "  File \"c:\\python37\\lib\\threading.py\", line 926, in _bootstrap_inner\n",
      "    self.run()\n",
      "  File \"c:\\python37\\lib\\threading.py\", line 870, in run\n",
      "    self._target(*self._args, **self._kwargs)\n",
      "  File \"<ipython-input-7-efa372ab57fd>\", line 31, in get_tweets\n",
      "    twint.run.Search(c)\n",
      "  File \"c:\\python37\\scripts\\src\\twint\\twint\\run.py\", line 384, in Search\n",
      "    run(config, callback)\n",
      "  File \"c:\\python37\\scripts\\src\\twint\\twint\\run.py\", line 283, in run\n",
      "    get_event_loop().run_until_complete(Twint(config).main(callback))\n",
      "  File \"c:\\python37\\lib\\site-packages\\nest_asyncio.py\", line 95, in run_until_complete\n",
      "    return f.result()\n",
      "  File \"c:\\python37\\lib\\asyncio\\futures.py\", line 178, in result\n",
      "    raise self._exception\n",
      "  File \"c:\\python37\\lib\\asyncio\\tasks.py\", line 251, in __step\n",
      "    result = coro.throw(exc)\n",
      "  File \"c:\\python37\\scripts\\src\\twint\\twint\\run.py\", line 209, in main\n",
      "    await task\n",
      "  File \"c:\\python37\\lib\\asyncio\\futures.py\", line 260, in __await__\n",
      "    yield self  # This tells Task to wait for completion.\n",
      "  File \"c:\\python37\\lib\\asyncio\\tasks.py\", line 318, in __wakeup\n",
      "    future.result()\n",
      "  File \"c:\\python37\\lib\\asyncio\\futures.py\", line 178, in result\n",
      "    raise self._exception\n",
      "  File \"c:\\python37\\lib\\asyncio\\tasks.py\", line 249, in __step\n",
      "    result = coro.send(None)\n",
      "  File \"c:\\python37\\scripts\\src\\twint\\twint\\run.py\", line 226, in run\n",
      "    raise ValueError(\"Cannot find twitter account with name = \" + self.config.Username)\n",
      "ValueError: Cannot find twitter account with name = TomMcTague\n",
      "\n",
      "Exception in thread Thread-8:\n",
      "Traceback (most recent call last):\n",
      "  File \"c:\\python37\\lib\\threading.py\", line 926, in _bootstrap_inner\n",
      "    self.run()\n",
      "  File \"c:\\python37\\lib\\threading.py\", line 870, in run\n",
      "    self._target(*self._args, **self._kwargs)\n",
      "  File \"<ipython-input-7-efa372ab57fd>\", line 31, in get_tweets\n",
      "    twint.run.Search(c)\n",
      "  File \"c:\\python37\\scripts\\src\\twint\\twint\\run.py\", line 384, in Search\n",
      "    run(config, callback)\n",
      "  File \"c:\\python37\\scripts\\src\\twint\\twint\\run.py\", line 283, in run\n",
      "    get_event_loop().run_until_complete(Twint(config).main(callback))\n",
      "  File \"c:\\python37\\lib\\site-packages\\nest_asyncio.py\", line 95, in run_until_complete\n",
      "    return f.result()\n",
      "  File \"c:\\python37\\lib\\asyncio\\futures.py\", line 178, in result\n",
      "    raise self._exception\n",
      "  File \"c:\\python37\\lib\\asyncio\\tasks.py\", line 251, in __step\n",
      "    result = coro.throw(exc)\n",
      "  File \"c:\\python37\\scripts\\src\\twint\\twint\\run.py\", line 209, in main\n",
      "    await task\n",
      "  File \"c:\\python37\\lib\\asyncio\\futures.py\", line 260, in __await__\n",
      "    yield self  # This tells Task to wait for completion.\n",
      "  File \"c:\\python37\\lib\\asyncio\\tasks.py\", line 318, in __wakeup\n",
      "    future.result()\n",
      "  File \"c:\\python37\\lib\\asyncio\\futures.py\", line 178, in result\n",
      "    raise self._exception\n",
      "  File \"c:\\python37\\lib\\asyncio\\tasks.py\", line 249, in __step\n",
      "    result = coro.send(None)\n",
      "  File \"c:\\python37\\scripts\\src\\twint\\twint\\run.py\", line 226, in run\n",
      "    raise ValueError(\"Cannot find twitter account with name = \" + self.config.Username)\n",
      "ValueError: Cannot find twitter account with name = DelMody\n",
      "\n",
      "Exception in thread Thread-12:\n",
      "Traceback (most recent call last):\n",
      "  File \"c:\\python37\\lib\\threading.py\", line 926, in _bootstrap_inner\n",
      "    self.run()\n",
      "  File \"c:\\python37\\lib\\threading.py\", line 870, in run\n",
      "    self._target(*self._args, **self._kwargs)\n",
      "  File \"<ipython-input-7-efa372ab57fd>\", line 31, in get_tweets\n",
      "    twint.run.Search(c)\n",
      "  File \"c:\\python37\\scripts\\src\\twint\\twint\\run.py\", line 384, in Search\n",
      "    run(config, callback)\n",
      "  File \"c:\\python37\\scripts\\src\\twint\\twint\\run.py\", line 283, in run\n",
      "    get_event_loop().run_until_complete(Twint(config).main(callback))\n",
      "  File \"c:\\python37\\lib\\site-packages\\nest_asyncio.py\", line 95, in run_until_complete\n",
      "    return f.result()\n",
      "  File \"c:\\python37\\lib\\asyncio\\futures.py\", line 178, in result\n",
      "    raise self._exception\n",
      "  File \"c:\\python37\\lib\\asyncio\\tasks.py\", line 251, in __step\n",
      "    result = coro.throw(exc)\n",
      "  File \"c:\\python37\\scripts\\src\\twint\\twint\\run.py\", line 209, in main\n",
      "    await task\n",
      "  File \"c:\\python37\\lib\\asyncio\\futures.py\", line 260, in __await__\n",
      "    yield self  # This tells Task to wait for completion.\n",
      "  File \"c:\\python37\\lib\\asyncio\\tasks.py\", line 318, in __wakeup\n",
      "    future.result()\n",
      "  File \"c:\\python37\\lib\\asyncio\\futures.py\", line 178, in result\n",
      "    raise self._exception\n",
      "  File \"c:\\python37\\lib\\asyncio\\tasks.py\", line 249, in __step\n",
      "    result = coro.send(None)\n",
      "  File \"c:\\python37\\scripts\\src\\twint\\twint\\run.py\", line 226, in run\n",
      "    raise ValueError(\"Cannot find twitter account with name = \" + self.config.Username)\n",
      "ValueError: Cannot find twitter account with name = patrickwintour\n",
      "\n"
     ]
    }
   ],
   "source": [
    "q = queue.Queue(maxsize=0)\n",
    "\n",
    "for i in range(num_threads): # Loop to create threads\n",
    "    worker = threading.Thread(target=get_tweets, args=(q, '../data/raw/'+keyword+'_', True)) # Change persist to True to tell the code to keep trying until results are written to file.\n",
    "    worker.setDaemon(True)\n",
    "    worker.start()\n",
    "\n",
    "for username in journo_handles: # Loop to add journalists usernames to the queue\n",
    "    q.put(username)\n",
    "\n",
    "q.join()"
   ]
  }
 ],
 "metadata": {
  "kernelspec": {
   "display_name": "Python 3",
   "language": "python",
   "name": "python3"
  },
  "language_info": {
   "codemirror_mode": {
    "name": "ipython",
    "version": 3
   },
   "file_extension": ".py",
   "mimetype": "text/x-python",
   "name": "python",
   "nbconvert_exporter": "python",
   "pygments_lexer": "ipython3",
   "version": "3.7.4"
  }
 },
 "nbformat": 4,
 "nbformat_minor": 4
}
