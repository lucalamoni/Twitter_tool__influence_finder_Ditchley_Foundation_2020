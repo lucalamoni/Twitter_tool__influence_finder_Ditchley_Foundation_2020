{
 "cells": [
  {
   "cell_type": "code",
   "execution_count": 1,
   "metadata": {
    "colab": {},
    "colab_type": "code",
    "id": "-DHB1gLCaXH_"
   },
   "outputs": [],
   "source": [
    "import sys\n",
    "import os\n",
    "import time\n",
    "import json\n",
    "import csv\n",
    "import threading\n",
    "import queue\n",
    "import asyncio \n",
    "import nest_asyncio\n",
    "nest_asyncio.apply()\n",
    "import twint\n",
    "\n",
    "sys.path.insert(1, 'C:/Users/Luca/Aug20_Ditchley')\n",
    "from src.data import journalists as journos"
   ]
  },
  {
   "cell_type": "markdown",
   "metadata": {
    "colab_type": "text",
    "id": "iGpS5y-_aozR"
   },
   "source": [
    "1. Getting journalist twitter handles according to topic¶"
   ]
  },
  {
   "cell_type": "code",
   "execution_count": 2,
   "metadata": {
    "colab": {},
    "colab_type": "code",
    "id": "QSMrM2dDah_E"
   },
   "outputs": [
    {
     "name": "stdout",
     "output_type": "stream",
     "text": [
      "236\n"
     ]
    }
   ],
   "source": [
    "keyword = 'political'\n",
    "journo_handles = journos.get_handles_by_keyword(keyword)\n",
    "print(len(journo_handles))"
   ]
  },
  {
   "cell_type": "code",
   "execution_count": 8,
   "metadata": {
    "colab": {},
    "colab_type": "code",
    "id": "wPJDbsBhandA"
   },
   "outputs": [
    {
     "data": {
      "text/plain": [
       "234"
      ]
     },
     "execution_count": 8,
     "metadata": {},
     "output_type": "execute_result"
    }
   ],
   "source": [
    "len(journo_handles)"
   ]
  },
  {
   "cell_type": "code",
   "execution_count": 7,
   "metadata": {},
   "outputs": [
    {
     "ename": "ValueError",
     "evalue": "list.remove(x): x not in list",
     "output_type": "error",
     "traceback": [
      "\u001b[1;31m---------------------------------------------------------------------------\u001b[0m",
      "\u001b[1;31mValueError\u001b[0m                                Traceback (most recent call last)",
      "\u001b[1;32m<ipython-input-7-e5c8871c0954>\u001b[0m in \u001b[0;36m<module>\u001b[1;34m\u001b[0m\n\u001b[0;32m      4\u001b[0m \u001b[1;31m#journo_handles.remove('AndyRoocroft') # locked tweets\u001b[0m\u001b[1;33m\u001b[0m\u001b[1;33m\u001b[0m\u001b[1;33m\u001b[0m\u001b[0m\n\u001b[0;32m      5\u001b[0m \u001b[1;31m#journo_handles.remove('dzuidijk') # no tweets in the target date period\u001b[0m\u001b[1;33m\u001b[0m\u001b[1;33m\u001b[0m\u001b[1;33m\u001b[0m\u001b[0m\n\u001b[1;32m----> 6\u001b[1;33m \u001b[0mjourno_handles\u001b[0m\u001b[1;33m.\u001b[0m\u001b[0mremove\u001b[0m\u001b[1;33m(\u001b[0m\u001b[1;34m'journomatei'\u001b[0m\u001b[1;33m)\u001b[0m \u001b[1;31m# no tweets in the target date period\u001b[0m\u001b[1;33m\u001b[0m\u001b[1;33m\u001b[0m\u001b[0m\n\u001b[0m",
      "\u001b[1;31mValueError\u001b[0m: list.remove(x): x not in list"
     ]
    }
   ],
   "source": [
    "#journo_handles.remove('Tinglepolitics')# no tweets in the target date period\n",
    "#journo_handles.remove('P_Madeley_Star') # locked tweets\n",
    "#journo_handles.remove('LauraHusbo') # no tweets in the target date period\n",
    "#journo_handles.remove('AndyRoocroft') # locked tweets\n",
    "#journo_handles.remove('dzuidijk') # no tweets in the target date period\n",
    "#journo_handles.remove('journomatei') # no tweets in the target date period"
   ]
  },
  {
   "cell_type": "code",
   "execution_count": 9,
   "metadata": {
    "colab": {},
    "colab_type": "code",
    "id": "peNAw2Pba3lz"
   },
   "outputs": [],
   "source": [
    "num_threads = 6 # num_threads can be any amount, but only so many can be run in parallel, according to number of cores you have.\n",
    "# import multiprocessing; multiprocessing.cpu_count() can tell you how many cores python can see."
   ]
  },
  {
   "cell_type": "code",
   "execution_count": 10,
   "metadata": {
    "colab": {},
    "colab_type": "code",
    "id": "G66VxbWKa7dT"
   },
   "outputs": [],
   "source": [
    "### from here I try the same but for tweets\n",
    "\n",
    "def get_tweets(q, fp, persist):\n",
    "    '''\n",
    "    Params\n",
    "    ------\n",
    "    q : a Queue instance\n",
    "    \n",
    "    fp : string\n",
    "        Provides the path where the file should be saved.\n",
    "    persist : bool\n",
    "        If True, make a repeat attempt if attempt fails.\n",
    "    '''\n",
    "    while True: \n",
    "        username = q.get()\n",
    "        success = False\n",
    "        filepath = fp +username+'.csv'\n",
    "        while not success:\n",
    "            print('Attempting to get tweets of @'+username)\n",
    "            c = twint.Config()\n",
    "            c.Username = username\n",
    "            #c.User_full = False\n",
    "            c.Hide_output = True\n",
    "            #c.Pandas =True\n",
    "            #c.Store_object = True\n",
    "            c.Limit = 10000000\n",
    "            c.Until = '2020-08-01'\n",
    "            c.Since = '2019-08-01'\n",
    "            c.Profile_full = True\n",
    "            c.Store_csv = True\n",
    "            c.Retweets = True\n",
    "            #c.Native_retweets = True\n",
    "            c.Output = filepath\n",
    "\n",
    "            twint.run.Search(c) # Profile\n",
    "            tweets = twint.storage.panda.Tweets_df\n",
    "            #tweets = tweets.append(twint.storage.panda.Tweets_df)\n",
    "            \n",
    "            if persist:\n",
    "                if os.path.exists(filepath):\n",
    "                    success = True\n",
    "                    print('Tweets of @'+username+' saved.')\n",
    "            else:\n",
    "                success = True\n",
    "        q.task_done()"
   ]
  },
  {
   "cell_type": "code",
   "execution_count": null,
   "metadata": {
    "colab": {},
    "colab_type": "code",
    "id": "Skb3Wdbfa_mi"
   },
   "outputs": [],
   "source": [
    "q = queue.Queue(maxsize=0)\n",
    "\n",
    "for i in range(num_threads): # Loop to create threads\n",
    "    worker = threading.Thread(target=get_tweets, args=(q,'../data/raw/'+keyword +'_', True)) # Change persist to True to tell the code to keep trying until results are written to file.\n",
    "    worker.setDaemon(True)\n",
    "    worker.start()\n",
    "\n",
    "for username in journo_handles: # Loop to add journalists usernames to the queue\n",
    "#for username in ['jennystrasburg',]: \n",
    "    q.put(username)\n",
    "\n",
    "q.join()"
   ]
  },
  {
   "cell_type": "markdown",
   "metadata": {
    "colab_type": "text",
    "id": "_JUPhVhYbJTL"
   },
   "source": [
    "Check who failed and who did not"
   ]
  },
  {
   "cell_type": "code",
   "execution_count": 11,
   "metadata": {
    "colab": {},
    "colab_type": "code",
    "id": "NIGycj6LbNBL"
   },
   "outputs": [],
   "source": [
    "all_handles = []\n",
    "all_users = []\n",
    "failed = []\n",
    "for name in journo_handles:\n",
    "    filepath = '../data/raw/'+keyword +'_'+name+'.csv'\n",
    "    if not os.path.exists(filepath):\n",
    "        failed.append(name)\n",
    "    if os.path.exists(filepath):\n",
    "        all_handles.append(filepath)   "
   ]
  },
  {
   "cell_type": "code",
   "execution_count": 13,
   "metadata": {
    "colab": {},
    "colab_type": "code",
    "id": "TuO76YfDbRvj"
   },
   "outputs": [
    {
     "data": {
      "text/plain": [
       "['Simon_Vaughan']"
      ]
     },
     "execution_count": 13,
     "metadata": {},
     "output_type": "execute_result"
    }
   ],
   "source": [
    "failed"
   ]
  },
  {
   "cell_type": "code",
   "execution_count": 14,
   "metadata": {
    "colab": {},
    "colab_type": "code",
    "id": "ZeJWsDRobU17"
   },
   "outputs": [],
   "source": [
    "#this journalist has a locked account\n",
    "#failed.remove('Tinglepolitics')# no tweets in the target date period\n",
    "#failed.remove('P_Madeley_Star') # locked tweets\n",
    "#failed.remove('LauraHusbo') # no tweets in the target date period\n",
    "#failed.remove('AndyRoocroft') # locked tweets\n",
    "#failed.remove('dzuidijk') # no tweets in the target date period\n",
    "#failed.remove('journomatei') # no tweets in the target date period\n",
    "#failed.append('mateirosca')\n",
    "#journo_handles.remove('AndyRoocroft')\n",
    "failed.remove('Simon_Vaughan') # no tweets in the target date period"
   ]
  },
  {
   "cell_type": "markdown",
   "metadata": {
    "colab_type": "text",
    "id": "MBu9_GXbba1q"
   },
   "source": [
    "Re run the multithread to see if we can scrape some more from the failed list"
   ]
  },
  {
   "cell_type": "code",
   "execution_count": null,
   "metadata": {
    "colab": {},
    "colab_type": "code",
    "id": "i0i7WzozbaXb"
   },
   "outputs": [],
   "source": [
    "q = queue.Queue(maxsize=0)\n",
    "\n",
    "for i in range(num_threads): # Loop to create threads\n",
    "    worker = threading.Thread(target=get_tweets, args=(q, '../data/raw/'+keyword+'_', True))\n",
    "    worker.setDaemon(True)\n",
    "    worker.start()\n",
    "\n",
    "for username in failed: # Loop to add journalists usernames to the queue\n",
    "    q.put(username)\n",
    "\n",
    "q.join()"
   ]
  },
  {
   "cell_type": "markdown",
   "metadata": {
    "colab_type": "text",
    "id": "IDkjt-OXbsNK"
   },
   "source": [
    "collate all the individual csv files together"
   ]
  },
  {
   "cell_type": "code",
   "execution_count": 15,
   "metadata": {
    "colab": {},
    "colab_type": "code",
    "id": "v8dWKex6breS"
   },
   "outputs": [],
   "source": [
    "import pandas as pd\n",
    "all_handles = []\n",
    "all_users = []\n",
    "failed = []\n",
    "all_tweets = pd.DataFrame()\n",
    "for name in journo_handles:\n",
    "    filepath = '../data/raw/'+keyword +'_'+name+'.csv'\n",
    "    if os.path.exists(filepath):\n",
    "        all_handles.append(filepath)\n",
    "        temp_csv = pd.read_csv(filepath)\n",
    "        all_tweets = pd.concat([all_tweets, temp_csv])"
   ]
  },
  {
   "cell_type": "code",
   "execution_count": 16,
   "metadata": {
    "colab": {},
    "colab_type": "code",
    "id": "M8FDrTY_b0nC"
   },
   "outputs": [
    {
     "data": {
      "text/plain": [
       "261411"
      ]
     },
     "execution_count": 16,
     "metadata": {},
     "output_type": "execute_result"
    }
   ],
   "source": [
    "len(all_tweets)"
   ]
  },
  {
   "cell_type": "code",
   "execution_count": 17,
   "metadata": {
    "colab": {},
    "colab_type": "code",
    "id": "fOfvgsxhb1Wr"
   },
   "outputs": [],
   "source": [
    "all_tweets.index = range(len(all_tweets))"
   ]
  },
  {
   "cell_type": "code",
   "execution_count": 18,
   "metadata": {
    "colab": {},
    "colab_type": "code",
    "id": "QMEmsOzib6Bb"
   },
   "outputs": [],
   "source": [
    "all_tweets.to_csv('twint_political_19082020_inParallel_with_index.csv', index = True)"
   ]
  }
 ],
 "metadata": {
  "colab": {
   "authorship_tag": "ABX9TyPTG7vrkPXTXv9hTOX9ioPL",
   "collapsed_sections": [],
   "name": "twint_parallel_scraping_18082020.ipynb",
   "provenance": []
  },
  "kernelspec": {
   "display_name": "Python 3",
   "language": "python",
   "name": "python3"
  },
  "language_info": {
   "codemirror_mode": {
    "name": "ipython",
    "version": 3
   },
   "file_extension": ".py",
   "mimetype": "text/x-python",
   "name": "python",
   "nbconvert_exporter": "python",
   "pygments_lexer": "ipython3",
   "version": "3.7.4"
  }
 },
 "nbformat": 4,
 "nbformat_minor": 4
}
