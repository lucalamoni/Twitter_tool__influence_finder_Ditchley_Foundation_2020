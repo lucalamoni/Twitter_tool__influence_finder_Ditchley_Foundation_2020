{
 "cells": [
  {
   "cell_type": "markdown",
   "metadata": {},
   "source": [
    "# Testing inter-directory imports with journalist website scraping functions"
   ]
  },
  {
   "cell_type": "code",
   "execution_count": 1,
   "metadata": {},
   "outputs": [],
   "source": [
    "import sys\n",
    "sys.path.insert(1, '../')"
   ]
  },
  {
   "cell_type": "markdown",
   "metadata": {},
   "source": [
    "The code above tests that `\\*.py` files can be imported from the `src` directory of the repo.  The examples below are refactored from Luca's code"
   ]
  },
  {
   "cell_type": "code",
   "execution_count": 2,
   "metadata": {},
   "outputs": [],
   "source": [
    "from src.data import journalists as journos"
   ]
  },
  {
   "cell_type": "code",
   "execution_count": 3,
   "metadata": {},
   "outputs": [],
   "source": [
    "test_url = r\"https://www.journalism.co.uk/prof/?\" # Must have the question mark to return any valid results for some reason"
   ]
  },
  {
   "cell_type": "code",
   "execution_count": 4,
   "metadata": {},
   "outputs": [
    {
     "data": {
      "text/plain": [
       "<http.client.HTTPResponse at 0x245a7fc6358>"
      ]
     },
     "execution_count": 4,
     "metadata": {},
     "output_type": "execute_result"
    }
   ],
   "source": [
    "page = journos.get_webpage(test_url)"
   ]
  },
  {
   "cell_type": "code",
   "execution_count": 5,
   "metadata": {},
   "outputs": [],
   "source": [
    "contents = journos.parse_divs_in_webpage(page)"
   ]
  },
  {
   "cell_type": "code",
   "execution_count": 6,
   "metadata": {},
   "outputs": [
    {
     "data": {
      "text/plain": [
       "['RoyalReporter',\n",
       " 'GaryChappellDE',\n",
       " 'SophieAlex1',\n",
       " 'ExpressGilo',\n",
       " 'g_maynard',\n",
       " 'lmwilliamson7',\n",
       " 'ShippersUnbound',\n",
       " 'SamiMokbel81_DM',\n",
       " 'RE_DailyMail',\n",
       " 'Mike_Dickson_DM',\n",
       " 'VBischoff',\n",
       " 'simon_cass',\n",
       " 'samcunningham',\n",
       " 'albrummer',\n",
       " 'AshleyWGray']"
      ]
     },
     "execution_count": 6,
     "metadata": {},
     "output_type": "execute_result"
    }
   ],
   "source": [
    "handles = journos.get_handles_from_contents(contents)\n",
    "handles\n",
    "# ^^ Returns list of twitter handles on first page of full, unfiltered listings"
   ]
  },
  {
   "cell_type": "code",
   "execution_count": 3,
   "metadata": {},
   "outputs": [],
   "source": [
    "# get_all = journos.iterate_func_over_pages(test_url, journos.get_handles_from_contents) \n",
    "# ^^ this is too big! more than 600 pages of journos. See source code for how this operates"
   ]
  },
  {
   "cell_type": "markdown",
   "metadata": {},
   "source": [
    "`get_handles_by_keyword` wraps around the functions detailed above to give the same overall functionality as Luca's function.  Some examples of its use are given below:"
   ]
  },
  {
   "cell_type": "code",
   "execution_count": 9,
   "metadata": {},
   "outputs": [
    {
     "data": {
      "text/plain": [
       "12"
      ]
     },
     "execution_count": 9,
     "metadata": {},
     "output_type": "execute_result"
    }
   ],
   "source": [
    "cyber = journos.get_handles_by_keyword('cyber')\n",
    "len(cyber)"
   ]
  },
  {
   "cell_type": "code",
   "execution_count": 10,
   "metadata": {},
   "outputs": [
    {
     "data": {
      "text/plain": [
       "258"
      ]
     },
     "execution_count": 10,
     "metadata": {},
     "output_type": "execute_result"
    }
   ],
   "source": [
    "tech = journos.get_handles_by_keyword('tech')\n",
    "len(tech)"
   ]
  },
  {
   "cell_type": "code",
   "execution_count": 12,
   "metadata": {},
   "outputs": [
    {
     "data": {
      "text/plain": [
       "46"
      ]
     },
     "execution_count": 12,
     "metadata": {},
     "output_type": "execute_result"
    }
   ],
   "source": [
    "royal = journos.get_handles_by_keyword('royal')\n",
    "len(royal)"
   ]
  },
  {
   "cell_type": "markdown",
   "metadata": {},
   "source": [
    "`get_handles_by_keyword` could be extended with relative ease to return other information in addition to the twitter handle.  Would need to figure out the regex to pull other info from page."
   ]
  },
  {
   "cell_type": "code",
   "execution_count": null,
   "metadata": {},
   "outputs": [],
   "source": []
  }
 ],
 "metadata": {
  "kernelspec": {
   "display_name": "Python 3",
   "language": "python",
   "name": "python3"
  },
  "language_info": {
   "codemirror_mode": {
    "name": "ipython",
    "version": 3
   },
   "file_extension": ".py",
   "mimetype": "text/x-python",
   "name": "python",
   "nbconvert_exporter": "python",
   "pygments_lexer": "ipython3",
   "version": "3.7.1"
  }
 },
 "nbformat": 4,
 "nbformat_minor": 4
}
