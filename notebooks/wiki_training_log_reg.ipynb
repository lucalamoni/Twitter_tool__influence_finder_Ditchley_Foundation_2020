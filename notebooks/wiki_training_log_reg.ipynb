{
 "cells": [
  {
   "cell_type": "code",
   "execution_count": 1,
   "metadata": {},
   "outputs": [
    {
     "name": "stdout",
     "output_type": "stream",
     "text": [
      "Requirement already satisfied: gensim==3.8.3 in c:\\users\\elizabeth\\anaconda3\\envs\\python36\\lib\\site-packages (3.8.3)\n",
      "Requirement already satisfied: six>=1.5.0 in c:\\users\\elizabeth\\anaconda3\\envs\\python36\\lib\\site-packages (from gensim==3.8.3) (1.15.0)\n",
      "Requirement already satisfied: numpy>=1.11.3 in c:\\users\\elizabeth\\anaconda3\\envs\\python36\\lib\\site-packages (from gensim==3.8.3) (1.17.0)\n",
      "Requirement already satisfied: scipy>=0.18.1 in c:\\users\\elizabeth\\anaconda3\\envs\\python36\\lib\\site-packages (from gensim==3.8.3) (1.4.1)\n",
      "Requirement already satisfied: smart-open>=1.8.1 in c:\\users\\elizabeth\\anaconda3\\envs\\python36\\lib\\site-packages (from gensim==3.8.3) (2.1.0)\n",
      "Requirement already satisfied: Cython==0.29.14 in c:\\users\\elizabeth\\anaconda3\\envs\\python36\\lib\\site-packages (from gensim==3.8.3) (0.29.14)\n",
      "Requirement already satisfied: requests in c:\\users\\elizabeth\\anaconda3\\envs\\python36\\lib\\site-packages (from smart-open>=1.8.1->gensim==3.8.3) (2.24.0)\n",
      "Requirement already satisfied: boto3 in c:\\users\\elizabeth\\anaconda3\\envs\\python36\\lib\\site-packages (from smart-open>=1.8.1->gensim==3.8.3) (1.14.47)\n",
      "Requirement already satisfied: boto in c:\\users\\elizabeth\\anaconda3\\envs\\python36\\lib\\site-packages (from smart-open>=1.8.1->gensim==3.8.3) (2.49.0)\n",
      "Requirement already satisfied: chardet<4,>=3.0.2 in c:\\users\\elizabeth\\anaconda3\\envs\\python36\\lib\\site-packages (from requests->smart-open>=1.8.1->gensim==3.8.3) (3.0.4)\n",
      "Requirement already satisfied: idna<3,>=2.5 in c:\\users\\elizabeth\\anaconda3\\envs\\python36\\lib\\site-packages (from requests->smart-open>=1.8.1->gensim==3.8.3) (2.10)\n",
      "Requirement already satisfied: urllib3!=1.25.0,!=1.25.1,<1.26,>=1.21.1 in c:\\users\\elizabeth\\anaconda3\\envs\\python36\\lib\\site-packages (from requests->smart-open>=1.8.1->gensim==3.8.3) (1.24.3)\n",
      "Requirement already satisfied: certifi>=2017.4.17 in c:\\users\\elizabeth\\anaconda3\\envs\\python36\\lib\\site-packages (from requests->smart-open>=1.8.1->gensim==3.8.3) (2020.6.20)\n",
      "Requirement already satisfied: s3transfer<0.4.0,>=0.3.0 in c:\\users\\elizabeth\\anaconda3\\envs\\python36\\lib\\site-packages (from boto3->smart-open>=1.8.1->gensim==3.8.3) (0.3.3)\n",
      "Requirement already satisfied: jmespath<1.0.0,>=0.7.1 in c:\\users\\elizabeth\\anaconda3\\envs\\python36\\lib\\site-packages (from boto3->smart-open>=1.8.1->gensim==3.8.3) (0.10.0)\n",
      "Requirement already satisfied: botocore<1.18.0,>=1.17.47 in c:\\users\\elizabeth\\anaconda3\\envs\\python36\\lib\\site-packages (from boto3->smart-open>=1.8.1->gensim==3.8.3) (1.17.47)\n",
      "Requirement already satisfied: python-dateutil<3.0.0,>=2.1 in c:\\users\\elizabeth\\anaconda3\\envs\\python36\\lib\\site-packages (from botocore<1.18.0,>=1.17.47->boto3->smart-open>=1.8.1->gensim==3.8.3) (2.8.1)\n",
      "Requirement already satisfied: docutils<0.16,>=0.10 in c:\\users\\elizabeth\\anaconda3\\envs\\python36\\lib\\site-packages (from botocore<1.18.0,>=1.17.47->boto3->smart-open>=1.8.1->gensim==3.8.3) (0.15.2)\n"
     ]
    }
   ],
   "source": [
    "!pip install gensim==3.8.3"
   ]
  },
  {
   "cell_type": "code",
   "execution_count": 2,
   "metadata": {},
   "outputs": [
    {
     "name": "stdout",
     "output_type": "stream",
     "text": [
      "Requirement already satisfied: wikipedia in c:\\users\\elizabeth\\anaconda3\\envs\\python36\\lib\\site-packages (1.4.0)\n",
      "Requirement already satisfied: requests<3.0.0,>=2.0.0 in c:\\users\\elizabeth\\anaconda3\\envs\\python36\\lib\\site-packages (from wikipedia) (2.24.0)\n",
      "Requirement already satisfied: beautifulsoup4 in c:\\users\\elizabeth\\anaconda3\\envs\\python36\\lib\\site-packages (from wikipedia) (4.9.1)\n",
      "Requirement already satisfied: certifi>=2017.4.17 in c:\\users\\elizabeth\\anaconda3\\envs\\python36\\lib\\site-packages (from requests<3.0.0,>=2.0.0->wikipedia) (2020.6.20)\n",
      "Requirement already satisfied: chardet<4,>=3.0.2 in c:\\users\\elizabeth\\anaconda3\\envs\\python36\\lib\\site-packages (from requests<3.0.0,>=2.0.0->wikipedia) (3.0.4)\n",
      "Requirement already satisfied: urllib3!=1.25.0,!=1.25.1,<1.26,>=1.21.1 in c:\\users\\elizabeth\\anaconda3\\envs\\python36\\lib\\site-packages (from requests<3.0.0,>=2.0.0->wikipedia) (1.24.3)\n",
      "Requirement already satisfied: idna<3,>=2.5 in c:\\users\\elizabeth\\anaconda3\\envs\\python36\\lib\\site-packages (from requests<3.0.0,>=2.0.0->wikipedia) (2.10)\n",
      "Requirement already satisfied: soupsieve>1.2 in c:\\users\\elizabeth\\anaconda3\\envs\\python36\\lib\\site-packages (from beautifulsoup4->wikipedia) (2.0.1)\n"
     ]
    }
   ],
   "source": [
    "!pip install wikipedia"
   ]
  },
  {
   "cell_type": "code",
   "execution_count": 43,
   "metadata": {},
   "outputs": [],
   "source": [
    "import sys\n",
    "import os\n",
    "import itertools as it\n",
    "import pandas as pd\n",
    "import numpy as np\n",
    "from tqdm import tqdm\n",
    "tqdm.pandas(desc=\"progress-bar\")\n",
    "from gensim.models import Doc2Vec\n",
    "from sklearn import utils\n",
    "from sklearn.model_selection import train_test_split\n",
    "from sklearn import decomposition as skd\n",
    "from sklearn import feature_extraction as skfe\n",
    "from sklearn.linear_model import LogisticRegression\n",
    "from sklearn.metrics import accuracy_score, f1_score\n",
    "import gensim\n",
    "from gensim.models.doc2vec import TaggedDocument\n",
    "import re\n",
    "import matplotlib.pyplot as plt\n",
    "%matplotlib inline\n",
    "import seaborn as sns\n",
    "from collections import Counter\n",
    "import wikipedia\n",
    "import difflib\n",
    "import nltk\n",
    "#nltk.download('punkt')\n",
    "#nltk.download('stopwords')\n",
    "\n",
    "wikipedia.set_lang('en')\n",
    "\n"
   ]
  },
  {
   "cell_type": "markdown",
   "metadata": {},
   "source": [
    "#### Load tweet data files and extract hashtags"
   ]
  },
  {
   "cell_type": "code",
   "execution_count": 5,
   "metadata": {},
   "outputs": [
    {
     "name": "stderr",
     "output_type": "stream",
     "text": [
      "Files: 100%|███████████████████████████████████████████████████████████████████████████| 40/40 [01:55<00:00,  2.88s/it]\n"
     ]
    }
   ],
   "source": [
    "src_dir = r'C:\\Users\\elizabeth\\Documents\\cleaned tweets\\cyber friends tweets'\n",
    "\n",
    "files = [file for file in os.listdir(src_dir) if os.path.isfile(os.path.join(src_dir, file))] # build list of files to iterate through\n",
    "\n",
    "hashtags = pd.DataFrame()\n",
    "\n",
    "with tqdm(total=len(files), desc='Files') as pbar:\n",
    "    for file in files:\n",
    "        df = pd.read_csv(os.path.join(src_dir, file), low_memory=False)\n",
    "        hashtags = pd.concat([hashtags, df[['hashtags']]], axis=0)\n",
    "        pbar.update(1)"
   ]
  },
  {
   "cell_type": "code",
   "execution_count": 6,
   "metadata": {},
   "outputs": [
    {
     "data": {
      "text/html": [
       "<div>\n",
       "<style scoped>\n",
       "    .dataframe tbody tr th:only-of-type {\n",
       "        vertical-align: middle;\n",
       "    }\n",
       "\n",
       "    .dataframe tbody tr th {\n",
       "        vertical-align: top;\n",
       "    }\n",
       "\n",
       "    .dataframe thead th {\n",
       "        text-align: right;\n",
       "    }\n",
       "</style>\n",
       "<table border=\"1\" class=\"dataframe\">\n",
       "  <thead>\n",
       "    <tr style=\"text-align: right;\">\n",
       "      <th></th>\n",
       "      <th>hashtags</th>\n",
       "    </tr>\n",
       "  </thead>\n",
       "  <tbody>\n",
       "    <tr>\n",
       "      <th>1</th>\n",
       "      <td>['breaking', 'fbi', 'beirut', 'probe']</td>\n",
       "    </tr>\n",
       "    <tr>\n",
       "      <th>2</th>\n",
       "      <td>['breaking', 'beirutblast']</td>\n",
       "    </tr>\n",
       "    <tr>\n",
       "      <th>6</th>\n",
       "      <td>['beirutblast']</td>\n",
       "    </tr>\n",
       "    <tr>\n",
       "      <th>9</th>\n",
       "      <td>['breaking', 'lebanon']</td>\n",
       "    </tr>\n",
       "    <tr>\n",
       "      <th>12</th>\n",
       "      <td>['lebanon']</td>\n",
       "    </tr>\n",
       "    <tr>\n",
       "      <th>...</th>\n",
       "      <td>...</td>\n",
       "    </tr>\n",
       "    <tr>\n",
       "      <th>87365</th>\n",
       "      <td>['trust', 'technology']</td>\n",
       "    </tr>\n",
       "    <tr>\n",
       "      <th>87379</th>\n",
       "      <td>['cogx2020']</td>\n",
       "    </tr>\n",
       "    <tr>\n",
       "      <th>87437</th>\n",
       "      <td>['covid19uk', 'contacttracing']</td>\n",
       "    </tr>\n",
       "    <tr>\n",
       "      <th>87439</th>\n",
       "      <td>['ai']</td>\n",
       "    </tr>\n",
       "    <tr>\n",
       "      <th>87447</th>\n",
       "      <td>['contacttracingapp']</td>\n",
       "    </tr>\n",
       "  </tbody>\n",
       "</table>\n",
       "<p>723896 rows × 1 columns</p>\n",
       "</div>"
      ],
      "text/plain": [
       "                                     hashtags\n",
       "1      ['breaking', 'fbi', 'beirut', 'probe']\n",
       "2                 ['breaking', 'beirutblast']\n",
       "6                             ['beirutblast']\n",
       "9                     ['breaking', 'lebanon']\n",
       "12                                ['lebanon']\n",
       "...                                       ...\n",
       "87365                 ['trust', 'technology']\n",
       "87379                            ['cogx2020']\n",
       "87437         ['covid19uk', 'contacttracing']\n",
       "87439                                  ['ai']\n",
       "87447                   ['contacttracingapp']\n",
       "\n",
       "[723896 rows x 1 columns]"
      ]
     },
     "execution_count": 6,
     "metadata": {},
     "output_type": "execute_result"
    }
   ],
   "source": [
    "hashtags = hashtags[hashtags.astype(str)['hashtags'] != '[]'] # remove empties\n",
    "hashtags"
   ]
  },
  {
   "cell_type": "markdown",
   "metadata": {},
   "source": [
    "#### Build flat list of all hashtags"
   ]
  },
  {
   "cell_type": "code",
   "execution_count": 7,
   "metadata": {},
   "outputs": [],
   "source": [
    "hlist = [] \n",
    "for hashtag in hashtags['hashtags']:\n",
    "    hlist.extend(eval(hashtag))"
   ]
  },
  {
   "cell_type": "markdown",
   "metadata": {},
   "source": [
    "#### Count frequency of each hashtag and sort the list in descending order"
   ]
  },
  {
   "cell_type": "code",
   "execution_count": 8,
   "metadata": {},
   "outputs": [
    {
     "name": "stdout",
     "output_type": "stream",
     "text": [
      "[('covid19', 26035), ('ai', 15103), ('cybersecurity', 14355), ('fintech', 13138), ('coronavirus', 12274), ('infosec', 5539), ('tech', 4864), ('security', 4073), ('machinelearning', 3884), ('iot', 3795), ('technology', 3744), ('innovation', 3694), ('blockchain', 3493), ('london', 3316), ('brexit', 3216), ('data', 3044), ('banking', 3043), ('payments', 2997), ('privacy', 2992), ('covid', 2819), ('blacklivesmatter', 2771), ('china', 2738), ('artificialintelligence', 2643), ('startup', 2599), ('bitcoin', 2584)]\n"
     ]
    }
   ],
   "source": [
    "counted = Counter(hlist)\n",
    "tf = sorted(dict(counted).items(), key=lambda x: x[1], reverse=True) # Sort hashtags by frequency in descending order\n",
    "print(tf[:25])"
   ]
  },
  {
   "cell_type": "markdown",
   "metadata": {},
   "source": [
    "#### For initial investigation, select only hashtags used more than 1000 times"
   ]
  },
  {
   "cell_type": "code",
   "execution_count": 9,
   "metadata": {},
   "outputs": [
    {
     "name": "stdout",
     "output_type": "stream",
     "text": [
      "Length before: 217569\n",
      "Length after: 97\n"
     ]
    }
   ],
   "source": [
    "use_threshold = 1000\n",
    "tf_popular = []\n",
    "print('Length before: '+str(len(tf)))\n",
    "for tag in tf:\n",
    "    if  tag[1] >= use_threshold:\n",
    "        tf_popular.append(tag)\n",
    "print('Length after: '+str(len(tf_popular)))"
   ]
  },
  {
   "cell_type": "markdown",
   "metadata": {},
   "source": [
    "#### Build a matrix of concurrent use of hashtags, correlate and visualise"
   ]
  },
  {
   "cell_type": "code",
   "execution_count": 10,
   "metadata": {},
   "outputs": [
    {
     "data": {
      "text/html": [
       "<div>\n",
       "<style scoped>\n",
       "    .dataframe tbody tr th:only-of-type {\n",
       "        vertical-align: middle;\n",
       "    }\n",
       "\n",
       "    .dataframe tbody tr th {\n",
       "        vertical-align: top;\n",
       "    }\n",
       "\n",
       "    .dataframe thead th {\n",
       "        text-align: right;\n",
       "    }\n",
       "</style>\n",
       "<table border=\"1\" class=\"dataframe\">\n",
       "  <thead>\n",
       "    <tr style=\"text-align: right;\">\n",
       "      <th></th>\n",
       "      <th>covid19</th>\n",
       "      <th>ai</th>\n",
       "      <th>cybersecurity</th>\n",
       "      <th>fintech</th>\n",
       "      <th>coronavirus</th>\n",
       "      <th>infosec</th>\n",
       "      <th>tech</th>\n",
       "      <th>security</th>\n",
       "      <th>machinelearning</th>\n",
       "      <th>iot</th>\n",
       "      <th>...</th>\n",
       "      <th>oott</th>\n",
       "      <th>cryptocurrency</th>\n",
       "      <th>compliance</th>\n",
       "      <th>mondaymotivation</th>\n",
       "      <th>economy</th>\n",
       "      <th>dataprotection</th>\n",
       "      <th>healthcare</th>\n",
       "      <th>socialmedia</th>\n",
       "      <th>facebook</th>\n",
       "      <th>news</th>\n",
       "    </tr>\n",
       "  </thead>\n",
       "  <tbody>\n",
       "    <tr>\n",
       "      <th>covid19</th>\n",
       "      <td>220</td>\n",
       "      <td>296</td>\n",
       "      <td>578</td>\n",
       "      <td>439</td>\n",
       "      <td>2187</td>\n",
       "      <td>102</td>\n",
       "      <td>125</td>\n",
       "      <td>227</td>\n",
       "      <td>28</td>\n",
       "      <td>212</td>\n",
       "      <td>...</td>\n",
       "      <td>37</td>\n",
       "      <td>8</td>\n",
       "      <td>208</td>\n",
       "      <td>16</td>\n",
       "      <td>108</td>\n",
       "      <td>40</td>\n",
       "      <td>101</td>\n",
       "      <td>16</td>\n",
       "      <td>9</td>\n",
       "      <td>25</td>\n",
       "    </tr>\n",
       "    <tr>\n",
       "      <th>ai</th>\n",
       "      <td>296</td>\n",
       "      <td>450</td>\n",
       "      <td>671</td>\n",
       "      <td>1091</td>\n",
       "      <td>60</td>\n",
       "      <td>338</td>\n",
       "      <td>961</td>\n",
       "      <td>267</td>\n",
       "      <td>2218</td>\n",
       "      <td>1366</td>\n",
       "      <td>...</td>\n",
       "      <td>1</td>\n",
       "      <td>42</td>\n",
       "      <td>25</td>\n",
       "      <td>2</td>\n",
       "      <td>17</td>\n",
       "      <td>147</td>\n",
       "      <td>209</td>\n",
       "      <td>32</td>\n",
       "      <td>22</td>\n",
       "      <td>112</td>\n",
       "    </tr>\n",
       "    <tr>\n",
       "      <th>cybersecurity</th>\n",
       "      <td>578</td>\n",
       "      <td>671</td>\n",
       "      <td>140</td>\n",
       "      <td>211</td>\n",
       "      <td>309</td>\n",
       "      <td>2783</td>\n",
       "      <td>464</td>\n",
       "      <td>1222</td>\n",
       "      <td>106</td>\n",
       "      <td>817</td>\n",
       "      <td>...</td>\n",
       "      <td>3</td>\n",
       "      <td>32</td>\n",
       "      <td>222</td>\n",
       "      <td>6</td>\n",
       "      <td>3</td>\n",
       "      <td>263</td>\n",
       "      <td>122</td>\n",
       "      <td>26</td>\n",
       "      <td>26</td>\n",
       "      <td>69</td>\n",
       "    </tr>\n",
       "    <tr>\n",
       "      <th>fintech</th>\n",
       "      <td>439</td>\n",
       "      <td>1091</td>\n",
       "      <td>211</td>\n",
       "      <td>302</td>\n",
       "      <td>115</td>\n",
       "      <td>55</td>\n",
       "      <td>494</td>\n",
       "      <td>59</td>\n",
       "      <td>191</td>\n",
       "      <td>244</td>\n",
       "      <td>...</td>\n",
       "      <td>1</td>\n",
       "      <td>157</td>\n",
       "      <td>245</td>\n",
       "      <td>3</td>\n",
       "      <td>27</td>\n",
       "      <td>18</td>\n",
       "      <td>30</td>\n",
       "      <td>34</td>\n",
       "      <td>20</td>\n",
       "      <td>21</td>\n",
       "    </tr>\n",
       "    <tr>\n",
       "      <th>coronavirus</th>\n",
       "      <td>2187</td>\n",
       "      <td>60</td>\n",
       "      <td>309</td>\n",
       "      <td>115</td>\n",
       "      <td>56</td>\n",
       "      <td>40</td>\n",
       "      <td>52</td>\n",
       "      <td>167</td>\n",
       "      <td>3</td>\n",
       "      <td>151</td>\n",
       "      <td>...</td>\n",
       "      <td>13</td>\n",
       "      <td>7</td>\n",
       "      <td>195</td>\n",
       "      <td>9</td>\n",
       "      <td>77</td>\n",
       "      <td>19</td>\n",
       "      <td>19</td>\n",
       "      <td>8</td>\n",
       "      <td>9</td>\n",
       "      <td>19</td>\n",
       "    </tr>\n",
       "    <tr>\n",
       "      <th>...</th>\n",
       "      <td>...</td>\n",
       "      <td>...</td>\n",
       "      <td>...</td>\n",
       "      <td>...</td>\n",
       "      <td>...</td>\n",
       "      <td>...</td>\n",
       "      <td>...</td>\n",
       "      <td>...</td>\n",
       "      <td>...</td>\n",
       "      <td>...</td>\n",
       "      <td>...</td>\n",
       "      <td>...</td>\n",
       "      <td>...</td>\n",
       "      <td>...</td>\n",
       "      <td>...</td>\n",
       "      <td>...</td>\n",
       "      <td>...</td>\n",
       "      <td>...</td>\n",
       "      <td>...</td>\n",
       "      <td>...</td>\n",
       "      <td>...</td>\n",
       "    </tr>\n",
       "    <tr>\n",
       "      <th>dataprotection</th>\n",
       "      <td>40</td>\n",
       "      <td>147</td>\n",
       "      <td>263</td>\n",
       "      <td>18</td>\n",
       "      <td>19</td>\n",
       "      <td>179</td>\n",
       "      <td>119</td>\n",
       "      <td>163</td>\n",
       "      <td>2</td>\n",
       "      <td>134</td>\n",
       "      <td>...</td>\n",
       "      <td>0</td>\n",
       "      <td>2</td>\n",
       "      <td>24</td>\n",
       "      <td>0</td>\n",
       "      <td>0</td>\n",
       "      <td>12</td>\n",
       "      <td>1</td>\n",
       "      <td>4</td>\n",
       "      <td>9</td>\n",
       "      <td>3</td>\n",
       "    </tr>\n",
       "    <tr>\n",
       "      <th>healthcare</th>\n",
       "      <td>101</td>\n",
       "      <td>209</td>\n",
       "      <td>122</td>\n",
       "      <td>30</td>\n",
       "      <td>19</td>\n",
       "      <td>30</td>\n",
       "      <td>37</td>\n",
       "      <td>40</td>\n",
       "      <td>34</td>\n",
       "      <td>76</td>\n",
       "      <td>...</td>\n",
       "      <td>0</td>\n",
       "      <td>0</td>\n",
       "      <td>4</td>\n",
       "      <td>0</td>\n",
       "      <td>3</td>\n",
       "      <td>1</td>\n",
       "      <td>10</td>\n",
       "      <td>2</td>\n",
       "      <td>1</td>\n",
       "      <td>9</td>\n",
       "    </tr>\n",
       "    <tr>\n",
       "      <th>socialmedia</th>\n",
       "      <td>16</td>\n",
       "      <td>32</td>\n",
       "      <td>26</td>\n",
       "      <td>34</td>\n",
       "      <td>8</td>\n",
       "      <td>7</td>\n",
       "      <td>32</td>\n",
       "      <td>10</td>\n",
       "      <td>6</td>\n",
       "      <td>25</td>\n",
       "      <td>...</td>\n",
       "      <td>0</td>\n",
       "      <td>2</td>\n",
       "      <td>1</td>\n",
       "      <td>18</td>\n",
       "      <td>0</td>\n",
       "      <td>4</td>\n",
       "      <td>2</td>\n",
       "      <td>2</td>\n",
       "      <td>52</td>\n",
       "      <td>10</td>\n",
       "    </tr>\n",
       "    <tr>\n",
       "      <th>facebook</th>\n",
       "      <td>9</td>\n",
       "      <td>22</td>\n",
       "      <td>26</td>\n",
       "      <td>20</td>\n",
       "      <td>9</td>\n",
       "      <td>16</td>\n",
       "      <td>23</td>\n",
       "      <td>14</td>\n",
       "      <td>8</td>\n",
       "      <td>2</td>\n",
       "      <td>...</td>\n",
       "      <td>0</td>\n",
       "      <td>13</td>\n",
       "      <td>0</td>\n",
       "      <td>0</td>\n",
       "      <td>0</td>\n",
       "      <td>9</td>\n",
       "      <td>1</td>\n",
       "      <td>52</td>\n",
       "      <td>2</td>\n",
       "      <td>5</td>\n",
       "    </tr>\n",
       "    <tr>\n",
       "      <th>news</th>\n",
       "      <td>25</td>\n",
       "      <td>112</td>\n",
       "      <td>69</td>\n",
       "      <td>21</td>\n",
       "      <td>19</td>\n",
       "      <td>38</td>\n",
       "      <td>322</td>\n",
       "      <td>34</td>\n",
       "      <td>1</td>\n",
       "      <td>24</td>\n",
       "      <td>...</td>\n",
       "      <td>0</td>\n",
       "      <td>4</td>\n",
       "      <td>0</td>\n",
       "      <td>0</td>\n",
       "      <td>6</td>\n",
       "      <td>3</td>\n",
       "      <td>9</td>\n",
       "      <td>10</td>\n",
       "      <td>5</td>\n",
       "      <td>0</td>\n",
       "    </tr>\n",
       "  </tbody>\n",
       "</table>\n",
       "<p>97 rows × 97 columns</p>\n",
       "</div>"
      ],
      "text/plain": [
       "                covid19    ai  cybersecurity  fintech  coronavirus  infosec  \\\n",
       "covid19             220   296            578      439         2187      102   \n",
       "ai                  296   450            671     1091           60      338   \n",
       "cybersecurity       578   671            140      211          309     2783   \n",
       "fintech             439  1091            211      302          115       55   \n",
       "coronavirus        2187    60            309      115           56       40   \n",
       "...                 ...   ...            ...      ...          ...      ...   \n",
       "dataprotection       40   147            263       18           19      179   \n",
       "healthcare          101   209            122       30           19       30   \n",
       "socialmedia          16    32             26       34            8        7   \n",
       "facebook              9    22             26       20            9       16   \n",
       "news                 25   112             69       21           19       38   \n",
       "\n",
       "                tech  security  machinelearning   iot  ...  oott  \\\n",
       "covid19          125       227               28   212  ...    37   \n",
       "ai               961       267             2218  1366  ...     1   \n",
       "cybersecurity    464      1222              106   817  ...     3   \n",
       "fintech          494        59              191   244  ...     1   \n",
       "coronavirus       52       167                3   151  ...    13   \n",
       "...              ...       ...              ...   ...  ...   ...   \n",
       "dataprotection   119       163                2   134  ...     0   \n",
       "healthcare        37        40               34    76  ...     0   \n",
       "socialmedia       32        10                6    25  ...     0   \n",
       "facebook          23        14                8     2  ...     0   \n",
       "news             322        34                1    24  ...     0   \n",
       "\n",
       "                cryptocurrency  compliance  mondaymotivation  economy  \\\n",
       "covid19                      8         208                16      108   \n",
       "ai                          42          25                 2       17   \n",
       "cybersecurity               32         222                 6        3   \n",
       "fintech                    157         245                 3       27   \n",
       "coronavirus                  7         195                 9       77   \n",
       "...                        ...         ...               ...      ...   \n",
       "dataprotection               2          24                 0        0   \n",
       "healthcare                   0           4                 0        3   \n",
       "socialmedia                  2           1                18        0   \n",
       "facebook                    13           0                 0        0   \n",
       "news                         4           0                 0        6   \n",
       "\n",
       "                dataprotection  healthcare  socialmedia  facebook  news  \n",
       "covid19                     40         101           16         9    25  \n",
       "ai                         147         209           32        22   112  \n",
       "cybersecurity              263         122           26        26    69  \n",
       "fintech                     18          30           34        20    21  \n",
       "coronavirus                 19          19            8         9    19  \n",
       "...                        ...         ...          ...       ...   ...  \n",
       "dataprotection              12           1            4         9     3  \n",
       "healthcare                   1          10            2         1     9  \n",
       "socialmedia                  4           2            2        52    10  \n",
       "facebook                     9           1           52         2     5  \n",
       "news                         3           9           10         5     0  \n",
       "\n",
       "[97 rows x 97 columns]"
      ]
     },
     "execution_count": 10,
     "metadata": {},
     "output_type": "execute_result"
    }
   ],
   "source": [
    "popular_hashtags = [item[0] for item in tf_popular]\n",
    "hashtag_matrix = pd.DataFrame(0, index=popular_hashtags, columns=popular_hashtags).astype(int)\n",
    "\n",
    "for item in hashtags['hashtags'].values:\n",
    "    hashtag_list = eval(item)\n",
    "    for a, b in it.permutations(hashtag_list, 2):\n",
    "        if all([hashtag in popular_hashtags for hashtag in [a,b]]):\n",
    "            hashtag_matrix.at[a, b] += 1\n",
    "            \n",
    "hashtag_matrix"
   ]
  },
  {
   "cell_type": "code",
   "execution_count": 11,
   "metadata": {},
   "outputs": [],
   "source": [
    "# calculate the correlation matrix\n",
    "correlations = hashtag_matrix.corr()"
   ]
  },
  {
   "cell_type": "code",
   "execution_count": 31,
   "metadata": {},
   "outputs": [
    {
     "data": {
      "image/png": "[encoded data removed]",
      "text/plain": [
       "<Figure size 1800x1800 with 2 Axes>"
      ]
     },
     "metadata": {
      "needs_background": "light"
     },
     "output_type": "display_data"
    }
   ],
   "source": [
    "# plot the correlation matrix\n",
    "plt.figure(figsize=(25, 25))\n",
    "sns.heatmap(correlations,\n",
    "    cmap='RdBu',\n",
    "    vmin=-1,\n",
    "    vmax=1,\n",
    "    square = True,\n",
    "    cbar_kws={'label':'correlation'})\n",
    "plt.show()"
   ]
  },
  {
   "cell_type": "code",
   "execution_count": 13,
   "metadata": {},
   "outputs": [
    {
     "data": {
      "text/html": [
       "<div>\n",
       "<style scoped>\n",
       "    .dataframe tbody tr th:only-of-type {\n",
       "        vertical-align: middle;\n",
       "    }\n",
       "\n",
       "    .dataframe tbody tr th {\n",
       "        vertical-align: top;\n",
       "    }\n",
       "\n",
       "    .dataframe thead th {\n",
       "        text-align: right;\n",
       "    }\n",
       "</style>\n",
       "<table border=\"1\" class=\"dataframe\">\n",
       "  <thead>\n",
       "    <tr style=\"text-align: right;\">\n",
       "      <th></th>\n",
       "      <th>covid19</th>\n",
       "      <th>ai</th>\n",
       "      <th>cybersecurity</th>\n",
       "      <th>fintech</th>\n",
       "      <th>coronavirus</th>\n",
       "      <th>infosec</th>\n",
       "      <th>tech</th>\n",
       "      <th>security</th>\n",
       "      <th>machinelearning</th>\n",
       "      <th>iot</th>\n",
       "      <th>...</th>\n",
       "      <th>oott</th>\n",
       "      <th>cryptocurrency</th>\n",
       "      <th>compliance</th>\n",
       "      <th>mondaymotivation</th>\n",
       "      <th>economy</th>\n",
       "      <th>dataprotection</th>\n",
       "      <th>healthcare</th>\n",
       "      <th>socialmedia</th>\n",
       "      <th>facebook</th>\n",
       "      <th>news</th>\n",
       "    </tr>\n",
       "  </thead>\n",
       "  <tbody>\n",
       "    <tr>\n",
       "      <th>covid19</th>\n",
       "      <td>1.000000</td>\n",
       "      <td>0.045160</td>\n",
       "      <td>0.166944</td>\n",
       "      <td>0.060142</td>\n",
       "      <td>0.146485</td>\n",
       "      <td>0.238178</td>\n",
       "      <td>0.195361</td>\n",
       "      <td>0.330684</td>\n",
       "      <td>0.034961</td>\n",
       "      <td>0.225904</td>\n",
       "      <td>...</td>\n",
       "      <td>0.321637</td>\n",
       "      <td>0.008977</td>\n",
       "      <td>0.449356</td>\n",
       "      <td>0.183172</td>\n",
       "      <td>0.406365</td>\n",
       "      <td>0.214350</td>\n",
       "      <td>0.240846</td>\n",
       "      <td>0.095822</td>\n",
       "      <td>0.205129</td>\n",
       "      <td>0.145965</td>\n",
       "    </tr>\n",
       "    <tr>\n",
       "      <th>ai</th>\n",
       "      <td>0.045160</td>\n",
       "      <td>1.000000</td>\n",
       "      <td>0.182521</td>\n",
       "      <td>0.262169</td>\n",
       "      <td>0.029530</td>\n",
       "      <td>0.196497</td>\n",
       "      <td>0.442430</td>\n",
       "      <td>0.246388</td>\n",
       "      <td>0.475178</td>\n",
       "      <td>0.544570</td>\n",
       "      <td>...</td>\n",
       "      <td>-0.035534</td>\n",
       "      <td>0.125860</td>\n",
       "      <td>0.265846</td>\n",
       "      <td>-0.003425</td>\n",
       "      <td>-0.039822</td>\n",
       "      <td>0.205777</td>\n",
       "      <td>0.446029</td>\n",
       "      <td>0.244219</td>\n",
       "      <td>0.192878</td>\n",
       "      <td>0.271838</td>\n",
       "    </tr>\n",
       "    <tr>\n",
       "      <th>cybersecurity</th>\n",
       "      <td>0.166944</td>\n",
       "      <td>0.182521</td>\n",
       "      <td>1.000000</td>\n",
       "      <td>0.009075</td>\n",
       "      <td>0.179100</td>\n",
       "      <td>0.272047</td>\n",
       "      <td>0.487787</td>\n",
       "      <td>0.603506</td>\n",
       "      <td>0.103781</td>\n",
       "      <td>0.425845</td>\n",
       "      <td>...</td>\n",
       "      <td>0.069627</td>\n",
       "      <td>0.013882</td>\n",
       "      <td>0.278252</td>\n",
       "      <td>-0.011891</td>\n",
       "      <td>-0.019818</td>\n",
       "      <td>0.583370</td>\n",
       "      <td>0.320464</td>\n",
       "      <td>0.105150</td>\n",
       "      <td>0.299062</td>\n",
       "      <td>0.267354</td>\n",
       "    </tr>\n",
       "    <tr>\n",
       "      <th>fintech</th>\n",
       "      <td>0.060142</td>\n",
       "      <td>0.262169</td>\n",
       "      <td>0.009075</td>\n",
       "      <td>1.000000</td>\n",
       "      <td>0.081598</td>\n",
       "      <td>0.025350</td>\n",
       "      <td>0.411080</td>\n",
       "      <td>0.039758</td>\n",
       "      <td>0.330631</td>\n",
       "      <td>0.332722</td>\n",
       "      <td>...</td>\n",
       "      <td>0.036179</td>\n",
       "      <td>0.273790</td>\n",
       "      <td>0.319117</td>\n",
       "      <td>0.107324</td>\n",
       "      <td>0.248401</td>\n",
       "      <td>0.054535</td>\n",
       "      <td>0.363348</td>\n",
       "      <td>0.201336</td>\n",
       "      <td>0.156901</td>\n",
       "      <td>0.226077</td>\n",
       "    </tr>\n",
       "    <tr>\n",
       "      <th>coronavirus</th>\n",
       "      <td>0.146485</td>\n",
       "      <td>0.029530</td>\n",
       "      <td>0.179100</td>\n",
       "      <td>0.081598</td>\n",
       "      <td>1.000000</td>\n",
       "      <td>0.143272</td>\n",
       "      <td>0.084523</td>\n",
       "      <td>0.249309</td>\n",
       "      <td>-0.030714</td>\n",
       "      <td>0.124514</td>\n",
       "      <td>...</td>\n",
       "      <td>0.831631</td>\n",
       "      <td>-0.022576</td>\n",
       "      <td>0.363729</td>\n",
       "      <td>0.301623</td>\n",
       "      <td>0.553412</td>\n",
       "      <td>0.149142</td>\n",
       "      <td>0.377609</td>\n",
       "      <td>0.073007</td>\n",
       "      <td>0.106836</td>\n",
       "      <td>0.085569</td>\n",
       "    </tr>\n",
       "    <tr>\n",
       "      <th>...</th>\n",
       "      <td>...</td>\n",
       "      <td>...</td>\n",
       "      <td>...</td>\n",
       "      <td>...</td>\n",
       "      <td>...</td>\n",
       "      <td>...</td>\n",
       "      <td>...</td>\n",
       "      <td>...</td>\n",
       "      <td>...</td>\n",
       "      <td>...</td>\n",
       "      <td>...</td>\n",
       "      <td>...</td>\n",
       "      <td>...</td>\n",
       "      <td>...</td>\n",
       "      <td>...</td>\n",
       "      <td>...</td>\n",
       "      <td>...</td>\n",
       "      <td>...</td>\n",
       "      <td>...</td>\n",
       "      <td>...</td>\n",
       "      <td>...</td>\n",
       "    </tr>\n",
       "    <tr>\n",
       "      <th>dataprotection</th>\n",
       "      <td>0.214350</td>\n",
       "      <td>0.205777</td>\n",
       "      <td>0.583370</td>\n",
       "      <td>0.054535</td>\n",
       "      <td>0.149142</td>\n",
       "      <td>0.592781</td>\n",
       "      <td>0.527292</td>\n",
       "      <td>0.780326</td>\n",
       "      <td>0.129107</td>\n",
       "      <td>0.542447</td>\n",
       "      <td>...</td>\n",
       "      <td>-0.006450</td>\n",
       "      <td>-0.013023</td>\n",
       "      <td>0.451305</td>\n",
       "      <td>-0.010912</td>\n",
       "      <td>-0.084284</td>\n",
       "      <td>1.000000</td>\n",
       "      <td>0.396331</td>\n",
       "      <td>0.186177</td>\n",
       "      <td>0.565669</td>\n",
       "      <td>0.351438</td>\n",
       "    </tr>\n",
       "    <tr>\n",
       "      <th>healthcare</th>\n",
       "      <td>0.240846</td>\n",
       "      <td>0.446029</td>\n",
       "      <td>0.320464</td>\n",
       "      <td>0.363348</td>\n",
       "      <td>0.377609</td>\n",
       "      <td>0.490126</td>\n",
       "      <td>0.736598</td>\n",
       "      <td>0.519021</td>\n",
       "      <td>0.674625</td>\n",
       "      <td>0.810594</td>\n",
       "      <td>...</td>\n",
       "      <td>0.286942</td>\n",
       "      <td>0.043327</td>\n",
       "      <td>0.300958</td>\n",
       "      <td>0.137849</td>\n",
       "      <td>0.193687</td>\n",
       "      <td>0.396331</td>\n",
       "      <td>1.000000</td>\n",
       "      <td>0.287328</td>\n",
       "      <td>0.292110</td>\n",
       "      <td>0.430036</td>\n",
       "    </tr>\n",
       "    <tr>\n",
       "      <th>socialmedia</th>\n",
       "      <td>0.095822</td>\n",
       "      <td>0.244219</td>\n",
       "      <td>0.105150</td>\n",
       "      <td>0.201336</td>\n",
       "      <td>0.073007</td>\n",
       "      <td>0.174452</td>\n",
       "      <td>0.354846</td>\n",
       "      <td>0.192766</td>\n",
       "      <td>0.193704</td>\n",
       "      <td>0.310526</td>\n",
       "      <td>...</td>\n",
       "      <td>0.038438</td>\n",
       "      <td>0.084395</td>\n",
       "      <td>0.162845</td>\n",
       "      <td>0.147987</td>\n",
       "      <td>0.074419</td>\n",
       "      <td>0.186177</td>\n",
       "      <td>0.287328</td>\n",
       "      <td>1.000000</td>\n",
       "      <td>0.294840</td>\n",
       "      <td>0.261825</td>\n",
       "    </tr>\n",
       "    <tr>\n",
       "      <th>facebook</th>\n",
       "      <td>0.205129</td>\n",
       "      <td>0.192878</td>\n",
       "      <td>0.299062</td>\n",
       "      <td>0.156901</td>\n",
       "      <td>0.106836</td>\n",
       "      <td>0.330583</td>\n",
       "      <td>0.376599</td>\n",
       "      <td>0.446493</td>\n",
       "      <td>0.125335</td>\n",
       "      <td>0.398135</td>\n",
       "      <td>...</td>\n",
       "      <td>0.021096</td>\n",
       "      <td>0.122765</td>\n",
       "      <td>0.357148</td>\n",
       "      <td>0.234333</td>\n",
       "      <td>0.013551</td>\n",
       "      <td>0.565669</td>\n",
       "      <td>0.292110</td>\n",
       "      <td>0.294840</td>\n",
       "      <td>1.000000</td>\n",
       "      <td>0.367762</td>\n",
       "    </tr>\n",
       "    <tr>\n",
       "      <th>news</th>\n",
       "      <td>0.145965</td>\n",
       "      <td>0.271838</td>\n",
       "      <td>0.267354</td>\n",
       "      <td>0.226077</td>\n",
       "      <td>0.085569</td>\n",
       "      <td>0.318863</td>\n",
       "      <td>0.286598</td>\n",
       "      <td>0.344062</td>\n",
       "      <td>0.241509</td>\n",
       "      <td>0.443846</td>\n",
       "      <td>...</td>\n",
       "      <td>0.050180</td>\n",
       "      <td>0.022496</td>\n",
       "      <td>0.101954</td>\n",
       "      <td>0.236112</td>\n",
       "      <td>0.076690</td>\n",
       "      <td>0.351438</td>\n",
       "      <td>0.430036</td>\n",
       "      <td>0.261825</td>\n",
       "      <td>0.367762</td>\n",
       "      <td>1.000000</td>\n",
       "    </tr>\n",
       "  </tbody>\n",
       "</table>\n",
       "<p>97 rows × 97 columns</p>\n",
       "</div>"
      ],
      "text/plain": [
       "                 covid19        ai  cybersecurity   fintech  coronavirus  \\\n",
       "covid19         1.000000  0.045160       0.166944  0.060142     0.146485   \n",
       "ai              0.045160  1.000000       0.182521  0.262169     0.029530   \n",
       "cybersecurity   0.166944  0.182521       1.000000  0.009075     0.179100   \n",
       "fintech         0.060142  0.262169       0.009075  1.000000     0.081598   \n",
       "coronavirus     0.146485  0.029530       0.179100  0.081598     1.000000   \n",
       "...                  ...       ...            ...       ...          ...   \n",
       "dataprotection  0.214350  0.205777       0.583370  0.054535     0.149142   \n",
       "healthcare      0.240846  0.446029       0.320464  0.363348     0.377609   \n",
       "socialmedia     0.095822  0.244219       0.105150  0.201336     0.073007   \n",
       "facebook        0.205129  0.192878       0.299062  0.156901     0.106836   \n",
       "news            0.145965  0.271838       0.267354  0.226077     0.085569   \n",
       "\n",
       "                 infosec      tech  security  machinelearning       iot  ...  \\\n",
       "covid19         0.238178  0.195361  0.330684         0.034961  0.225904  ...   \n",
       "ai              0.196497  0.442430  0.246388         0.475178  0.544570  ...   \n",
       "cybersecurity   0.272047  0.487787  0.603506         0.103781  0.425845  ...   \n",
       "fintech         0.025350  0.411080  0.039758         0.330631  0.332722  ...   \n",
       "coronavirus     0.143272  0.084523  0.249309        -0.030714  0.124514  ...   \n",
       "...                  ...       ...       ...              ...       ...  ...   \n",
       "dataprotection  0.592781  0.527292  0.780326         0.129107  0.542447  ...   \n",
       "healthcare      0.490126  0.736598  0.519021         0.674625  0.810594  ...   \n",
       "socialmedia     0.174452  0.354846  0.192766         0.193704  0.310526  ...   \n",
       "facebook        0.330583  0.376599  0.446493         0.125335  0.398135  ...   \n",
       "news            0.318863  0.286598  0.344062         0.241509  0.443846  ...   \n",
       "\n",
       "                    oott  cryptocurrency  compliance  mondaymotivation  \\\n",
       "covid19         0.321637        0.008977    0.449356          0.183172   \n",
       "ai             -0.035534        0.125860    0.265846         -0.003425   \n",
       "cybersecurity   0.069627        0.013882    0.278252         -0.011891   \n",
       "fintech         0.036179        0.273790    0.319117          0.107324   \n",
       "coronavirus     0.831631       -0.022576    0.363729          0.301623   \n",
       "...                  ...             ...         ...               ...   \n",
       "dataprotection -0.006450       -0.013023    0.451305         -0.010912   \n",
       "healthcare      0.286942        0.043327    0.300958          0.137849   \n",
       "socialmedia     0.038438        0.084395    0.162845          0.147987   \n",
       "facebook        0.021096        0.122765    0.357148          0.234333   \n",
       "news            0.050180        0.022496    0.101954          0.236112   \n",
       "\n",
       "                 economy  dataprotection  healthcare  socialmedia  facebook  \\\n",
       "covid19         0.406365        0.214350    0.240846     0.095822  0.205129   \n",
       "ai             -0.039822        0.205777    0.446029     0.244219  0.192878   \n",
       "cybersecurity  -0.019818        0.583370    0.320464     0.105150  0.299062   \n",
       "fintech         0.248401        0.054535    0.363348     0.201336  0.156901   \n",
       "coronavirus     0.553412        0.149142    0.377609     0.073007  0.106836   \n",
       "...                  ...             ...         ...          ...       ...   \n",
       "dataprotection -0.084284        1.000000    0.396331     0.186177  0.565669   \n",
       "healthcare      0.193687        0.396331    1.000000     0.287328  0.292110   \n",
       "socialmedia     0.074419        0.186177    0.287328     1.000000  0.294840   \n",
       "facebook        0.013551        0.565669    0.292110     0.294840  1.000000   \n",
       "news            0.076690        0.351438    0.430036     0.261825  0.367762   \n",
       "\n",
       "                    news  \n",
       "covid19         0.145965  \n",
       "ai              0.271838  \n",
       "cybersecurity   0.267354  \n",
       "fintech         0.226077  \n",
       "coronavirus     0.085569  \n",
       "...                  ...  \n",
       "dataprotection  0.351438  \n",
       "healthcare      0.430036  \n",
       "socialmedia     0.261825  \n",
       "facebook        0.367762  \n",
       "news            1.000000  \n",
       "\n",
       "[97 rows x 97 columns]"
      ]
     },
     "execution_count": 13,
     "metadata": {},
     "output_type": "execute_result"
    }
   ],
   "source": [
    "correlations"
   ]
  },
  {
   "cell_type": "markdown",
   "metadata": {},
   "source": [
    "#### Inspect a ranked list of correlated pairs of hashtags"
   ]
  },
  {
   "cell_type": "code",
   "execution_count": 14,
   "metadata": {},
   "outputs": [],
   "source": [
    "s = correlations.unstack()\n",
    "so = s.sort_values(kind=\"quicksort\", ascending=False)"
   ]
  },
  {
   "cell_type": "code",
   "execution_count": 15,
   "metadata": {},
   "outputs": [
    {
     "data": {
      "text/plain": [
       "lockdown         pandemic                  0.977255\n",
       "covidー19         covid_19                  0.958745\n",
       "deeplearning     artificialintelligence    0.955961\n",
       "ml               robotics                  0.950530\n",
       "lockdown         mentalhealth              0.938593\n",
       "mentalhealth     pandemic                  0.933002\n",
       "malware          cybercrime                0.931533\n",
       "covid_19         covid                     0.931516\n",
       "covidー19         covid19                   0.926967\n",
       "jobs             travel                    0.926821\n",
       "finance          payments                  0.922203\n",
       "payments         openbanking               0.917223\n",
       "security         cybercrime                0.917056\n",
       "banking          openbanking               0.915238\n",
       "                 payments                  0.912967\n",
       "databreach       phishing                  0.910183\n",
       "covid            covidー19                  0.909681\n",
       "hacking          cybercrime                0.907453\n",
       "ml               artificialintelligence    0.906940\n",
       "security         ransomware                0.904411\n",
       "cybercrime       ransomware                0.899580\n",
       "ransomware       phishing                  0.899525\n",
       "security         malware                   0.898757\n",
       "hacking          cyber                     0.896532\n",
       "malware          databreach                0.895512\n",
       "openbanking      finance                   0.893829\n",
       "databreach       security                  0.891167\n",
       "hacking          malware                   0.890835\n",
       "ml               deeplearning              0.890185\n",
       "payments         regtech                   0.887440\n",
       "databreach       ransomware                0.886207\n",
       "phishing         cybercrime                0.885222\n",
       "machinelearning  ml                        0.884162\n",
       "hacking          security                  0.882188\n",
       "databreach       cybercrime                0.880202\n",
       "apple            cybercrime                0.878389\n",
       "databreach       privacy                   0.877439\n",
       "robotics         artificialintelligence    0.875439\n",
       "phishing         privacy                   0.871245\n",
       "security         phishing                  0.871048\n",
       "privacy          cybercrime                0.870498\n",
       "covid19          covid_19                  0.869829\n",
       "                 covid                     0.866307\n",
       "malware          ransomware                0.861963\n",
       "apple            gdpr                      0.861320\n",
       "cloud            technology                0.860756\n",
       "regtech          banking                   0.859259\n",
       "deeplearning     datascience               0.857024\n",
       "apple            dataprotection            0.855512\n",
       "vr               5g                        0.852888\n",
       "ransomware       privacy                   0.852572\n",
       "oott             pandemic                  0.852294\n",
       "dtype: float64"
      ]
     },
     "execution_count": 15,
     "metadata": {},
     "output_type": "execute_result"
    }
   ],
   "source": [
    "so[97:200:2] # There are 97 hashtags in the popular list, so the first 97 entries are self-correlations.  Each pair is duplicated in the list, too"
   ]
  },
  {
   "cell_type": "markdown",
   "metadata": {},
   "source": [
    "#### Use sklearn's CountVectorizer to one-hot encode the use of hashtags in each tweet\n",
    "\n",
    "This is for all 200k hashtags. Needs to be sparse"
   ]
  },
  {
   "cell_type": "code",
   "execution_count": 16,
   "metadata": {},
   "outputs": [],
   "source": [
    "cv = skfe.text.CountVectorizer()\n",
    "one_hot = cv.fit_transform(hashtags['hashtags'].apply(lambda x: \" \".join(eval(x)) ))\n",
    "feature_names = cv.get_feature_names()\n",
    "hashtag_observations= pd.DataFrame.sparse.from_spmatrix(one_hot, index=hashtags.index, columns=cv.get_feature_names())"
   ]
  },
  {
   "cell_type": "code",
   "execution_count": 17,
   "metadata": {},
   "outputs": [
    {
     "name": "stdout",
     "output_type": "stream",
     "text": [
      "<class 'pandas.core.frame.DataFrame'>\n",
      "Int64Index: 723896 entries, 1 to 87447\n",
      "Columns: 217648 entries, 00050c to 𝙏𝙐𝙀𝙎𝘿𝘼𝙔𝙏𝙐𝙉𝙀𝙎\n",
      "dtypes: Sparse[int64, 0](217648)\n",
      "memory usage: 21.7 MB\n"
     ]
    }
   ],
   "source": [
    "hashtag_observations.info()"
   ]
  },
  {
   "cell_type": "code",
   "execution_count": 18,
   "metadata": {},
   "outputs": [
    {
     "data": {
      "text/plain": [
       "8.988228522343067e-06"
      ]
     },
     "execution_count": 18,
     "metadata": {},
     "output_type": "execute_result"
    }
   ],
   "source": [
    "hashtag_observations.sparse.density"
   ]
  },
  {
   "cell_type": "markdown",
   "metadata": {},
   "source": [
    "#### Dimensionality Reduction\n",
    "Can't use PCA on a sparse matrix, so use TruncatedSVD instead. The only difference is that PCA would 'center' the data first."
   ]
  },
  {
   "cell_type": "code",
   "execution_count": 19,
   "metadata": {},
   "outputs": [
    {
     "name": "stdout",
     "output_type": "stream",
     "text": [
      "0.1883101868322525\n"
     ]
    }
   ],
   "source": [
    "svd = skd.TruncatedSVD(n_components=100, random_state=32864)\n",
    "svd.fit(hashtag_observations)\n",
    "print(svd.explained_variance_ratio_.sum())\n",
    "svd_comps = svd.components_"
   ]
  },
  {
   "cell_type": "code",
   "execution_count": 20,
   "metadata": {},
   "outputs": [
    {
     "data": {
      "image/png": "[encoded data removed]",
      "text/plain": [
       "<Figure size 432x288 with 1 Axes>"
      ]
     },
     "metadata": {
      "needs_background": "light"
     },
     "output_type": "display_data"
    }
   ],
   "source": [
    "plt.figure()\n",
    "plt.bar([i for i in range(len(svd.explained_variance_ratio_))], svd.explained_variance_ratio_)\n",
    "plt.show()"
   ]
  },
  {
   "cell_type": "markdown",
   "metadata": {},
   "source": [
    "#### Attempt to establish which hashtags are significant for each component of the SVD, and create topics based on these sets"
   ]
  },
  {
   "cell_type": "code",
   "execution_count": 21,
   "metadata": {},
   "outputs": [
    {
     "name": "stdout",
     "output_type": "stream",
     "text": [
      "Correlated: \t Anticorrelated:\n",
      "0: ['covid19']\t[]\n",
      "1: ['ai', 'cybersecurity', 'fintech']\t[]\n",
      "2: ['cybersecurity']\t['ai']\n",
      "3: ['fintech']\t['ai']\n",
      "4: ['coronavirus']\t[]\n",
      "5: ['iot', 'tech']\t[]\n",
      "6: ['datascience', 'machinelearning']\t['tech']\n",
      "7: ['infosec']\t['tech']\n",
      "8: ['iot', 'security']\t['infosec', 'tech']\n",
      "9: ['blockchain']\t[]\n",
      "10: ['innovation', 'technology']\t['tech']\n",
      "11: ['data']\t['innovation']\n",
      "12: ['iot']\t['machinelearning', 'security']\n",
      "13: ['london']\t[]\n",
      "14: ['innovation', 'security']\t['technology']\n",
      "15: ['brexit']\t[]\n",
      "16: ['privacy']\t['security', 'technology']\n",
      "17: ['data', 'startup']\t['payments']\n",
      "18: ['china', 'covid', 'startup', 'startups']\t[]\n",
      "19: ['china', 'covid']\t['startup']\n",
      "20: ['covid']\t['china']\n",
      "21: ['blacklivesmatter']\t[]\n",
      "22: ['data', 'payments']\t['banking']\n",
      "23: ['bitcoin', 'payments']\t['banking']\n",
      "24: ['bitcoin', 'ransomware']\t['blockchain']\n",
      "25: ['ransomware']\t['5g', 'privacy']\n",
      "26: ['manchester']\t[]\n",
      "27: ['cyber']\t[]\n",
      "28: ['5g']\t[]\n",
      "29: ['startup']\t['business', 'startups']\n",
      "30: ['digital', 'digitaltransformation']\t['artificialintelligence']\n",
      "31: ['mentalhealth', 'podcast']\t[]\n",
      "32: ['mentalhealth']\t['podcast']\n",
      "33: ['artificialintelligence', 'digital']\t['machinelearning']\n",
      "34: ['beirut', 'lebanon']\t[]\n",
      "35: ['belarus']\t[]\n",
      "36: ['journalism', 'travel']\t[]\n",
      "37: ['startups']\t['business']\n",
      "38: ['business']\t['artificialintelligence']\n",
      "39: ['apple', 'fcpx', 'video']\t[]\n",
      "40: ['digitaltransformation']\t['digital']\n",
      "41: ['ar', 'vr']\t[]\n",
      "42: ['property', 'realestate']\t[]\n",
      "44: ['gdpr', 'lockdown']\t[]\n",
      "45: ['lockdown']\t['gdpr']\n",
      "46: ['insurtech']\t[]\n",
      "47: ['jobs']\t[]\n",
      "48: ['uk']\t[]\n",
      "49: ['insurtech']\t['openbanking', 'uk']\n",
      "50: ['openbanking']\t[]\n",
      "51: ['covid_19']\t['cloud']\n",
      "52: ['cloud', 'covid_19']\t[]\n",
      "53: ['cloud']\t['phishing']\n",
      "54: ['finance']\t['crypto']\n",
      "55: ['crypto', 'finance']\t[]\n",
      "56: ['crypto', 'leadership']\t['finance']\n",
      "57: ['databreach', 'gdpr', 'leadership']\t['malware']\n",
      "58: ['architecture', 'design']\t[]\n",
      "59: ['climatechange', 'esg', 'sustainability']\t['finance']\n",
      "60: []\t['futureofwork']\n",
      "61: ['robotics']\t['datascience']\n",
      "62: ['webinar']\t[]\n",
      "63: ['robotics']\t[]\n",
      "64: ['breaking', 'oil', 'oott']\t[]\n",
      "65: ['triathlon']\t[]\n",
      "66: ['breaking', 'india']\t['marketing']\n",
      "67: ['oott']\t['breaking']\n",
      "68: ['india', 'marketing']\t[]\n",
      "69: ['diversity', 'inclusion']\t['leadership']\n",
      "70: ['cybercrime', 'hacking']\t['eu', 'retail']\n",
      "71: ['cybercrime', 'retail']\t[]\n",
      "72: ['eu']\t['covidー19']\n",
      "73: ['covidー19']\t[]\n",
      "74: ['demconvention', 'staysafe']\t[]\n",
      "75: ['hongkong']\t[]\n",
      "76: ['hongkong']\t['demconvention']\n",
      "77: ['ml']\t['cybercrime']\n",
      "78: ['lebanon', 'russia', 'syria']\t['beirut']\n",
      "79: ['climatechange']\t['investment']\n",
      "80: []\t['climatechange']\n",
      "81: ['investment']\t[]\n",
      "82: ['journorequest']\t[]\n",
      "83: ['russia']\t['pandemic']\n",
      "84: ['journorequest', 'pandemic']\t[]\n",
      "85: ['travel']\t['journalism']\n",
      "86: []\t['journorequest']\n",
      "87: ['onthisday']\t[]\n",
      "88: ['hacking']\t['ml']\n",
      "89: ['realestate', 'retail']\t['property']\n",
      "90: ['russia']\t['economy', 'syria']\n",
      "91: ['insurance', 'iran']\t[]\n",
      "92: ['iran']\t['facebook']\n",
      "93: ['apple', 'esg']\t['sustainability']\n",
      "94: ['mondaymotivation']\t['insurance']\n",
      "95: []\t['mentalhealth', 'news']\n",
      "96: ['news']\t['cryptocurrency', 'mentalhealth']\n",
      "97: []\t['cryptocurrency', 'deeplearning', 'mondaymotivation']\n",
      "98: ['healthcare']\t[]\n",
      "99: ['cryptocurrency', 'womenintech']\t['bhusa']\n"
     ]
    }
   ],
   "source": [
    "significant = 0.3\n",
    "print('Correlated: \\t Anticorrelated:')\n",
    "for j, comp in enumerate(svd_comps):\n",
    "    if any(np.abs(comp)>significant):\n",
    "        print(str(j) + ': ' + str([feature_names[i] for i in range(len(feature_names))\n",
    "                                   if comp[i]>significant])+'\\t'+str([feature_names[i] \n",
    "                                                                      for i in range(len(feature_names)) \n",
    "                                                                      if comp[i]<-significant]))"
   ]
  },
  {
   "cell_type": "code",
   "execution_count": 22,
   "metadata": {},
   "outputs": [
    {
     "name": "stdout",
     "output_type": "stream",
     "text": [
      "[['covid19'], ['ai', 'cybersecurity', 'fintech'], ['cybersecurity'], ['fintech'], ['coronavirus'], ['iot', 'tech'], ['datascience', 'machinelearning'], ['infosec'], ['iot', 'security'], ['blockchain'], ['innovation', 'technology'], ['data'], ['iot'], ['london'], ['innovation', 'security'], ['brexit'], ['privacy'], ['data', 'startup'], ['china', 'covid', 'startup', 'startups'], ['china', 'covid'], ['covid'], ['blacklivesmatter'], ['data', 'payments'], ['bitcoin', 'payments'], ['bitcoin', 'ransomware'], ['ransomware'], ['manchester'], ['cyber'], ['5g'], ['startup'], ['digital', 'digitaltransformation'], ['mentalhealth', 'podcast'], ['mentalhealth'], ['artificialintelligence', 'digital'], ['beirut', 'lebanon'], ['belarus'], ['journalism', 'travel'], ['startups'], ['business'], ['apple', 'fcpx', 'video'], ['digitaltransformation'], ['ar', 'vr'], ['property', 'realestate'], ['gdpr', 'lockdown'], ['lockdown'], ['insurtech'], ['jobs'], ['uk'], ['insurtech'], ['openbanking'], ['covid_19'], ['cloud', 'covid_19'], ['cloud'], ['finance'], ['crypto', 'finance'], ['crypto', 'leadership'], ['databreach', 'gdpr', 'leadership'], ['architecture', 'design'], ['climatechange', 'esg', 'sustainability'], ['robotics'], ['webinar'], ['robotics'], ['breaking', 'oil', 'oott'], ['triathlon'], ['breaking', 'india'], ['oott'], ['india', 'marketing'], ['diversity', 'inclusion'], ['cybercrime', 'hacking'], ['cybercrime', 'retail'], ['eu'], ['covidー19'], ['demconvention', 'staysafe'], ['hongkong'], ['hongkong'], ['ml'], ['lebanon', 'russia', 'syria'], ['climatechange'], ['investment'], ['journorequest'], ['russia'], ['journorequest', 'pandemic'], ['travel'], ['onthisday'], ['hacking'], ['realestate', 'retail'], ['russia'], ['insurance', 'iran'], ['iran'], ['apple', 'esg'], ['mondaymotivation'], ['news'], ['healthcare'], ['cryptocurrency', 'womenintech']]\n"
     ]
    }
   ],
   "source": [
    "topics = []\n",
    "themes = []\n",
    "for comp in svd_comps:\n",
    "    if any(comp>significant):\n",
    "        theme_list = [feature_names[i] for i in range(len(feature_names)) if comp[i]>significant]\n",
    "        themes.extend(theme_list)\n",
    "        topics.append(theme_list)\n",
    "themes = list(set(themes))\n",
    "print(topics)"
   ]
  },
  {
   "cell_type": "code",
   "execution_count": 23,
   "metadata": {},
   "outputs": [
    {
     "data": {
      "text/html": [
       "<div>\n",
       "<style scoped>\n",
       "    .dataframe tbody tr th:only-of-type {\n",
       "        vertical-align: middle;\n",
       "    }\n",
       "\n",
       "    .dataframe tbody tr th {\n",
       "        vertical-align: top;\n",
       "    }\n",
       "\n",
       "    .dataframe thead th {\n",
       "        text-align: right;\n",
       "    }\n",
       "</style>\n",
       "<table border=\"1\" class=\"dataframe\">\n",
       "  <thead>\n",
       "    <tr style=\"text-align: right;\">\n",
       "      <th></th>\n",
       "      <th>hashtags</th>\n",
       "    </tr>\n",
       "  </thead>\n",
       "  <tbody>\n",
       "    <tr>\n",
       "      <th>0</th>\n",
       "      <td>coronavirus</td>\n",
       "    </tr>\n",
       "    <tr>\n",
       "      <th>1</th>\n",
       "      <td>cyber</td>\n",
       "    </tr>\n",
       "    <tr>\n",
       "      <th>2</th>\n",
       "      <td>video</td>\n",
       "    </tr>\n",
       "    <tr>\n",
       "      <th>3</th>\n",
       "      <td>data</td>\n",
       "    </tr>\n",
       "    <tr>\n",
       "      <th>4</th>\n",
       "      <td>technology</td>\n",
       "    </tr>\n",
       "  </tbody>\n",
       "</table>\n",
       "</div>"
      ],
      "text/plain": [
       "      hashtags\n",
       "0  coronavirus\n",
       "1        cyber\n",
       "2        video\n",
       "3         data\n",
       "4   technology"
      ]
     },
     "execution_count": 23,
     "metadata": {},
     "output_type": "execute_result"
    }
   ],
   "source": [
    "translation_matrix = pd.DataFrame()\n",
    "translation_matrix['hashtags'] = themes\n",
    "translation_matrix.head()"
   ]
  },
  {
   "cell_type": "markdown",
   "metadata": {},
   "source": [
    "#### Attempt to get wikipedia pages relating to each hashtag in each topic"
   ]
  },
  {
   "cell_type": "code",
   "execution_count": 24,
   "metadata": {},
   "outputs": [
    {
     "name": "stdout",
     "output_type": "stream",
     "text": [
      "Hashtag: -> Suggestion: -> Search Result:\n",
      "coronavirus -> None -> ['Coronavirus', 'COVID-19 pandemic', 'Coronavirus disease 2019']\n",
      "cyber -> None -> ['Cyber', 'Cyberwarfare', 'Cyber City']\n",
      "video -> None -> ['Video', 'Video (disambiguation)', 'Video game']\n",
      "data -> None -> ['Data', 'Data warehouse', 'Data analysis']\n",
      "technology -> None -> ['Technology', 'TCL Technology', 'Information technology']\n",
      "uk -> us -> ['United Kingdom', '.uk', 'Sky UK']\n",
      "podcast -> None -> ['Podcast', 'David Dobrik', 'Lore (podcast)']\n",
      "iot -> None -> ['Internet of things', 'IOT', 'Narrowband IoT']\n",
      "cybersecurity -> cyber security -> ['Computer security', 'Cyber-security regulation', 'Cyberattack']\n",
      "ml -> l -> ['ML', 'Litre', '.ml']\n",
      "demconvention -> None -> ['Leah D. Daughtry', 'Ady Barkan', '2008 Democratic National Convention']\n",
      "travel -> None -> ['Travel', '.travel', 'Time travel']\n",
      "blockchain -> None -> ['Blockchain', 'Privacy and blockchain', 'Fork (blockchain)']\n",
      "cryptocurrency -> None -> ['Cryptocurrency', 'Cryptocurrency exchange', 'Cryptocurrency wallet']\n",
      "manchester -> None -> ['Manchester', 'Manchester United F.C.', 'Manchester City F.C.']\n",
      "russia -> None -> ['Russia', 'Russians', 'No Russian']\n",
      "blacklivesmatter -> black lives matter -> ['Black Lives Matter', 'Black Lives Matter Plaza', 'All Lives Matter']\n",
      "mentalhealth -> mental health -> ['Mental health', 'Mental disorder', 'Mental health informatics']\n",
      "payments -> None -> ['Payment', 'Balance of payments', 'National Payments Corporation of India']\n",
      "staysafe -> None -> ['Operation Staysafe', 'COVID-19 pandemic in Malta', 'John Tingle']\n",
      "cybercrime -> None -> ['Cybercrime', 'Convention on Cybercrime', 'Cybercrime Prevention Act of 2012']\n",
      "finance -> None -> ['Finance', 'Google Finance', 'Yahoo! Finance']\n",
      "bitcoin -> big coin -> ['Bitcoin', 'Bitcoin network', 'Bitcoin Cash']\n",
      "ar -> a, -> ['AR', '.ar', 'Ar-Rahman']\n",
      "journorequest -> None -> []\n",
      "business -> None -> ['Business', 'Business-to-business', 'Business as usual (business)']\n",
      "marketing -> None -> ['Marketing', 'Digital marketing', 'Affiliate marketing']\n",
      "iran -> None -> ['Iran', 'Iran–Iraq War', 'Iranian']\n",
      "5g -> None -> ['5G', '5G NR', 'Availability of 5G by country']\n",
      "artificialintelligence -> artificial intelligence -> ['Artificial intelligence', 'A.I. Artificial Intelligence', 'Artificial general intelligence']\n",
      "design -> None -> ['Design', 'Web design', 'Graphic design']\n",
      "digital -> None -> ['Digital', 'Digital India', 'Digital Ash in a Digital Urn']\n",
      "realestate -> real estate -> ['Real estate', 'Real estate broker', 'Real estate development']\n",
      "robotics -> None -> ['Robotics', 'Robot', 'Robotics;Notes']\n",
      "security -> None -> ['Security', 'Computer security', 'United States Department of Homeland Security']\n",
      "ransomware -> None -> ['Ransomware', 'WannaCry ransomware attack', 'EternalBlue']\n",
      "retail -> None -> ['Retail', 'Retail banking', 'Retail apocalypse']\n",
      "oott -> oot -> ['Shadowverse']\n",
      "oil -> None -> ['Oil', 'Oil (disambiguation)', 'Oil!']\n",
      "sustainability -> None -> ['Sustainability', 'Sustainable development', 'Sustainable energy']\n",
      "lockdown -> None -> ['Lockdown', 'COVID-19 pandemic lockdown in India', 'COVID-19 pandemic lockdowns']\n",
      "investment -> None -> ['Investment', 'Investment banking', 'Investment company']\n",
      "mondaymotivation -> None -> ['Monday Motivation', 'Rosalind Grender, Baroness Grender']\n",
      "openbanking -> None -> ['Openbank', '2020 Moto2 season', '2020 MotoE season']\n",
      "lebanon -> None -> ['Lebanon', 'Lebanese Druze', 'Politics of Lebanon']\n",
      "news -> None -> ['News', 'News (disambiguation)', 'NeWS']\n",
      "webinar -> weimar -> ['Web conferencing', 'Shaw Academy', 'AnyMeeting']\n",
      "jobs -> joe -> ['Jobs', 'Steve Jobs', 'Job']\n",
      "tech -> None -> ['Tech', 'Big Tech', 'Georgia Tech']\n",
      "covid_19 -> co id 19 -> ['Coronavirus disease 2019', 'COVID-19 pandemic', 'COVID-19 testing']\n",
      "infosec -> infosys -> ['Information security', 'SwiftOnSecurity', 'Infosec Standard 5']\n",
      "covidー19 -> None -> ['COVID-19 vaccine', 'COVID-19 pandemic in Bihar', 'Coronavirus disease 2019']\n",
      "databreach -> data breach -> ['Data breach', 'Facebook–Cambridge Analytica data scandal', 'List of data breaches']\n",
      "covid -> corvid -> ['Coronavirus disease 2019', 'COVID-19 pandemic', 'COVID-19 pandemic by country and territory']\n",
      "eu -> None -> ['European Union', '.eu', 'Member state of the European Union']\n",
      "vr -> vh -> ['VR', 'Oculus VR', 'PlayStation VR']\n",
      "belarus -> None -> ['Belarus', 'Flag of Belarus', 'Armed Forces of Belarus']\n",
      "india -> None -> ['India', 'Constitution of India', 'List of prime ministers of India']\n",
      "healthcare -> None -> ['Health care', 'Bankers Healthcare Group', 'Max Healthcare']\n",
      "journalism -> None -> ['Journalism', 'Yellow journalism', 'Gonzo journalism']\n",
      "climatechange -> climate change -> ['Climate change', 'Climate change denial', 'Climate change mitigation']\n",
      "covid19 -> None -> ['Coronavirus disease 2019', 'COVID-19 pandemic', 'COVID-19 testing']\n",
      "china -> None -> ['China', 'Taiwan', 'History of China']\n",
      "leadership -> None -> ['Leadership', 'Leadership style', 'Distributed leadership']\n",
      "digitaltransformation -> digital transformation -> ['Digital transformation', 'Digital Transformation Agency', 'GE Digital']\n",
      "machinelearning -> machine learning -> ['Machine learning', 'Automated machine learning', 'Hyperparameter (machine learning)']\n",
      "cloud -> None -> ['Cloud', 'Cloud computing', 'The Cloud']\n",
      "pandemic -> endemic -> ['Pandemic', 'COVID-19 pandemic', 'Spanish flu']\n",
      "property -> None -> ['Property', 'Intellectual property', '.properties']\n",
      "esg -> None -> ['Environmental, social and corporate governance', 'ESG', 'ESG (band)']\n",
      "fcpx -> None -> ['Final Cut Pro X', 'Final Cut Pro', 'The Unknown Soldier (2017 film)']\n",
      "insurance -> issuance -> ['Insurance', 'Niche insurance', 'Life insurance']\n",
      "onthisday -> on this day -> ['BBC News Online', 'Day', 'On This Day in History']\n",
      "beirut -> None -> ['Beirut', '2020 Beirut explosion', 'Port of Beirut']\n",
      "hacking -> None -> ['Hacking', 'Security hacker', 'Hacker']\n",
      "fintech -> finch -> ['Financial technology', 'Singapore FinTech Festival', 'Fintech awards']\n",
      "architecture -> None -> ['Architecture', 'Architectural Association School of Architecture', 'Service-oriented architecture']\n",
      "brexit -> breast -> ['Brexit', 'Brexit Party', '2016 United Kingdom European Union membership referendum']\n",
      "datascience -> data science -> ['Data science', 'Master in Data Science', 'Open science data']\n",
      "privacy -> None -> ['Privacy', 'Right to privacy', 'Internet privacy']\n",
      "apple -> apply -> ['Apple', 'Apple Inc.', 'Apple (disambiguation)']\n",
      "crypto -> crypt -> ['Crypto', 'Crypto++', 'Cryptocurrency']\n",
      "london -> None -> ['London', 'Greater London', 'London boroughs']\n",
      "triathlon -> None -> ['Triathlon', 'Ironman Triathlon', 'Ultra-triathlon']\n",
      "innovation -> None -> ['Innovation', 'Diffusion of innovations', 'Service innovation']\n",
      "breaking -> None -> ['Breaking', 'Breaking Bad', 'Break, Break, Break']\n",
      "hongkong -> hong kong -> ['Hong Kong', 'COVID-19 pandemic in Hong Kong', '2019–20 Hong Kong protests']\n",
      "diversity -> None -> ['Diversity', 'Cultural diversity', 'Biodiversity']\n",
      "womenintech -> None -> []\n",
      "syria -> None -> ['Syria', 'Syrian civil war', 'Syria (region)']\n",
      "inclusion -> None -> ['Inclusion', 'Inclusion (education)', 'Inclusion bodies']\n",
      "startup -> start-up -> ['Startup company', 'Startup India', 'Lean startup']\n",
      "gdpr -> gdp -> ['General Data Protection Regulation', 'GDPR fines and notices', 'Pseudonymization']\n",
      "ai -> au -> ['Ai', 'Artificial intelligence', '.ai']\n",
      "insurtech -> None -> ['Ashton Kutcher', 'Plug and Play Tech Center', 'Guy Carpenter']\n",
      "startups -> None -> ['Startup company', 'German Startups Group', 'Zero to One']\n"
     ]
    }
   ],
   "source": [
    "tags_to_pages = [] # Create a dict that will map hashtags to wikipedia page titles\n",
    "tags_to_search = []\n",
    "\n",
    "print('Hashtag: -> Suggestion: -> Search Result:')\n",
    "for theme in themes:\n",
    "    suggestion = wiki.suggest(theme) # This returns a \"did you mean\"-style alternative to the searching hashtag, this can be useful in identifying an accurate subject match\n",
    "    if suggestion is not None:\n",
    "        # If an alternative is suggested, need to decide if the alternative is going to be better than the hashtag\n",
    "        # Generally, issues in identifying pages correctly arise from a lack of spaces in multi-word hashtags, \n",
    "        # So the following 2 lines of code only accept the alternative if it is the same as the hashtag but punctuated with spaces.\n",
    "        # Suggested alternatives which in any way alter the letters contained in the hashtag are rejected, and the hashtag used instead\n",
    "        diff = list(difflib.ndiff(theme, suggestion)) \n",
    "        if any([item != '+  ' for item in [diff[i] for i in range(len(diff)) if diff[i][0] is not ' ']]):\n",
    "            search_term = theme\n",
    "        else:\n",
    "            search_term = suggestion\n",
    "    else:\n",
    "        search_term = theme\n",
    "    \n",
    "    search_results = wiki.search(search_term, results=3)\n",
    "        \n",
    "    print(theme  + ' -> ' + str(suggestion) + ' -> ' + str(search_results)) # print the top result\n",
    "    #print('For theme {}, using search term {}.'.format(theme, search_term))\n",
    "    if len(search_results)>0:\n",
    "        tags_to_pages.append(search_results[0])\n",
    "        tags_to_search.append(search_results)\n",
    "    else:\n",
    "        tags_to_pages.append(None)\n",
    "        tags_to_search.append(None)\n",
    "    \n",
    "translation_matrix['pages'] = tags_to_pages\n",
    "translation_matrix['search_results'] = tags_to_search"
   ]
  },
  {
   "cell_type": "code",
   "execution_count": 25,
   "metadata": {},
   "outputs": [
    {
     "data": {
      "text/html": [
       "<div>\n",
       "<style scoped>\n",
       "    .dataframe tbody tr th:only-of-type {\n",
       "        vertical-align: middle;\n",
       "    }\n",
       "\n",
       "    .dataframe tbody tr th {\n",
       "        vertical-align: top;\n",
       "    }\n",
       "\n",
       "    .dataframe thead th {\n",
       "        text-align: right;\n",
       "    }\n",
       "</style>\n",
       "<table border=\"1\" class=\"dataframe\">\n",
       "  <thead>\n",
       "    <tr style=\"text-align: right;\">\n",
       "      <th></th>\n",
       "      <th>hashtags</th>\n",
       "      <th>pages</th>\n",
       "      <th>search_results</th>\n",
       "    </tr>\n",
       "  </thead>\n",
       "  <tbody>\n",
       "    <tr>\n",
       "      <th>0</th>\n",
       "      <td>coronavirus</td>\n",
       "      <td>Coronavirus</td>\n",
       "      <td>[Coronavirus, COVID-19 pandemic, Coronavirus d...</td>\n",
       "    </tr>\n",
       "    <tr>\n",
       "      <th>1</th>\n",
       "      <td>cyber</td>\n",
       "      <td>Cyber</td>\n",
       "      <td>[Cyber, Cyberwarfare, Cyber City]</td>\n",
       "    </tr>\n",
       "    <tr>\n",
       "      <th>2</th>\n",
       "      <td>video</td>\n",
       "      <td>Video</td>\n",
       "      <td>[Video, Video (disambiguation), Video game]</td>\n",
       "    </tr>\n",
       "    <tr>\n",
       "      <th>3</th>\n",
       "      <td>data</td>\n",
       "      <td>Data</td>\n",
       "      <td>[Data, Data warehouse, Data analysis]</td>\n",
       "    </tr>\n",
       "    <tr>\n",
       "      <th>4</th>\n",
       "      <td>technology</td>\n",
       "      <td>Technology</td>\n",
       "      <td>[Technology, TCL Technology, Information techn...</td>\n",
       "    </tr>\n",
       "    <tr>\n",
       "      <th>...</th>\n",
       "      <td>...</td>\n",
       "      <td>...</td>\n",
       "      <td>...</td>\n",
       "    </tr>\n",
       "    <tr>\n",
       "      <th>91</th>\n",
       "      <td>startup</td>\n",
       "      <td>Startup company</td>\n",
       "      <td>[Startup company, Startup India, Lean startup]</td>\n",
       "    </tr>\n",
       "    <tr>\n",
       "      <th>92</th>\n",
       "      <td>gdpr</td>\n",
       "      <td>General Data Protection Regulation</td>\n",
       "      <td>[General Data Protection Regulation, GDPR fine...</td>\n",
       "    </tr>\n",
       "    <tr>\n",
       "      <th>93</th>\n",
       "      <td>ai</td>\n",
       "      <td>Ai</td>\n",
       "      <td>[Ai, Artificial intelligence, .ai]</td>\n",
       "    </tr>\n",
       "    <tr>\n",
       "      <th>94</th>\n",
       "      <td>insurtech</td>\n",
       "      <td>Ashton Kutcher</td>\n",
       "      <td>[Ashton Kutcher, Plug and Play Tech Center, Gu...</td>\n",
       "    </tr>\n",
       "    <tr>\n",
       "      <th>95</th>\n",
       "      <td>startups</td>\n",
       "      <td>Startup company</td>\n",
       "      <td>[Startup company, German Startups Group, Zero ...</td>\n",
       "    </tr>\n",
       "  </tbody>\n",
       "</table>\n",
       "<p>96 rows × 3 columns</p>\n",
       "</div>"
      ],
      "text/plain": [
       "       hashtags                               pages  \\\n",
       "0   coronavirus                         Coronavirus   \n",
       "1         cyber                               Cyber   \n",
       "2         video                               Video   \n",
       "3          data                                Data   \n",
       "4    technology                          Technology   \n",
       "..          ...                                 ...   \n",
       "91      startup                     Startup company   \n",
       "92         gdpr  General Data Protection Regulation   \n",
       "93           ai                                  Ai   \n",
       "94    insurtech                      Ashton Kutcher   \n",
       "95     startups                     Startup company   \n",
       "\n",
       "                                       search_results  \n",
       "0   [Coronavirus, COVID-19 pandemic, Coronavirus d...  \n",
       "1                   [Cyber, Cyberwarfare, Cyber City]  \n",
       "2         [Video, Video (disambiguation), Video game]  \n",
       "3               [Data, Data warehouse, Data analysis]  \n",
       "4   [Technology, TCL Technology, Information techn...  \n",
       "..                                                ...  \n",
       "91     [Startup company, Startup India, Lean startup]  \n",
       "92  [General Data Protection Regulation, GDPR fine...  \n",
       "93                 [Ai, Artificial intelligence, .ai]  \n",
       "94  [Ashton Kutcher, Plug and Play Tech Center, Gu...  \n",
       "95  [Startup company, German Startups Group, Zero ...  \n",
       "\n",
       "[96 rows x 3 columns]"
      ]
     },
     "execution_count": 25,
     "metadata": {},
     "output_type": "execute_result"
    }
   ],
   "source": [
    "translation_matrix"
   ]
  },
  {
   "cell_type": "code",
   "execution_count": 26,
   "metadata": {},
   "outputs": [
    {
     "data": {
      "text/plain": [
       "[['Coronavirus disease 2019'],\n",
       " ['Ai', 'Computer security', 'Financial technology'],\n",
       " ['Computer security'],\n",
       " ['Financial technology'],\n",
       " ['Coronavirus'],\n",
       " ['Internet of things', 'Tech'],\n",
       " ['Data science', 'Machine learning'],\n",
       " ['Information security'],\n",
       " ['Internet of things', 'Security'],\n",
       " ['Blockchain'],\n",
       " ['Innovation', 'Technology'],\n",
       " ['Data'],\n",
       " ['Internet of things'],\n",
       " ['London'],\n",
       " ['Innovation', 'Security'],\n",
       " ['Brexit'],\n",
       " ['Privacy'],\n",
       " ['Data', 'Startup company'],\n",
       " ['China', 'Coronavirus disease 2019', 'Startup company', 'Startup company'],\n",
       " ['China', 'Coronavirus disease 2019'],\n",
       " ['Coronavirus disease 2019'],\n",
       " ['Black Lives Matter'],\n",
       " ['Data', 'Payment'],\n",
       " ['Bitcoin', 'Payment'],\n",
       " ['Bitcoin', 'Ransomware'],\n",
       " ['Ransomware'],\n",
       " ['Manchester'],\n",
       " ['Cyber'],\n",
       " ['5G'],\n",
       " ['Startup company'],\n",
       " ['Digital', 'Digital transformation'],\n",
       " ['Mental health', 'Podcast'],\n",
       " ['Mental health'],\n",
       " ['Artificial intelligence', 'Digital'],\n",
       " ['Beirut', 'Lebanon'],\n",
       " ['Belarus'],\n",
       " ['Journalism', 'Travel'],\n",
       " ['Startup company'],\n",
       " ['Business'],\n",
       " ['Apple', 'Final Cut Pro X', 'Video'],\n",
       " ['Digital transformation'],\n",
       " ['AR', 'VR'],\n",
       " ['Property', 'Real estate'],\n",
       " ['General Data Protection Regulation', 'Lockdown'],\n",
       " ['Lockdown'],\n",
       " ['Ashton Kutcher'],\n",
       " ['Jobs'],\n",
       " ['United Kingdom'],\n",
       " ['Ashton Kutcher'],\n",
       " ['Openbank'],\n",
       " ['Coronavirus disease 2019'],\n",
       " ['Cloud', 'Coronavirus disease 2019'],\n",
       " ['Cloud'],\n",
       " ['Finance'],\n",
       " ['Crypto', 'Finance'],\n",
       " ['Crypto', 'Leadership'],\n",
       " ['Data breach', 'General Data Protection Regulation', 'Leadership'],\n",
       " ['Architecture', 'Design'],\n",
       " ['Climate change',\n",
       "  'Environmental, social and corporate governance',\n",
       "  'Sustainability'],\n",
       " ['Robotics'],\n",
       " ['Web conferencing'],\n",
       " ['Robotics'],\n",
       " ['Breaking', 'Oil', 'Shadowverse'],\n",
       " ['Triathlon'],\n",
       " ['Breaking', 'India'],\n",
       " ['Shadowverse'],\n",
       " ['India', 'Marketing'],\n",
       " ['Diversity', 'Inclusion'],\n",
       " ['Cybercrime', 'Hacking'],\n",
       " ['Cybercrime', 'Retail'],\n",
       " ['European Union'],\n",
       " ['COVID-19 vaccine'],\n",
       " ['Leah D. Daughtry', 'Operation Staysafe'],\n",
       " ['Hong Kong'],\n",
       " ['Hong Kong'],\n",
       " ['ML'],\n",
       " ['Lebanon', 'Russia', 'Syria'],\n",
       " ['Climate change'],\n",
       " ['Investment'],\n",
       " [None],\n",
       " ['Russia'],\n",
       " [None, 'Pandemic'],\n",
       " ['Travel'],\n",
       " ['BBC News Online'],\n",
       " ['Hacking'],\n",
       " ['Real estate', 'Retail'],\n",
       " ['Russia'],\n",
       " ['Insurance', 'Iran'],\n",
       " ['Iran'],\n",
       " ['Apple', 'Environmental, social and corporate governance'],\n",
       " ['Monday Motivation'],\n",
       " ['News'],\n",
       " ['Health care'],\n",
       " ['Cryptocurrency', None]]"
      ]
     },
     "execution_count": 26,
     "metadata": {},
     "output_type": "execute_result"
    }
   ],
   "source": [
    "pages = []\n",
    "\n",
    "for topic in topics:\n",
    "    pages.append([translation_matrix.loc[translation_matrix['hashtags']==theme,'pages'].values[0] for theme in topic])\n",
    "\n",
    "pages"
   ]
  },
  {
   "cell_type": "markdown",
   "metadata": {},
   "source": [
    "#### Attempt to bridge overlapping topics"
   ]
  },
  {
   "cell_type": "code",
   "execution_count": 27,
   "metadata": {},
   "outputs": [
    {
     "data": {
      "text/plain": [
       "[['China', 'Coronavirus disease 2019', 'Cloud', 'Startup company'],\n",
       " ['Computer security', 'Ai', 'Financial technology'],\n",
       " ['Coronavirus'],\n",
       " ['Security', 'Tech', 'Internet of things', 'Innovation'],\n",
       " ['Data science', 'Machine learning'],\n",
       " ['Information security'],\n",
       " ['Blockchain'],\n",
       " ['Innovation', 'Technology'],\n",
       " ['Data', 'Bitcoin', 'Ransomware', 'Startup company', 'Payment'],\n",
       " ['London'],\n",
       " ['Brexit'],\n",
       " ['Privacy'],\n",
       " ['Black Lives Matter'],\n",
       " ['Manchester'],\n",
       " ['Cyber'],\n",
       " ['5G'],\n",
       " ['Digital transformation', 'Artificial intelligence', 'Digital'],\n",
       " ['Mental health', 'Podcast'],\n",
       " ['Syria', 'Lebanon', 'Russia', 'Beirut'],\n",
       " ['Belarus'],\n",
       " ['Journalism', 'Travel'],\n",
       " ['Business'],\n",
       " ['Environmental, social and corporate governance',\n",
       "  'Apple',\n",
       "  'Video',\n",
       "  'Final Cut Pro X'],\n",
       " ['AR', 'VR'],\n",
       " ['Real estate', 'Retail', 'Property'],\n",
       " ['Leadership',\n",
       "  'Data breach',\n",
       "  'General Data Protection Regulation',\n",
       "  'Lockdown'],\n",
       " ['Ashton Kutcher'],\n",
       " ['Jobs'],\n",
       " ['United Kingdom'],\n",
       " ['Openbank'],\n",
       " ['Leadership', 'Crypto', 'Finance'],\n",
       " ['Architecture', 'Design'],\n",
       " ['Environmental, social and corporate governance',\n",
       "  'Climate change',\n",
       "  'Sustainability'],\n",
       " ['Robotics'],\n",
       " ['Web conferencing'],\n",
       " ['Marketing', 'India', 'Breaking', 'Shadowverse', 'Oil'],\n",
       " ['Triathlon'],\n",
       " ['Diversity', 'Inclusion'],\n",
       " ['Hacking', 'Retail', 'Cybercrime'],\n",
       " ['European Union'],\n",
       " ['COVID-19 vaccine'],\n",
       " ['Leah D. Daughtry', 'Operation Staysafe'],\n",
       " ['Hong Kong'],\n",
       " ['ML'],\n",
       " ['Investment'],\n",
       " [None, 'Cryptocurrency', 'Pandemic'],\n",
       " ['BBC News Online'],\n",
       " ['Insurance', 'Iran'],\n",
       " ['Monday Motivation'],\n",
       " ['News'],\n",
       " ['Health care']]"
      ]
     },
     "execution_count": 27,
     "metadata": {},
     "output_type": "execute_result"
    }
   ],
   "source": [
    "bridged_topics = []\n",
    "\n",
    "for i, topic in enumerate(pages):\n",
    "    truth_table = [len(set(theme_list).intersection(topic)) > 0 for theme_list in bridged_topics]\n",
    "    #print(truth_table)\n",
    "    if any(truth_table):\n",
    "        idx = truth_table.index(True)\n",
    "        merged_topic = list(set(bridged_topics[idx])|set(topic))\n",
    "        bridged_topics[idx] = merged_topic\n",
    "        \n",
    "    else:\n",
    "        bridged_topics.append(topic)\n",
    "    \n",
    "\n",
    "bridged_topics"
   ]
  },
  {
   "cell_type": "code",
   "execution_count": 29,
   "metadata": {},
   "outputs": [
    {
     "ename": "NameError",
     "evalue": "name 'other_theme' is not defined",
     "output_type": "error",
     "traceback": [
      "\u001b[1;31m---------------------------------------------------------------------------\u001b[0m",
      "\u001b[1;31mNameError\u001b[0m                                 Traceback (most recent call last)",
      "\u001b[1;32m<ipython-input-29-ba71380735db>\u001b[0m in \u001b[0;36m<module>\u001b[1;34m\u001b[0m\n\u001b[0;32m      1\u001b[0m \u001b[0mother\u001b[0m \u001b[1;33m=\u001b[0m \u001b[1;33m[\u001b[0m\u001b[1;33m]\u001b[0m\u001b[1;33m\u001b[0m\u001b[1;33m\u001b[0m\u001b[0m\n\u001b[1;32m----> 2\u001b[1;33m \u001b[1;32mfor\u001b[0m \u001b[0mpage\u001b[0m \u001b[1;32min\u001b[0m \u001b[0mother_theme\u001b[0m\u001b[1;33m:\u001b[0m\u001b[1;33m\u001b[0m\u001b[1;33m\u001b[0m\u001b[0m\n\u001b[0m\u001b[0;32m      3\u001b[0m     \u001b[0mfull_page\u001b[0m \u001b[1;33m=\u001b[0m \u001b[0mwikipedia\u001b[0m\u001b[1;33m.\u001b[0m\u001b[0mpage\u001b[0m\u001b[1;33m(\u001b[0m\u001b[0mpage\u001b[0m\u001b[1;33m)\u001b[0m\u001b[1;33m.\u001b[0m\u001b[0mcontent\u001b[0m\u001b[1;33m\u001b[0m\u001b[1;33m\u001b[0m\u001b[0m\n\u001b[0;32m      4\u001b[0m     \u001b[0mfull_page\u001b[0m \u001b[1;33m=\u001b[0m \u001b[0mfull_page\u001b[0m\u001b[1;33m.\u001b[0m\u001b[0msplit\u001b[0m\u001b[1;33m(\u001b[0m\u001b[1;34m\"== See also ==\"\u001b[0m\u001b[1;33m)\u001b[0m\u001b[1;33m[\u001b[0m\u001b[1;36m0\u001b[0m\u001b[1;33m]\u001b[0m    \u001b[1;31m#Remove text after \"See also\"\u001b[0m\u001b[1;33m\u001b[0m\u001b[1;33m\u001b[0m\u001b[0m\n\u001b[0;32m      5\u001b[0m     \u001b[0mpage_split\u001b[0m \u001b[1;33m=\u001b[0m \u001b[0mre\u001b[0m\u001b[1;33m.\u001b[0m\u001b[0msplit\u001b[0m\u001b[1;33m(\u001b[0m\u001b[1;34m\"\\. |\\.\\n\"\u001b[0m\u001b[1;33m,\u001b[0m\u001b[0mstr\u001b[0m\u001b[1;33m(\u001b[0m\u001b[0mfull_page\u001b[0m\u001b[1;33m)\u001b[0m\u001b[1;33m)\u001b[0m\u001b[1;33m\u001b[0m\u001b[1;33m\u001b[0m\u001b[0m\n",
      "\u001b[1;31mNameError\u001b[0m: name 'other_theme' is not defined"
     ]
    }
   ],
   "source": [
    "other = []\n",
    "for page in other_theme:\n",
    "    full_page = wikipedia.page(page).content\n",
    "    full_page = full_page.split(\"== See also ==\")[0]    #Remove text after \"See also\"\n",
    "    page_split = re.split(\"\\. |\\.\\n\",str(full_page))\n",
    "    \n",
    "    final_page_split = []    \n",
    "    for sentence in page_split:\n",
    "        if len(sentence) >= min_characters_sentence:\n",
    "            final_page_split.append(sentence)\n",
    "    final_page_split = final_page_split[0:20]\n",
    "    other.append(final_page_split) \n",
    "    #Append sentences to final other_theme corpus\n",
    "    #for sentence in final_page_split:\n",
    "    #    training_corpus = training_corpus.append({'Text':sentence, 'Theme':theme, 'Source':'Wikipedia'}, ignore_index=True)"
   ]
  },
  {
   "cell_type": "markdown",
   "metadata": {},
   "source": [
    "#### Here we need some human input to check the topics etc, perhaps join some more..."
   ]
  },
  {
   "cell_type": "code",
   "execution_count": 33,
   "metadata": {},
   "outputs": [],
   "source": [
    "topics = [['Coronavirus disease 2019', 'Lockdown'], \n",
    "['Artificial intelligence', 'Computer security', 'Financial technology', 'Internet of things', 'Robotics'], \n",
    "['Data science', 'Machine learning'],\n",
    "['Information security'],\n",
    "['Blockchain', 'Payment', 'Cryptocurrency'],\n",
    "['Innovation', 'Technology'],\n",
    "['Data', 'General Data Protection Regulation'],\n",
    "['Brexit'],\n",
    "['Privacy'],\n",
    "['Startup company'],\n",
    "['China'],\n",
    "['5G'],\n",
    "['Digital transformation'],\n",
    "['Mental health'],\n",
    "['2020 Beirut explosion', 'Lebanon', 'Beirut'],\n",
    "['2020 Belarusian protests'],\n",
    "['Journalism', 'Travel'], \n",
    "['Business'],\n",
    "['Apple Inc.', 'Final Cut Pro X', 'Video'],\n",
    "['Augmented reality', 'Vertual reality'], \n",
    "['Property', 'Real estate'], \n",
    "['Architecture', 'Design'],\n",
    "['Climate change', 'Environmental, social and corporate governance', 'Sustainability'],\n",
    "['Health care'],\n",
    "['Cybercrime', 'Ransomeware', 'Malware'],\n",
    "['Facebook', 'Social media'],\n",
    "['Other (philosophy)', 'Lexie Brown', 'Baseball broadcasting firsts', 'Rhydlewis', 'Moisés Alou',\n",
    "    '3rd Weather Squadron', 'Gifty Acheampong', 'Kollines', 'Access Now, Inc. v. Southwest Airlines Co.', 'Australia Made Preference League',\n",
    "    'Buddhist councils', '2009–10 Olympique de Marseille season', '2013 Tour of Flanders', 'Michael Britten','Frits Potgieter',\n",
    "    'First Among Sequels', 'Lend Lease Project Management & Construction', 'B. M. Choudary', 'USS La Moure County (LST-1194)', 'John McGinnis', \n",
    "    'Valerie Maxfield', 'Lydian language', 'Nathan Alcock', 'İzbırak, Midyat', 'Leonhard Baldner',\n",
    "    'Julian H. Scaff', \"The Boy's Doin' It\", \"America's Got Talent (season 8)\", 'Mass media in the Czech Republic', 'Rear-eject haul truck bodies',\n",
    "    'Davy Crockett, Indian Scout', 'Métis flag', 'The Second Scroll', 'Institute of Physics and Engineering in Medicine', 'Honda Mobilio',\n",
    "    'Forced marriage', 'Wetaskiwin', 'Mort Hoppenfeld', 'Saddam Hussein and al-Qaeda link allegations', 'Crane Creek (Melbourne, Florida)']]\n"
   ]
  },
  {
   "cell_type": "markdown",
   "metadata": {},
   "source": [
    "Adapted from Martin's code ref:  https://towardsdatascience.com/multi-class-text-classification-with-doc2vec-logistic-regression-9da9947b43f4"
   ]
  },
  {
   "cell_type": "code",
   "execution_count": 53,
   "metadata": {},
   "outputs": [],
   "source": [
    "min_characters_para = 3   #Min characters in a paragraph (inclusive)\n",
    "min_characters_word = 3     #Min characters in a word (inclusive)\n",
    "test_size = 0.2     #Fraction of corpus to keep back for testing"
   ]
  },
  {
   "cell_type": "code",
   "execution_count": null,
   "metadata": {},
   "outputs": [
    {
     "name": "stdout",
     "output_type": "stream",
     "text": [
      "['Coronavirus disease 2019_Lockdown', 'Artificial intelligence_Computer security_Financial technology_Internet of things_Robotics', 'Data science_Machine learning', 'Information security', 'Blockchain_Payment_Cryptocurrency', 'Innovation_Technology', 'Data_General Data Protection Regulation', 'Brexit', 'Privacy', 'Startup company', 'China', '5G', 'Digital transformation', 'Mental health', '2020 Beirut explosion_Lebanon_Beirut', '2020 Belarusian protests', 'Journalism_Travel', 'Business', 'Apple Inc._Final Cut Pro X_Video', 'Augmented reality_Vertual reality', 'Property_Real estate', 'Architecture_Design', 'Climate change_Environmental, social and corporate governance_Sustainability', 'Health care', 'Cybercrime_Ransomeware_Malware', 'Facebook_Social media', 'Other']\n"
     ]
    }
   ],
   "source": [
    "wiki_pages = topics\n",
    "themes = ['_'.join(topic) for topic in topics]\n",
    "del themes[-1]\n",
    "themes.append('Other')\n",
    "\n",
    "print(themes)\n",
    "\n",
    "training_corpus = pd.DataFrame(columns=['Text','Theme','Source'])\n",
    "\n",
    "for theme,page in zip(themes,wiki_pages):\n",
    "    all_page = ''\n",
    "    if isinstance(page, str):\n",
    "        page=[page,]\n",
    "    for p in page:\n",
    "        full_page = wikipedia.page(p).content\n",
    "        full_page = full_page.split(\"== See also ==\")[0]    #Remove text after \"See also\"\n",
    "        all_page += full_page\n",
    "    \n",
    "    page_split = str(all_page).split(\"\\n\")\n",
    "    #page_split = re.split(\"\\. |\\.\\n\",str(all_page))\n",
    "    #print(\"Number of paragraphs before trimming = \"+str(len(page_split)))\n",
    "\n",
    "    #Only retain paragraphs with at least N characters to retain only proper paragraphs\n",
    "    final_page_split = []    \n",
    "    for para in page_split:\n",
    "        if len(para) >= min_characters_para:\n",
    "            final_page_split.append(para)\n",
    "\n",
    "    n_docs_to_proc = len(final_page_split)\n",
    "    #print(\"Number of paragraphs after trimming = \"+str(n_docs_to_proc))\n",
    "\n",
    "    #Append paragraphs to final corpus\n",
    "    for sentence in final_page_split:\n",
    "        training_corpus = training_corpus.append({'Text':sentence, 'Theme':theme, 'Source':'Wikipedia'}, ignore_index=True)\n",
    "\n",
    "training_corpus['Theme'].value_counts().plot.barh(figsize=(15,5))\n",
    "plt.show()"
   ]
  },
  {
   "cell_type": "markdown",
   "metadata": {},
   "source": [
    "# Pre-process training data"
   ]
  },
  {
   "cell_type": "code",
   "execution_count": 36,
   "metadata": {},
   "outputs": [],
   "source": [
    "# Clean the text - mainly used for processing html\n",
    "\n",
    "from bs4 import BeautifulSoup\n",
    "\n",
    "def cleanText(text):\n",
    "#    text = BeautifulSoup(text, \"lxml\").text\n",
    "#    text = re.sub(r'\\|\\|\\|', r' ', text) \n",
    "#    text = re.sub(r'http\\S+', r'<URL>', text)\n",
    "    text = text.lower()\n",
    "#    text = text.replace('x', '')\n",
    "    return text\n",
    "\n",
    "training_corpus['Text'] = training_corpus['Text'].apply(cleanText)"
   ]
  },
  {
   "cell_type": "code",
   "execution_count": 37,
   "metadata": {},
   "outputs": [],
   "source": [
    "train, test = train_test_split(training_corpus, test_size=test_size, random_state=42)\n",
    "import nltk\n",
    "from nltk.corpus import stopwords\n",
    "stop_words = set(stopwords.words('english'))\n",
    "\n",
    "def tokenize_text(text):\n",
    "    tokens = []\n",
    "    for sent in nltk.sent_tokenize(text):\n",
    "        for word in nltk.word_tokenize(sent):\n",
    "            if (len(word) >= min_characters_word) & (word not in stop_words) : tokens.append(word)\n",
    "#            if (len(word) >= min_characters_word) : tokens.append(word)\n",
    "    return tokens\n",
    "\n",
    "train_tagged = train.apply(\n",
    "    lambda r: TaggedDocument(words=tokenize_text(r['Text']), tags=[r.Theme]), axis=1)\n",
    "test_tagged = test.apply(\n",
    "    lambda r: TaggedDocument(words=tokenize_text(r['Text']), tags=[r.Theme]), axis=1)\n"
   ]
  },
  {
   "cell_type": "markdown",
   "metadata": {},
   "source": [
    "# Apply models"
   ]
  },
  {
   "cell_type": "markdown",
   "metadata": {},
   "source": [
    "# # Distributed bag of words\n"
   ]
  },
  {
   "cell_type": "code",
   "execution_count": 38,
   "metadata": {},
   "outputs": [],
   "source": [
    "import multiprocessing\n",
    "cores = multiprocessing.cpu_count()"
   ]
  },
  {
   "cell_type": "code",
   "execution_count": 39,
   "metadata": {},
   "outputs": [
    {
     "name": "stderr",
     "output_type": "stream",
     "text": [
      "100%|████████████████████████████████████████████████████████████████████████| 11885/11885 [00:00<00:00, 760118.07it/s]\n"
     ]
    }
   ],
   "source": [
    "#model_dbow = Doc2Vec(dm=0, vector_size=300, negative=5, hs=0, min_count=2, sample=0, workers=cores) #Values from tutorial\n",
    "\n",
    "model_dbow = Doc2Vec(dm=0, vector_size=500, negative=5, hs=1, min_count=2, sample=0, workers=cores) #My optimised values\n",
    "\n",
    "model_dbow.build_vocab([x for x in tqdm(train_tagged.values)])"
   ]
  },
  {
   "cell_type": "code",
   "execution_count": 40,
   "metadata": {},
   "outputs": [
    {
     "name": "stderr",
     "output_type": "stream",
     "text": [
      "100%|████████████████████████████████████████████████████████████████████████| 11885/11885 [00:00<00:00, 765510.88it/s]\n",
      "100%|████████████████████████████████████████████████████████████████████████| 11885/11885 [00:00<00:00, 762548.23it/s]\n",
      "100%|████████████████████████████████████████████████████████████████████████████████████| 11885/11885 [00:00<?, ?it/s]\n",
      "100%|███████████████████████████████████████████████████████████████████████| 11885/11885 [00:00<00:00, 1005006.01it/s]\n",
      "100%|████████████████████████████████████████████████████████████████████████████████████| 11885/11885 [00:00<?, ?it/s]\n",
      "100%|████████████████████████████████████████████████████████████████████████| 11885/11885 [00:00<00:00, 760744.47it/s]\n",
      "100%|████████████████████████████████████████████████████████████████████████████████████| 11885/11885 [00:00<?, ?it/s]\n",
      "100%|███████████████████████████████████████████████████████████████████████| 11885/11885 [00:00<00:00, 2970402.99it/s]\n",
      "100%|████████████████████████████████████████████████████████████████████████| 11885/11885 [00:00<00:00, 760767.69it/s]\n",
      "100%|████████████████████████████████████████████████████████████████████████████████████| 11885/11885 [00:00<?, ?it/s]\n",
      "100%|████████████████████████████████████████████████████████████████████████████████████| 11885/11885 [00:00<?, ?it/s]\n",
      "100%|████████████████████████████████████████████████████████████████████████████████████| 11885/11885 [00:00<?, ?it/s]\n",
      "100%|████████████████████████████████████████████████████████████████████████| 11885/11885 [00:00<00:00, 642561.81it/s]\n",
      "100%|████████████████████████████████████████████████████████████████████████████████████| 11885/11885 [00:00<?, ?it/s]\n",
      "100%|████████████████████████████████████████████████████████████████████████| 11885/11885 [00:00<00:00, 760268.78it/s]\n",
      "100%|████████████████████████████████████████████████████████████████████████████████████| 11885/11885 [00:00<?, ?it/s]\n",
      "100%|████████████████████████████████████████████████████████████████████████████████████| 11885/11885 [00:00<?, ?it/s]\n",
      "100%|████████████████████████████████████████████████████████████████████████████████████| 11885/11885 [00:00<?, ?it/s]\n",
      "100%|████████████████████████████████████████████████████████████████████████████████████| 11885/11885 [00:00<?, ?it/s]\n",
      "100%|████████████████████████████████████████████████████████████████████████████████████| 11885/11885 [00:00<?, ?it/s]\n",
      "100%|████████████████████████████████████████████████████████████████████████████████████| 11885/11885 [00:00<?, ?it/s]\n",
      "100%|████████████████████████████████████████████████████████████████████████████████████| 11885/11885 [00:00<?, ?it/s]\n",
      "100%|████████████████████████████████████████████████████████████████████████████████████| 11885/11885 [00:00<?, ?it/s]\n",
      "100%|████████████████████████████████████████████████████████████████████████| 11885/11885 [00:00<00:00, 760756.08it/s]\n",
      "100%|████████████████████████████████████████████████████████████████████████| 11885/11885 [00:00<00:00, 761046.44it/s]\n",
      "100%|███████████████████████████████████████████████████████████████████████| 11885/11885 [00:00<00:00, 2975722.48it/s]\n",
      "100%|████████████████████████████████████████████████████████████████████████████████████| 11885/11885 [00:00<?, ?it/s]\n",
      "100%|████████████████████████████████████████████████████████████████████████| 11885/11885 [00:00<00:00, 760605.18it/s]\n",
      "100%|████████████████████████████████████████████████████████████████████████| 11885/11885 [00:00<00:00, 759886.33it/s]\n",
      "100%|████████████████████████████████████████████████████████████████████████████████████| 11885/11885 [00:00<?, ?it/s]\n"
     ]
    },
    {
     "name": "stdout",
     "output_type": "stream",
     "text": [
      "Wall time: 36.3 s\n"
     ]
    }
   ],
   "source": [
    "%%time\n",
    "for epoch in range(30):\n",
    "    model_dbow.train(utils.shuffle([x for x in tqdm(train_tagged.values)]), total_examples=len(train_tagged.values), epochs=1)\n",
    "    model_dbow.alpha -= 0.002\n",
    "    model_dbow.min_alpha = model_dbow.alpha"
   ]
  },
  {
   "cell_type": "code",
   "execution_count": 41,
   "metadata": {},
   "outputs": [],
   "source": [
    "def vec_for_learning(model, tagged_docs):\n",
    "    sents = tagged_docs.values\n",
    "    targets, regressors = zip(*[(doc.tags[0], model.infer_vector(doc.words, steps=20)) for doc in sents])\n",
    "    return targets, regressors"
   ]
  },
  {
   "cell_type": "code",
   "execution_count": 44,
   "metadata": {},
   "outputs": [
    {
     "name": "stdout",
     "output_type": "stream",
     "text": [
      "logreg_dbow Testing accuracy 0.47543741588156124\n",
      "logreg_dbow Testing F1 score: 0.4691198423744379\n"
     ]
    },
    {
     "name": "stderr",
     "output_type": "stream",
     "text": [
      "C:\\Users\\elizabeth\\anaconda3\\envs\\python36\\lib\\site-packages\\sklearn\\linear_model\\_logistic.py:764: ConvergenceWarning: lbfgs failed to converge (status=1):\n",
      "STOP: TOTAL NO. of ITERATIONS REACHED LIMIT.\n",
      "\n",
      "Increase the number of iterations (max_iter) or scale the data as shown in:\n",
      "    https://scikit-learn.org/stable/modules/preprocessing.html\n",
      "Please also refer to the documentation for alternative solver options:\n",
      "    https://scikit-learn.org/stable/modules/linear_model.html#logistic-regression\n",
      "  extra_warning_msg=_LOGISTIC_SOLVER_CONVERGENCE_MSG)\n"
     ]
    }
   ],
   "source": [
    "# Distributed Bag of Words (DBOW) model\n",
    "\n",
    "y_train, X_train = vec_for_learning(model_dbow, train_tagged)\n",
    "y_test, X_test = vec_for_learning(model_dbow, test_tagged)\n",
    "logreg_dbow = LogisticRegression(n_jobs=1, C=1e5, max_iter=1000)\n",
    "logreg_dbow.fit(X_train, y_train)\n",
    "y_pred = logreg_dbow.predict(X_test)\n",
    "print('logreg_dbow Testing accuracy %s' % accuracy_score(y_test, y_pred))\n",
    "print('logreg_dbow Testing F1 score: {}'.format(f1_score(y_test, y_pred, average='weighted')))"
   ]
  },
  {
   "cell_type": "markdown",
   "metadata": {},
   "source": [
    "# Distributed memory\n"
   ]
  },
  {
   "cell_type": "code",
   "execution_count": 45,
   "metadata": {},
   "outputs": [
    {
     "name": "stderr",
     "output_type": "stream",
     "text": [
      "100%|████████████████████████████████████████████████████████████████████████████████████| 11885/11885 [00:00<?, ?it/s]\n"
     ]
    }
   ],
   "source": [
    "#model_dmm = Doc2Vec(dm=1, dm_mean=1, vector_size=300, window=10, negative=5, min_count=1, workers=cores, alpha=0.065, min_alpha=0.065)  #Values from tutorial\n",
    "\n",
    "model_dmm = Doc2Vec(dm=1, dm_mean=0, vector_size=500, window=10, negative=5, min_count=1, workers=cores, alpha=0.1, min_alpha=0) #My optimised values\n",
    "\n",
    "model_dmm.build_vocab([x for x in tqdm(train_tagged.values)])"
   ]
  },
  {
   "cell_type": "code",
   "execution_count": 46,
   "metadata": {},
   "outputs": [
    {
     "name": "stderr",
     "output_type": "stream",
     "text": [
      "100%|███████████████████████████████████████████████████████████████████████| 11885/11885 [00:00<00:00, 1168443.45it/s]\n",
      "100%|████████████████████████████████████████████████████████████████████████████████████| 11885/11885 [00:00<?, ?it/s]\n",
      "100%|████████████████████████████████████████████████████████████████████████████████████| 11885/11885 [00:00<?, ?it/s]\n",
      "100%|████████████████████████████████████████████████████████████████████████████████████| 11885/11885 [00:00<?, ?it/s]\n",
      "100%|████████████████████████████████████████████████████████████████████████| 11885/11885 [00:00<00:00, 761058.06it/s]\n",
      "100%|████████████████████████████████████████████████████████████████████████| 11885/11885 [00:00<00:00, 651258.81it/s]\n",
      "100%|████████████████████████████████████████████████████████████████████████████████████| 11885/11885 [00:00<?, ?it/s]\n",
      "100%|████████████████████████████████████████████████████████████████████████████████████| 11885/11885 [00:00<?, ?it/s]\n",
      "100%|████████████████████████████████████████████████████████████████████████████████████| 11885/11885 [00:00<?, ?it/s]\n",
      "100%|████████████████████████████████████████████████████████████████████████████████████| 11885/11885 [00:00<?, ?it/s]\n",
      "100%|███████████████████████████████████████████████████████████████████████| 11885/11885 [00:00<00:00, 1051628.69it/s]\n",
      "100%|████████████████████████████████████████████████████████████████████████████████████| 11885/11885 [00:00<?, ?it/s]\n",
      "100%|████████████████████████████████████████████████████████████████████████████████████| 11885/11885 [00:00<?, ?it/s]\n",
      "100%|███████████████████████████████████████████████████████████████████████| 11885/11885 [00:00<00:00, 1959562.21it/s]\n",
      "100%|████████████████████████████████████████████████████████████████████████| 11885/11885 [00:00<00:00, 991276.31it/s]\n",
      "100%|████████████████████████████████████████████████████████████████████████| 11885/11885 [00:00<00:00, 760965.12it/s]\n",
      "100%|███████████████████████████████████████████████████████████████████████| 11885/11885 [00:00<00:00, 2615662.87it/s]\n",
      "100%|███████████████████████████████████████████████████████████████████████| 11885/11885 [00:00<00:00, 2380805.38it/s]\n",
      "100%|███████████████████████████████████████████████████████████████████████| 11885/11885 [00:00<00:00, 2380805.38it/s]\n",
      "100%|███████████████████████████████████████████████████████████████████████| 11885/11885 [00:00<00:00, 2978923.33it/s]\n",
      "100%|████████████████████████████████████████████████████████████████████████████████████| 11885/11885 [00:00<?, ?it/s]\n",
      "100%|████████████████████████████████████████████████████████████████████████████████████| 11885/11885 [00:00<?, ?it/s]\n",
      "100%|████████████████████████████████████████████████████████████████████████████████████| 11885/11885 [00:00<?, ?it/s]\n",
      "100%|████████████████████████████████████████████████████████████████████████| 11885/11885 [00:00<00:00, 682708.18it/s]\n",
      "100%|████████████████████████████████████████████████████████████████████████████████████| 11885/11885 [00:00<?, ?it/s]\n",
      "100%|████████████████████████████████████████████████████████████████████████████████████| 11885/11885 [00:00<?, ?it/s]\n",
      "100%|████████████████████████████████████████████████████████████████████████████████████| 11885/11885 [00:00<?, ?it/s]\n",
      "100%|████████████████████████████████████████████████████████████████████████| 11885/11885 [00:00<00:00, 630947.93it/s]\n",
      "100%|████████████████████████████████████████████████████████████████████████████████████| 11885/11885 [00:00<?, ?it/s]\n",
      "100%|████████████████████████████████████████████████████████████████████████████████████| 11885/11885 [00:00<?, ?it/s]\n"
     ]
    },
    {
     "name": "stdout",
     "output_type": "stream",
     "text": [
      "Wall time: 1min 2s\n"
     ]
    }
   ],
   "source": [
    "%%time\n",
    "for epoch in range(30):\n",
    "    model_dmm.train(utils.shuffle([x for x in tqdm(train_tagged.values)]), total_examples=len(train_tagged.values), epochs=1)\n",
    "    model_dmm.alpha -= 0.002\n",
    "    model_dmm.min_alpha = model_dmm.alpha"
   ]
  },
  {
   "cell_type": "code",
   "execution_count": 47,
   "metadata": {},
   "outputs": [
    {
     "name": "stdout",
     "output_type": "stream",
     "text": [
      "logreg_dmm Testing accuracy 0.4882234185733513\n",
      "logreg_dmm Testing F1 score: 0.48921700905427407\n"
     ]
    },
    {
     "name": "stderr",
     "output_type": "stream",
     "text": [
      "C:\\Users\\elizabeth\\anaconda3\\envs\\python36\\lib\\site-packages\\sklearn\\linear_model\\_logistic.py:764: ConvergenceWarning: lbfgs failed to converge (status=1):\n",
      "STOP: TOTAL NO. of ITERATIONS REACHED LIMIT.\n",
      "\n",
      "Increase the number of iterations (max_iter) or scale the data as shown in:\n",
      "    https://scikit-learn.org/stable/modules/preprocessing.html\n",
      "Please also refer to the documentation for alternative solver options:\n",
      "    https://scikit-learn.org/stable/modules/linear_model.html#logistic-regression\n",
      "  extra_warning_msg=_LOGISTIC_SOLVER_CONVERGENCE_MSG)\n"
     ]
    }
   ],
   "source": [
    "# Distributed Memory (DM) model\n",
    "\n",
    "y_train, X_train = vec_for_learning(model_dmm, train_tagged)\n",
    "y_test, X_test = vec_for_learning(model_dmm, test_tagged)\n",
    "logreg_dmm = LogisticRegression(n_jobs=1, C=1e5, max_iter=1000)\n",
    "logreg_dmm.fit(X_train, y_train)\n",
    "y_pred = logreg_dmm.predict(X_test)\n",
    "print('logreg_dmm Testing accuracy %s' % accuracy_score(y_test, y_pred))\n",
    "print('logreg_dmm Testing F1 score: {}'.format(f1_score(y_test, y_pred, average='weighted')))"
   ]
  },
  {
   "cell_type": "markdown",
   "metadata": {},
   "source": [
    "# Combined model pairing"
   ]
  },
  {
   "cell_type": "code",
   "execution_count": 48,
   "metadata": {},
   "outputs": [],
   "source": [
    "from gensim.test.test_doc2vec import ConcatenatedDoc2Vec\n",
    "model_new = ConcatenatedDoc2Vec([model_dbow, model_dmm])"
   ]
  },
  {
   "cell_type": "code",
   "execution_count": 49,
   "metadata": {},
   "outputs": [],
   "source": [
    "def get_vectors(model, tagged_docs):\n",
    "    sents = tagged_docs.values\n",
    "    targets, regressors = zip(*[(doc.tags[0], model.infer_vector(doc.words, steps=20)) for doc in sents])\n",
    "    return targets, regressors"
   ]
  },
  {
   "cell_type": "code",
   "execution_count": 50,
   "metadata": {},
   "outputs": [
    {
     "name": "stdout",
     "output_type": "stream",
     "text": [
      "logreg_new Testing accuracy 0.6039703903095559\n",
      "logreg_new Testing F1 score: 0.6078530214381682\n"
     ]
    },
    {
     "name": "stderr",
     "output_type": "stream",
     "text": [
      "C:\\Users\\elizabeth\\anaconda3\\envs\\python36\\lib\\site-packages\\sklearn\\linear_model\\_logistic.py:764: ConvergenceWarning: lbfgs failed to converge (status=1):\n",
      "STOP: TOTAL NO. of ITERATIONS REACHED LIMIT.\n",
      "\n",
      "Increase the number of iterations (max_iter) or scale the data as shown in:\n",
      "    https://scikit-learn.org/stable/modules/preprocessing.html\n",
      "Please also refer to the documentation for alternative solver options:\n",
      "    https://scikit-learn.org/stable/modules/linear_model.html#logistic-regression\n",
      "  extra_warning_msg=_LOGISTIC_SOLVER_CONVERGENCE_MSG)\n"
     ]
    }
   ],
   "source": [
    "# Model Pairing method\n",
    "\n",
    "y_train, X_train = get_vectors(model_new, train_tagged)\n",
    "y_test, X_test = get_vectors(model_new, test_tagged)\n",
    "logreg_new = LogisticRegression(n_jobs=1, C=1e5, max_iter=1000)\n",
    "logreg_new.fit(X_train, y_train)\n",
    "y_pred = logreg_new.predict(X_test)\n",
    "print('logreg_new Testing accuracy %s' % accuracy_score(y_test, y_pred))\n",
    "print('logreg_new Testing F1 score: {}'.format(f1_score(y_test, y_pred, average='weighted')))"
   ]
  },
  {
   "cell_type": "code",
   "execution_count": 51,
   "metadata": {},
   "outputs": [],
   "source": [
    "#Free up memory (not necessary for our small training sample)\n",
    "model_dbow.delete_temporary_training_data(keep_doctags_vectors=True, keep_inference=True)\n",
    "model_dmm.delete_temporary_training_data(keep_doctags_vectors=True, keep_inference=True)"
   ]
  },
  {
   "cell_type": "markdown",
   "metadata": {},
   "source": [
    "# Apply to tweets"
   ]
  },
  {
   "cell_type": "code",
   "execution_count": 171,
   "metadata": {},
   "outputs": [],
   "source": [
    "def get_vectors_apply(model, docs_to_classify):\n",
    "    sents = docs_to_classify.values\n",
    "    regressors = [model.infer_vector(doc.words, steps=20) for doc in sents]\n",
    "    return regressors"
   ]
  },
  {
   "cell_type": "code",
   "execution_count": 173,
   "metadata": {},
   "outputs": [],
   "source": [
    "def clean_text(text):\n",
    "    text = re.sub(r\"http\\S+\", \"\", str(text)) #remove urls\n",
    "    text = re.sub(r'\\S+\\.com\\S+','',str(text)) #remove urls\n",
    "    text = re.sub(r'\\@\\w+','',str(text)) #remove mentions\n",
    "    text =re.sub(r'\\#','',str(text)) #remove hashtags\n",
    "    text = re.findall(r'[A-Za-z]+',str(text))\n",
    "    text = ' '.join(text) \n",
    "    return text"
   ]
  },
  {
   "cell_type": "code",
   "execution_count": 177,
   "metadata": {
    "scrolled": true
   },
   "outputs": [
    {
     "name": "stderr",
     "output_type": "stream",
     "text": [
      "Files:   0%|                                                                                    | 0/40 [03:30<?, ?it/s]\n"
     ]
    },
    {
     "ename": "KeyboardInterrupt",
     "evalue": "",
     "output_type": "error",
     "traceback": [
      "\u001b[1;31m---------------------------------------------------------------------------\u001b[0m",
      "\u001b[1;31mKeyboardInterrupt\u001b[0m                         Traceback (most recent call last)",
      "\u001b[1;32m<ipython-input-177-bc03fd5bba77>\u001b[0m in \u001b[0;36m<module>\u001b[1;34m\u001b[0m\n\u001b[0;32m     13\u001b[0m         test_tagged = df.apply(\n\u001b[0;32m     14\u001b[0m             lambda r: TaggedDocument(words=tokenize_text(r['clean_tweet']), tags=[r.screen_name]), axis=1)\n\u001b[1;32m---> 15\u001b[1;33m         \u001b[0mX_test\u001b[0m \u001b[1;33m=\u001b[0m \u001b[0mget_vectors_apply\u001b[0m\u001b[1;33m(\u001b[0m\u001b[0mmodel\u001b[0m\u001b[1;33m,\u001b[0m \u001b[0mtest_tagged\u001b[0m\u001b[1;33m)\u001b[0m\u001b[1;33m\u001b[0m\u001b[1;33m\u001b[0m\u001b[0m\n\u001b[0m\u001b[0;32m     16\u001b[0m         \u001b[0mdf\u001b[0m\u001b[1;33m[\u001b[0m\u001b[1;34m'y_pred'\u001b[0m\u001b[1;33m]\u001b[0m \u001b[1;33m=\u001b[0m \u001b[0mlogreg_model\u001b[0m\u001b[1;33m.\u001b[0m\u001b[0mpredict\u001b[0m\u001b[1;33m(\u001b[0m\u001b[0mX_test\u001b[0m\u001b[1;33m)\u001b[0m\u001b[1;33m\u001b[0m\u001b[1;33m\u001b[0m\u001b[0m\n\u001b[0;32m     17\u001b[0m         \u001b[0my_pred_score\u001b[0m \u001b[1;33m=\u001b[0m \u001b[0mlogreg_model\u001b[0m\u001b[1;33m.\u001b[0m\u001b[0mpredict_proba\u001b[0m\u001b[1;33m(\u001b[0m\u001b[0mX_test\u001b[0m\u001b[1;33m)\u001b[0m\u001b[1;33m\u001b[0m\u001b[1;33m\u001b[0m\u001b[0m\n",
      "\u001b[1;32m<ipython-input-171-bc195287cf21>\u001b[0m in \u001b[0;36mget_vectors_apply\u001b[1;34m(model, docs_to_classify)\u001b[0m\n\u001b[0;32m      1\u001b[0m \u001b[1;32mdef\u001b[0m \u001b[0mget_vectors_apply\u001b[0m\u001b[1;33m(\u001b[0m\u001b[0mmodel\u001b[0m\u001b[1;33m,\u001b[0m \u001b[0mdocs_to_classify\u001b[0m\u001b[1;33m)\u001b[0m\u001b[1;33m:\u001b[0m\u001b[1;33m\u001b[0m\u001b[1;33m\u001b[0m\u001b[0m\n\u001b[0;32m      2\u001b[0m     \u001b[0msents\u001b[0m \u001b[1;33m=\u001b[0m \u001b[0mdocs_to_classify\u001b[0m\u001b[1;33m.\u001b[0m\u001b[0mvalues\u001b[0m\u001b[1;33m\u001b[0m\u001b[1;33m\u001b[0m\u001b[0m\n\u001b[1;32m----> 3\u001b[1;33m     \u001b[0mregressors\u001b[0m \u001b[1;33m=\u001b[0m \u001b[1;33m[\u001b[0m\u001b[0mmodel\u001b[0m\u001b[1;33m.\u001b[0m\u001b[0minfer_vector\u001b[0m\u001b[1;33m(\u001b[0m\u001b[0mdoc\u001b[0m\u001b[1;33m.\u001b[0m\u001b[0mwords\u001b[0m\u001b[1;33m,\u001b[0m \u001b[0msteps\u001b[0m\u001b[1;33m=\u001b[0m\u001b[1;36m20\u001b[0m\u001b[1;33m)\u001b[0m \u001b[1;32mfor\u001b[0m \u001b[0mdoc\u001b[0m \u001b[1;32min\u001b[0m \u001b[0msents\u001b[0m\u001b[1;33m]\u001b[0m\u001b[1;33m\u001b[0m\u001b[1;33m\u001b[0m\u001b[0m\n\u001b[0m\u001b[0;32m      4\u001b[0m     \u001b[1;32mreturn\u001b[0m \u001b[0mregressors\u001b[0m\u001b[1;33m\u001b[0m\u001b[1;33m\u001b[0m\u001b[0m\n",
      "\u001b[1;32m<ipython-input-171-bc195287cf21>\u001b[0m in \u001b[0;36m<listcomp>\u001b[1;34m(.0)\u001b[0m\n\u001b[0;32m      1\u001b[0m \u001b[1;32mdef\u001b[0m \u001b[0mget_vectors_apply\u001b[0m\u001b[1;33m(\u001b[0m\u001b[0mmodel\u001b[0m\u001b[1;33m,\u001b[0m \u001b[0mdocs_to_classify\u001b[0m\u001b[1;33m)\u001b[0m\u001b[1;33m:\u001b[0m\u001b[1;33m\u001b[0m\u001b[1;33m\u001b[0m\u001b[0m\n\u001b[0;32m      2\u001b[0m     \u001b[0msents\u001b[0m \u001b[1;33m=\u001b[0m \u001b[0mdocs_to_classify\u001b[0m\u001b[1;33m.\u001b[0m\u001b[0mvalues\u001b[0m\u001b[1;33m\u001b[0m\u001b[1;33m\u001b[0m\u001b[0m\n\u001b[1;32m----> 3\u001b[1;33m     \u001b[0mregressors\u001b[0m \u001b[1;33m=\u001b[0m \u001b[1;33m[\u001b[0m\u001b[0mmodel\u001b[0m\u001b[1;33m.\u001b[0m\u001b[0minfer_vector\u001b[0m\u001b[1;33m(\u001b[0m\u001b[0mdoc\u001b[0m\u001b[1;33m.\u001b[0m\u001b[0mwords\u001b[0m\u001b[1;33m,\u001b[0m \u001b[0msteps\u001b[0m\u001b[1;33m=\u001b[0m\u001b[1;36m20\u001b[0m\u001b[1;33m)\u001b[0m \u001b[1;32mfor\u001b[0m \u001b[0mdoc\u001b[0m \u001b[1;32min\u001b[0m \u001b[0msents\u001b[0m\u001b[1;33m]\u001b[0m\u001b[1;33m\u001b[0m\u001b[1;33m\u001b[0m\u001b[0m\n\u001b[0m\u001b[0;32m      4\u001b[0m     \u001b[1;32mreturn\u001b[0m \u001b[0mregressors\u001b[0m\u001b[1;33m\u001b[0m\u001b[1;33m\u001b[0m\u001b[0m\n",
      "\u001b[1;32m~\\anaconda3\\envs\\python36\\lib\\site-packages\\gensim\\test\\test_doc2vec.py\u001b[0m in \u001b[0;36minfer_vector\u001b[1;34m(self, document, alpha, min_alpha, epochs, steps)\u001b[0m\n\u001b[0;32m    733\u001b[0m \u001b[1;33m\u001b[0m\u001b[0m\n\u001b[0;32m    734\u001b[0m     \u001b[1;32mdef\u001b[0m \u001b[0minfer_vector\u001b[0m\u001b[1;33m(\u001b[0m\u001b[0mself\u001b[0m\u001b[1;33m,\u001b[0m \u001b[0mdocument\u001b[0m\u001b[1;33m,\u001b[0m \u001b[0malpha\u001b[0m\u001b[1;33m=\u001b[0m\u001b[1;32mNone\u001b[0m\u001b[1;33m,\u001b[0m \u001b[0mmin_alpha\u001b[0m\u001b[1;33m=\u001b[0m\u001b[1;32mNone\u001b[0m\u001b[1;33m,\u001b[0m \u001b[0mepochs\u001b[0m\u001b[1;33m=\u001b[0m\u001b[1;32mNone\u001b[0m\u001b[1;33m,\u001b[0m \u001b[0msteps\u001b[0m\u001b[1;33m=\u001b[0m\u001b[1;32mNone\u001b[0m\u001b[1;33m)\u001b[0m\u001b[1;33m:\u001b[0m\u001b[1;33m\u001b[0m\u001b[1;33m\u001b[0m\u001b[0m\n\u001b[1;32m--> 735\u001b[1;33m         \u001b[1;32mreturn\u001b[0m \u001b[0mnp\u001b[0m\u001b[1;33m.\u001b[0m\u001b[0mconcatenate\u001b[0m\u001b[1;33m(\u001b[0m\u001b[1;33m[\u001b[0m\u001b[0mmodel\u001b[0m\u001b[1;33m.\u001b[0m\u001b[0minfer_vector\u001b[0m\u001b[1;33m(\u001b[0m\u001b[0mdocument\u001b[0m\u001b[1;33m,\u001b[0m \u001b[0malpha\u001b[0m\u001b[1;33m,\u001b[0m \u001b[0mmin_alpha\u001b[0m\u001b[1;33m,\u001b[0m \u001b[0mepochs\u001b[0m\u001b[1;33m,\u001b[0m \u001b[0msteps\u001b[0m\u001b[1;33m)\u001b[0m \u001b[1;32mfor\u001b[0m \u001b[0mmodel\u001b[0m \u001b[1;32min\u001b[0m \u001b[0mself\u001b[0m\u001b[1;33m.\u001b[0m\u001b[0mmodels\u001b[0m\u001b[1;33m]\u001b[0m\u001b[1;33m)\u001b[0m\u001b[1;33m\u001b[0m\u001b[1;33m\u001b[0m\u001b[0m\n\u001b[0m\u001b[0;32m    736\u001b[0m \u001b[1;33m\u001b[0m\u001b[0m\n\u001b[0;32m    737\u001b[0m     \u001b[1;32mdef\u001b[0m \u001b[0mtrain\u001b[0m\u001b[1;33m(\u001b[0m\u001b[0mself\u001b[0m\u001b[1;33m,\u001b[0m \u001b[1;33m*\u001b[0m\u001b[0mignore_args\u001b[0m\u001b[1;33m,\u001b[0m \u001b[1;33m**\u001b[0m\u001b[0mignore_kwargs\u001b[0m\u001b[1;33m)\u001b[0m\u001b[1;33m:\u001b[0m\u001b[1;33m\u001b[0m\u001b[1;33m\u001b[0m\u001b[0m\n",
      "\u001b[1;32m~\\anaconda3\\envs\\python36\\lib\\site-packages\\gensim\\test\\test_doc2vec.py\u001b[0m in \u001b[0;36m<listcomp>\u001b[1;34m(.0)\u001b[0m\n\u001b[0;32m    733\u001b[0m \u001b[1;33m\u001b[0m\u001b[0m\n\u001b[0;32m    734\u001b[0m     \u001b[1;32mdef\u001b[0m \u001b[0minfer_vector\u001b[0m\u001b[1;33m(\u001b[0m\u001b[0mself\u001b[0m\u001b[1;33m,\u001b[0m \u001b[0mdocument\u001b[0m\u001b[1;33m,\u001b[0m \u001b[0malpha\u001b[0m\u001b[1;33m=\u001b[0m\u001b[1;32mNone\u001b[0m\u001b[1;33m,\u001b[0m \u001b[0mmin_alpha\u001b[0m\u001b[1;33m=\u001b[0m\u001b[1;32mNone\u001b[0m\u001b[1;33m,\u001b[0m \u001b[0mepochs\u001b[0m\u001b[1;33m=\u001b[0m\u001b[1;32mNone\u001b[0m\u001b[1;33m,\u001b[0m \u001b[0msteps\u001b[0m\u001b[1;33m=\u001b[0m\u001b[1;32mNone\u001b[0m\u001b[1;33m)\u001b[0m\u001b[1;33m:\u001b[0m\u001b[1;33m\u001b[0m\u001b[1;33m\u001b[0m\u001b[0m\n\u001b[1;32m--> 735\u001b[1;33m         \u001b[1;32mreturn\u001b[0m \u001b[0mnp\u001b[0m\u001b[1;33m.\u001b[0m\u001b[0mconcatenate\u001b[0m\u001b[1;33m(\u001b[0m\u001b[1;33m[\u001b[0m\u001b[0mmodel\u001b[0m\u001b[1;33m.\u001b[0m\u001b[0minfer_vector\u001b[0m\u001b[1;33m(\u001b[0m\u001b[0mdocument\u001b[0m\u001b[1;33m,\u001b[0m \u001b[0malpha\u001b[0m\u001b[1;33m,\u001b[0m \u001b[0mmin_alpha\u001b[0m\u001b[1;33m,\u001b[0m \u001b[0mepochs\u001b[0m\u001b[1;33m,\u001b[0m \u001b[0msteps\u001b[0m\u001b[1;33m)\u001b[0m \u001b[1;32mfor\u001b[0m \u001b[0mmodel\u001b[0m \u001b[1;32min\u001b[0m \u001b[0mself\u001b[0m\u001b[1;33m.\u001b[0m\u001b[0mmodels\u001b[0m\u001b[1;33m]\u001b[0m\u001b[1;33m)\u001b[0m\u001b[1;33m\u001b[0m\u001b[1;33m\u001b[0m\u001b[0m\n\u001b[0m\u001b[0;32m    736\u001b[0m \u001b[1;33m\u001b[0m\u001b[0m\n\u001b[0;32m    737\u001b[0m     \u001b[1;32mdef\u001b[0m \u001b[0mtrain\u001b[0m\u001b[1;33m(\u001b[0m\u001b[0mself\u001b[0m\u001b[1;33m,\u001b[0m \u001b[1;33m*\u001b[0m\u001b[0mignore_args\u001b[0m\u001b[1;33m,\u001b[0m \u001b[1;33m**\u001b[0m\u001b[0mignore_kwargs\u001b[0m\u001b[1;33m)\u001b[0m\u001b[1;33m:\u001b[0m\u001b[1;33m\u001b[0m\u001b[1;33m\u001b[0m\u001b[0m\n",
      "\u001b[1;32m~\\anaconda3\\envs\\python36\\lib\\site-packages\\gensim\\models\\doc2vec.py\u001b[0m in \u001b[0;36minfer_vector\u001b[1;34m(self, doc_words, alpha, min_alpha, epochs, steps)\u001b[0m\n\u001b[0;32m    678\u001b[0m                 train_document_dbow(\n\u001b[0;32m    679\u001b[0m                     \u001b[0mself\u001b[0m\u001b[1;33m,\u001b[0m \u001b[0mdoc_words\u001b[0m\u001b[1;33m,\u001b[0m \u001b[0mdoctag_indexes\u001b[0m\u001b[1;33m,\u001b[0m \u001b[0malpha\u001b[0m\u001b[1;33m,\u001b[0m \u001b[0mwork\u001b[0m\u001b[1;33m,\u001b[0m\u001b[1;33m\u001b[0m\u001b[1;33m\u001b[0m\u001b[0m\n\u001b[1;32m--> 680\u001b[1;33m                     \u001b[0mlearn_words\u001b[0m\u001b[1;33m=\u001b[0m\u001b[1;32mFalse\u001b[0m\u001b[1;33m,\u001b[0m \u001b[0mlearn_hidden\u001b[0m\u001b[1;33m=\u001b[0m\u001b[1;32mFalse\u001b[0m\u001b[1;33m,\u001b[0m \u001b[0mdoctag_vectors\u001b[0m\u001b[1;33m=\u001b[0m\u001b[0mdoctag_vectors\u001b[0m\u001b[1;33m,\u001b[0m \u001b[0mdoctag_locks\u001b[0m\u001b[1;33m=\u001b[0m\u001b[0mdoctag_locks\u001b[0m\u001b[1;33m\u001b[0m\u001b[1;33m\u001b[0m\u001b[0m\n\u001b[0m\u001b[0;32m    681\u001b[0m                 )\n\u001b[0;32m    682\u001b[0m             \u001b[1;32melif\u001b[0m \u001b[0mself\u001b[0m\u001b[1;33m.\u001b[0m\u001b[0mdm_concat\u001b[0m\u001b[1;33m:\u001b[0m\u001b[1;33m\u001b[0m\u001b[1;33m\u001b[0m\u001b[0m\n",
      "\u001b[1;31mKeyboardInterrupt\u001b[0m: "
     ]
    }
   ],
   "source": [
    "src_dir = r'C:\\Users\\elizabeth\\Documents\\cleaned tweets\\cyber friends tweets'\n",
    "\n",
    "files = [file for file in os.listdir(src_dir) if os.path.isfile(os.path.join(src_dir, file))]\n",
    "logreg_model = logreg_new\n",
    "model = model_new\n",
    "\n",
    "with tqdm(total=len(files), desc='Files') as pbar:\n",
    "    i=0\n",
    "    for file in files:\n",
    "        df = pd.read_csv(os.path.join(src_dir, file), low_memory=False)\n",
    "        df = df[df.text != '']\n",
    "        df['clean_tweet'] = df['text'].apply(lambda x: clean_text(x))\n",
    "        test_tagged = df.apply(\n",
    "            lambda r: TaggedDocument(words=tokenize_text(r['clean_tweet']), tags=[r.screen_name]), axis=1)\n",
    "        X_test = get_vectors_apply(model, test_tagged)\n",
    "        df['y_pred'] = logreg_model.predict(X_test)\n",
    "        y_pred_score = logreg_model.predict_proba(X_test)\n",
    "        df2 = pd.DataFrame(y_pred_score)\n",
    "        df2.columns=logreg_model.classes_\n",
    "        df2['score'] = df2.max(axis=1)\n",
    "        df['score'] = df2['score']\n",
    "        df3 = df[['tweet_id','screen_name', 'text', 'y_pred', 'score']].copy()\n",
    "        df4 = pd.concat([df3, df2], axis=1)\n",
    "        df3.to_csv('topic_modelled_'+str(i)+'.csv', index=False)\n",
    "        df4.to_csv('all_topics_modelled_'+str(i)+'.csv', index=False)\n",
    "        print(df4.head())\n",
    "        pbar.update(1)\n",
    "        i = i+1\n"
   ]
  },
  {
   "cell_type": "markdown",
   "metadata": {},
   "source": [
    "# How are journalists interests are spread?"
   ]
  },
  {
   "cell_type": "markdown",
   "metadata": {},
   "source": [
    "first we need to drop the row where the classification has been less than 0.5, then we can pool over user_name"
   ]
  },
  {
   "cell_type": "code",
   "execution_count": null,
   "metadata": {},
   "outputs": [],
   "source": [
    "src_dir = r'C:\\Users\\elizabeth\\Documents\\Python Scripts\\all_topics_modelled'\n",
    "\n",
    "files = [file for file in os.listdir(src_dir) if os.path.isfile(os.path.join(src_dir, file))]\n",
    "ls = list(logreg_dmm.classes_)\n",
    "ls.insert(0, 'screen_name')\n",
    "df_totalled_topics = pd.DataFrame(columns=ls)\n",
    "\n",
    "df_totalled_topics"
   ]
  },
  {
   "cell_type": "code",
   "execution_count": null,
   "metadata": {},
   "outputs": [],
   "source": [
    "with tqdm(total=len(files), desc='Files') as pbar:\n",
    "    for file in files:\n",
    "        df = pd.read_csv(os.path.join(src_dir, file), low_memory=False)\n",
    "        df1 = df[~(df['score'] <= 0.5)] \n",
    "        df2 = df1.groupby('screen_name')['5g', 'IOT', 'ai', 'analyticsinvestment',\n",
    "                                        'apple', 'banking', 'beirut', 'belarus', 'blacklivesmatter',\n",
    "                                        'brexit', 'business', 'china', 'climatechange', 'cloud',\n",
    "                                        'covid19', 'crypto', 'cryptocurrency', 'cybersecurity', 'data',\n",
    "                                        'datascience', 'demconvention', 'economy', 'esg', 'fintech', 'gdpr',\n",
    "                                        'healthcare', 'hongkong', 'infosec', 'insurance', 'iran', 'jobs', 'leadership',\n",
    "                                        'machinelearning', 'mentalhealth', 'paymentsprivacy', 'phishing', 'podcast',\n",
    "                                        'property', 'regtech', 'retail', 'robotics', 'socialmedia', 'startup',\n",
    "                                        'sustainability', 'syria', 'vr', 'webinar', 'womenintech'].sum()\n",
    "        df_totalled_topics = pd.concat([df_totalled_topics, df2])\n",
    "        pbar.update(1)\n",
    "df_totalled_topics.head()\n"
   ]
  },
  {
   "cell_type": "code",
   "execution_count": null,
   "metadata": {},
   "outputs": [],
   "source": [
    "df_totalled_topics['total'] = df_totalled_topics.sum(axis = 1)"
   ]
  },
  {
   "cell_type": "code",
   "execution_count": null,
   "metadata": {},
   "outputs": [],
   "source": [
    "df3 = df_totalled_topics[['5g', 'IOT', 'ai', 'analyticsinvestment',\n",
    "                        'apple', 'banking', 'beirut', 'belarus', 'blacklivesmatter',\n",
    "                        'brexit', 'business', 'china', 'climatechange', 'cloud',\n",
    "                        'covid19', 'crypto', 'cryptocurrency', 'cybersecurity', 'data',\n",
    "                        'datascience', 'demconvention', 'economy', 'esg', 'fintech', 'gdpr',\n",
    "                        'healthcare', 'hongkong', 'infosec', 'insurance', 'iran', 'jobs', 'leadership',\n",
    "                        'machinelearning', 'mentalhealth', 'paymentsprivacy', 'phishing', 'podcast',\n",
    "                        'property', 'regtech', 'retail', 'robotics', 'socialmedia', 'startup',\n",
    "                        'sustainability', 'syria', 'vr', 'webinar', 'womenintech', 'total']].div(df_totalled_topics.total, axis=0)\n",
    "df3 = df3.drop(['total'], axis=1)\n",
    "df3.reset_index(inplace=True)"
   ]
  },
  {
   "cell_type": "code",
   "execution_count": null,
   "metadata": {},
   "outputs": [],
   "source": [
    "df3 = df3.rename(columns={'index': 'user_name'})\n",
    "df3"
   ]
  },
  {
   "cell_type": "code",
   "execution_count": null,
   "metadata": {},
   "outputs": [],
   "source": [
    "df3.to_csv('user_name_topics_summed.csv', index=False)\n"
   ]
  },
  {
   "cell_type": "code",
   "execution_count": null,
   "metadata": {},
   "outputs": [],
   "source": [
    "df4 = df3.set_index('user_name')"
   ]
  },
  {
   "cell_type": "code",
   "execution_count": null,
   "metadata": {
    "scrolled": true
   },
   "outputs": [],
   "source": [
    "\n",
    "\n",
    "x = [0, 0.01, 0.02, 0.03, 0.04, 0.05, 0.06]\n",
    "labels = list(df4.columns)\n",
    "row1 = df4.iloc[0]\n",
    "row1.plot(kind='bar',title='Oxchich', color='r',stacked=False, figsize=(15,5))\n",
    "\n",
    "\n",
    "\n"
   ]
  },
  {
   "cell_type": "code",
   "execution_count": null,
   "metadata": {},
   "outputs": [],
   "source": [
    "x = [0, 0.01, 0.02, 0.03, 0.04, 0.05, 0.06]\n",
    "labels = list(df2.columns)\n",
    "row1 = df2.iloc[1]\n",
    "row1.plot(kind='bar',title='_benkatz', color='r',stacked=False, figsize=(15,5))\n"
   ]
  },
  {
   "cell_type": "code",
   "execution_count": null,
   "metadata": {},
   "outputs": [],
   "source": [
    "x = [0, 0.01, 0.02, 0.03, 0.04, 0.05, 0.06]\n",
    "labels = list(df4.columns)\n",
    "row1 = df4.iloc[0]\n",
    "row1.plot(kind='bar',title='_john_handel', color='r',stacked=False, figsize=(15,5))"
   ]
  },
  {
   "cell_type": "markdown",
   "metadata": {},
   "source": [
    "# Wordclouds for a sense check "
   ]
  },
  {
   "cell_type": "code",
   "execution_count": null,
   "metadata": {},
   "outputs": [],
   "source": [
    "!pip install wordcloud\n"
   ]
  },
  {
   "cell_type": "code",
   "execution_count": null,
   "metadata": {},
   "outputs": [],
   "source": [
    "from os import path\n",
    "from PIL import Image\n",
    "from wordcloud import WordCloud, STOPWORDS, ImageColorGenerator\n",
    "import matplotlib.pyplot as plt"
   ]
  },
  {
   "cell_type": "code",
   "execution_count": null,
   "metadata": {},
   "outputs": [],
   "source": [
    "def wordcloud_plot(text):\n",
    "    wordcloud = WordCloud(collocations=False, \n",
    "                          width = 1000, \n",
    "                          height = 700, \n",
    "                          background_color ='white', \n",
    "                          min_font_size = 10).generate(text)\n",
    "    \n",
    "    plt.figure(figsize = (8,8))\n",
    "    plt.imshow(wordcloud, interpolation='bilinear')\n",
    "    plt.axis(\"off\")\n",
    "    plt.tight_layout(pad = 0)\n",
    "    plt.show()"
   ]
  },
  {
   "cell_type": "code",
   "execution_count": null,
   "metadata": {
    "scrolled": true
   },
   "outputs": [],
   "source": [
    "src_dir = r'C:\\Users\\elizabeth\\Documents\\Python Scripts\\cyber_topic_modelled'\n",
    "\n",
    "files = [file for file in os.listdir(src_dir) if os.path.isfile(os.path.join(src_dir, file))]\n",
    "with tqdm(total=len(files), desc='Files') as pbar:\n",
    "    for file in files[:5]:\n",
    "        df = pd.read_csv(os.path.join(src_dir, file), low_memory=False)\n",
    "        df1 = df.groupby(['y_pred'])[['text']].sum()\n",
    "        pbar.update(1)\n",
    "        \n",
    "\n"
   ]
  },
  {
   "cell_type": "code",
   "execution_count": null,
   "metadata": {},
   "outputs": [],
   "source": [
    "df1.head(3).style.set_properties(subset=['text'], **{'width':'1000px'})"
   ]
  },
  {
   "cell_type": "code",
   "execution_count": null,
   "metadata": {},
   "outputs": [],
   "source": [
    "wordcloud_plot(df1['text'][0])\n"
   ]
  },
  {
   "cell_type": "code",
   "execution_count": null,
   "metadata": {},
   "outputs": [],
   "source": [
    "wordcloud_plot(df1['text'][1])"
   ]
  },
  {
   "cell_type": "code",
   "execution_count": null,
   "metadata": {},
   "outputs": [],
   "source": [
    "wordcloud_plot(df1['text'][2])"
   ]
  }
 ],
 "metadata": {
  "kernelspec": {
   "display_name": "Python 3",
   "language": "python",
   "name": "python3"
  },
  "language_info": {
   "codemirror_mode": {
    "name": "ipython",
    "version": 3
   },
   "file_extension": ".py",
   "mimetype": "text/x-python",
   "name": "python",
   "nbconvert_exporter": "python",
   "pygments_lexer": "ipython3",
   "version": "3.6.10"
  }
 },
 "nbformat": 4,
 "nbformat_minor": 4
}
