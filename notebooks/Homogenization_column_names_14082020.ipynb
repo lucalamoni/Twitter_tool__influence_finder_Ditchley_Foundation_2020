{
 "cells": [
  {
   "cell_type": "code",
   "execution_count": null,
   "metadata": {},
   "outputs": [],
   "source": [
    "import pandas as pd\n",
    "import seaborn as sns\n",
    "import matplotlib.pyplot as plt"
   ]
  },
  {
   "cell_type": "code",
   "execution_count": null,
   "metadata": {},
   "outputs": [],
   "source": [
    "df_API = pd.read_csv(r\"C:\\Users\\Luca\\Refactoring\\cyber_tweets_12082020.csv\")"
   ]
  },
  {
   "cell_type": "code",
   "execution_count": null,
   "metadata": {},
   "outputs": [],
   "source": [
    "df_twint = pd.read_csv(r\"C:\\Users\\Luca\\Refactoring\\twint_cyber_13082020c.csv\")"
   ]
  },
  {
   "cell_type": "code",
   "execution_count": null,
   "metadata": {},
   "outputs": [],
   "source": [
    "len(df_API)"
   ]
  },
  {
   "cell_type": "code",
   "execution_count": null,
   "metadata": {},
   "outputs": [],
   "source": [
    "len(df_twint)"
   ]
  },
  {
   "cell_type": "code",
   "execution_count": null,
   "metadata": {},
   "outputs": [],
   "source": [
    "list(df_API.columns)"
   ]
  },
  {
   "cell_type": "code",
   "execution_count": null,
   "metadata": {},
   "outputs": [],
   "source": [
    "list(df_twint.columns)"
   ]
  },
  {
   "cell_type": "code",
   "execution_count": null,
   "metadata": {},
   "outputs": [],
   "source": [
    "df_API['text'][52]"
   ]
  },
  {
   "cell_type": "code",
   "execution_count": null,
   "metadata": {},
   "outputs": [],
   "source": [
    "df_twint['tweet'][0]"
   ]
  },
  {
   "cell_type": "code",
   "execution_count": null,
   "metadata": {},
   "outputs": [],
   "source": [
    "df_API['tweet_id'][52]"
   ]
  },
  {
   "cell_type": "code",
   "execution_count": null,
   "metadata": {},
   "outputs": [],
   "source": [
    "df_twint['conversation_id'][2]"
   ]
  },
  {
   "cell_type": "code",
   "execution_count": null,
   "metadata": {},
   "outputs": [],
   "source": [
    "df_API['tweet_id'][52] == df_twint['conversation_id'][2]"
   ]
  },
  {
   "cell_type": "code",
   "execution_count": null,
   "metadata": {},
   "outputs": [],
   "source": [
    "1289299875943730000 == 1289299875943730000"
   ]
  },
  {
   "cell_type": "code",
   "execution_count": null,
   "metadata": {},
   "outputs": [],
   "source": [
    "#subset fpr last year\n",
    "df1 = df_API['tweet_created_at'].str.split(expand=True)\n",
    "df1.columns = ['date', 'time']\n",
    "df_date = df1['date'].str.split('-', expand=True)\n",
    "df_date.columns = ['year', 'month', 'date']\n",
    "df_time = df1['time'].str.split(':', expand=True)\n",
    "df_time.columns = ['hour', 'minute', 'second']\n",
    "df_date_time = pd.concat((df_date, df_time), axis=1)\n",
    "df_date_time.head()\n",
    "df_API = pd.concat((df_API, df_date_time), axis=1)"
   ]
  },
  {
   "cell_type": "code",
   "execution_count": null,
   "metadata": {},
   "outputs": [],
   "source": [
    "df_API['date1'] = pd.to_datetime(df1['date'], format='%Y-%m-%d')\n",
    "mask = (df_API['date1'] > '2019-08-01') & (df_API['date'] <= '2020-08-01')\n",
    "df_API.loc[mask]\n",
    "df_API_subset = df_API.loc[mask]\n",
    "len(df_API_subset)"
   ]
  },
  {
   "cell_type": "code",
   "execution_count": null,
   "metadata": {},
   "outputs": [],
   "source": [
    "import seaborn as sns\n",
    "import matplotlib.pyplot as plt\n",
    "fig, ax = plt.subplots(figsize=(20,10))\n",
    "ax = sns.countplot(x=df_API_subset['screen_name'])"
   ]
  },
  {
   "cell_type": "code",
   "execution_count": null,
   "metadata": {},
   "outputs": [],
   "source": [
    "fig, ax = plt.subplots(figsize=(20,10))\n",
    "ax = sns.countplot(x=df_twint['username'])"
   ]
  },
  {
   "cell_type": "code",
   "execution_count": null,
   "metadata": {},
   "outputs": [],
   "source": [
    "# education\n",
    "df_API_edu = pd.read_csv(r\"C:/Users/Luca/Aug20_Ditchley/notebooks/education_tweets.csv\")\n",
    "df_twint_edu = pd.read_csv(r\"C:/Users/Luca/Aug20_Ditchley/notebooks/twint_education_13082020.csv\")"
   ]
  },
  {
   "cell_type": "code",
   "execution_count": null,
   "metadata": {},
   "outputs": [],
   "source": [
    "#subset fpr last year\n",
    "df1 = df_API_edu['created_at'].str.split(expand=True)\n",
    "df1.columns = ['date', 'time']\n",
    "df_date = df1['date'].str.split('-', expand=True)\n",
    "df_date.columns = ['year', 'month', 'date']\n",
    "df_time = df1['time'].str.split(':', expand=True)\n",
    "df_time.columns = ['hour', 'minute', 'second']\n",
    "df_date_time = pd.concat((df_date, df_time), axis=1)\n",
    "df_date_time.head()\n",
    "df_API_edu = pd.concat((df_API_edu, df_date_time), axis=1)"
   ]
  },
  {
   "cell_type": "code",
   "execution_count": null,
   "metadata": {},
   "outputs": [],
   "source": [
    "df_API_edu['date1'] = pd.to_datetime(df1['date'], format='%Y-%m-%d')\n",
    "mask = (df_API_edu['date1'] > '2019-08-01') & (df_API_edu['date'] <= '2020-08-01')\n",
    "df_API_edu.loc[mask]\n",
    "df_API_edu_subset = df_API_edu.loc[mask]\n",
    "len(df_API_edu_subset)"
   ]
  },
  {
   "cell_type": "code",
   "execution_count": null,
   "metadata": {},
   "outputs": [],
   "source": [
    "fig, ax = plt.subplots(figsize=(20,10))\n",
    "ax = sns.countplot(x=df_API_edu_subset['screen_name'])\n",
    "ax.set_ylim([0, 5000])"
   ]
  },
  {
   "cell_type": "code",
   "execution_count": null,
   "metadata": {},
   "outputs": [],
   "source": [
    "fig, ax = plt.subplots(figsize=(20,10))\n",
    "ax = sns.countplot(x=df_twint_edu['username'])\n",
    "ax.set_ylim([0, 5000])"
   ]
  },
  {
   "cell_type": "code",
   "execution_count": null,
   "metadata": {},
   "outputs": [],
   "source": [
    "len(df_twint_edu.username.unique())"
   ]
  },
  {
   "cell_type": "code",
   "execution_count": null,
   "metadata": {},
   "outputs": [],
   "source": [
    "len(df_API_edu.screen_name.unique())"
   ]
  },
  {
   "cell_type": "code",
   "execution_count": null,
   "metadata": {},
   "outputs": [],
   "source": [
    "# education\n",
    "df_API_poli = pd.read_csv(r\"C:/Users/Luca/Aug20_Ditchley/notebooks/politic_tweets_14082020.csv\")\n"
   ]
  },
  {
   "cell_type": "code",
   "execution_count": null,
   "metadata": {},
   "outputs": [],
   "source": [
    "#subset fpr last year\n",
    "df1 = df_API_poli['tweet_created_at'].str.split(expand=True)\n",
    "df1.columns = ['date', 'time']\n",
    "df_date = df1['date'].str.split('-', expand=True)\n",
    "df_date.columns = ['year', 'month', 'date']\n",
    "df_time = df1['time'].str.split(':', expand=True)\n",
    "df_time.columns = ['hour', 'minute', 'second']\n",
    "df_date_time = pd.concat((df_date, df_time), axis=1)\n",
    "df_date_time.head()\n",
    "df_API_poli = pd.concat((df_API_poli, df_date_time), axis=1)"
   ]
  },
  {
   "cell_type": "code",
   "execution_count": null,
   "metadata": {},
   "outputs": [],
   "source": [
    "df_twint_poli = pd.read_csv(r\"C:/Users/Luca/Aug20_Ditchley/notebooks/twint_politic_16082020_with_index.csv\")"
   ]
  },
  {
   "cell_type": "code",
   "execution_count": 1,
   "metadata": {},
   "outputs": [],
   "source": [
    "#####################################################################################################\n",
    "#####################################################################################################\n",
    "#Test to homogenize the two cyber datasets\n",
    "import seaborn as sns\n",
    "import matplotlib.pyplot as plt\n",
    "import pandas as pd\n",
    "\n",
    "\n",
    "#For tweets:\n",
    "#tweet_id, user_id, in_reply_to_status_id,\n",
    "#tweet_created_at, text, retweet_count, favourite_count, hashtags, mentions, topics\n",
    "\n",
    "#For users:\n",
    "#user_id, name, screen_name, location, user_description, user_friends_n, \n",
    "#user_followers_n, prof_created_at, favourites_count, verified, statuses_count, topics"
   ]
  },
  {
   "cell_type": "code",
   "execution_count": null,
   "metadata": {},
   "outputs": [],
   "source": []
  },
  {
   "cell_type": "code",
   "execution_count": 2,
   "metadata": {},
   "outputs": [],
   "source": [
    "df_API_cyber = pd.read_csv(r\"C:/Users/Luca/Aug20_Ditchley/data/processed/cyber_tweets_12082020.csv\")\n",
    "df_twint_cyber = pd.read_csv(r\"C:/Users/Luca/Aug20_Ditchley/data/processed/twint_cyber_16082020_inParallel_with_index.csv\")"
   ]
  },
  {
   "cell_type": "code",
   "execution_count": 3,
   "metadata": {},
   "outputs": [
    {
     "data": {
      "text/plain": [
       "['Unnamed: 0',\n",
       " 'user_id',\n",
       " 'name',\n",
       " 'screen_name',\n",
       " 'location',\n",
       " 'user_description',\n",
       " 'user_friends_n',\n",
       " 'user_followers_n',\n",
       " 'listed_count',\n",
       " 'prof_created_at',\n",
       " 'favourites_count',\n",
       " 'verified',\n",
       " 'statuses_count',\n",
       " 'contributors_enabled',\n",
       " 'tweet_created_at',\n",
       " 'tweet_id',\n",
       " 'text',\n",
       " 'truncated',\n",
       " 'display_text_range',\n",
       " 'source',\n",
       " 'source_url',\n",
       " 'in_reply_to_status_id',\n",
       " 'in_reply_to_user_id',\n",
       " 'in_reply_to_screen_name',\n",
       " 'is_quote_status',\n",
       " 'retweet_count',\n",
       " 'favourite_count',\n",
       " 'hashtags',\n",
       " 'mentions',\n",
       " 'source_device',\n",
       " 'retweeted',\n",
       " 'retweet_text',\n",
       " 'quote_text',\n",
       " 'quote_screen_name']"
      ]
     },
     "execution_count": 3,
     "metadata": {},
     "output_type": "execute_result"
    }
   ],
   "source": [
    "list(df_API_cyber.columns)"
   ]
  },
  {
   "cell_type": "code",
   "execution_count": 4,
   "metadata": {},
   "outputs": [
    {
     "data": {
      "text/plain": [
       "['Unnamed: 0',\n",
       " 'id',\n",
       " 'conversation_id',\n",
       " 'created_at',\n",
       " 'date',\n",
       " 'time',\n",
       " 'timezone',\n",
       " 'user_id',\n",
       " 'username',\n",
       " 'name',\n",
       " 'place',\n",
       " 'tweet',\n",
       " 'mentions',\n",
       " 'urls',\n",
       " 'photos',\n",
       " 'replies_count',\n",
       " 'retweets_count',\n",
       " 'likes_count',\n",
       " 'hashtags',\n",
       " 'cashtags',\n",
       " 'link',\n",
       " 'retweet',\n",
       " 'quote_url',\n",
       " 'video',\n",
       " 'near',\n",
       " 'geo',\n",
       " 'source',\n",
       " 'user_rt_id',\n",
       " 'user_rt',\n",
       " 'retweet_id',\n",
       " 'reply_to',\n",
       " 'retweet_date',\n",
       " 'translate',\n",
       " 'trans_src',\n",
       " 'trans_dest']"
      ]
     },
     "execution_count": 4,
     "metadata": {},
     "output_type": "execute_result"
    }
   ],
   "source": [
    "list(df_twint_cyber.columns)"
   ]
  },
  {
   "cell_type": "code",
   "execution_count": 53,
   "metadata": {},
   "outputs": [
    {
     "data": {
      "text/plain": [
       "array(['jennystrasburg', 'dannsimmons', 'leokelion', 'gordoncorera',\n",
       "       'joetidy', '_lucyingham', 'dannyjpalmer', 'sophiafurber',\n",
       "       'scfgallagher', 'mshannahmurphy', 'jesscahaworth', 'ad_nauseum74'],\n",
       "      dtype=object)"
      ]
     },
     "execution_count": 53,
     "metadata": {},
     "output_type": "execute_result"
    }
   ],
   "source": [
    "df_API_cyber.screen_name.unique()"
   ]
  },
  {
   "cell_type": "code",
   "execution_count": 51,
   "metadata": {},
   "outputs": [
    {
     "data": {
      "text/plain": [
       "array(['jennystrasburg', 'dannsimmons', 'leokelion', 'gordoncorera',\n",
       "       'joetidy', '_lucyingham', 'dannyjpalmer', 'sophiafurber',\n",
       "       'scfgallagher', 'mshannahmurphy', 'jesscahaworth', 'ad_nauseum74'],\n",
       "      dtype=object)"
      ]
     },
     "execution_count": 51,
     "metadata": {},
     "output_type": "execute_result"
    }
   ],
   "source": [
    "df_twint_cyber.username.unique()"
   ]
  },
  {
   "cell_type": "code",
   "execution_count": null,
   "metadata": {},
   "outputs": [],
   "source": [
    "df_twint_cyber['id'] == df_twint_cyber['conversation_id']"
   ]
  },
  {
   "cell_type": "code",
   "execution_count": null,
   "metadata": {},
   "outputs": [],
   "source": [
    "df_twint_cyber['id'][5]"
   ]
  },
  {
   "cell_type": "code",
   "execution_count": null,
   "metadata": {},
   "outputs": [],
   "source": [
    "1287105359526620000 == 1287105359526620000"
   ]
  },
  {
   "cell_type": "code",
   "execution_count": null,
   "metadata": {},
   "outputs": [],
   "source": [
    "1286939825778700000 == 1286939825778700000"
   ]
  },
  {
   "cell_type": "code",
   "execution_count": null,
   "metadata": {},
   "outputs": [],
   "source": [
    "df_twint_cyber['conversation_id'][7]"
   ]
  },
  {
   "cell_type": "code",
   "execution_count": 58,
   "metadata": {},
   "outputs": [],
   "source": [
    "cyber_tweets_1608202 = pd.DataFrame(columns = [#tweet info\n",
    "                                                'tweet_id', 'conversation_id','user_id', 'in_reply_to_status_id',\n",
    "                                                'tweet_created_at_date','tweet_created_at_time', 'text','replies_count', \n",
    "                                                'retweets_count', 'favourite_count','likes_count',\n",
    "                                               'hashtags', 'topics', \n",
    "                                               #user info\n",
    "                                               'user_id', 'screen_name',  'name',\n",
    "                                               'location', 'user_description', 'user_friends_n', 'user_followers_n', \n",
    "                                               'prof_created_at', 'favourites_count', 'verified', 'statuses_count'])\n",
    "cyber_tweets_1608202['tweet_id'] = df_twint_cyber['id']\n",
    "cyber_tweets_1608202['conversation_id'] = df_twint_cyber['conversation_id']\n",
    "cyber_tweets_1608202['user_id'] = df_twint_cyber['user_id']\n",
    "cyber_tweets_1608202['in_reply_to_status_id'] = df_twint_cyber['reply_to']\n",
    "cyber_tweets_1608202['tweet_created_at_date'] = df_twint_cyber['date']\n",
    "cyber_tweets_1608202['tweet_created_at_time'] = df_twint_cyber['time']\n",
    "cyber_tweets_1608202['text'] = df_twint_cyber['tweet']\n",
    "cyber_tweets_1608202['replies_count'] = df_twint_cyber['replies_count']\n",
    "cyber_tweets_1608202['retweets_count'] = df_twint_cyber['retweets_count']\n",
    "cyber_tweets_1608202['likes_count'] = df_twint_cyber['likes_count']\n",
    "cyber_tweets_1608202['hashtags'] = df_twint_cyber['hashtags']\n",
    "#cyber_tweets_1608202['mentions'] = df_twint_cyber['mentions']\n",
    "cyber_tweets_1608202['user_id'] = df_twint_cyber['user_id']\n",
    "cyber_tweets_1608202['screen_name'] = df_twint_cyber['username']"
   ]
  },
  {
   "cell_type": "code",
   "execution_count": 17,
   "metadata": {},
   "outputs": [
    {
     "data": {
      "text/plain": [
       "0    jennystrasburg\n",
       "1    jennystrasburg\n",
       "2    jennystrasburg\n",
       "3    jennystrasburg\n",
       "4    jennystrasburg\n",
       "Name: screen_name, dtype: object"
      ]
     },
     "execution_count": 17,
     "metadata": {},
     "output_type": "execute_result"
    }
   ],
   "source": [
    "cyber_tweets_1608202['screen_name'].head()\n"
   ]
  },
  {
   "cell_type": "code",
   "execution_count": null,
   "metadata": {},
   "outputs": [],
   "source": [
    "cyber_tweets_1608202['user_id'] = df_twint_cyber['user_id']\n",
    "\n",
    "cyber_tweets_1608202['screen_name'] = df_twint_cyber['username']\n",
    "\n",
    "#cyber_tweets_1608202['name'] = df_twint_cyber['name']"
   ]
  },
  {
   "cell_type": "code",
   "execution_count": 59,
   "metadata": {},
   "outputs": [],
   "source": [
    "# make sure all usernames are lowercase\n",
    "df_API_cyber.screen_name = df_API_cyber.screen_name.str.lower()"
   ]
  },
  {
   "cell_type": "code",
   "execution_count": 60,
   "metadata": {},
   "outputs": [],
   "source": [
    "for name_i in df_API_cyber.screen_name.unique():\n",
    "    \n",
    "    name_index = df_API_cyber[df_API_cyber.screen_name == name_i].first_valid_index()\n",
    "    \n",
    "    cyber_tweets_1608202.loc[cyber_tweets_1608202['screen_name']==name_i, 'name'] = df_API_cyber.name[name_index]\n",
    "    \n",
    "    cyber_tweets_1608202.loc[cyber_tweets_1608202['screen_name']==name_i, 'location'] = df_API_cyber.location[name_index]\n",
    "    \n",
    "    cyber_tweets_1608202.loc[cyber_tweets_1608202['screen_name']==name_i, 'user_description'] = df_API_cyber.user_description[name_index]\n",
    "    \n",
    "    cyber_tweets_1608202.loc[cyber_tweets_1608202['screen_name']==name_i, 'user_friends_n'] = df_API_cyber.user_friends_n[name_index]\n",
    "    \n",
    "    cyber_tweets_1608202.loc[cyber_tweets_1608202['screen_name']==name_i, 'user_followers_n'] = df_API_cyber.user_followers_n[name_index]\n",
    "    \n",
    "    cyber_tweets_1608202.loc[cyber_tweets_1608202['screen_name']==name_i, 'prof_created_at'] = df_API_cyber.prof_created_at[name_index]\n",
    "    \n",
    "    cyber_tweets_1608202.loc[cyber_tweets_1608202['screen_name']==name_i, 'favourites_count'] = df_API_cyber.favourites_count[name_index]\n",
    "    \n",
    "    cyber_tweets_1608202.loc[cyber_tweets_1608202['screen_name']==name_i, 'verified'] = df_API_cyber.verified[name_index]\n",
    "    \n",
    "    cyber_tweets_1608202.loc[cyber_tweets_1608202['screen_name']==name_i, 'statuses_count'] = df_API_cyber.statuses_count[name_index]\n",
    "    \n",
    "  \n",
    "    \n",
    "    \n",
    "    \n",
    "    #for username_i in cyber_tweets_1608202['screen_name']:\n",
    "        #if username_i == name_i:\n",
    "            #cyber_tweets_1608202['name'][username_i] = df_API_cyber.name[name_index]\n",
    "            \n",
    "    #cyber_tweets_1608202['name'][name_i] = df_API_cyber.name[name_index]\n",
    "    #print(name_index)\n",
    "    \n",
    "    "
   ]
  },
  {
   "cell_type": "code",
   "execution_count": 61,
   "metadata": {},
   "outputs": [],
   "source": [
    "cyber_tweets_1608202.to_csv(r\"C:/Users/Luca/Aug20_Ditchley/data/processed/standardised_cyber_tweets.csv\")"
   ]
  },
  {
   "cell_type": "code",
   "execution_count": 55,
   "metadata": {},
   "outputs": [
    {
     "data": {
      "text/html": [
       "<div>\n",
       "<style scoped>\n",
       "    .dataframe tbody tr th:only-of-type {\n",
       "        vertical-align: middle;\n",
       "    }\n",
       "\n",
       "    .dataframe tbody tr th {\n",
       "        vertical-align: top;\n",
       "    }\n",
       "\n",
       "    .dataframe thead th {\n",
       "        text-align: right;\n",
       "    }\n",
       "</style>\n",
       "<table border=\"1\" class=\"dataframe\">\n",
       "  <thead>\n",
       "    <tr style=\"text-align: right;\">\n",
       "      <th></th>\n",
       "      <th>tweet_id</th>\n",
       "      <th>conversation_id</th>\n",
       "      <th>user_id</th>\n",
       "      <th>in_reply_to_status_id</th>\n",
       "      <th>tweet_created_at_date</th>\n",
       "      <th>tweet_created_at_time</th>\n",
       "      <th>text</th>\n",
       "      <th>replies_count</th>\n",
       "      <th>retweets_count</th>\n",
       "      <th>favourite_count</th>\n",
       "      <th>...</th>\n",
       "      <th>name</th>\n",
       "      <th>location</th>\n",
       "      <th>user_description</th>\n",
       "      <th>user_friends_n</th>\n",
       "      <th>user_followers_n</th>\n",
       "      <th>prof_created_at</th>\n",
       "      <th>favourites_count</th>\n",
       "      <th>verified</th>\n",
       "      <th>statuses_count</th>\n",
       "      <th>topics</th>\n",
       "    </tr>\n",
       "  </thead>\n",
       "  <tbody>\n",
       "    <tr>\n",
       "      <th>12053</th>\n",
       "      <td>1188749859450490880</td>\n",
       "      <td>1188749859450490880</td>\n",
       "      <td>1186245031507693574</td>\n",
       "      <td>[{'user_id': '1186245031507693574', 'username'...</td>\n",
       "      <td>2019-10-28</td>\n",
       "      <td>10:30:27</td>\n",
       "      <td>City of Johannesburg shut down its website and...</td>\n",
       "      <td>0</td>\n",
       "      <td>0</td>\n",
       "      <td>NaN</td>\n",
       "      <td>...</td>\n",
       "      <td>Adam Bannister</td>\n",
       "      <td>NaN</td>\n",
       "      <td>Journalist, The Daily Swig. Cybersecurity.</td>\n",
       "      <td>365</td>\n",
       "      <td>128</td>\n",
       "      <td>2019-10-21 11:38:12</td>\n",
       "      <td>110</td>\n",
       "      <td>False</td>\n",
       "      <td>274</td>\n",
       "      <td>NaN</td>\n",
       "    </tr>\n",
       "    <tr>\n",
       "      <th>12054</th>\n",
       "      <td>1187650193635844096</td>\n",
       "      <td>1187650193635844096</td>\n",
       "      <td>1186245031507693574</td>\n",
       "      <td>[{'user_id': '1186245031507693574', 'username'...</td>\n",
       "      <td>2019-10-25</td>\n",
       "      <td>10:40:46</td>\n",
       "      <td>Portswigger submits plans for swish new site t...</td>\n",
       "      <td>0</td>\n",
       "      <td>0</td>\n",
       "      <td>NaN</td>\n",
       "      <td>...</td>\n",
       "      <td>Adam Bannister</td>\n",
       "      <td>NaN</td>\n",
       "      <td>Journalist, The Daily Swig. Cybersecurity.</td>\n",
       "      <td>365</td>\n",
       "      <td>128</td>\n",
       "      <td>2019-10-21 11:38:12</td>\n",
       "      <td>110</td>\n",
       "      <td>False</td>\n",
       "      <td>274</td>\n",
       "      <td>NaN</td>\n",
       "    </tr>\n",
       "    <tr>\n",
       "      <th>12055</th>\n",
       "      <td>1187645133690490881</td>\n",
       "      <td>1187645133690490881</td>\n",
       "      <td>1186245031507693574</td>\n",
       "      <td>[{'user_id': '1186245031507693574', 'username'...</td>\n",
       "      <td>2019-10-25</td>\n",
       "      <td>10:20:39</td>\n",
       "      <td>Congressman's phone password is 111111 https:/...</td>\n",
       "      <td>0</td>\n",
       "      <td>0</td>\n",
       "      <td>NaN</td>\n",
       "      <td>...</td>\n",
       "      <td>Adam Bannister</td>\n",
       "      <td>NaN</td>\n",
       "      <td>Journalist, The Daily Swig. Cybersecurity.</td>\n",
       "      <td>365</td>\n",
       "      <td>128</td>\n",
       "      <td>2019-10-21 11:38:12</td>\n",
       "      <td>110</td>\n",
       "      <td>False</td>\n",
       "      <td>274</td>\n",
       "      <td>NaN</td>\n",
       "    </tr>\n",
       "    <tr>\n",
       "      <th>12056</th>\n",
       "      <td>1187298996341166080</td>\n",
       "      <td>1187059493592616960</td>\n",
       "      <td>1186245031507693574</td>\n",
       "      <td>[{'user_id': '1186245031507693574', 'username'...</td>\n",
       "      <td>2019-10-24</td>\n",
       "      <td>11:25:14</td>\n",
       "      <td>You're most welcome!</td>\n",
       "      <td>0</td>\n",
       "      <td>0</td>\n",
       "      <td>NaN</td>\n",
       "      <td>...</td>\n",
       "      <td>Adam Bannister</td>\n",
       "      <td>NaN</td>\n",
       "      <td>Journalist, The Daily Swig. Cybersecurity.</td>\n",
       "      <td>365</td>\n",
       "      <td>128</td>\n",
       "      <td>2019-10-21 11:38:12</td>\n",
       "      <td>110</td>\n",
       "      <td>False</td>\n",
       "      <td>274</td>\n",
       "      <td>NaN</td>\n",
       "    </tr>\n",
       "    <tr>\n",
       "      <th>12057</th>\n",
       "      <td>1186677212617039875</td>\n",
       "      <td>1186677212617039875</td>\n",
       "      <td>1186245031507693574</td>\n",
       "      <td>[{'user_id': '1186245031507693574', 'username'...</td>\n",
       "      <td>2019-10-22</td>\n",
       "      <td>18:14:29</td>\n",
       "      <td>Reputations of three popular VPN providers who...</td>\n",
       "      <td>0</td>\n",
       "      <td>0</td>\n",
       "      <td>NaN</td>\n",
       "      <td>...</td>\n",
       "      <td>Adam Bannister</td>\n",
       "      <td>NaN</td>\n",
       "      <td>Journalist, The Daily Swig. Cybersecurity.</td>\n",
       "      <td>365</td>\n",
       "      <td>128</td>\n",
       "      <td>2019-10-21 11:38:12</td>\n",
       "      <td>110</td>\n",
       "      <td>False</td>\n",
       "      <td>274</td>\n",
       "      <td>NaN</td>\n",
       "    </tr>\n",
       "  </tbody>\n",
       "</table>\n",
       "<p>5 rows × 25 columns</p>\n",
       "</div>"
      ],
      "text/plain": [
       "                  tweet_id      conversation_id              user_id  \\\n",
       "12053  1188749859450490880  1188749859450490880  1186245031507693574   \n",
       "12054  1187650193635844096  1187650193635844096  1186245031507693574   \n",
       "12055  1187645133690490881  1187645133690490881  1186245031507693574   \n",
       "12056  1187298996341166080  1187059493592616960  1186245031507693574   \n",
       "12057  1186677212617039875  1186677212617039875  1186245031507693574   \n",
       "\n",
       "                                   in_reply_to_status_id  \\\n",
       "12053  [{'user_id': '1186245031507693574', 'username'...   \n",
       "12054  [{'user_id': '1186245031507693574', 'username'...   \n",
       "12055  [{'user_id': '1186245031507693574', 'username'...   \n",
       "12056  [{'user_id': '1186245031507693574', 'username'...   \n",
       "12057  [{'user_id': '1186245031507693574', 'username'...   \n",
       "\n",
       "      tweet_created_at_date tweet_created_at_time  \\\n",
       "12053            2019-10-28              10:30:27   \n",
       "12054            2019-10-25              10:40:46   \n",
       "12055            2019-10-25              10:20:39   \n",
       "12056            2019-10-24              11:25:14   \n",
       "12057            2019-10-22              18:14:29   \n",
       "\n",
       "                                                    text  replies_count  \\\n",
       "12053  City of Johannesburg shut down its website and...              0   \n",
       "12054  Portswigger submits plans for swish new site t...              0   \n",
       "12055  Congressman's phone password is 111111 https:/...              0   \n",
       "12056                               You're most welcome!              0   \n",
       "12057  Reputations of three popular VPN providers who...              0   \n",
       "\n",
       "       retweets_count favourite_count  ...            name location  \\\n",
       "12053               0             NaN  ...  Adam Bannister      NaN   \n",
       "12054               0             NaN  ...  Adam Bannister      NaN   \n",
       "12055               0             NaN  ...  Adam Bannister      NaN   \n",
       "12056               0             NaN  ...  Adam Bannister      NaN   \n",
       "12057               0             NaN  ...  Adam Bannister      NaN   \n",
       "\n",
       "                                 user_description  user_friends_n  \\\n",
       "12053  Journalist, The Daily Swig. Cybersecurity.             365   \n",
       "12054  Journalist, The Daily Swig. Cybersecurity.             365   \n",
       "12055  Journalist, The Daily Swig. Cybersecurity.             365   \n",
       "12056  Journalist, The Daily Swig. Cybersecurity.             365   \n",
       "12057  Journalist, The Daily Swig. Cybersecurity.             365   \n",
       "\n",
       "      user_followers_n      prof_created_at favourites_count verified  \\\n",
       "12053              128  2019-10-21 11:38:12              110    False   \n",
       "12054              128  2019-10-21 11:38:12              110    False   \n",
       "12055              128  2019-10-21 11:38:12              110    False   \n",
       "12056              128  2019-10-21 11:38:12              110    False   \n",
       "12057              128  2019-10-21 11:38:12              110    False   \n",
       "\n",
       "       statuses_count  topics  \n",
       "12053             274     NaN  \n",
       "12054             274     NaN  \n",
       "12055             274     NaN  \n",
       "12056             274     NaN  \n",
       "12057             274     NaN  \n",
       "\n",
       "[5 rows x 25 columns]"
      ]
     },
     "execution_count": 55,
     "metadata": {},
     "output_type": "execute_result"
    }
   ],
   "source": [
    "cyber_tweets_1608202.tail()"
   ]
  },
  {
   "cell_type": "code",
   "execution_count": null,
   "metadata": {},
   "outputs": [],
   "source": [
    "df_API_cyber.screen_name.unique()"
   ]
  },
  {
   "cell_type": "code",
   "execution_count": null,
   "metadata": {},
   "outputs": [],
   "source": [
    "df_API_cyber.screen_name.str.find('dannsimmons')"
   ]
  },
  {
   "cell_type": "code",
   "execution_count": null,
   "metadata": {},
   "outputs": [],
   "source": [
    "name_index = df_API_cyber[df_API_cyber.screen_name == 'dannsimmons'].first_valid_index()"
   ]
  },
  {
   "cell_type": "code",
   "execution_count": null,
   "metadata": {},
   "outputs": [],
   "source": [
    "cyber_tweets_1608202['name'] = df_API_cyber['name']"
   ]
  },
  {
   "cell_type": "code",
   "execution_count": null,
   "metadata": {},
   "outputs": [],
   "source": [
    "df_API_cyber[df_API_cyber.screen_name == 'jennystrasburg'].first_valid_index()\n"
   ]
  },
  {
   "cell_type": "code",
   "execution_count": null,
   "metadata": {},
   "outputs": [],
   "source": [
    "#####################################################################################################\n",
    "#####################################################################################################\n",
    "#plot to see difference in number of tweets between twint and API\n",
    "\n",
    "#subset fpr last year\n",
    "df1 = df_API_cyber['tweet_created_at'].str.split(expand=True)\n",
    "df1.columns = ['date', 'time']\n",
    "df_date = df1['date'].str.split('-', expand=True)\n",
    "df_date.columns = ['year', 'month', 'date']\n",
    "df_time = df1['time'].str.split(':', expand=True)\n",
    "df_time.columns = ['hour', 'minute', 'second']\n",
    "df_date_time = pd.concat((df_date, df_time), axis=1)\n",
    "df_date_time.head()\n",
    "df_API_cyber = pd.concat((df_API_cyber, df_date_time), axis=1)"
   ]
  },
  {
   "cell_type": "code",
   "execution_count": null,
   "metadata": {},
   "outputs": [],
   "source": [
    "df_API_cyber['date1'] = pd.to_datetime(df1['date'], format='%Y-%m-%d')\n",
    "mask = (df_API_cyber['date1'] > '2019-08-01') & (df_API_cyber['date'] <= '2020-08-01')\n",
    "df_API_cyber.loc[mask]\n",
    "df_API_cyber_subset = df_API_cyber.loc[mask]\n",
    "len(df_API_cyber_subset)"
   ]
  },
  {
   "cell_type": "code",
   "execution_count": null,
   "metadata": {},
   "outputs": [],
   "source": [
    "result_API = df_API_cyber_subset.groupby('screen_name')['tweet_id'].nunique()\n",
    "result_API"
   ]
  },
  {
   "cell_type": "code",
   "execution_count": null,
   "metadata": {},
   "outputs": [],
   "source": [
    "result_twint = df_twint_cyber.groupby('username')['tweet'].nunique()\n",
    "result_twint"
   ]
  },
  {
   "cell_type": "code",
   "execution_count": null,
   "metadata": {},
   "outputs": [],
   "source": [
    "f, axes = plt.subplots(2, 1,figsize=(20,10))\n",
    "#ax0, ax1 = plt.subplots(2,1,figsize=(20,10))\n",
    "sns.countplot(df_API_cyber_subset['screen_name'], ax=axes[0])\n",
    "sns.countplot(df_twint_cyber['username'], ax=axes[1])\n",
    "#set_ylim([0, 6000])\n",
    "#set_ylim([0, 6000])"
   ]
  },
  {
   "cell_type": "code",
   "execution_count": null,
   "metadata": {},
   "outputs": [],
   "source": [
    "# explore percentage of retweets \n",
    "for name_i in df_API_cyber.screen_name.unique():\n",
    "    print(name)\n"
   ]
  }
 ],
 "metadata": {
  "kernelspec": {
   "display_name": "Python 3",
   "language": "python",
   "name": "python3"
  },
  "language_info": {
   "codemirror_mode": {
    "name": "ipython",
    "version": 3
   },
   "file_extension": ".py",
   "mimetype": "text/x-python",
   "name": "python",
   "nbconvert_exporter": "python",
   "pygments_lexer": "ipython3",
   "version": "3.7.4"
  }
 },
 "nbformat": 4,
 "nbformat_minor": 4
}
