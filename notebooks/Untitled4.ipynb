{
 "cells": [
  {
   "cell_type": "code",
   "execution_count": null,
   "metadata": {},
   "outputs": [],
   "source": [
    "import pathlib\n",
    "count = 0\n",
    "for path in pathlib.Path(fp).iterdir():\n",
    "    if path.is_file():\n",
    "        count += 1\n",
    "print(count)"
   ]
  },
  {
   "cell_type": "code",
   "execution_count": null,
   "metadata": {},
   "outputs": [],
   "source": [
    "def loop_csv_H_index(fp):\n",
    "    '''\n",
    "    Function \n",
    "\n",
    "    Params\n",
    "    ------\n",
    "    \n",
    "\n",
    "    Returns\n",
    "    -------\n",
    "    \n",
    "    '''\n",
    "    df_like_count = pd.DataFrame()\n",
    "    hdict = {}\n",
    "\n",
    "    count = 0\n",
    "    for path in pathlib.Path(fp).iterdir():\n",
    "        if path.is_file():\n",
    "            count += 1\n",
    "            \n",
    "    for csv_n in np.arange(0,count):\n",
    "        df = pd.read_csv(fp + '/edu_user_timelines_subset_' + str(csv_n) + '.csv')\n",
    "        df_like_count = pd.concat([df_like_count,df.groupby('screen_name')[['retweet_count', 'like_count']].sum()])\n",
    "        df['retweets&likes'] = df['retweet_count'] + df['like_count']\n",
    "        for user_name in list(df['screen_name'].unique()):\n",
    "            like_list = list(df[df['screen_name']==user_name]['retweets&likes'].values)\n",
    "            h= hindex(like_list)\n",
    "            hdict[user_name]=h\n",
    "    hdict = {k: v for k, v in sorted(hdict.items(), key=lambda item: item[1], reverse=True)}\n",
    "    hdict_df = pd.DataFrame(hdict.items(), columns = ['screen_name', 'h-index_like&retweets'])\n",
    "    \n",
    "    return hdict"
   ]
  },
  {
   "cell_type": "code",
   "execution_count": null,
   "metadata": {},
   "outputs": [],
   "source": [
    "v = count == 0\n",
    "v"
   ]
  },
  {
   "cell_type": "code",
   "execution_count": null,
   "metadata": {},
   "outputs": [],
   "source": [
    "def hindex(citations):\n",
    "    '''\n",
    "    Function \n",
    "\n",
    "    Params\n",
    "    ------\n",
    "    \n",
    "\n",
    "    Returns\n",
    "    -------\n",
    "    \n",
    "    '''\n",
    "    citations = sorted(citations, reverse=True)\n",
    "    for idx, item in enumerate(citations, 1):\n",
    "        if item < idx:\n",
    "            break\n",
    "    return idx - 1"
   ]
  },
  {
   "cell_type": "code",
   "execution_count": null,
   "metadata": {},
   "outputs": [],
   "source": [
    "fp = \"C:/Users/Luca/H_index\""
   ]
  },
  {
   "cell_type": "code",
   "execution_count": null,
   "metadata": {},
   "outputs": [],
   "source": [
    "import pandas as pd\n",
    "import numpy as np\n",
    "x = loop_csv_H_index(\"C:/Users/Luca/H_index\")\n",
    "len(x)"
   ]
  },
  {
   "cell_type": "code",
   "execution_count": null,
   "metadata": {},
   "outputs": [],
   "source": [
    "import os\n",
    "src_dir = '../data/raw/users_tweets/'\n",
    "dest_dir = '../data/cleaned/users_tweets/'\n",
    "\n",
    "if not os.path.exists(dest_dir):\n",
    "    os.makedirs(dest_dir)\n",
    "\n",
    "files = [file for file in os.listdir(src_dir) if os.path.isfile(os.path.join(src_dir, file))]\n",
    "\n",
    "with tqdm(total=len(files), desc='Files') as pbar:\n",
    "    for file in files:\n",
    "        raw_df = pd.read_csv(os.path.join(src_dir, file), low_memory=False)\n",
    "        cleaned_df = dc.clean_API_dataframe(raw_df)\n",
    "        cleaned_df.to_csv(os.path.join(dest_dir, file), index=False)\n",
    "        pbar.update(1)"
   ]
  },
  {
   "cell_type": "code",
   "execution_count": null,
   "metadata": {},
   "outputs": [],
   "source": [
    "np.arange(0,count)"
   ]
  }
 ],
 "metadata": {
  "kernelspec": {
   "display_name": "Python 3",
   "language": "python",
   "name": "python3"
  },
  "language_info": {
   "codemirror_mode": {
    "name": "ipython",
    "version": 3
   },
   "file_extension": ".py",
   "mimetype": "text/x-python",
   "name": "python",
   "nbconvert_exporter": "python",
   "pygments_lexer": "ipython3",
   "version": "3.6.10"
  }
 },
 "nbformat": 4,
 "nbformat_minor": 4
}
