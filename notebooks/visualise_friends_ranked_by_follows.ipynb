{
 "cells": [
  {
   "cell_type": "code",
   "execution_count": 1,
   "metadata": {},
   "outputs": [],
   "source": [
    "import numpy as np\n",
    "import pandas as pd\n",
    "from collections import Counter"
   ]
  },
  {
   "cell_type": "code",
   "execution_count": 18,
   "metadata": {},
   "outputs": [],
   "source": [
    "import matplotlib.pyplot as plt"
   ]
  },
  {
   "cell_type": "code",
   "execution_count": 39,
   "metadata": {},
   "outputs": [],
   "source": [
    "friend_df = pd.read_csv('../data/cleaned/political_journalist_friends.csv')"
   ]
  },
  {
   "cell_type": "code",
   "execution_count": 40,
   "metadata": {},
   "outputs": [
    {
     "data": {
      "text/html": [
       "<div>\n",
       "<style scoped>\n",
       "    .dataframe tbody tr th:only-of-type {\n",
       "        vertical-align: middle;\n",
       "    }\n",
       "\n",
       "    .dataframe tbody tr th {\n",
       "        vertical-align: top;\n",
       "    }\n",
       "\n",
       "    .dataframe thead th {\n",
       "        text-align: right;\n",
       "    }\n",
       "</style>\n",
       "<table border=\"1\" class=\"dataframe\">\n",
       "  <thead>\n",
       "    <tr style=\"text-align: right;\">\n",
       "      <th></th>\n",
       "      <th>screen_name</th>\n",
       "      <th>friend</th>\n",
       "    </tr>\n",
       "  </thead>\n",
       "  <tbody>\n",
       "    <tr>\n",
       "      <th>0</th>\n",
       "      <td>shippersunbound</td>\n",
       "      <td>danharris80</td>\n",
       "    </tr>\n",
       "    <tr>\n",
       "      <th>1</th>\n",
       "      <td>shippersunbound</td>\n",
       "      <td>NatalieElphicke</td>\n",
       "    </tr>\n",
       "    <tr>\n",
       "      <th>2</th>\n",
       "      <td>shippersunbound</td>\n",
       "      <td>KermodeMovie</td>\n",
       "    </tr>\n",
       "    <tr>\n",
       "      <th>3</th>\n",
       "      <td>shippersunbound</td>\n",
       "      <td>JoshNorris</td>\n",
       "    </tr>\n",
       "    <tr>\n",
       "      <th>4</th>\n",
       "      <td>shippersunbound</td>\n",
       "      <td>timlevell</td>\n",
       "    </tr>\n",
       "    <tr>\n",
       "      <th>...</th>\n",
       "      <td>...</td>\n",
       "      <td>...</td>\n",
       "    </tr>\n",
       "    <tr>\n",
       "      <th>463511</th>\n",
       "      <td>patrickburnsbbc</td>\n",
       "      <td>MoChaudry1</td>\n",
       "    </tr>\n",
       "    <tr>\n",
       "      <th>463512</th>\n",
       "      <td>patrickburnsbbc</td>\n",
       "      <td>JohnDCaudwell</td>\n",
       "    </tr>\n",
       "    <tr>\n",
       "      <th>463513</th>\n",
       "      <td>patrickburnsbbc</td>\n",
       "      <td>BCC_Jane</td>\n",
       "    </tr>\n",
       "    <tr>\n",
       "      <th>463514</th>\n",
       "      <td>patrickburnsbbc</td>\n",
       "      <td>BBCEmilyUnia</td>\n",
       "    </tr>\n",
       "    <tr>\n",
       "      <th>463515</th>\n",
       "      <td>patrickburnsbbc</td>\n",
       "      <td>OBR_UK</td>\n",
       "    </tr>\n",
       "  </tbody>\n",
       "</table>\n",
       "<p>463516 rows × 2 columns</p>\n",
       "</div>"
      ],
      "text/plain": [
       "            screen_name           friend\n",
       "0       shippersunbound      danharris80\n",
       "1       shippersunbound  NatalieElphicke\n",
       "2       shippersunbound     KermodeMovie\n",
       "3       shippersunbound       JoshNorris\n",
       "4       shippersunbound        timlevell\n",
       "...                 ...              ...\n",
       "463511  patrickburnsbbc       MoChaudry1\n",
       "463512  patrickburnsbbc    JohnDCaudwell\n",
       "463513  patrickburnsbbc         BCC_Jane\n",
       "463514  patrickburnsbbc     BBCEmilyUnia\n",
       "463515  patrickburnsbbc           OBR_UK\n",
       "\n",
       "[463516 rows x 2 columns]"
      ]
     },
     "execution_count": 40,
     "metadata": {},
     "output_type": "execute_result"
    }
   ],
   "source": [
    "friend_df"
   ]
  },
  {
   "cell_type": "code",
   "execution_count": 41,
   "metadata": {},
   "outputs": [],
   "source": [
    "users = list(friend_df['friend'].values)"
   ]
  },
  {
   "cell_type": "code",
   "execution_count": 42,
   "metadata": {},
   "outputs": [],
   "source": [
    "counted = Counter(users)"
   ]
  },
  {
   "cell_type": "code",
   "execution_count": 43,
   "metadata": {},
   "outputs": [],
   "source": [
    "ranked = counted.most_common()"
   ]
  },
  {
   "cell_type": "code",
   "execution_count": 44,
   "metadata": {},
   "outputs": [],
   "source": [
    "label, value = zip(*ranked)"
   ]
  },
  {
   "cell_type": "code",
   "execution_count": 46,
   "metadata": {},
   "outputs": [
    {
     "data": {
      "text/plain": [
       "Text(0.5, 1.0, 'Political')"
      ]
     },
     "execution_count": 46,
     "metadata": {},
     "output_type": "execute_result"
    },
    {
     "data": {
      "image/png": "[encoded data removed]",
      "text/plain": [
       "<Figure size 432x288 with 1 Axes>"
      ]
     },
     "metadata": {
      "needs_background": "light"
     },
     "output_type": "display_data"
    }
   ],
   "source": [
    "plt.plot(value)\n",
    "plt.xscale('log')\n",
    "plt.xlabel('Friends')\n",
    "plt.ylabel('# Followers')\n",
    "plt.title('Political')"
   ]
  },
  {
   "cell_type": "code",
   "execution_count": 12,
   "metadata": {},
   "outputs": [],
   "source": [
    "quick_df = pd.read_csv('../data/cleaned/cyber_user_profiles.csv')"
   ]
  },
  {
   "cell_type": "code",
   "execution_count": 13,
   "metadata": {},
   "outputs": [
    {
     "data": {
      "text/html": [
       "<div>\n",
       "<style scoped>\n",
       "    .dataframe tbody tr th:only-of-type {\n",
       "        vertical-align: middle;\n",
       "    }\n",
       "\n",
       "    .dataframe tbody tr th {\n",
       "        vertical-align: top;\n",
       "    }\n",
       "\n",
       "    .dataframe thead th {\n",
       "        text-align: right;\n",
       "    }\n",
       "</style>\n",
       "<table border=\"1\" class=\"dataframe\">\n",
       "  <thead>\n",
       "    <tr style=\"text-align: right;\">\n",
       "      <th></th>\n",
       "      <th>user_id</th>\n",
       "      <th>screen_name</th>\n",
       "      <th>name</th>\n",
       "      <th>location</th>\n",
       "      <th>user_description</th>\n",
       "      <th>user_friends_n</th>\n",
       "      <th>user_followers_n</th>\n",
       "      <th>prof_created_at</th>\n",
       "      <th>favourites_count</th>\n",
       "      <th>verified</th>\n",
       "      <th>statuses_count</th>\n",
       "    </tr>\n",
       "  </thead>\n",
       "  <tbody>\n",
       "    <tr>\n",
       "      <th>0</th>\n",
       "      <td>363675945</td>\n",
       "      <td>robahusseini</td>\n",
       "      <td>Roba El Husseini ربى</td>\n",
       "      <td>Lebanon</td>\n",
       "      <td>Journalist @AFP covering Syria and Lebanon. Tw...</td>\n",
       "      <td>1244</td>\n",
       "      <td>2567</td>\n",
       "      <td>2011-08-28 14:13:43</td>\n",
       "      <td>649</td>\n",
       "      <td>False</td>\n",
       "      <td>1838</td>\n",
       "    </tr>\n",
       "    <tr>\n",
       "      <th>1</th>\n",
       "      <td>2546033492</td>\n",
       "      <td>hashemosseiran</td>\n",
       "      <td>Hashem Osseiran</td>\n",
       "      <td>Beirut</td>\n",
       "      <td>Beirut-based @AFP journalist | Views my own | ...</td>\n",
       "      <td>1678</td>\n",
       "      <td>2003</td>\n",
       "      <td>2014-06-04 12:41:32</td>\n",
       "      <td>493</td>\n",
       "      <td>False</td>\n",
       "      <td>2381</td>\n",
       "    </tr>\n",
       "    <tr>\n",
       "      <th>2</th>\n",
       "      <td>179178993</td>\n",
       "      <td>liveanthony</td>\n",
       "      <td>Anthony Galloway</td>\n",
       "      <td>New York, NY</td>\n",
       "      <td>2x @TeamUSA triathlete | Global Head of Video ...</td>\n",
       "      <td>454</td>\n",
       "      <td>2303</td>\n",
       "      <td>2010-08-16 18:06:32</td>\n",
       "      <td>3920</td>\n",
       "      <td>True</td>\n",
       "      <td>2249</td>\n",
       "    </tr>\n",
       "    <tr>\n",
       "      <th>3</th>\n",
       "      <td>1325420790</td>\n",
       "      <td>elisekapnm</td>\n",
       "      <td>Elise Kaplan</td>\n",
       "      <td>Albuquerque, New Mexico</td>\n",
       "      <td>Bearer of bad news / criminal justice reporter...</td>\n",
       "      <td>741</td>\n",
       "      <td>1566</td>\n",
       "      <td>2013-04-03 21:07:55</td>\n",
       "      <td>3552</td>\n",
       "      <td>False</td>\n",
       "      <td>3074</td>\n",
       "    </tr>\n",
       "    <tr>\n",
       "      <th>4</th>\n",
       "      <td>3311286493</td>\n",
       "      <td>adam_tooze</td>\n",
       "      <td>Adam Tooze</td>\n",
       "      <td>New York, NY</td>\n",
       "      <td>History, economics, politics, climate. Columbi...</td>\n",
       "      <td>4931</td>\n",
       "      <td>95042</td>\n",
       "      <td>2015-08-10 07:35:58</td>\n",
       "      <td>6969</td>\n",
       "      <td>False</td>\n",
       "      <td>36633</td>\n",
       "    </tr>\n",
       "    <tr>\n",
       "      <th>...</th>\n",
       "      <td>...</td>\n",
       "      <td>...</td>\n",
       "      <td>...</td>\n",
       "      <td>...</td>\n",
       "      <td>...</td>\n",
       "      <td>...</td>\n",
       "      <td>...</td>\n",
       "      <td>...</td>\n",
       "      <td>...</td>\n",
       "      <td>...</td>\n",
       "      <td>...</td>\n",
       "    </tr>\n",
       "    <tr>\n",
       "      <th>18906</th>\n",
       "      <td>519989509</td>\n",
       "      <td>mozillasecurity</td>\n",
       "      <td>Mozilla Security</td>\n",
       "      <td>NaN</td>\n",
       "      <td>Official account of Mozilla Security</td>\n",
       "      <td>55</td>\n",
       "      <td>687</td>\n",
       "      <td>2012-03-10 01:36:23</td>\n",
       "      <td>23</td>\n",
       "      <td>False</td>\n",
       "      <td>67</td>\n",
       "    </tr>\n",
       "    <tr>\n",
       "      <th>18907</th>\n",
       "      <td>804230797993443328</td>\n",
       "      <td>sudo_sudoka</td>\n",
       "      <td>Sudoka</td>\n",
       "      <td>The Matrix (Inside now)</td>\n",
       "      <td>Threat Analyst, Bounty hunter, CTF player, Sec...</td>\n",
       "      <td>151</td>\n",
       "      <td>384</td>\n",
       "      <td>2016-12-01 07:48:58</td>\n",
       "      <td>963</td>\n",
       "      <td>False</td>\n",
       "      <td>268</td>\n",
       "    </tr>\n",
       "    <tr>\n",
       "      <th>18908</th>\n",
       "      <td>836272957</td>\n",
       "      <td>nordvpn</td>\n",
       "      <td>NordVPN</td>\n",
       "      <td>Privacy solutions</td>\n",
       "      <td>#VPN Solutions: secure your #privacy, protect ...</td>\n",
       "      <td>3516</td>\n",
       "      <td>77357</td>\n",
       "      <td>2012-09-20 20:07:18</td>\n",
       "      <td>2628</td>\n",
       "      <td>True</td>\n",
       "      <td>19888</td>\n",
       "    </tr>\n",
       "    <tr>\n",
       "      <th>18909</th>\n",
       "      <td>543802336</td>\n",
       "      <td>torguard</td>\n",
       "      <td>TorGuard</td>\n",
       "      <td>NaN</td>\n",
       "      <td>Anonymous VPN, Proxy and Email Services. Priva...</td>\n",
       "      <td>2</td>\n",
       "      <td>9455</td>\n",
       "      <td>2012-04-02 23:07:17</td>\n",
       "      <td>176</td>\n",
       "      <td>False</td>\n",
       "      <td>1427</td>\n",
       "    </tr>\n",
       "    <tr>\n",
       "      <th>18910</th>\n",
       "      <td>964233746865119233</td>\n",
       "      <td>jesscahaworth</td>\n",
       "      <td>Jessica Haworth</td>\n",
       "      <td>NaN</td>\n",
       "      <td>Cybersecurity journalist at @DailySwig. Music ...</td>\n",
       "      <td>968</td>\n",
       "      <td>666</td>\n",
       "      <td>2018-02-15 20:23:34</td>\n",
       "      <td>448</td>\n",
       "      <td>False</td>\n",
       "      <td>570</td>\n",
       "    </tr>\n",
       "  </tbody>\n",
       "</table>\n",
       "<p>18911 rows × 11 columns</p>\n",
       "</div>"
      ],
      "text/plain": [
       "                  user_id      screen_name                  name  \\\n",
       "0               363675945     robahusseini  Roba El Husseini ربى   \n",
       "1              2546033492   hashemosseiran       Hashem Osseiran   \n",
       "2               179178993      liveanthony      Anthony Galloway   \n",
       "3              1325420790       elisekapnm          Elise Kaplan   \n",
       "4              3311286493       adam_tooze            Adam Tooze   \n",
       "...                   ...              ...                   ...   \n",
       "18906           519989509  mozillasecurity      Mozilla Security   \n",
       "18907  804230797993443328      sudo_sudoka                Sudoka   \n",
       "18908           836272957          nordvpn               NordVPN   \n",
       "18909           543802336         torguard              TorGuard   \n",
       "18910  964233746865119233    jesscahaworth       Jessica Haworth   \n",
       "\n",
       "                      location  \\\n",
       "0                      Lebanon   \n",
       "1                       Beirut   \n",
       "2                 New York, NY   \n",
       "3      Albuquerque, New Mexico   \n",
       "4                 New York, NY   \n",
       "...                        ...   \n",
       "18906                      NaN   \n",
       "18907  The Matrix (Inside now)   \n",
       "18908        Privacy solutions   \n",
       "18909                      NaN   \n",
       "18910                      NaN   \n",
       "\n",
       "                                        user_description  user_friends_n  \\\n",
       "0      Journalist @AFP covering Syria and Lebanon. Tw...            1244   \n",
       "1      Beirut-based @AFP journalist | Views my own | ...            1678   \n",
       "2      2x @TeamUSA triathlete | Global Head of Video ...             454   \n",
       "3      Bearer of bad news / criminal justice reporter...             741   \n",
       "4      History, economics, politics, climate. Columbi...            4931   \n",
       "...                                                  ...             ...   \n",
       "18906               Official account of Mozilla Security              55   \n",
       "18907  Threat Analyst, Bounty hunter, CTF player, Sec...             151   \n",
       "18908  #VPN Solutions: secure your #privacy, protect ...            3516   \n",
       "18909  Anonymous VPN, Proxy and Email Services. Priva...               2   \n",
       "18910  Cybersecurity journalist at @DailySwig. Music ...             968   \n",
       "\n",
       "       user_followers_n      prof_created_at  favourites_count  verified  \\\n",
       "0                  2567  2011-08-28 14:13:43               649     False   \n",
       "1                  2003  2014-06-04 12:41:32               493     False   \n",
       "2                  2303  2010-08-16 18:06:32              3920      True   \n",
       "3                  1566  2013-04-03 21:07:55              3552     False   \n",
       "4                 95042  2015-08-10 07:35:58              6969     False   \n",
       "...                 ...                  ...               ...       ...   \n",
       "18906               687  2012-03-10 01:36:23                23     False   \n",
       "18907               384  2016-12-01 07:48:58               963     False   \n",
       "18908             77357  2012-09-20 20:07:18              2628      True   \n",
       "18909              9455  2012-04-02 23:07:17               176     False   \n",
       "18910               666  2018-02-15 20:23:34               448     False   \n",
       "\n",
       "       statuses_count  \n",
       "0                1838  \n",
       "1                2381  \n",
       "2                2249  \n",
       "3                3074  \n",
       "4               36633  \n",
       "...               ...  \n",
       "18906              67  \n",
       "18907             268  \n",
       "18908           19888  \n",
       "18909            1427  \n",
       "18910             570  \n",
       "\n",
       "[18911 rows x 11 columns]"
      ]
     },
     "execution_count": 13,
     "metadata": {},
     "output_type": "execute_result"
    }
   ],
   "source": [
    "quick_df"
   ]
  },
  {
   "cell_type": "code",
   "execution_count": 14,
   "metadata": {},
   "outputs": [
    {
     "data": {
      "text/plain": [
       "5118447634"
      ]
     },
     "execution_count": 14,
     "metadata": {},
     "output_type": "execute_result"
    }
   ],
   "source": [
    "quick_df['user_followers_n'].sum()"
   ]
  },
  {
   "cell_type": "code",
   "execution_count": 15,
   "metadata": {},
   "outputs": [
    {
     "data": {
      "text/plain": [
       "2650.0"
      ]
     },
     "execution_count": 15,
     "metadata": {},
     "output_type": "execute_result"
    }
   ],
   "source": [
    "53000000/20000"
   ]
  },
  {
   "cell_type": "code",
   "execution_count": null,
   "metadata": {},
   "outputs": [],
   "source": []
  }
 ],
 "metadata": {
  "kernelspec": {
   "display_name": "Python 3",
   "language": "python",
   "name": "python3"
  },
  "language_info": {
   "codemirror_mode": {
    "name": "ipython",
    "version": 3
   },
   "file_extension": ".py",
   "mimetype": "text/x-python",
   "name": "python",
   "nbconvert_exporter": "python",
   "pygments_lexer": "ipython3",
   "version": "3.7.1"
  }
 },
 "nbformat": 4,
 "nbformat_minor": 4
}
