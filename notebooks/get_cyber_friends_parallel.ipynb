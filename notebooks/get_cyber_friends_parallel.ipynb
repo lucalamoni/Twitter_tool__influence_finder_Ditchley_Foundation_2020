{
 "cells": [
  {
   "cell_type": "markdown",
   "metadata": {},
   "source": [
    "# Scraping journalists then using twint to get who they follow"
   ]
  },
  {
   "cell_type": "code",
   "execution_count": 38,
   "metadata": {},
   "outputs": [],
   "source": [
    "import sys\n",
    "import os\n",
    "import time\n",
    "import json\n",
    "import csv\n",
    "import threading\n",
    "import queue\n",
    "import asyncio\n",
    "import nest_asyncio\n",
    "nest_asyncio.apply()\n",
    "import twint\n",
    "\n",
    "sys.path.insert(1, '../')\n",
    "from src.data import journalists as journos"
   ]
  },
  {
   "cell_type": "markdown",
   "metadata": {},
   "source": [
    "### 1. Getting journalist twitter handles according to topic"
   ]
  },
  {
   "cell_type": "code",
   "execution_count": 4,
   "metadata": {},
   "outputs": [
    {
     "name": "stdout",
     "output_type": "stream",
     "text": [
      "12\n"
     ]
    }
   ],
   "source": [
    "journo_handles = journos.get_handles_by_keyword('cyber')\n",
    "print(len(journo_handles))"
   ]
  },
  {
   "cell_type": "code",
   "execution_count": 5,
   "metadata": {},
   "outputs": [
    {
     "name": "stdout",
     "output_type": "stream",
     "text": [
      "['jennystrasburg', 'dannsimmons', 'LeoKelion', 'gordoncorera', 'joetidy', '_lucyingham', 'dannyjpalmer', 'SophiaFurber', 'SCFGallagher', 'MsHannahMurphy', 'JesscaHaworth', 'Ad_Nauseum74']\n"
     ]
    }
   ],
   "source": [
    "print(journo_handles)"
   ]
  },
  {
   "cell_type": "markdown",
   "metadata": {},
   "source": [
    "## 2. Loop over journalists and get who they follow"
   ]
  },
  {
   "cell_type": "markdown",
   "metadata": {},
   "source": [
    "### 2.2 Storing each threads results as csv files (USE THIS)\n",
    "\n",
    "This seems to work quite nicely, and may even be more reliable than storing in memory.  \n",
    "\n",
    "Note that any recursive use to get data that was missed has to be done manually by alternately using the last two cells before section 3 to recheck the failed list and run it."
   ]
  },
  {
   "cell_type": "code",
   "execution_count": null,
   "metadata": {},
   "outputs": [],
   "source": [
    "num_threads = 6 # num_threads can be any amount, but only so many can be run in parallel, according to number of cores you have.\n",
    "# import multiprocessing; multiprocessing.cpu_count() can tell you how many cores python can see."
   ]
  },
  {
   "cell_type": "code",
   "execution_count": 9,
   "metadata": {},
   "outputs": [],
   "source": [
    "def get_friends(q, fp, persist):\n",
    "    '''\n",
    "    Params\n",
    "    ------\n",
    "    q : a Queue instance\n",
    "    \n",
    "    fp : string\n",
    "        Provides the path where the file should be saved.\n",
    "    persist : bool\n",
    "        If True, make a repeat attempt if attempt fails.\n",
    "    '''\n",
    "    while True: \n",
    "        username = q.get()\n",
    "        success = False\n",
    "        filepath = fp+'friends_'+username+'.csv'\n",
    "        while not success:\n",
    "            print('Attempting to get friends of @'+username)\n",
    "            c = twint.Config()\n",
    "            c.Username = username\n",
    "            c.User_full = False\n",
    "            c.Hide_output = True\n",
    "            c.Output = filepath\n",
    "\n",
    "            twint.run.Following(c)\n",
    "            \n",
    "            if persist:\n",
    "                if os.path.exists(filepath):\n",
    "                    success = True\n",
    "                    print('Friends of @'+username+' saved.')\n",
    "            else:\n",
    "                success = True\n",
    "        q.task_done()"
   ]
  },
  {
   "cell_type": "code",
   "execution_count": 10,
   "metadata": {},
   "outputs": [
    {
     "name": "stderr",
     "output_type": "stream",
     "text": [
      "CRITICAL:root:twint.get:User:'NoneType' object is not subscriptable\n",
      "CRITICAL:root:twint.get:User:'NoneType' object is not subscriptable\n",
      "CRITICAL:root:twint.get:User:'NoneType' object is not subscriptable\n",
      "CRITICAL:root:twint.feed:Follow:IndexError\n",
      "CRITICAL:root:twint.get:User:'NoneType' object is not subscriptable\n",
      "CRITICAL:root:twint.get:User:'NoneType' object is not subscriptable\n",
      "CRITICAL:root:twint.feed:Follow:IndexError\n",
      "CRITICAL:root:twint.get:User:'NoneType' object is not subscriptable\n",
      "CRITICAL:root:twint.feed:Follow:IndexError\n",
      "CRITICAL:root:twint.get:User:'NoneType' object is not subscriptable\n",
      "CRITICAL:root:twint.get:User:'NoneType' object is not subscriptable\n",
      "CRITICAL:root:twint.get:User:'NoneType' object is not subscriptable\n",
      "CRITICAL:root:twint.feed:Follow:IndexError\n",
      "CRITICAL:root:twint.feed:Follow:IndexError\n",
      "CRITICAL:root:twint.feed:Follow:IndexError\n",
      "CRITICAL:root:twint.get:User:'NoneType' object is not subscriptable\n",
      "CRITICAL:root:twint.get:User:'NoneType' object is not subscriptable\n",
      "CRITICAL:root:twint.feed:Follow:IndexError\n",
      "CRITICAL:root:twint.get:User:'NoneType' object is not subscriptable\n",
      "CRITICAL:root:twint.feed:Follow:IndexError\n",
      "CRITICAL:root:twint.feed:Follow:IndexError\n",
      "CRITICAL:root:twint.feed:Follow:IndexError\n",
      "CRITICAL:root:twint.feed:Follow:IndexError\n",
      "CRITICAL:root:twint.feed:Follow:IndexError\n",
      "CRITICAL:root:twint.feed:Follow:IndexError\n",
      "CRITICAL:root:twint.feed:Follow:IndexError\n",
      "CRITICAL:root:twint.feed:Follow:IndexError\n",
      "CRITICAL:root:twint.feed:Follow:IndexError\n",
      "CRITICAL:root:twint.feed:Follow:IndexError\n",
      "CRITICAL:root:twint.feed:Follow:IndexError\n"
     ]
    }
   ],
   "source": [
    "q = queue.Queue(maxsize=0)\n",
    "\n",
    "for i in range(num_threads): # Loop to create threads\n",
    "    worker = threading.Thread(target=get_friends, args=(q, '../data/raw/cyber_', False)) # Change persist to True to tell the code to keep trying until results are written to file.\n",
    "    worker.setDaemon(True)\n",
    "    worker.start()\n",
    "\n",
    "for username in journo_handles: # Loop to add journalists usernames to the queue\n",
    "    q.put(username)\n",
    "\n",
    "q.join()"
   ]
  },
  {
   "cell_type": "code",
   "execution_count": 29,
   "metadata": {},
   "outputs": [
    {
     "name": "stdout",
     "output_type": "stream",
     "text": [
      "@jennystrasburg follows 2841 users.\n",
      "@dannsimmons follows 295 users.\n",
      "@LeoKelion follows 4765 users.\n",
      "@gordoncorera follows 1270 users.\n",
      "@joetidy follows 2714 users.\n",
      "@_lucyingham follows 507 users.\n",
      "@dannyjpalmer follows 888 users.\n",
      "@SophiaFurber follows 4324 users.\n",
      "@SCFGallagher follows 1555 users.\n",
      "@MsHannahMurphy follows 1321 users.\n",
      "@JesscaHaworth follows 968 users.\n",
      "@Ad_Nauseum74 follows 365 users.\n",
      "\n",
      "Total number of handles pulled: 21813\n",
      "Number of unique usernames: 18926\n",
      "\n",
      "Zero following in list for []\n"
     ]
    }
   ],
   "source": [
    "all_handles = []\n",
    "all_users = []\n",
    "failed = []\n",
    "for name in journo_handles:\n",
    "    if not os.path.exists('../data/raw/cyber_friends_'+name+'.csv'):\n",
    "        failed.append(name)\n",
    "    else:\n",
    "        with open('../data/raw/cyber_friends_'+name+'.csv', newline='') as f:\n",
    "            reader = csv.reader(f)\n",
    "            handles = list(reader)\n",
    "            all_handles.extend([handle[0] for handle in handles])\n",
    "            all_users.extend([name for handle in handles])\n",
    "            print('@'+name+' follows '+str(len(handles))+' users.')\n",
    "            \n",
    "print('\\nTotal number of handles pulled: '+str(len(all_handles)))\n",
    "\n",
    "unique = len(set(all_handles))\n",
    "print('Number of unique usernames: '+str(unique))\n",
    "\n",
    "print('\\nZero following in list for '+str(failed))"
   ]
  },
  {
   "cell_type": "markdown",
   "metadata": {},
   "source": [
    "If some of the requests seem to have failed, can try them again:"
   ]
  },
  {
   "cell_type": "code",
   "execution_count": 17,
   "metadata": {},
   "outputs": [
    {
     "name": "stderr",
     "output_type": "stream",
     "text": [
      "CRITICAL:root:twint.get:User:'NoneType' object is not subscriptable\n",
      "CRITICAL:root:twint.feed:Follow:IndexError\n",
      "CRITICAL:root:twint.feed:Follow:IndexError\n"
     ]
    }
   ],
   "source": [
    "q = queue.Queue(maxsize=0)\n",
    "\n",
    "for i in range(num_threads): # Loop to create threads\n",
    "    worker = threading.Thread(target=get_friends, args=(q, '../data/raw/cyber_', False))\n",
    "    worker.setDaemon(True)\n",
    "    worker.start()\n",
    "\n",
    "for username in failed: # Loop to add journalists usernames to the queue\n",
    "    q.put(username)\n",
    "\n",
    "q.join()"
   ]
  },
  {
   "cell_type": "markdown",
   "metadata": {},
   "source": [
    "Interestingly, most of the handles must appear only once, suggesting there are only a few users that are followed by more than one of the journalists in this list."
   ]
  },
  {
   "cell_type": "markdown",
   "metadata": {},
   "source": [
    "## 3. Store the data in one csv file using pandas"
   ]
  },
  {
   "cell_type": "code",
   "execution_count": 30,
   "metadata": {},
   "outputs": [],
   "source": [
    "import pandas as pd"
   ]
  },
  {
   "cell_type": "code",
   "execution_count": 32,
   "metadata": {},
   "outputs": [],
   "source": [
    "df = pd.DataFrame(list(zip(all_users, all_handles)), \n",
    "               columns =['screen_name', 'friend'])"
   ]
  },
  {
   "cell_type": "code",
   "execution_count": 33,
   "metadata": {},
   "outputs": [
    {
     "data": {
      "text/html": [
       "<div>\n",
       "<style scoped>\n",
       "    .dataframe tbody tr th:only-of-type {\n",
       "        vertical-align: middle;\n",
       "    }\n",
       "\n",
       "    .dataframe tbody tr th {\n",
       "        vertical-align: top;\n",
       "    }\n",
       "\n",
       "    .dataframe thead th {\n",
       "        text-align: right;\n",
       "    }\n",
       "</style>\n",
       "<table border=\"1\" class=\"dataframe\">\n",
       "  <thead>\n",
       "    <tr style=\"text-align: right;\">\n",
       "      <th></th>\n",
       "      <th>screen_name</th>\n",
       "      <th>friend</th>\n",
       "    </tr>\n",
       "  </thead>\n",
       "  <tbody>\n",
       "    <tr>\n",
       "      <th>0</th>\n",
       "      <td>jennystrasburg</td>\n",
       "      <td>RobaHusseini</td>\n",
       "    </tr>\n",
       "    <tr>\n",
       "      <th>1</th>\n",
       "      <td>jennystrasburg</td>\n",
       "      <td>HashemOsseiran</td>\n",
       "    </tr>\n",
       "    <tr>\n",
       "      <th>2</th>\n",
       "      <td>jennystrasburg</td>\n",
       "      <td>liveanthony</td>\n",
       "    </tr>\n",
       "    <tr>\n",
       "      <th>3</th>\n",
       "      <td>jennystrasburg</td>\n",
       "      <td>EliseKapNM</td>\n",
       "    </tr>\n",
       "    <tr>\n",
       "      <th>4</th>\n",
       "      <td>jennystrasburg</td>\n",
       "      <td>adam_tooze</td>\n",
       "    </tr>\n",
       "  </tbody>\n",
       "</table>\n",
       "</div>"
      ],
      "text/plain": [
       "      screen_name          friend\n",
       "0  jennystrasburg    RobaHusseini\n",
       "1  jennystrasburg  HashemOsseiran\n",
       "2  jennystrasburg     liveanthony\n",
       "3  jennystrasburg      EliseKapNM\n",
       "4  jennystrasburg      adam_tooze"
      ]
     },
     "execution_count": 33,
     "metadata": {},
     "output_type": "execute_result"
    }
   ],
   "source": [
    "df.head()"
   ]
  },
  {
   "cell_type": "code",
   "execution_count": 34,
   "metadata": {},
   "outputs": [],
   "source": [
    "df.to_csv('../data/raw/cyber_journalist_friends_2.csv', index=False)"
   ]
  },
  {
   "cell_type": "markdown",
   "metadata": {},
   "source": [
    "## 4. Quick inspection of data"
   ]
  },
  {
   "cell_type": "code",
   "execution_count": 35,
   "metadata": {},
   "outputs": [],
   "source": [
    "from collections import Counter"
   ]
  },
  {
   "cell_type": "code",
   "execution_count": 36,
   "metadata": {},
   "outputs": [],
   "source": [
    "counted = Counter(all_handles)"
   ]
  },
  {
   "cell_type": "code",
   "execution_count": 37,
   "metadata": {},
   "outputs": [
    {
     "data": {
      "text/plain": [
       "[('MalwareTechBlog', 9),\n",
       " ('briankrebs', 9),\n",
       " ('gcluley', 8),\n",
       " ('TaylorLorenz', 7),\n",
       " ('alexhern', 7),\n",
       " ('jimwaterson', 7),\n",
       " ('faisalislam', 7),\n",
       " ('BBCBreaking', 7),\n",
       " ('ProfWoodward', 7),\n",
       " ('DaveLeeFT', 7),\n",
       " ('TechCrunch', 7),\n",
       " ('ruskin147', 7),\n",
       " ('alexstamos', 7),\n",
       " ('jamesrbuk', 7),\n",
       " ('NCSC', 7),\n",
       " ('KimZetter', 7),\n",
       " ('GossiTheDog', 7),\n",
       " ('geoffwhite247', 7),\n",
       " ('bbclaurak', 7),\n",
       " ('mikko', 6),\n",
       " ('dnvolz', 6),\n",
       " ('elonmusk', 6),\n",
       " ('realDonaldTrump', 6),\n",
       " ('TheEconomist', 6),\n",
       " ('troyhunt', 6),\n",
       " ('jleyden', 6),\n",
       " ('DanRaywood', 6),\n",
       " ('oliviasolon', 6),\n",
       " ('WIRED', 6),\n",
       " ('drjessicabarker', 6),\n",
       " ('charlottejee', 6),\n",
       " ('campuscodi', 6),\n",
       " ('joetidy', 6),\n",
       " ('SecurityCharlie', 6),\n",
       " ('josephfcox', 6),\n",
       " ('carolecadwalla', 6),\n",
       " ('amolrajan', 6),\n",
       " ('SwiftOnSecurity', 6),\n",
       " ('DarkReading', 6),\n",
       " ('meghamohan', 6),\n",
       " ('e_kaspersky', 6),\n",
       " ('iblametom', 6),\n",
       " ('zackwhittaker', 6),\n",
       " ('Peston', 6),\n",
       " ('lorenzofb', 6),\n",
       " ('FSecure', 5),\n",
       " ('ericgeller', 5),\n",
       " ('kashhill', 5),\n",
       " ('rcallimachi', 5),\n",
       " ('noUpside', 5)]"
      ]
     },
     "execution_count": 37,
     "metadata": {},
     "output_type": "execute_result"
    }
   ],
   "source": [
    "counted.most_common(50)"
   ]
  },
  {
   "cell_type": "code",
   "execution_count": 35,
   "metadata": {},
   "outputs": [],
   "source": []
  }
 ],
 "metadata": {
  "kernelspec": {
   "display_name": "Python 3",
   "language": "python",
   "name": "python3"
  },
  "language_info": {
   "codemirror_mode": {
    "name": "ipython",
    "version": 3
   },
   "file_extension": ".py",
   "mimetype": "text/x-python",
   "name": "python",
   "nbconvert_exporter": "python",
   "pygments_lexer": "ipython3",
   "version": "3.7.1"
  }
 },
 "nbformat": 4,
 "nbformat_minor": 4
}
