{
 "cells": [
  {
   "cell_type": "markdown",
   "metadata": {},
   "source": [
    "# Trialling batch sampling of tweets from user timelines\n",
    "\n",
    "Package and function imports:"
   ]
  },
  {
   "cell_type": "code",
   "execution_count": 1,
   "metadata": {},
   "outputs": [],
   "source": [
    "import sys\n",
    "import os\n",
    "import time\n",
    "import pickle\n",
    "from tqdm import tqdm\n",
    "import numpy as np\n",
    "import pandas as pd\n",
    "\n",
    "import tweepy"
   ]
  },
  {
   "cell_type": "code",
   "execution_count": 2,
   "metadata": {},
   "outputs": [],
   "source": [
    "sys.path.insert(1, '../')"
   ]
  },
  {
   "cell_type": "code",
   "execution_count": 3,
   "metadata": {},
   "outputs": [],
   "source": [
    "from src.data import journalists as journos\n",
    "from src.data.api_tweepy import connect_API\n",
    "from src.data.api_tweet_tools import request_user_timeline\n",
    "from src.data import data_cleanup as dc"
   ]
  },
  {
   "cell_type": "markdown",
   "metadata": {},
   "source": [
    "## 1. Import and subsample list of usernames"
   ]
  },
  {
   "cell_type": "code",
   "execution_count": 4,
   "metadata": {},
   "outputs": [
    {
     "data": {
      "text/html": [
       "<div>\n",
       "<style scoped>\n",
       "    .dataframe tbody tr th:only-of-type {\n",
       "        vertical-align: middle;\n",
       "    }\n",
       "\n",
       "    .dataframe tbody tr th {\n",
       "        vertical-align: top;\n",
       "    }\n",
       "\n",
       "    .dataframe thead th {\n",
       "        text-align: right;\n",
       "    }\n",
       "</style>\n",
       "<table border=\"1\" class=\"dataframe\">\n",
       "  <thead>\n",
       "    <tr style=\"text-align: right;\">\n",
       "      <th></th>\n",
       "      <th>screen_name</th>\n",
       "      <th>friend</th>\n",
       "    </tr>\n",
       "  </thead>\n",
       "  <tbody>\n",
       "    <tr>\n",
       "      <th>0</th>\n",
       "      <td>jennystrasburg</td>\n",
       "      <td>RobaHusseini</td>\n",
       "    </tr>\n",
       "    <tr>\n",
       "      <th>1</th>\n",
       "      <td>jennystrasburg</td>\n",
       "      <td>HashemOsseiran</td>\n",
       "    </tr>\n",
       "    <tr>\n",
       "      <th>2</th>\n",
       "      <td>jennystrasburg</td>\n",
       "      <td>liveanthony</td>\n",
       "    </tr>\n",
       "    <tr>\n",
       "      <th>3</th>\n",
       "      <td>jennystrasburg</td>\n",
       "      <td>EliseKapNM</td>\n",
       "    </tr>\n",
       "    <tr>\n",
       "      <th>4</th>\n",
       "      <td>jennystrasburg</td>\n",
       "      <td>adam_tooze</td>\n",
       "    </tr>\n",
       "  </tbody>\n",
       "</table>\n",
       "</div>"
      ],
      "text/plain": [
       "      screen_name          friend\n",
       "0  jennystrasburg    RobaHusseini\n",
       "1  jennystrasburg  HashemOsseiran\n",
       "2  jennystrasburg     liveanthony\n",
       "3  jennystrasburg      EliseKapNM\n",
       "4  jennystrasburg      adam_tooze"
      ]
     },
     "execution_count": 4,
     "metadata": {},
     "output_type": "execute_result"
    }
   ],
   "source": [
    "df_in = pd.read_csv('../data/raw/cyber_journalist_friends_2.csv')\n",
    "df_in.head()"
   ]
  },
  {
   "cell_type": "code",
   "execution_count": 5,
   "metadata": {},
   "outputs": [],
   "source": [
    "friends = list(df_in['friend'].unique())\n",
    "sub_sample = friends"
   ]
  },
  {
   "cell_type": "markdown",
   "metadata": {},
   "source": [
    "## 2. Init API"
   ]
  },
  {
   "cell_type": "code",
   "execution_count": 6,
   "metadata": {},
   "outputs": [],
   "source": [
    "api_keys_fp = '../data/twitter_credentials.json'\n",
    "tw_api = connect_API(api_keys_fp)"
   ]
  },
  {
   "cell_type": "markdown",
   "metadata": {},
   "source": [
    "## 3. Loop over user sub-sample\n",
    "Going to try using API code at scale, with cell magic timer to check durations."
   ]
  },
  {
   "cell_type": "code",
   "execution_count": 7,
   "metadata": {},
   "outputs": [
    {
     "name": "stderr",
     "output_type": "stream",
     "text": [
      "Users: 100%|██████████████████████████████████████████████████████████████████▉| 18920/18926 [5:20:17<00:06,  1.02s/it]\n"
     ]
    }
   ],
   "source": [
    "N = len(sub_sample)\n",
    "chunks = 20\n",
    "N_sub = int(N/chunks)\n",
    "with tqdm(total=N, desc='Users') as pbar:\n",
    "    for j in range(chunks): # break up problem into 10 chunks\n",
    "        tweet_list = [] # new list for each loop\n",
    "        for i, user in enumerate(sub_sample[j*N_sub:(j+1)*N_sub]):\n",
    "            results = request_user_timeline(tw_api, user, api_delay=0, kwargs={'tweet_mode':'extended', 'count':200})\n",
    "            for tweet in results:\n",
    "                tweet.pop('author')\n",
    "            tweet_list.extend(results)\n",
    "            pbar.update(1)\n",
    "        # pickle current subset of results\n",
    "        fp = '../data/raw/cyber_friend_tweets_subset_'+str(j)+'.pkl'\n",
    "        with open(fp, 'wb') as f:\n",
    "            pickle.dump(tweet_list, f)"
   ]
  },
  {
   "cell_type": "markdown",
   "metadata": {},
   "source": [
    "Found that including the API delay, which ensures that API requests are uniformly distributed according to the rate limit, seems to more than double the time required.\n",
    "However, the request rate is too quick without it, need a small delay to handle this gap"
   ]
  },
  {
   "cell_type": "code",
   "execution_count": null,
   "metadata": {},
   "outputs": [],
   "source": []
  },
  {
   "cell_type": "markdown",
   "metadata": {},
   "source": [
    "## 4. Turn data into dataframe and clean\n",
    "\n",
    "First, need to load in pickled subsets one by one"
   ]
  },
  {
   "cell_type": "code",
   "execution_count": 4,
   "metadata": {},
   "outputs": [],
   "source": [
    "def load_pickle_to_df(fp):\n",
    "    with open(fp, 'rb') as f:\n",
    "        data = pickle.load(f)\n",
    "    user_data = []\n",
    "    entities_data = []\n",
    "    rt_data = []\n",
    "    for tweet in data:\n",
    "        user_data.append(vars(tweet.pop('user')))\n",
    "        entities_data.append(tweet.pop('entities'))\n",
    "        \n",
    "    tmp_tweet_df = pd.DataFrame(data)\n",
    "    rt_data = [vars(datum) if hasattr(datum, '__dict__') else {} for datum in list(tmp_tweet_df['retweeted_status'].values)]\n",
    "    tmp_tweet_df.drop(['id_str', 'in_reply_to_status_id_str', 'in_reply_to_user_id_str', 'favorited', 'retweeted', 'retweeted_status'], 1, inplace=True) # drop columns that duplicate info\n",
    "    tmp_tweet_df.rename(columns={'id':'tweet_id', 'created_at':'tweet_created_at', 'full_text':'text'}, inplace=True) # rename tweet id column\n",
    "    \n",
    "    tmp_user_df = pd.DataFrame(user_data)\n",
    "    tmp_user_df.drop(tmp_user_df.columns.difference(['id','name', 'screen_name']), 1, inplace=True) # drop user info we don't want\n",
    "    tmp_user_df.rename(columns={'id':'user_id'}, inplace=True) # rename user id col\n",
    "    \n",
    "    tmp_ent_df = pd.DataFrame(entities_data)\n",
    "    tmp_ent_df['hashtags'] = tmp_ent_df['hashtags'].apply(lambda x : [hashtag['text'] for hashtag in x]) # turn hashtags into list of strings\n",
    "    tmp_ent_df['user_mentions'] = tmp_ent_df['user_mentions'].apply(lambda x : [usr['screen_name'] for usr in x])\n",
    "    tmp_ent_df.rename(columns={'user_mentions':'mentions'}, inplace=True)\n",
    "    \n",
    "    tmp_rt_df = pd.DataFrame(rt_data)\n",
    "    tmp_rt_df['rt_user_id'] = tmp_rt_df['user'].apply(lambda x : x.id if hasattr(x, 'id') else None)\n",
    "    tmp_rt_df['rt_screen_name'] = tmp_rt_df['user'].apply(lambda x : x.screen_name if hasattr(x, 'screen_name') else None)\n",
    "    tmp_rt_df['rt_text'] = tmp_rt_df['full_text']\n",
    "    tmp_rt_df.drop(tmp_rt_df.columns.difference(['id', 'rt_user_id', 'rt_screen_name', 'rt_text']), 1, inplace=True)\n",
    "    tmp_rt_df.rename(columns={'id':'rt_id'}, inplace=True)\n",
    "    \n",
    "    tweet_df = pd.concat([tmp_user_df, tmp_tweet_df, tmp_ent_df, tmp_rt_df], axis=1, sort=False)\n",
    "    \n",
    "    return tweet_df"
   ]
  },
  {
   "cell_type": "code",
   "execution_count": null,
   "metadata": {},
   "outputs": [],
   "source": [
    "for i in range(20):\n",
    "    subset_df = load_pickle_to_df('../data/raw/cyber_friend_tweets_subset_'+str(i)+'.pkl')\n",
    "    midpoint = int(subset_df.shape[0]/2)\n",
    "    subsetA = subset_df.iloc[:midpoint]\n",
    "    subsetB = subset_df.iloc[midpoint:]\n",
    "    subsetA.to_csv('../data/raw/cyber_friends_tweets_subset_'+str(2*i)+'.csv', index=False)\n",
    "    subsetB.to_csv('../data/raw/cyber_friends_tweets_subset_'+str((2*i)+1)+'.csv', index=False)"
   ]
  },
  {
   "cell_type": "code",
   "execution_count": 18,
   "metadata": {},
   "outputs": [
    {
     "data": {
      "text/plain": [
       "294.69163703918457"
      ]
     },
     "execution_count": 18,
     "metadata": {},
     "output_type": "execute_result"
    }
   ],
   "source": [
    "test_df.memory_usage(deep=True).sum()/(1024**2)"
   ]
  },
  {
   "cell_type": "code",
   "execution_count": null,
   "metadata": {},
   "outputs": [],
   "source": [
    "df_cleaned = dc.standard_tweet_dataset_setup()\n",
    "df_cleaned = dc.fill_standard_tweet_dataset_with_API(df_cleaned, test_df)"
   ]
  },
  {
   "cell_type": "code",
   "execution_count": 8,
   "metadata": {},
   "outputs": [
    {
     "ename": "TypeError",
     "evalue": "vars() argument must have __dict__ attribute",
     "output_type": "error",
     "traceback": [
      "\u001b[1;31m---------------------------------------------------------------------------\u001b[0m",
      "\u001b[1;31mTypeError\u001b[0m                                 Traceback (most recent call last)",
      "\u001b[1;32m<ipython-input-8-82bbcc43a5b8>\u001b[0m in \u001b[0;36m<module>\u001b[1;34m\u001b[0m\n\u001b[1;32m----> 1\u001b[1;33m \u001b[0mvars\u001b[0m\u001b[1;33m(\u001b[0m\u001b[0mnp\u001b[0m\u001b[1;33m.\u001b[0m\u001b[0mnan\u001b[0m\u001b[1;33m)\u001b[0m\u001b[1;33m\u001b[0m\u001b[1;33m\u001b[0m\u001b[0m\n\u001b[0m",
      "\u001b[1;31mTypeError\u001b[0m: vars() argument must have __dict__ attribute"
     ]
    }
   ],
   "source": []
  },
  {
   "cell_type": "code",
   "execution_count": 5,
   "metadata": {},
   "outputs": [
    {
     "name": "stderr",
     "output_type": "stream",
     "text": [
      "C:\\Users\\rwhwe\\.conda\\envs\\S2DS\\lib\\site-packages\\IPython\\core\\interactiveshell.py:3072: DtypeWarning: Columns (13,14,27,28,29) have mixed types.Specify dtype option on import or set low_memory=False.\n",
      "  interactivity=interactivity, compiler=compiler, result=result)\n"
     ]
    }
   ],
   "source": [
    "subset_df = pd.read_csv('../data/raw/cyber_friend_tweets/cyber_friends_tweets_subset_0.csv')"
   ]
  },
  {
   "cell_type": "code",
   "execution_count": 6,
   "metadata": {},
   "outputs": [],
   "source": [
    "test = dc.init_cleaned_tweet_df()"
   ]
  },
  {
   "cell_type": "code",
   "execution_count": 21,
   "metadata": {},
   "outputs": [],
   "source": [
    "trial = pd.concat([test, subset_df[subset_df.columns.intersection(test.columns)]])"
   ]
  },
  {
   "cell_type": "code",
   "execution_count": 22,
   "metadata": {},
   "outputs": [
    {
     "data": {
      "text/html": [
       "<div>\n",
       "<style scoped>\n",
       "    .dataframe tbody tr th:only-of-type {\n",
       "        vertical-align: middle;\n",
       "    }\n",
       "\n",
       "    .dataframe tbody tr th {\n",
       "        vertical-align: top;\n",
       "    }\n",
       "\n",
       "    .dataframe thead th {\n",
       "        text-align: right;\n",
       "    }\n",
       "</style>\n",
       "<table border=\"1\" class=\"dataframe\">\n",
       "  <thead>\n",
       "    <tr style=\"text-align: right;\">\n",
       "      <th></th>\n",
       "      <th>user_id</th>\n",
       "      <th>screen_name</th>\n",
       "      <th>name</th>\n",
       "      <th>tweet_id</th>\n",
       "      <th>text</th>\n",
       "      <th>tweet_created_at</th>\n",
       "      <th>conversation_id</th>\n",
       "      <th>in_reply_to_status_id</th>\n",
       "      <th>rt_id</th>\n",
       "      <th>rt_user_id</th>\n",
       "      <th>rt_screen_name</th>\n",
       "      <th>rt_text</th>\n",
       "      <th>in_reply_to_user_id</th>\n",
       "      <th>in_reply_to_screen_name</th>\n",
       "      <th>replies_count</th>\n",
       "      <th>retweets_count</th>\n",
       "      <th>likes_count</th>\n",
       "      <th>hashtags</th>\n",
       "    </tr>\n",
       "  </thead>\n",
       "  <tbody>\n",
       "    <tr>\n",
       "      <th>0</th>\n",
       "      <td>363675945</td>\n",
       "      <td>RobaHusseini</td>\n",
       "      <td>Roba El Husseini ربى</td>\n",
       "      <td>1294203275043110912</td>\n",
       "      <td>Beirut blast: who knew what, when? \\nMy latest...</td>\n",
       "      <td>2020-08-14 09:24:40</td>\n",
       "      <td>NaN</td>\n",
       "      <td>NaN</td>\n",
       "      <td>NaN</td>\n",
       "      <td>NaN</td>\n",
       "      <td>NaN</td>\n",
       "      <td>NaN</td>\n",
       "      <td>NaN</td>\n",
       "      <td>NaN</td>\n",
       "      <td>NaN</td>\n",
       "      <td>NaN</td>\n",
       "      <td>NaN</td>\n",
       "      <td>[]</td>\n",
       "    </tr>\n",
       "    <tr>\n",
       "      <th>1</th>\n",
       "      <td>363675945</td>\n",
       "      <td>RobaHusseini</td>\n",
       "      <td>Roba El Husseini ربى</td>\n",
       "      <td>1293934001514848256</td>\n",
       "      <td>RT @LayalAFP: #Breaking via @AFP  #FBI to join...</td>\n",
       "      <td>2020-08-13 15:34:40</td>\n",
       "      <td>NaN</td>\n",
       "      <td>NaN</td>\n",
       "      <td>1.293919e+18</td>\n",
       "      <td>5.467842e+08</td>\n",
       "      <td>LayalAFP</td>\n",
       "      <td>#Breaking via @AFP  #FBI to join #Beirut blast...</td>\n",
       "      <td>NaN</td>\n",
       "      <td>NaN</td>\n",
       "      <td>NaN</td>\n",
       "      <td>NaN</td>\n",
       "      <td>NaN</td>\n",
       "      <td>['Breaking', 'FBI', 'Beirut', 'probe']</td>\n",
       "    </tr>\n",
       "    <tr>\n",
       "      <th>2</th>\n",
       "      <td>363675945</td>\n",
       "      <td>RobaHusseini</td>\n",
       "      <td>Roba El Husseini ربى</td>\n",
       "      <td>1293580602055299072</td>\n",
       "      <td>RT @AFP_Beirut: #BREAKING \\nLebanon prosecutor...</td>\n",
       "      <td>2020-08-12 16:10:23</td>\n",
       "      <td>NaN</td>\n",
       "      <td>NaN</td>\n",
       "      <td>1.293580e+18</td>\n",
       "      <td>9.725363e+17</td>\n",
       "      <td>AFP_Beirut</td>\n",
       "      <td>#BREAKING \\nLebanon prosecutor to question sev...</td>\n",
       "      <td>NaN</td>\n",
       "      <td>NaN</td>\n",
       "      <td>NaN</td>\n",
       "      <td>NaN</td>\n",
       "      <td>NaN</td>\n",
       "      <td>['BREAKING', 'BeirutBlast']</td>\n",
       "    </tr>\n",
       "    <tr>\n",
       "      <th>3</th>\n",
       "      <td>363675945</td>\n",
       "      <td>RobaHusseini</td>\n",
       "      <td>Roba El Husseini ربى</td>\n",
       "      <td>1293160356240592896</td>\n",
       "      <td>When the boy saw blood on his feet, \"he starte...</td>\n",
       "      <td>2020-08-11 12:20:29</td>\n",
       "      <td>NaN</td>\n",
       "      <td>NaN</td>\n",
       "      <td>NaN</td>\n",
       "      <td>NaN</td>\n",
       "      <td>NaN</td>\n",
       "      <td>NaN</td>\n",
       "      <td>NaN</td>\n",
       "      <td>NaN</td>\n",
       "      <td>NaN</td>\n",
       "      <td>NaN</td>\n",
       "      <td>NaN</td>\n",
       "      <td>[]</td>\n",
       "    </tr>\n",
       "    <tr>\n",
       "      <th>4</th>\n",
       "      <td>363675945</td>\n",
       "      <td>RobaHusseini</td>\n",
       "      <td>Roba El Husseini ربى</td>\n",
       "      <td>1292555363393458179</td>\n",
       "      <td>RT @DrMaramAlsheikh: https://t.co/tO4WexWyui</td>\n",
       "      <td>2020-08-09 20:16:27</td>\n",
       "      <td>NaN</td>\n",
       "      <td>NaN</td>\n",
       "      <td>1.292555e+18</td>\n",
       "      <td>2.517652e+08</td>\n",
       "      <td>DrMaramAlsheikh</td>\n",
       "      <td>https://t.co/tO4WexWyui</td>\n",
       "      <td>NaN</td>\n",
       "      <td>NaN</td>\n",
       "      <td>NaN</td>\n",
       "      <td>NaN</td>\n",
       "      <td>NaN</td>\n",
       "      <td>[]</td>\n",
       "    </tr>\n",
       "  </tbody>\n",
       "</table>\n",
       "</div>"
      ],
      "text/plain": [
       "     user_id   screen_name                  name             tweet_id  \\\n",
       "0  363675945  RobaHusseini  Roba El Husseini ربى  1294203275043110912   \n",
       "1  363675945  RobaHusseini  Roba El Husseini ربى  1293934001514848256   \n",
       "2  363675945  RobaHusseini  Roba El Husseini ربى  1293580602055299072   \n",
       "3  363675945  RobaHusseini  Roba El Husseini ربى  1293160356240592896   \n",
       "4  363675945  RobaHusseini  Roba El Husseini ربى  1292555363393458179   \n",
       "\n",
       "                                                text     tweet_created_at  \\\n",
       "0  Beirut blast: who knew what, when? \\nMy latest...  2020-08-14 09:24:40   \n",
       "1  RT @LayalAFP: #Breaking via @AFP  #FBI to join...  2020-08-13 15:34:40   \n",
       "2  RT @AFP_Beirut: #BREAKING \\nLebanon prosecutor...  2020-08-12 16:10:23   \n",
       "3  When the boy saw blood on his feet, \"he starte...  2020-08-11 12:20:29   \n",
       "4       RT @DrMaramAlsheikh: https://t.co/tO4WexWyui  2020-08-09 20:16:27   \n",
       "\n",
       "  conversation_id  in_reply_to_status_id         rt_id    rt_user_id  \\\n",
       "0             NaN                    NaN           NaN           NaN   \n",
       "1             NaN                    NaN  1.293919e+18  5.467842e+08   \n",
       "2             NaN                    NaN  1.293580e+18  9.725363e+17   \n",
       "3             NaN                    NaN           NaN           NaN   \n",
       "4             NaN                    NaN  1.292555e+18  2.517652e+08   \n",
       "\n",
       "    rt_screen_name                                            rt_text  \\\n",
       "0              NaN                                                NaN   \n",
       "1         LayalAFP  #Breaking via @AFP  #FBI to join #Beirut blast...   \n",
       "2       AFP_Beirut  #BREAKING \\nLebanon prosecutor to question sev...   \n",
       "3              NaN                                                NaN   \n",
       "4  DrMaramAlsheikh                            https://t.co/tO4WexWyui   \n",
       "\n",
       "   in_reply_to_user_id in_reply_to_screen_name replies_count retweets_count  \\\n",
       "0                  NaN                     NaN           NaN            NaN   \n",
       "1                  NaN                     NaN           NaN            NaN   \n",
       "2                  NaN                     NaN           NaN            NaN   \n",
       "3                  NaN                     NaN           NaN            NaN   \n",
       "4                  NaN                     NaN           NaN            NaN   \n",
       "\n",
       "  likes_count                                hashtags  \n",
       "0         NaN                                      []  \n",
       "1         NaN  ['Breaking', 'FBI', 'Beirut', 'probe']  \n",
       "2         NaN             ['BREAKING', 'BeirutBlast']  \n",
       "3         NaN                                      []  \n",
       "4         NaN                                      []  "
      ]
     },
     "execution_count": 22,
     "metadata": {},
     "output_type": "execute_result"
    }
   ],
   "source": [
    "trial.head()"
   ]
  },
  {
   "cell_type": "code",
   "execution_count": 24,
   "metadata": {},
   "outputs": [
    {
     "data": {
      "text/html": [
       "<div>\n",
       "<style scoped>\n",
       "    .dataframe tbody tr th:only-of-type {\n",
       "        vertical-align: middle;\n",
       "    }\n",
       "\n",
       "    .dataframe tbody tr th {\n",
       "        vertical-align: top;\n",
       "    }\n",
       "\n",
       "    .dataframe thead th {\n",
       "        text-align: right;\n",
       "    }\n",
       "</style>\n",
       "<table border=\"1\" class=\"dataframe\">\n",
       "  <thead>\n",
       "    <tr style=\"text-align: right;\">\n",
       "      <th></th>\n",
       "      <th>user_id</th>\n",
       "      <th>screen_name</th>\n",
       "      <th>name</th>\n",
       "      <th>tweet_id</th>\n",
       "      <th>text</th>\n",
       "      <th>tweet_created_at</th>\n",
       "      <th>conversation_id</th>\n",
       "      <th>in_reply_to_status_id</th>\n",
       "      <th>rt_id</th>\n",
       "      <th>rt_user_id</th>\n",
       "      <th>rt_screen_name</th>\n",
       "      <th>rt_text</th>\n",
       "      <th>in_reply_to_user_id</th>\n",
       "      <th>in_reply_to_screen_name</th>\n",
       "      <th>replies_count</th>\n",
       "      <th>retweets_count</th>\n",
       "      <th>likes_count</th>\n",
       "      <th>hashtags</th>\n",
       "    </tr>\n",
       "  </thead>\n",
       "  <tbody>\n",
       "    <tr>\n",
       "      <th>0</th>\n",
       "      <td>363675945</td>\n",
       "      <td>robahusseini</td>\n",
       "      <td>Roba El Husseini ربى</td>\n",
       "      <td>1294203275043110912</td>\n",
       "      <td>Beirut blast: who knew what, when? \\nMy latest...</td>\n",
       "      <td>2020-08-14 09:24:40</td>\n",
       "      <td>NaN</td>\n",
       "      <td>NaN</td>\n",
       "      <td>NaN</td>\n",
       "      <td>NaN</td>\n",
       "      <td>NaN</td>\n",
       "      <td>NaN</td>\n",
       "      <td>NaN</td>\n",
       "      <td>NaN</td>\n",
       "      <td>NaN</td>\n",
       "      <td>NaN</td>\n",
       "      <td>NaN</td>\n",
       "      <td>[]</td>\n",
       "    </tr>\n",
       "    <tr>\n",
       "      <th>1</th>\n",
       "      <td>363675945</td>\n",
       "      <td>robahusseini</td>\n",
       "      <td>Roba El Husseini ربى</td>\n",
       "      <td>1293934001514848256</td>\n",
       "      <td>RT @LayalAFP: #Breaking via @AFP  #FBI to join...</td>\n",
       "      <td>2020-08-13 15:34:40</td>\n",
       "      <td>NaN</td>\n",
       "      <td>NaN</td>\n",
       "      <td>1.293919e+18</td>\n",
       "      <td>5.467842e+08</td>\n",
       "      <td>layalafp</td>\n",
       "      <td>#Breaking via @AFP  #FBI to join #Beirut blast...</td>\n",
       "      <td>NaN</td>\n",
       "      <td>NaN</td>\n",
       "      <td>NaN</td>\n",
       "      <td>NaN</td>\n",
       "      <td>NaN</td>\n",
       "      <td>['breaking', 'fbi', 'beirut', 'probe']</td>\n",
       "    </tr>\n",
       "    <tr>\n",
       "      <th>2</th>\n",
       "      <td>363675945</td>\n",
       "      <td>robahusseini</td>\n",
       "      <td>Roba El Husseini ربى</td>\n",
       "      <td>1293580602055299072</td>\n",
       "      <td>RT @AFP_Beirut: #BREAKING \\nLebanon prosecutor...</td>\n",
       "      <td>2020-08-12 16:10:23</td>\n",
       "      <td>NaN</td>\n",
       "      <td>NaN</td>\n",
       "      <td>1.293580e+18</td>\n",
       "      <td>9.725363e+17</td>\n",
       "      <td>afp_beirut</td>\n",
       "      <td>#BREAKING \\nLebanon prosecutor to question sev...</td>\n",
       "      <td>NaN</td>\n",
       "      <td>NaN</td>\n",
       "      <td>NaN</td>\n",
       "      <td>NaN</td>\n",
       "      <td>NaN</td>\n",
       "      <td>['breaking', 'beirutblast']</td>\n",
       "    </tr>\n",
       "    <tr>\n",
       "      <th>3</th>\n",
       "      <td>363675945</td>\n",
       "      <td>robahusseini</td>\n",
       "      <td>Roba El Husseini ربى</td>\n",
       "      <td>1293160356240592896</td>\n",
       "      <td>When the boy saw blood on his feet, \"he starte...</td>\n",
       "      <td>2020-08-11 12:20:29</td>\n",
       "      <td>NaN</td>\n",
       "      <td>NaN</td>\n",
       "      <td>NaN</td>\n",
       "      <td>NaN</td>\n",
       "      <td>NaN</td>\n",
       "      <td>NaN</td>\n",
       "      <td>NaN</td>\n",
       "      <td>NaN</td>\n",
       "      <td>NaN</td>\n",
       "      <td>NaN</td>\n",
       "      <td>NaN</td>\n",
       "      <td>[]</td>\n",
       "    </tr>\n",
       "    <tr>\n",
       "      <th>4</th>\n",
       "      <td>363675945</td>\n",
       "      <td>robahusseini</td>\n",
       "      <td>Roba El Husseini ربى</td>\n",
       "      <td>1292555363393458179</td>\n",
       "      <td>RT @DrMaramAlsheikh: https://t.co/tO4WexWyui</td>\n",
       "      <td>2020-08-09 20:16:27</td>\n",
       "      <td>NaN</td>\n",
       "      <td>NaN</td>\n",
       "      <td>1.292555e+18</td>\n",
       "      <td>2.517652e+08</td>\n",
       "      <td>drmaramalsheikh</td>\n",
       "      <td>https://t.co/tO4WexWyui</td>\n",
       "      <td>NaN</td>\n",
       "      <td>NaN</td>\n",
       "      <td>NaN</td>\n",
       "      <td>NaN</td>\n",
       "      <td>NaN</td>\n",
       "      <td>[]</td>\n",
       "    </tr>\n",
       "  </tbody>\n",
       "</table>\n",
       "</div>"
      ],
      "text/plain": [
       "     user_id   screen_name                  name             tweet_id  \\\n",
       "0  363675945  robahusseini  Roba El Husseini ربى  1294203275043110912   \n",
       "1  363675945  robahusseini  Roba El Husseini ربى  1293934001514848256   \n",
       "2  363675945  robahusseini  Roba El Husseini ربى  1293580602055299072   \n",
       "3  363675945  robahusseini  Roba El Husseini ربى  1293160356240592896   \n",
       "4  363675945  robahusseini  Roba El Husseini ربى  1292555363393458179   \n",
       "\n",
       "                                                text     tweet_created_at  \\\n",
       "0  Beirut blast: who knew what, when? \\nMy latest...  2020-08-14 09:24:40   \n",
       "1  RT @LayalAFP: #Breaking via @AFP  #FBI to join...  2020-08-13 15:34:40   \n",
       "2  RT @AFP_Beirut: #BREAKING \\nLebanon prosecutor...  2020-08-12 16:10:23   \n",
       "3  When the boy saw blood on his feet, \"he starte...  2020-08-11 12:20:29   \n",
       "4       RT @DrMaramAlsheikh: https://t.co/tO4WexWyui  2020-08-09 20:16:27   \n",
       "\n",
       "  conversation_id  in_reply_to_status_id         rt_id    rt_user_id  \\\n",
       "0             NaN                    NaN           NaN           NaN   \n",
       "1             NaN                    NaN  1.293919e+18  5.467842e+08   \n",
       "2             NaN                    NaN  1.293580e+18  9.725363e+17   \n",
       "3             NaN                    NaN           NaN           NaN   \n",
       "4             NaN                    NaN  1.292555e+18  2.517652e+08   \n",
       "\n",
       "    rt_screen_name                                            rt_text  \\\n",
       "0              NaN                                                NaN   \n",
       "1         layalafp  #Breaking via @AFP  #FBI to join #Beirut blast...   \n",
       "2       afp_beirut  #BREAKING \\nLebanon prosecutor to question sev...   \n",
       "3              NaN                                                NaN   \n",
       "4  drmaramalsheikh                            https://t.co/tO4WexWyui   \n",
       "\n",
       "   in_reply_to_user_id in_reply_to_screen_name replies_count retweets_count  \\\n",
       "0                  NaN                     NaN           NaN            NaN   \n",
       "1                  NaN                     NaN           NaN            NaN   \n",
       "2                  NaN                     NaN           NaN            NaN   \n",
       "3                  NaN                     NaN           NaN            NaN   \n",
       "4                  NaN                     NaN           NaN            NaN   \n",
       "\n",
       "  likes_count                                hashtags  \n",
       "0         NaN                                      []  \n",
       "1         NaN  ['breaking', 'fbi', 'beirut', 'probe']  \n",
       "2         NaN             ['breaking', 'beirutblast']  \n",
       "3         NaN                                      []  \n",
       "4         NaN                                      []  "
      ]
     },
     "execution_count": 24,
     "metadata": {},
     "output_type": "execute_result"
    }
   ],
   "source": [
    "lowercase_list = ['in_reply_to_screen_name', 'screen_name', 'rt_screen_name', 'hashtags']\n",
    "for item in lowercase_list:\n",
    "    trial[item] = trial[item].str.lower()\n",
    "trial.head()"
   ]
  },
  {
   "cell_type": "code",
   "execution_count": 12,
   "metadata": {},
   "outputs": [
    {
     "name": "stdout",
     "output_type": "stream",
     "text": [
      "469\n"
     ]
    }
   ],
   "source": [
    "users = list(set(list(subset_df['screen_name'].values)))\n",
    "print(len(users))"
   ]
  },
  {
   "cell_type": "code",
   "execution_count": 16,
   "metadata": {},
   "outputs": [
    {
     "name": "stdout",
     "output_type": "stream",
     "text": [
      "<class 'pandas.core.frame.DataFrame'>\n",
      "RangeIndex: 90345 entries, 0 to 90344\n",
      "Data columns (total 39 columns):\n",
      " #   Column                   Non-Null Count  Dtype  \n",
      "---  ------                   --------------  -----  \n",
      " 0   user_id                  90345 non-null  int64  \n",
      " 1   name                     90345 non-null  object \n",
      " 2   screen_name              90345 non-null  object \n",
      " 3   tweet_created_at         90345 non-null  object \n",
      " 4   tweet_id                 90345 non-null  int64  \n",
      " 5   text                     90345 non-null  object \n",
      " 6   truncated                90345 non-null  bool   \n",
      " 7   display_text_range       90345 non-null  object \n",
      " 8   source                   90344 non-null  object \n",
      " 9   source_url               90344 non-null  object \n",
      " 10  in_reply_to_status_id    29629 non-null  float64\n",
      " 11  in_reply_to_user_id      30060 non-null  float64\n",
      " 12  in_reply_to_screen_name  30060 non-null  object \n",
      " 13  geo                      86 non-null     object \n",
      " 14  coordinates              86 non-null     object \n",
      " 15  place                    1373 non-null   object \n",
      " 16  contributors             0 non-null      float64\n",
      " 17  is_quote_status          90345 non-null  bool   \n",
      " 18  retweet_count            90345 non-null  int64  \n",
      " 19  favorite_count           90345 non-null  int64  \n",
      " 20  possibly_sensitive       37457 non-null  object \n",
      " 21  lang                     90345 non-null  object \n",
      " 22  extended_entities        12728 non-null  object \n",
      " 23  quoted_status_id         11876 non-null  float64\n",
      " 24  quoted_status_id_str     11876 non-null  float64\n",
      " 25  quoted_status_permalink  11873 non-null  object \n",
      " 26  quoted_status            7489 non-null   object \n",
      " 27  withheld_in_countries    6 non-null      object \n",
      " 28  withheld_scope           4 non-null      object \n",
      " 29  withheld_copyright       4 non-null      object \n",
      " 30  hashtags                 90345 non-null  object \n",
      " 31  symbols                  90345 non-null  object \n",
      " 32  mentions                 90345 non-null  object \n",
      " 33  urls                     90345 non-null  object \n",
      " 34  media                    12728 non-null  object \n",
      " 35  rt_id                    28580 non-null  float64\n",
      " 36  rt_user_id               28580 non-null  float64\n",
      " 37  rt_screen_name           28580 non-null  object \n",
      " 38  rt_text                  28580 non-null  object \n",
      "dtypes: bool(2), float64(7), int64(4), object(26)\n",
      "memory usage: 25.7+ MB\n"
     ]
    }
   ],
   "source": [
    "subset_df.info()"
   ]
  },
  {
   "cell_type": "code",
   "execution_count": 19,
   "metadata": {},
   "outputs": [],
   "source": [
    "trial_df = subset_df[subset_df['screen_name']==users[0]]"
   ]
  },
  {
   "cell_type": "code",
   "execution_count": 24,
   "metadata": {},
   "outputs": [
    {
     "name": "stderr",
     "output_type": "stream",
     "text": [
      "C:\\Users\\rwhwe\\.conda\\envs\\S2DS\\lib\\site-packages\\ipykernel_launcher.py:1: SettingWithCopyWarning: \n",
      "A value is trying to be set on a copy of a slice from a DataFrame.\n",
      "Try using .loc[row_indexer,col_indexer] = value instead\n",
      "\n",
      "See the caveats in the documentation: https://pandas.pydata.org/pandas-docs/stable/user_guide/indexing.html#returning-a-view-versus-a-copy\n",
      "  \"\"\"Entry point for launching an IPython kernel.\n"
     ]
    }
   ],
   "source": [
    "trial_df['total_engagements'] = trial_df['retweet_count']+trial_df['favorite_count']"
   ]
  },
  {
   "cell_type": "code",
   "execution_count": 26,
   "metadata": {},
   "outputs": [],
   "source": [
    "def hIndex(citations):\n",
    "    \"\"\"\n",
    "    :type citations: List[int]\n",
    "    \"\"\"\n",
    "    if not citations:\n",
    "        return 0\n",
    "    citations.sort()\n",
    "    for i in range(1,len(citations)+1)[::-1]:\n",
    "        if citations[-i] >= i:\n",
    "            return i\n",
    "    return 0"
   ]
  },
  {
   "cell_type": "code",
   "execution_count": 28,
   "metadata": {},
   "outputs": [
    {
     "name": "stderr",
     "output_type": "stream",
     "text": [
      "C:\\Users\\rwhwe\\.conda\\envs\\S2DS\\lib\\site-packages\\ipykernel_launcher.py:4: SettingWithCopyWarning: \n",
      "A value is trying to be set on a copy of a slice from a DataFrame.\n",
      "Try using .loc[row_indexer,col_indexer] = value instead\n",
      "\n",
      "See the caveats in the documentation: https://pandas.pydata.org/pandas-docs/stable/user_guide/indexing.html#returning-a-view-versus-a-copy\n",
      "  after removing the cwd from sys.path.\n"
     ]
    }
   ],
   "source": [
    "user_indices = {}\n",
    "for user in users:\n",
    "    user_df = subset_df[subset_df['screen_name']==user]\n",
    "    user_df['total_engagements'] = user_df['retweet_count']+user_df['favorite_count']\n",
    "    user_indices[user] = hIndex(list(user_df['total_engagements'].values))"
   ]
  },
  {
   "cell_type": "code",
   "execution_count": 30,
   "metadata": {},
   "outputs": [],
   "source": [
    "sort_users = sorted(user_indices.items(), key=lambda x: x[1], reverse=True)"
   ]
  },
  {
   "cell_type": "code",
   "execution_count": 35,
   "metadata": {},
   "outputs": [
    {
     "data": {
      "text/plain": [
       "[('cutedog_f', 195),\n",
       " ('BarbraStreisand', 195),\n",
       " ('KyloR3n', 193),\n",
       " ('sarahcpr', 191),\n",
       " ('StateDept', 188),\n",
       " ('GretaThunberg', 179),\n",
       " ('RoyalFamily', 179),\n",
       " ('pattonoswalt', 177),\n",
       " ('ncwhm', 176),\n",
       " ('EsperDoD', 174),\n",
       " ('rgoodlaw', 171),\n",
       " ('neal_katyal', 170),\n",
       " ('SenSasse', 168),\n",
       " ('Bandreescu_', 161),\n",
       " ('MalcolmNance', 160),\n",
       " ('Simone_Biles', 159),\n",
       " ('MKBHD', 153),\n",
       " ('michaelharriot', 152),\n",
       " ('PatinkinMandy', 151),\n",
       " ('ezraklein', 147),\n",
       " ('Sifill_LDF', 142),\n",
       " ('GeoffRBennett', 141),\n",
       " ('RandyRainbow', 137),\n",
       " ('Vegalteno', 135),\n",
       " ('Jkylebass', 134),\n",
       " ('AljazSkorjanec', 133),\n",
       " ('olgaNYC1211', 130),\n",
       " ('BoutrousTed', 127),\n",
       " ('NatSecLisa', 126),\n",
       " ('shomaristone', 126),\n",
       " ('MollyJongFast', 124),\n",
       " ('MNateShyamalan', 124),\n",
       " ('WHNSC', 122),\n",
       " ('MatthewACherry', 121),\n",
       " ('chunkbardey', 121),\n",
       " ('NCSCgov', 121),\n",
       " ('KimletGordon', 119),\n",
       " ('TwoPaddocks', 116),\n",
       " ('gw27', 115),\n",
       " ('PickardJE', 114),\n",
       " ('EricTopol', 112),\n",
       " ('IanMcKellen', 110),\n",
       " ('sparkleaddict', 109),\n",
       " ('classicdad', 108),\n",
       " ('AndyBeshearKY', 108),\n",
       " ('anitasarkeesian', 107),\n",
       " ('JayNedaj', 107),\n",
       " ('MaraWilson', 106),\n",
       " ('KenMarino', 106),\n",
       " ('eldercactus', 105)]"
      ]
     },
     "execution_count": 35,
     "metadata": {},
     "output_type": "execute_result"
    }
   ],
   "source": [
    "sort_users[:50]"
   ]
  },
  {
   "cell_type": "markdown",
   "metadata": {},
   "source": [
    "## Cleaning Tweets\n",
    "Code blocks below are from Liz:"
   ]
  },
  {
   "cell_type": "code",
   "execution_count": null,
   "metadata": {},
   "outputs": [],
   "source": [
    "def clean_text(text):\n",
    "    text = re.sub(r\"http\\S+\", \"\", text) #remove urls\n",
    "    text=re.sub(r'\\S+\\.com\\S+','',text) #remove urls\n",
    "    text=re.sub(r'\\@\\w+','',text) #remove mentions\n",
    "    text =re.sub(r'\\#\\w+','',text) #remove hashtags\n",
    "    return text\n",
    "df['clean_tweet'] = df['text'].apply(lambda x: clean_text(x))"
   ]
  },
  {
   "cell_type": "code",
   "execution_count": null,
   "metadata": {},
   "outputs": [],
   "source": [
    "def normalized_df_text(text): #normalizing, stop word removal, & lementizing\n",
    "    normalized =[]\n",
    "    for i in range(0,text.shape[0]):\n",
    "        norm_temp = re.findall(r'[A-Za-z]+',text.iloc[i]) #taking all words (leaving punctuation out)\n",
    "        norm_temp = [w.lower() for w in norm_temp] # putting words in lower case\n",
    "        norm_temp = [w for w in norm_temp if not w in stop_words] # removing stopwords\n",
    "        lemma = WordNetLemmatizer()\n",
    "        norm_temp = [lemma.lemmatize(w, pos = \"v\") for w in norm_temp] #lemmatizing verbs\n",
    "        norm_temp = [lemma.lemmatize(w, pos = \"n\") for w in norm_temp] #lemmatizing nouns\n",
    "        norm_temp = [' '.join(norm_temp)]\n",
    "        normalized.append(norm_temp)\n",
    "    return normalized\n",
    "normalized = normalized_df_text(df['clean_tweet'])\n",
    "df['normalized_tweet'] = normalized"
   ]
  },
  {
   "cell_type": "code",
   "execution_count": null,
   "metadata": {},
   "outputs": [],
   "source": [
    "def clean_text(text):\n",
    "    text = re.sub(r\"http\\S+\", \"\", text) #remove urls\n",
    "    text=re.sub(r'\\S+\\.com\\S+','',text) #remove urls\n",
    "    text=re.sub(r'\\@\\w+','',text) #remove mentions\n",
    "    text =re.sub(r'\\#','',text) #remove hashtags\n",
    "    text = re.findall(r'[A-Za-z]+',text)\n",
    "    text = [' '.join(text)]\n",
    "    return text\n",
    "df['clean_tweet'] = df['text'].apply(lambda x: clean_text(x))"
   ]
  },
  {
   "cell_type": "markdown",
   "metadata": {},
   "source": [
    "Now to wrangle these into a form that I can use"
   ]
  },
  {
   "cell_type": "code",
   "execution_count": null,
   "metadata": {},
   "outputs": [],
   "source": []
  }
 ],
 "metadata": {
  "kernelspec": {
   "display_name": "Python 3",
   "language": "python",
   "name": "python3"
  },
  "language_info": {
   "codemirror_mode": {
    "name": "ipython",
    "version": 3
   },
   "file_extension": ".py",
   "mimetype": "text/x-python",
   "name": "python",
   "nbconvert_exporter": "python",
   "pygments_lexer": "ipython3",
   "version": "3.7.1"
  }
 },
 "nbformat": 4,
 "nbformat_minor": 4
}
