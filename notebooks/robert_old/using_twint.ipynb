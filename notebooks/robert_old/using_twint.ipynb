{
 "cells": [
  {
   "cell_type": "markdown",
   "metadata": {},
   "source": [
    "# Pulling data from Twitter with twint"
   ]
  },
  {
   "cell_type": "code",
   "execution_count": 1,
   "metadata": {},
   "outputs": [
    {
     "name": "stdout",
     "output_type": "stream",
     "text": [
      "Collecting twint==2.1.20\n",
      "  Downloading twint-2.1.20.tar.gz (31 kB)\n",
      "Collecting aiodns\n",
      "  Downloading aiodns-2.0.0-py2.py3-none-any.whl (4.8 kB)\n",
      "Collecting aiohttp\n",
      "  Downloading aiohttp-3.6.2-py3-none-any.whl (441 kB)\n",
      "\u001b[K     |████████████████████████████████| 441 kB 9.3 MB/s eta 0:00:01\n",
      "\u001b[?25hCollecting aiohttp_socks\n",
      "  Downloading aiohttp_socks-0.5.3-py3-none-any.whl (32 kB)\n",
      "Requirement already satisfied: beautifulsoup4 in /usr/lib/python3/dist-packages (from twint==2.1.20) (4.8.2)\n",
      "Collecting cchardet\n",
      "  Downloading cchardet-2.1.6-cp38-cp38-manylinux2010_x86_64.whl (244 kB)\n",
      "\u001b[K     |████████████████████████████████| 244 kB 2.1 MB/s eta 0:00:01\n",
      "\u001b[?25hCollecting elasticsearch\n",
      "  Downloading elasticsearch-7.8.1-py2.py3-none-any.whl (188 kB)\n",
      "\u001b[K     |████████████████████████████████| 188 kB 1.8 MB/s eta 0:00:01\n",
      "\u001b[?25hCollecting fake-useragent\n",
      "  Downloading fake-useragent-0.1.11.tar.gz (13 kB)\n",
      "Collecting geopy\n",
      "  Downloading geopy-2.0.0-py3-none-any.whl (111 kB)\n",
      "\u001b[K     |████████████████████████████████| 111 kB 1.0 MB/s eta 0:00:01\n",
      "\u001b[?25hCollecting googletransx\n",
      "  Downloading googletransx-2.4.2.tar.gz (13 kB)\n",
      "Requirement already satisfied: pandas in /usr/lib/python3/dist-packages (from twint==2.1.20) (0.25.3)\n",
      "Collecting pysocks\n",
      "  Downloading PySocks-1.7.1-py3-none-any.whl (16 kB)\n",
      "Collecting schedule\n",
      "  Downloading schedule-0.6.0-py2.py3-none-any.whl (8.7 kB)\n",
      "Collecting pycares>=3.0.0\n",
      "  Downloading pycares-3.1.1-cp38-cp38-manylinux2010_x86_64.whl (229 kB)\n",
      "\u001b[K     |████████████████████████████████| 229 kB 1.8 MB/s eta 0:00:01\n",
      "\u001b[?25hCollecting yarl<2.0,>=1.0\n",
      "  Downloading yarl-1.5.1-cp38-cp38-manylinux1_x86_64.whl (262 kB)\n",
      "\u001b[K     |████████████████████████████████| 262 kB 1.7 MB/s eta 0:00:01\n",
      "\u001b[?25hCollecting multidict<5.0,>=4.5\n",
      "  Downloading multidict-4.7.6-cp38-cp38-manylinux1_x86_64.whl (162 kB)\n",
      "\u001b[K     |████████████████████████████████| 162 kB 4.0 MB/s eta 0:00:01\n",
      "\u001b[?25hRequirement already satisfied: attrs>=17.3.0 in /usr/lib/python3/dist-packages (from aiohttp->twint==2.1.20) (19.3.0)\n",
      "Collecting async-timeout<4.0,>=3.0\n",
      "  Downloading async_timeout-3.0.1-py3-none-any.whl (8.2 kB)\n",
      "Requirement already satisfied: chardet<4.0,>=2.0 in /usr/lib/python3/dist-packages (from aiohttp->twint==2.1.20) (3.0.4)\n",
      "Requirement already satisfied: urllib3>=1.21.1 in /usr/lib/python3/dist-packages (from elasticsearch->twint==2.1.20) (1.25.8)\n",
      "Requirement already satisfied: certifi in /usr/lib/python3/dist-packages (from elasticsearch->twint==2.1.20) (2019.11.28)\n",
      "Collecting geographiclib<2,>=1.49\n",
      "  Downloading geographiclib-1.50-py3-none-any.whl (38 kB)\n",
      "Requirement already satisfied: requests in /usr/lib/python3/dist-packages (from googletransx->twint==2.1.20) (2.22.0)\n",
      "Requirement already satisfied: cffi>=1.5.0 in /home/robert/.local/lib/python3.8/site-packages (from pycares>=3.0.0->aiodns->twint==2.1.20) (1.14.1)\n",
      "Requirement already satisfied: idna>=2.0 in /usr/lib/python3/dist-packages (from yarl<2.0,>=1.0->aiohttp->twint==2.1.20) (2.8)\n",
      "Requirement already satisfied: pycparser in /home/robert/.local/lib/python3.8/site-packages (from cffi>=1.5.0->pycares>=3.0.0->aiodns->twint==2.1.20) (2.20)\n",
      "Building wheels for collected packages: twint, fake-useragent, googletransx\n",
      "  Building wheel for twint (setup.py) ... \u001b[?25ldone\n",
      "\u001b[?25h  Created wheel for twint: filename=twint-2.1.20-py3-none-any.whl size=33919 sha256=0f15c1af5ef4342cdd9b1ee33cc6b91fc439cae204195154d5a2678cf7329434\n",
      "  Stored in directory: /home/robert/.cache/pip/wheels/4e/80/ea/5b82b5140b7dec857ec0bbfe908193ebf2e5d7f2ebee297519\n",
      "  Building wheel for fake-useragent (setup.py) ... \u001b[?25ldone\n",
      "\u001b[?25h  Created wheel for fake-useragent: filename=fake_useragent-0.1.11-py3-none-any.whl size=13487 sha256=85c857fff046b8da1c721198f93d4a80d72867ec6ba5ed6c69b0733e291ef47b\n",
      "  Stored in directory: /home/robert/.cache/pip/wheels/a0/b8/b7/8c942b2c5be5158b874a88195116b05ad124bac795f6665e65\n",
      "  Building wheel for googletransx (setup.py) ... \u001b[?25ldone\n",
      "\u001b[?25h  Created wheel for googletransx: filename=googletransx-2.4.2-py3-none-any.whl size=15971 sha256=3f348e2166ebae7adeffe1d3a0351975cdd63053547d7ed4b5c8f4f30284fd7f\n",
      "  Stored in directory: /home/robert/.cache/pip/wheels/6a/54/98/96b62f08dd73eca3147e36b5099d77c3f8fedc5472bb488167\n",
      "Successfully built twint fake-useragent googletransx\n",
      "Installing collected packages: pycares, aiodns, multidict, yarl, async-timeout, aiohttp, aiohttp-socks, cchardet, elasticsearch, fake-useragent, geographiclib, geopy, googletransx, pysocks, schedule, twint\n",
      "Successfully installed aiodns-2.0.0 aiohttp-3.6.2 aiohttp-socks-0.5.3 async-timeout-3.0.1 cchardet-2.1.6 elasticsearch-7.8.1 fake-useragent-0.1.11 geographiclib-1.50 geopy-2.0.0 googletransx-2.4.2 multidict-4.7.6 pycares-3.1.1 pysocks-1.7.1 schedule-0.6.0 twint-2.1.20 yarl-1.5.1\n",
      "Collecting nest_asyncio==1.4.0\n",
      "  Downloading nest_asyncio-1.4.0-py3-none-any.whl (5.2 kB)\n",
      "Installing collected packages: nest-asyncio\n",
      "Successfully installed nest-asyncio-1.4.0\n"
     ]
    }
   ],
   "source": [
    "# Run this block if you need to install the relevant modules\n",
    "\n",
    "!pip3 install twint==2.1.20 --user\n",
    "\n",
    "!pip3 install nest_asyncio==1.4.0 --user\n",
    "# ^^ Need to install this for twint event loop to work in a jupyter notebook setting"
   ]
  },
  {
   "cell_type": "markdown",
   "metadata": {},
   "source": [
    "Import nest_asyncio if needed for current environment"
   ]
  },
  {
   "cell_type": "code",
   "execution_count": 1,
   "metadata": {},
   "outputs": [],
   "source": [
    "'''\n",
    "This block of code is needed for using twint within a jupyter notebook.  Without it, twint searches generate runtime errors because an event loop is already running.\n",
    "'''\n",
    "try:\n",
    "    ip = get_ipython()\n",
    "    \n",
    "    if ip.has_trait('kernel'): \n",
    "        #TODO: Create outcome\n",
    "        import nest_asyncio\n",
    "        nest_asyncio.apply()\n",
    "        \n",
    "except:\n",
    "    Exception('Not working in an iPython environment, skipping this step.')"
   ]
  },
  {
   "cell_type": "markdown",
   "metadata": {},
   "source": [
    "Import other modules and define some key variables:"
   ]
  },
  {
   "cell_type": "code",
   "execution_count": 2,
   "metadata": {
    "colab": {
     "base_uri": "https://localhost:8080/",
     "height": 36
    },
    "colab_type": "code",
    "executionInfo": {
     "elapsed": 479,
     "status": "ok",
     "timestamp": 1596532908601,
     "user": {
      "displayName": "Robert Webster",
      "photoUrl": "https://lh3.googleusercontent.com/a-/AOh14Gg7Stk49hEoZ1c82bidR1H954q2O2nkhObwj2gs5g=s64",
      "userId": "10620864818105511058"
     },
     "user_tz": -60
    },
    "id": "81hMtE4txsHE",
    "outputId": "c6090588-a6da-4c4b-be8f-978cfe5e5e5d"
   },
   "outputs": [
    {
     "name": "stdout",
     "output_type": "stream",
     "text": [
      "twint: 2.1.20\n",
      "D:\\S2DS\\Ditchley\\Aug20_Ditchley\\notebooks\n"
     ]
    }
   ],
   "source": [
    "import os\n",
    "import sys\n",
    "import pandas as pd\n",
    "\n",
    "import twint\n",
    "print('twint: '+twint.__version__)\n",
    "\n",
    "data_path = '../data/raw/' # define location for data to be saved relative to notebook location\n",
    "print(os.getcwd())"
   ]
  },
  {
   "cell_type": "markdown",
   "metadata": {},
   "source": [
    "## Extracting lists of followers"
   ]
  },
  {
   "cell_type": "code",
   "execution_count": 5,
   "metadata": {},
   "outputs": [],
   "source": [
    "def get_followers(username, fp, full=False, suppress=True):\n",
    "    '''\n",
    "    Function to scrape a list of followers of a specific user.\n",
    "    \n",
    "    Parameters\n",
    "    ----------\n",
    "    username : str\n",
    "        the twitter handle of the user whose followers to pull.\n",
    "    fp : str\n",
    "        Filepath to directory where data should be stored.  \n",
    "    full : bool\n",
    "        if true, scrapes all user info; only name if false.\n",
    "    suppress : bool\n",
    "        If true, suppress the printed output of the scraping. \n",
    "        \n",
    "    Returns\n",
    "    -------\n",
    "    followers : list of str\n",
    "    '''\n",
    "    full_path = fp+'followers_'\n",
    "    if not full:\n",
    "        full_path += 'names_'\n",
    "    full_path += username+'.db'\n",
    "    \n",
    "    c = twint.Config()\n",
    "    c.Username = username\n",
    "    c.Hide_output = suppress\n",
    "    c.User_full = full\n",
    "    c.Database = full_path\n",
    "    \n",
    "    twint.run.Followers(c)\n",
    "    \n",
    "    print('Follower data saved to \"'+full_path+'\"')"
   ]
  },
  {
   "cell_type": "code",
   "execution_count": 6,
   "metadata": {},
   "outputs": [
    {
     "name": "stdout",
     "output_type": "stream",
     "text": [
      "[+] Inserting into Database: ../data/raw/followers_names_bobthephysicist.db\n"
     ]
    },
    {
     "name": "stderr",
     "output_type": "stream",
     "text": [
      "CRITICAL:root:twint.get:User:\n",
      "CRITICAL:root:twint.feed:Follow:IndexError\n",
      "CRITICAL:root:twint.feed:Follow:IndexError\n"
     ]
    },
    {
     "name": "stdout",
     "output_type": "stream",
     "text": [
      "Follower data saved to \"../data/raw/followers_names_bobthephysicist.db\"\n"
     ]
    }
   ],
   "source": [
    "get_followers('bobthephysicist', '../data/raw/', suppress=True)"
   ]
  },
  {
   "cell_type": "code",
   "execution_count": 20,
   "metadata": {},
   "outputs": [
    {
     "ename": "TypeError",
     "evalue": "object of type 'NoneType' has no len()",
     "output_type": "error",
     "traceback": [
      "\u001b[1;31m---------------------------------------------------------------------------\u001b[0m",
      "\u001b[1;31mTypeError\u001b[0m                                 Traceback (most recent call last)",
      "\u001b[1;32m<ipython-input-20-1868042a7e81>\u001b[0m in \u001b[0;36m<module>\u001b[1;34m\u001b[0m\n\u001b[1;32m----> 1\u001b[1;33m \u001b[0mprint\u001b[0m\u001b[1;33m(\u001b[0m\u001b[0mlen\u001b[0m\u001b[1;33m(\u001b[0m\u001b[0mfollowers\u001b[0m\u001b[1;33m)\u001b[0m\u001b[1;33m)\u001b[0m\u001b[1;33m\u001b[0m\u001b[1;33m\u001b[0m\u001b[0m\n\u001b[0m\u001b[0;32m      2\u001b[0m \u001b[0mprint\u001b[0m\u001b[1;33m(\u001b[0m\u001b[0mfollowers\u001b[0m\u001b[1;33m[\u001b[0m\u001b[1;33m:\u001b[0m\u001b[1;36m5\u001b[0m\u001b[1;33m]\u001b[0m\u001b[1;33m)\u001b[0m\u001b[1;33m\u001b[0m\u001b[1;33m\u001b[0m\u001b[0m\n",
      "\u001b[1;31mTypeError\u001b[0m: object of type 'NoneType' has no len()"
     ]
    }
   ],
   "source": [
    "print(len(followers))\n",
    "print(followers[:5])"
   ]
  },
  {
   "cell_type": "code",
   "execution_count": 21,
   "metadata": {},
   "outputs": [],
   "source": []
  },
  {
   "cell_type": "code",
   "execution_count": 6,
   "metadata": {},
   "outputs": [],
   "source": [
    "def get_following(username, fp, full=False, suppress=True):\n",
    "    '''\n",
    "    Function to scrape a list of followed users of a specific user.\n",
    "    \n",
    "    Parameters\n",
    "    ----------\n",
    "    username : str\n",
    "        the twitter handle of the user whose follows to pull.\n",
    "    fp : str\n",
    "        Filepath to directory where data should be stored.  \n",
    "    full : bool\n",
    "        if true, scrapes all user info; only name if false.\n",
    "    suppress : bool\n",
    "        If true, suppress the printed output of the scraping. \n",
    "        \n",
    "    Returns\n",
    "    -------\n",
    "    followers : list of str\n",
    "        \n",
    "    TODO: Abstract RAM storage of output\n",
    "    '''\n",
    "    full_path = fp+'following_'\n",
    "    if not full:\n",
    "        full_path += 'names_'\n",
    "    full_path += username+'.db'\n",
    "    \n",
    "    c = twint.Config()\n",
    "    c.Username = username\n",
    "    c.Hide_output = suppress\n",
    "    c.User_full = full\n",
    "    c.Database = full_path\n",
    "    \n",
    "    twint.run.Following(c)\n",
    "    \n",
    "    print('Follow data saved to \"'+full_path+'\"')"
   ]
  },
  {
   "cell_type": "code",
   "execution_count": 7,
   "metadata": {},
   "outputs": [
    {
     "name": "stdout",
     "output_type": "stream",
     "text": [
      "[+] Inserting into Database: ../data/raw/following_names_bobthephysicist.db\n"
     ]
    },
    {
     "name": "stderr",
     "output_type": "stream",
     "text": [
      "CRITICAL:root:twint.get:User:'NoneType' object is not subscriptable\n",
      "CRITICAL:root:twint.feed:Follow:IndexError\n",
      "CRITICAL:root:twint.feed:Follow:IndexError\n"
     ]
    },
    {
     "name": "stdout",
     "output_type": "stream",
     "text": [
      "Follow data saved to \"../data/raw/following_names_bobthephysicist.db\"\n"
     ]
    }
   ],
   "source": [
    "get_following('bobthephysicist', '../data/raw/', suppress=True)"
   ]
  },
  {
   "cell_type": "code",
   "execution_count": 27,
   "metadata": {},
   "outputs": [],
   "source": [
    "del c"
   ]
  },
  {
   "cell_type": "code",
   "execution_count": 13,
   "metadata": {},
   "outputs": [
    {
     "name": "stderr",
     "output_type": "stream",
     "text": [
      "CRITICAL:root:twint.get:User:'NoneType' object is not subscriptable\n"
     ]
    },
    {
     "name": "stdout",
     "output_type": "stream",
     "text": [
      "1291729444265230342 2020-08-07 14:34:33 GMT Daylight Time <bobthephysicist> Condragulations Dr. @alisoncowan0 🎉🎉🎉  https://twitter.com/UofG_MCMP/status/1291728227325616129 … pic.twitter.com/eF4Cuv5qki\n",
      "1291719029191856129 2020-08-07 13:53:10 GMT Daylight Time <bobthephysicist> The importance of good #DataVisualization in one graph... https://twitter.com/reina_sabah/status/1291509085855260672 …\n",
      "1291483906919866370 2020-08-06 22:18:52 GMT Daylight Time <bobthephysicist> Another day, another #python environment obliterated beyond all salvation.   Why is Windows the way it is??? pic.twitter.com/44ZL0cBAA0\n",
      "1290390082856386562 2020-08-03 21:52:24 GMT Daylight Time <bobthephysicist> Whew. Day one of #S2DS20 was a blast. Excited to get stuck in with a fantastic #DataScience project. But first, 😴😴😴. pic.twitter.com/XcdMmap09r\n",
      "1289553585659813889 2020-08-01 14:28:28 GMT Daylight Time <bobthephysicist> Paddy is a cheery #doggo today, making the most of Scotland's one day of #summer. pic.twitter.com/ctqWZntjBQ\n",
      "1288043175249051649 2020-07-28 10:26:38 GMT Daylight Time <bobthephysicist> Thanks Rachel!\n",
      "1288043029752877061 2020-07-28 10:26:03 GMT Daylight Time <bobthephysicist> Thanks Bianca!\n",
      "1287765103396487168 2020-07-27 16:01:40 GMT Daylight Time <bobthephysicist> Thanks Katie! How are you doing?\n",
      "1287761983144693760 2020-07-27 15:49:16 GMT Daylight Time <bobthephysicist> Thanks Colin! How's things in Belfast?\n",
      "1287754657457201154 2020-07-27 15:20:10 GMT Daylight Time <bobthephysicist> Thanks Tom! Hope you're doing well!\n",
      "1287746230861398019 2020-07-27 14:46:41 GMT Daylight Time <bobthephysicist>  pic.twitter.com/fbdpnVzwH6\n",
      "1287745915562991617 2020-07-27 14:45:26 GMT Daylight Time <bobthephysicist> Thanks Hayden!\n",
      "1287735296755367939 2020-07-27 14:03:14 GMT Daylight Time <bobthephysicist> Thanks Kirsty! pic.twitter.com/BuKCQ7PfeS\n",
      "1287734592439562242 2020-07-27 14:00:26 GMT Daylight Time <bobthephysicist> Thank you! Definitely not thinking about the Viva yet 😅\n",
      "1287734397865799680 2020-07-27 13:59:40 GMT Daylight Time <bobthephysicist> Oh boy! I know the feeling though. I'm getting ready to start a data science course next week.\n",
      "1287731726349983745 2020-07-27 13:49:03 GMT Daylight Time <bobthephysicist> Thanks! I managed to spend some of the weekend chilling with Paddy pic.twitter.com/hARLxzDGwz\n",
      "1287731198102511617 2020-07-27 13:46:57 GMT Daylight Time <bobthephysicist> Thanks Alison! You managed to get some rest since submitting yours?\n",
      "1287731090397040640 2020-07-27 13:46:31 GMT Daylight Time <bobthephysicist> Thanks Liam! How have you been doing?\n",
      "1287728060981272577 2020-07-27 13:34:29 GMT Daylight Time <bobthephysicist> 🎉🎉🎉 Thesis submitted! #PhDone pic.twitter.com/nH6EDoIprg\n",
      "1282699856251949057 2020-07-13 16:34:11 GMT Daylight Time <bobthephysicist> Wait. You mean your uni credentials work for journals... Off campus???\n",
      "1282648331093762048 2020-07-13 13:09:27 GMT Daylight Time <bobthephysicist> It should be open access already, if that's what you're referring to?\n",
      "1282611403724140545 2020-07-13 10:42:43 GMT Daylight Time <bobthephysicist> Now, if I can just finish off this thesis...\n",
      "1282610025358405632 2020-07-13 10:37:14 GMT Daylight Time <bobthephysicist> Plus!  The code for automated measurements and data processing described in the paper is available here:   http://researchdata.gla.ac.uk/1032/ \n",
      "1282610023806521344 2020-07-13 10:37:14 GMT Daylight Time <bobthephysicist> 🎉New first author paper accepted in #Ultramicroscopy!🎉  \"Correction of EELS dispersion non-uniformities for improved chemical shift analysis\"  If you want more reliable #EELS measurements, this is for you!  #PhDchat #ElectronMicroscopy @UofG_MCMP https://www.sciencedirect.com/science/article/pii/S0304399120302205 …\n",
      "1281229733410242566 2020-07-09 15:12:27 GMT Daylight Time <bobthephysicist> Would you recommend to stop thesis-writing time from slipping away?\n",
      "1280977177929035782 2020-07-08 22:28:53 GMT Daylight Time <bobthephysicist> Does this mean thesis writing counts as a rollercoaster? #PhDchat #thesis https://twitter.com/benpershing/status/1280918225782538241 …\n",
      "1280919059777847296 2020-07-08 18:37:56 GMT Daylight Time <bobthephysicist>  pic.twitter.com/wmnlUh4UsS\n",
      "1280551220634161157 2020-07-07 18:16:17 GMT Daylight Time <bobthephysicist> Haha.  I could write it as 4±1 mugs, though really the confidence intervals are skewed toward the higher values.  Probably enough for today.\n",
      "1280537779059990528 2020-07-07 17:22:52 GMT Daylight Time <bobthephysicist> Saaaaaame. Been catching myself for a couple of weeks now.\n",
      "1280536457329991682 2020-07-07 17:17:37 GMT Daylight Time <bobthephysicist> Should I stop drinking #coffee for the day if I can't say with certainty how many cups I've had? #thesis #phdchat\n",
      "1280424692021710848 2020-07-07 09:53:30 GMT Daylight Time <bobthephysicist> This is amazing. Hopefully it's useful for my science tweeps. https://twitter.com/NPRougier/status/1280249448774414339 …\n",
      "1280088706506985473 2020-07-06 11:38:25 GMT Daylight Time <bobthephysicist>  https://twitter.com/BBCWorld/status/1279976642794881025 … pic.twitter.com/0iWQPFoB5J\n",
      "1278692940244803584 2020-07-02 15:12:08 GMT Daylight Time <bobthephysicist> Writing a thesis from home these last few months would have been impossible without scihub\n",
      "1271041843048972293 2020-06-11 12:29:24 GMT Daylight Time <bobthephysicist> Thesis writing breaks have consisted almost entirely of #knitting the past month or so. Just the sleeves left to go on this #WIP jumper! #phdlife pic.twitter.com/jodt0EWNVt\n",
      "1268108789896622080 2020-06-03 10:14:30 GMT Daylight Time <bobthephysicist> Maybe so, but that doesn't make it a reasonable thing to do. Would you be happy if an MP for a constituency in Wales, Scotland or NI was appointed to the cabinet to handle EVEL matters?\n",
      "1267950302809993218 2020-06-02 23:44:44 GMT Daylight Time <bobthephysicist> Ah yes, Milton Keynes... That we'll known region of Scotland....  https://twitter.com/paulhutcheon/status/1267876435492036608 … pic.twitter.com/VvajQl7gbr\n",
      "1262388929313099776 2020-05-18 15:25:49 GMT Daylight Time <bobthephysicist> Oooh I know that feel. pic.twitter.com/LAd0D6lutN\n",
      "1259522007068225546 2020-05-10 17:33:41 GMT Daylight Time <bobthephysicist> Some important Sunday content... https://twitter.com/Pandamoanimum/status/1259207916403462144 …\n",
      "1257036966094405633 2020-05-03 20:59:01 GMT Daylight Time <bobthephysicist> This is Paddy, the family doggo.\n",
      "1256952263874134017 2020-05-03 15:22:27 GMT Daylight Time <bobthephysicist> My new supervisor, peering over my shoulder. Will woof-read thesis chapters for snackos. #phdchat #phdlife #thesis #DogsofTwittter pic.twitter.com/Llzo1wLDug\n",
      "1249332259997523969 2020-04-12 14:43:16 GMT Daylight Time <bobthephysicist> ❤️ Was such a spectacular gig. How was it been a year already??? https://twitter.com/robynkonichiwa/status/1249321368681938946 …\n",
      "1245359502268018689 2020-04-01 15:36:57 GMT Daylight Time <bobthephysicist>  pic.twitter.com/fLbwydvbg4\n",
      "1245306583673974786 2020-04-01 12:06:40 GMT Daylight Time <bobthephysicist> If I get really tight on time, maybe I'll go for 1MeV\n",
      "1245299739161235456 2020-04-01 11:39:29 GMT Daylight Time <bobthephysicist> Time to accelerate my thesis writing by 200kV 🤯. #phdchat #phdlife #ElectronMicroscopy #Thesis #thesiswriting pic.twitter.com/7pOJn1YGYr\n",
      "1240310242782720006 2020-03-18 16:13:00 GMT Daylight Time <bobthephysicist> Day 4 of trying to cobble together a normal shop:  I have succeeded in procuring cooking oil and potatoes.   Carrots still elude me... pic.twitter.com/fSrfnBITy4\n",
      "1240281627743395840 2020-03-18 14:19:18 GMT Daylight Time <bobthephysicist> Just found out there's no #Eurovision2020 this year. ☹️☹️☹️  This May is now definitively less lit. pic.twitter.com/kldPfiqHIb\n",
      "1234907367940202496 2020-03-03 18:23:54 GMT Daylight Time <bobthephysicist> It's like a new verse for \"We didn't start the fire\"\n",
      "1234797517302312960 2020-03-03 11:07:24 GMT Daylight Time <bobthephysicist> Note to self: making filter #coffee is more successful when you remember the filter... pic.twitter.com/OgtwmiUzk7\n",
      "1233797699788517378 2020-02-29 16:54:29 GMT Daylight Time <bobthephysicist> Was it that long ago already? Feels like last week. pic.twitter.com/2zwCNLkkN8\n",
      "1233791988488601600 2020-02-29 16:31:47 GMT Daylight Time <bobthephysicist> Did you not watch Drag Race UK as it aired?\n",
      "1233550234552279043 2020-02-29 00:31:08 GMT Daylight Time <bobthephysicist> That's a good point! I shall look into those.\n",
      "1233545883553275905 2020-02-29 00:13:51 GMT Daylight Time <bobthephysicist> 100 for L and 90 for M, though.\n",
      "1233545228998660104 2020-02-29 00:11:15 GMT Daylight Time <bobthephysicist> Wowww. That's an eye opener. I can kind of see that there's something there in all the rows of the s column, but it's not enough for me to be able to actually tell what letters they are past 30.\n",
      "1231628179980288002 2020-02-23 17:13:35 GMT Daylight Time <bobthephysicist> Star Trek has always been political, though. Roddenberry arguably started it for purpose of being political. I think the main differences with Picard comes from the more contemporary, long form storytelling, as opposed to the \"monster of the week\" style TV that Trek used to be.\n",
      "1231190005831405569 2020-02-22 12:12:26 GMT Daylight Time <bobthephysicist> I am here for @Rylan slowly resurrecting all the greats of 90's TV. https://twitter.com/BBC/status/1231172279934939138 …\n",
      "1229450831419842567 2020-02-17 17:01:34 GMT Daylight Time <bobthephysicist> Turns out the Cernettes are actually on twitter @cernettes and are also the feature of the first image on the Internet! #TheMoreYouKnow pic.twitter.com/vuFfPTchNl\n",
      "1229447123537666048 2020-02-17 16:46:50 GMT Daylight Time <bobthephysicist> I was today years old when I learned about \"Les Horribles Cernettes\", a #CERN girl group.  I cannot believe I had never heard of them before.  Thanks @ellen_dev and @f_lassandro for bringing this to my attention.  This is too good not to share. Enjoy. https://youtu.be/1e1eLe1ihT0 \n",
      "1228341330755104770 2020-02-14 15:32:49 GMT Daylight Time <bobthephysicist>  pic.twitter.com/k2cwcKeNrF\n",
      "1228341066564341765 2020-02-14 15:31:46 GMT Daylight Time <bobthephysicist>  pic.twitter.com/vjzwZF5bBN\n",
      "1227986563482685440 2020-02-13 16:03:06 GMT Daylight Time <bobthephysicist> 2016 Me: Processes a pile of data in a spreadsheet with no comments or explanations.  Current Me, trying to write a thesis: #phdchat #phdlife pic.twitter.com/lvukIoHX4d\n",
      "1227634682768056321 2020-02-12 16:44:51 GMT Daylight Time <bobthephysicist> This could be significant! Much focus in the article on flexible #tech but, in the face of shortages of resources for ITO touchscreens, this is surely secondary? Much bigger deal being able to radically reduce the raw materials needed in #ElectronicsManufacturing Thoughts? https://twitter.com/PhysicsWorld/status/1227617351379668992 …\n",
      "1227249900800266244 2020-02-11 15:15:52 GMT Daylight Time <bobthephysicist> Fascinating! If you've ever been interested in the #tech behind #subtitles and #captioning, this is well worth a read. https://twitter.com/DDDSchmidt/status/1227242337211801600 …\n",
      "1227196926216589313 2020-02-11 11:45:22 GMT Daylight Time <bobthephysicist> 3/3 And a few science tweeps that I haven't had the joy of meeting (yet!) #WomenInScienceDay @laura_bocher @JulieCairney @HappyGeologist @HopeJahren @IBJIYONGI @ShellyStem @sarahhaigh_mcr @amy_flanagandy @jesswade\n",
      "1227196924429819904 2020-02-11 11:45:21 GMT Daylight Time <bobthephysicist> 2/3 Oh, there's more, btw!  #WomenInScienceDay @alisoncowan0 @AnnandKirsty @katehhhh @ralunney @McCaul_me_maybe @TheHelenGiles @aineclareob @holliewrightre @doyin_mansell @RoseFWaugh @AstroAngieSays\n",
      "1227196922525556738 2020-02-11 11:45:21 GMT Daylight Time <bobthephysicist> 1/3 It's #WomenInScienceDay! I am, in fact, not a woman (shocking, I know), but here's a shout-out to some tweeps who I've had the privilege of being friends & colleagues with, and who you should definitely follow! @beamsontoast @monifa_monifa @kirsty_ap @PhysicsBianca\n",
      "1226902488202256384 2020-02-10 16:15:22 GMT Daylight Time <bobthephysicist> It is a bit of a mouthful... 😂\n",
      "1226891428917383170 2020-02-10 15:31:25 GMT Daylight Time <bobthephysicist> 🎉🎉Excited for my first paper of 2020 published w/ Michael Scott @Srinivasrpopuri @jwg_bos @damaclaren! Quick look why contact layers in #thermoelectrics are important in blog post ( https://robertwebster.info/2020/02/1st-paper-2020/ …) #phdchat #AcademicTwitter   Full paper here:  https://doi.org/10.1016/j.apsusc.2020.145649 … pic.twitter.com/mD1A1Nf7Wa\n",
      "1225441915371491329 2020-02-06 15:31:34 GMT Daylight Time <bobthephysicist>  https://twitter.com/year_progress/status/1225433972613828608 … pic.twitter.com/uQRRK1GQUC\n",
      "1221911703375482880 2020-01-27 21:43:46 GMT Daylight Time <bobthephysicist> Join the dark side, use LaTeX......\n",
      "1221130605510975488 2020-01-25 17:59:58 GMT Daylight Time <bobthephysicist> Just watched #Picard and, needless to say, I was not prepared for the episode to end when it did. Bring on next Friday!\n",
      "1220489391845642241 2020-01-23 23:32:01 GMT Daylight Time <bobthephysicist> The first episode is already live!!!\n",
      "1219665086576582664 2020-01-21 16:56:31 GMT Daylight Time <bobthephysicist> 📢 Hey @QUBelfast people! If you're interested in #webdevelopment at all you should head along to this and be taught by the wonderful, talented @ellen_dev! 🎉👩‍💻 Spread the word! 🗣️ @CDT_PIADS @QUBMathsPhys https://twitter.com/CodeFirstGirls/status/1217469048776282113 …\n",
      "1219374514418724866 2020-01-20 21:41:53 GMT Daylight Time <bobthephysicist> I would highly recommend a browse of @DoggoDating @samoyds @corgo and @dog_feelings for happy wholesome content pic.twitter.com/qJr8FOvIoo\n",
      "1219318275236093952 2020-01-20 17:58:25 GMT Daylight Time <bobthephysicist>  pic.twitter.com/md0UrVuInI\n",
      "1215039164846096384 2020-01-08 22:34:45 GMT Daylight Time <bobthephysicist> Yay! When will you be coming? I'll make sure there's cake if you want to swing by and say hello ☺️  Besides, you must be desperate to know about the current state of the splice ratio 😜 pic.twitter.com/BI4RITnEXq\n",
      "1215036922801901568 2020-01-08 22:25:51 GMT Daylight Time <bobthephysicist>  pic.twitter.com/ckFj7xP9UV\n",
      "1213844603637583873 2020-01-05 15:28:00 GMT Daylight Time <bobthephysicist> Seems about right  https://twitter.com/RobJustJokin/status/1213243792062586884 … pic.twitter.com/c9AF86OaKO\n",
      "1212390733585494017 2020-01-01 15:10:50 GMT Daylight Time <bobthephysicist> Interesting to see what has and hasn't been realised in the last 30 years... https://twitter.com/BBCArchive/status/1212018067804311552 …\n",
      "1208360991169433600 2019-12-21 12:18:05 GMT Daylight Time <bobthephysicist>  pic.twitter.com/07Bbk3Btv4\n",
      "1205269171224948736 2019-12-12 23:32:17 GMT Daylight Time <bobthephysicist> This gif is very timely. #GE2019 https://twitter.com/swear_trek/status/1205246176976658438 …\n",
      "1203779506735063040 2019-12-08 20:52:54 GMT Daylight Time <bobthephysicist> This week on \"Lib-Dem self-sabotage in Scotland\".... #GE2019 https://twitter.com/kacnutt/status/1203619770526031872 …\n",
      "1203271487320408064 2019-12-07 11:14:12 GMT Daylight Time <bobthephysicist> Or is it unreasonable of me to expect that, when you say \"no problems reported\" on a route, that I'll actually be able to get on a train?\n",
      "1203269471395299330 2019-12-07 11:06:12 GMT Daylight Time <bobthephysicist> It would be nice if information like this was readily available on the scotrail app. For instance, in the affected routes section of the front page?\n",
      "1203267697338925056 2019-12-07 10:59:09 GMT Daylight Time <bobthephysicist> Ummm, @ScotRail, where are all the northbound trains from Queen Street that go further than Stirling??? Would be nice to know what's going on.\n",
      "1202305067094859776 2019-12-04 19:14:00 GMT Daylight Time <bobthephysicist> I feel seen... https://twitter.com/swyx/status/1202202923385536513 …\n",
      "1202268263167778817 2019-12-04 16:47:45 GMT Daylight Time <bobthephysicist> I swear one day of thesis writing requires more than one day of mental effort... pic.twitter.com/3IaZMYvbt7\n",
      "1202252586440630275 2019-12-04 15:45:28 GMT Daylight Time <bobthephysicist> An interesting development. Unfortunate that the alternative is indium, which is already in dangerously heavy use in tech. #physics #technology https://twitter.com/PhysicsWorld/status/1202165168026914816 …\n",
      "1200632678380396545 2019-11-30 04:28:31 GMT Daylight Time <bobthephysicist>  pic.twitter.com/ujLNkwirwG\n",
      "1199817455369170944 2019-11-27 22:29:07 GMT Daylight Time <bobthephysicist>  pic.twitter.com/2WQimqzP9c\n",
      "1199414669552865280 2019-11-26 19:48:35 GMT Daylight Time <bobthephysicist> 😊 This is good to hear. *All* PhD funding is competitive by nature. I don't think that justifies a description that is, at least from what I've seen, closer to a postdoc job ad.\n",
      "1199331716424458241 2019-11-26 14:18:58 GMT Daylight Time <bobthephysicist> Exactly.  And another of the requirements - \"Should have proven ability to present research at an international conference\" - is even less likely! Who is paying undergrads to go to these? It can be hard enough to secure conference funding as a PhD student.\n",
      "1199305359049003009 2019-11-26 12:34:14 GMT Daylight Time <bobthephysicist> \"Applicants should have publications\"  So, just to be clear, you now need to be an experienced researcher to get into a programme which is supposed to be a stepping stone into research?  I just can't with this department sometimes....  #phdchat  https://twitter.com/cmuell15/status/1199211100300070912 … pic.twitter.com/EsOGfuDBQm\n",
      "1197608136368164865 2019-11-21 20:10:04 GMT Daylight Time <bobthephysicist> Nope, I stand corrected. Check this out. Astronomers are truly mad.   https://iopscience.iop.org/article/10.1088/0067-0049/210/1/11 …\n",
      "1197606883483410439 2019-11-21 20:05:06 GMT Daylight Time <bobthephysicist> Hey, @beamsontoast, I've just learned about what is possibly the most ridiculous science acronym ever......  http://holmes.iap.fr/  #phdchat pic.twitter.com/ACJ0jI0iJo\n",
      "1197289305439383560 2019-11-20 23:03:09 GMT Daylight Time <bobthephysicist> Python even contains \"y tho\" in the name...\n",
      "1196213766435852290 2019-11-17 23:49:21 GMT Daylight Time <bobthephysicist> Honestly can't believe that result. Especially when that salsa this week was just chopped tomatoes.\n",
      "1191476191527669760 2019-11-04 22:03:55 GMT Daylight Time <bobthephysicist> Me returning to work after a holiday. #phdlife #phdchat https://twitter.com/nathanwpyle/status/1191360774113038337 …\n",
      "1191475543046316039 2019-11-04 22:01:20 GMT Daylight Time <bobthephysicist> Thesis? Who is she? I don't know her.  (Pictured: me, living in denial, in Bellagio, Italy)  #holiday #phdlife #como #Italy pic.twitter.com/YXuC1lGxWv\n",
      "1187507298224226304 2019-10-25 00:12:57 GMT Daylight Time <bobthephysicist> Evidently, they can be distracted with some titanium...\n",
      "1184951195313545216 2019-10-17 22:55:54 GMT Daylight Time <bobthephysicist> Hey @bbcthree, could we PLEASE get Wuthering Heights as a lip-sync on #dragraceUK ???  (or failing that, some Total Eclipse of the Heart, plz)  plz\n",
      "1184187386235891713 2019-10-15 20:20:48 GMT Daylight Time <bobthephysicist> Aw maaaaaan. This is, without a doubt, the best gig I've ever been to.  I still, from time to time, wish I was still there. https://twitter.com/robynkonichiwa/status/1184145260643045376 …\n",
      "1183360014918017024 2019-10-13 13:33:07 GMT Daylight Time <bobthephysicist> If anyone is looking for a new #book to read (or just any distraction from thesis writing), I can happily reccommend 'Before the coffee gets cold.'  It's an enthralling read, and has been the perfect way to spend a lazy #sunday afternoon.  #phdlife #phdchat pic.twitter.com/JjYQqSut43\n",
      "1183148884329189377 2019-10-12 23:34:10 GMT Daylight Time <bobthephysicist>  pic.twitter.com/zJZGmdZZRl\n",
      "1183123292493930502 2019-10-12 21:52:28 GMT Daylight Time <bobthephysicist> Thanks. Nanostructured Heusler alloys for me.\n",
      "1183084542267154434 2019-10-12 19:18:30 GMT Daylight Time <bobthephysicist> Aah, no way! I work on thermoelectrics in my PhD.\n",
      "1183083672737587200 2019-10-12 19:15:02 GMT Daylight Time <bobthephysicist> This is another great appearance from him. ⬇️ Chatting about science, too! https://twitter.com/huwlemmey/status/1125677161753513984?s=09 …\n",
      "1180095829769691136 2019-10-04 13:22:25 GMT Daylight Time <bobthephysicist> 😂😂 https://twitter.com/JaneyGodley/status/1180093981369221120 …\n",
      "1180091891615981568 2019-10-04 13:06:46 GMT Daylight Time <bobthephysicist> Sometimes I can't believe the utter tripe they manage to dredge up for the #bbcqt audience. He and everyone who applauded him should be ashamed.  https://twitter.com/SpillerOfTea/status/1180026203778027520 … pic.twitter.com/jJkYKriH8i\n",
      "1176975417737175040 2019-09-25 22:43:01 GMT Daylight Time <bobthephysicist> Now all we need is someone to dub a stormtrooper screaming over the top. https://twitter.com/JTSHEEPS35/status/1174280558932877312 …\n",
      "1176519218981998594 2019-09-24 16:30:15 GMT Daylight Time <bobthephysicist> Alt caption: \"Theresa May tries out her #Cersei #Lannister impression in public\"\n",
      "1176517048274489345 2019-09-24 16:21:37 GMT Daylight Time <bobthephysicist> Looks like Theresa is enjoying herself in Torremolinos @JaneyGodley https://twitter.com/mikegalsworthy/status/1176466044451459072 …\n",
      "1176138853285056512 2019-09-23 15:18:48 GMT Daylight Time <bobthephysicist> Ooft that was awkward to watch.\n",
      "1168576522279641089 2019-09-02 18:28:48 GMT Daylight Time <bobthephysicist> There's not enough foil... I can still see parts of the vacuum system. 😁\n",
      "1168269341743357954 2019-09-01 22:08:11 GMT Daylight Time <bobthephysicist> And for a twist, the eurovision song a computer came up with. https://youtu.be/4MKAf6YX_7M \n",
      "1168268987047784448 2019-09-01 22:06:46 GMT Daylight Time <bobthephysicist> Other notable mentions: Apricot Stone - Armenia Fuego - Cyprus Terminal 3 - Ireland Dschingis Khan - Germany Love love peace peace - Swedish Hosts Toy - Israel To name a few...\n",
      "1168266989137211392 2019-09-01 21:58:50 GMT Daylight Time <bobthephysicist> Well, if we're going down the eurovision route, Verka Serduchka is a classic. https://youtu.be/hfjHJneVonE \n",
      "1168265441170665472 2019-09-01 21:52:41 GMT Daylight Time <bobthephysicist> Anything by Robyn. Particularly off the album Honey.\n",
      "1166275675847843840 2019-08-27 10:06:04 GMT Daylight Time <bobthephysicist> So  http://hackerrank.com  has lots of short challenges that work on different concepts in python as well as loads of other stuff. There are loads of courses that you can do for free on  http://coursera.com  too, which can be basic python or python for specific applications.\n",
      "1165654989064290304 2019-08-25 16:59:40 GMT Daylight Time <bobthephysicist> OK but where are the Scottish Queens? #RuPaulsDragRaceUK https://twitter.com/bbcpress/status/1164069666446295041 …\n",
      "1161278567348625408 2019-08-13 15:09:20 GMT Daylight Time <bobthephysicist>  pic.twitter.com/D9MO4W35zp\n",
      "1161275181245108225 2019-08-13 14:55:53 GMT Daylight Time <bobthephysicist> Or maybe it has something to do with the 25% more tea per tea...\n",
      "1161267944657235968 2019-08-13 14:27:07 GMT Daylight Time <bobthephysicist> 1040 teabags seems rather arbitrary. Makes you wonder how they came to that number.\n",
      "1161266668603154432 2019-08-13 14:22:03 GMT Daylight Time <bobthephysicist> Cheers @JamieBGall for the badges. They've taken pride of place on my jacket. Also love the wee astronaut sticker on the envelope. pic.twitter.com/0YBXgxIC2v\n",
      "1157233432797372417 2019-08-02 11:15:25 GMT Daylight Time <bobthephysicist> Lidl in partick has a bakery that does them.\n",
      "1149609196020649986 2019-07-12 10:19:25 GMT Daylight Time <bobthephysicist> Love a good rainbow graph. pic.twitter.com/BG3Xeib9gc\n",
      "1147504401185157121 2019-07-06 14:55:43 GMT Daylight Time <bobthephysicist> With great leg-room comes great responsibility....\n",
      "1139114688724328453 2019-06-13 11:18:00 GMT Daylight Time <bobthephysicist> I didn't realise @BBC #YearsAndYears was a prophetic work. Can we please get these morons as far away from positions of power as possible? https://twitter.com/nedsimons/status/1138738146789793792 …\n",
      "1134579695197085699 2019-05-31 22:57:33 GMT Daylight Time <bobthephysicist> Well then... Full voting record on  http://theyworkforyou.com  pic.twitter.com/3p12xRfbOT\n",
      "1133491339591606273 2019-05-28 22:52:49 GMT Daylight Time <bobthephysicist>  pic.twitter.com/drDj7M60da\n",
      "1133472463394922496 2019-05-28 21:37:48 GMT Daylight Time <bobthephysicist> I would highly reccommend the BBCs #yearsandyears to anyone who would like to top up their sense of existential dread. Anyway, off to recover with some cute doggos. http://www.bbc.co.uk/iplayer/episode/m000539d …\n",
      "1132637220312166401 2019-05-26 14:18:51 GMT Daylight Time <bobthephysicist> Hey @Google how come I can't get anything but news stories and Wikipedia pages from a Google search on android??? Was there a conscious choice to make Google unusable?\n",
      "1124312194831851520 2019-05-03 14:58:10 GMT Daylight Time <bobthephysicist> Sorry, who just hit F5 to try and compile a word document?  No, definitely not me. 🤦‍♂️ #phdchat\n",
      "1121448093965258753 2019-04-25 17:17:15 GMT Daylight Time <bobthephysicist> Unfortunately for you, your completely unfounded assumption doesn't invalidate real world data. That this problem exists to any extent is terrible.\n",
      "1116703399846789120 2019-04-12 15:03:32 GMT Daylight Time <bobthephysicist>  pic.twitter.com/I6MfVgJsKo\n",
      "1089174273137217536 2019-01-26 14:52:37 GMT Daylight Time <bobthephysicist> My recent paper on #nanostructures in #thermoelectric #materials is featured on the cover of this months' issue of #APLMaterials!  You can read the paper here:  https://doi.org/10.1063/1.5052361 …. pic.twitter.com/0XxnZSZln7\n",
      "1074678945017155584 2018-12-17 14:53:21 GMT Daylight Time <bobthephysicist> Aaaaand just in time for Christmas, my first journal article is now published and available online. 😁🎁 #phdlife #physics @UofG_MCMP @John_E_Halpin @damaclaren @jwg_bos @Srinivasrpopuri https://aip.scitation.org/doi/10.1063/1.5052361 …\n",
      "1041423757875638272 2018-09-16 21:29:07 GMT Daylight Time <bobthephysicist> Good morning #Sydney from @tarongazoo pic.twitter.com/z2h8e6uUFB\n",
      "1039135242919890944 2018-09-10 13:55:22 GMT Daylight Time <bobthephysicist> View of the @SydOperaHouse from the ferry to Neutral bay the other day on our way for some top notch brunch. #Sydney pic.twitter.com/3xURbF8DqJ\n",
      "1039133668256567296 2018-09-10 13:49:07 GMT Daylight Time <bobthephysicist> If you missed me presenting my work @IMC19Sydney today, you can catch me at my next talk just before 5pm on Weds at theatrette 3. @UofG_MCMP #microscopy pic.twitter.com/OuVN5jeQfz\n",
      "1037097155394068482 2018-09-04 22:56:44 GMT Daylight Time <bobthephysicist> And so we go into day 3 sans luggage. It's supposedly been in Sydney since yesterday morning, yet in 24 hours hasn't managed to find its way to us.\n",
      "1036972147535532032 2018-09-04 14:40:00 GMT Daylight Time <bobthephysicist> And apparently @emirates @EmiratesSupport are now treating the issue as resolved, yet can tell us nothing about what has happened. Great. 🤬😤\n",
      "1036970464894042114 2018-09-04 14:33:19 GMT Daylight Time <bobthephysicist> Over 24 hours later, still no sign of luggage. The only person @emirates @EmiratesSupport who seems to have any information doesn't pick up the phone.\n",
      "1036831925355216897 2018-09-04 05:22:49 GMT Daylight Time <bobthephysicist> Arrived to beautiful weather in #sydney ahead of @IMC19Sydney Still waiting on our luggage catching up with us after landing last night @EmiratesSupport 🤬 pic.twitter.com/8ywebaup9y\n",
      "1029374944306753536 2018-08-14 15:31:26 GMT Daylight Time <bobthephysicist> It's also a fair bit more than a PhD stipend...\n",
      "1009709123292811264 2018-06-21 09:06:29 GMT Daylight Time <bobthephysicist> Did you try Loratadine or Cetirizine? It might be that only one in particular works for you.\n",
      "994249710222364673 2018-05-09 17:16:17 GMT Daylight Time <bobthephysicist> Are the dates actually confirmed yet?\n",
      "960855259617873921 2018-02-06 12:38:40 GMT Daylight Time <bobthephysicist> Excited to be accepted to present my work on #thermoelectrics as part of @UofG_MCMP in #Parliament at the @STEM4Brit event in March!\n"
     ]
    }
   ],
   "source": [
    "tweets = []\n",
    "c = twint.Config()\n",
    "c.Username = 'bobthephysicist'\n",
    "c.Store_object = True\n",
    "c.Debug = True\n",
    "\n",
    "twint.run.Search(c)\n",
    "\n",
    "tweets = twint.output.tweets_list"
   ]
  },
  {
   "cell_type": "code",
   "execution_count": 8,
   "metadata": {},
   "outputs": [
    {
     "data": {
      "text/plain": [
       "{'id': 960855259617873921,\n",
       " 'id_str': '960855259617873921',\n",
       " 'conversation_id': '960855259617873921',\n",
       " 'datetime': 1517920720000,\n",
       " 'datestamp': '2018-02-06',\n",
       " 'timestamp': '12:38:40',\n",
       " 'user_id': 927293298280198145,\n",
       " 'user_id_str': '927293298280198145',\n",
       " 'username': 'bobthephysicist',\n",
       " 'name': 'Robert Webster',\n",
       " 'place': '',\n",
       " 'timezone': 'GMT Daylight Time',\n",
       " 'mentions': ['uofg_mcmp', 'stem4brit'],\n",
       " 'urls': [],\n",
       " 'photos': [],\n",
       " 'video': 0,\n",
       " 'tweet': 'Excited to be accepted to present my work on #thermoelectrics as part of @UofG_MCMP in #Parliament at the @STEM4Brit event in March!',\n",
       " 'hashtags': ['#thermoelectrics', '#parliament'],\n",
       " 'cashtags': [],\n",
       " 'replies_count': '0',\n",
       " 'retweets_count': '3',\n",
       " 'likes_count': '8',\n",
       " 'link': 'https://twitter.com/bobthephysicist/status/960855259617873921',\n",
       " 'user_rt_id': '',\n",
       " 'user_rt': '',\n",
       " 'retweet': False,\n",
       " 'retweet_id': '',\n",
       " 'retweet_date': '',\n",
       " 'quote_url': '',\n",
       " 'near': '',\n",
       " 'geo': '',\n",
       " 'source': '',\n",
       " 'reply_to': [{'user_id': '927293298280198145', 'username': 'bobthephysicist'},\n",
       "  {'user_id': '905166043701809152', 'username': 'UofG_MCMP'},\n",
       "  {'user_id': '1197586958', 'username': 'STEM4Brit'}],\n",
       " 'translate': '',\n",
       " 'trans_src': '',\n",
       " 'trans_dest': ''}"
      ]
     },
     "execution_count": 8,
     "metadata": {},
     "output_type": "execute_result"
    }
   ],
   "source": [
    "vars(tweets[-1])"
   ]
  },
  {
   "cell_type": "code",
   "execution_count": 9,
   "metadata": {},
   "outputs": [
    {
     "data": {
      "text/plain": [
       "147"
      ]
     },
     "execution_count": 9,
     "metadata": {},
     "output_type": "execute_result"
    }
   ],
   "source": [
    "len(tweets)"
   ]
  },
  {
   "cell_type": "code",
   "execution_count": 12,
   "metadata": {},
   "outputs": [
    {
     "name": "stdout",
     "output_type": "stream",
     "text": [
      "unicode error [x] output._output\n",
      "1291719029191856129 2020-08-07 13:53:10 GMT Daylight Time <bobthephysicist> The importance of good #DataVisualization in one graph... https://twitter.com/reina_sabah/status/1291509085855260672 …\n",
      "1291483906919866370 2020-08-06 22:18:52 GMT Daylight Time <bobthephysicist> Another day, another #python environment obliterated beyond all salvation.   Why is Windows the way it is??? pic.twitter.com/44ZL0cBAA0\n",
      "unicode error [x] output._output\n",
      "1289553585659813889 2020-08-01 14:28:28 GMT Daylight Time <bobthephysicist> Paddy is a cheery #doggo today, making the most of Scotland's one day of #summer. pic.twitter.com/ctqWZntjBQ\n",
      "1288043175249051649 2020-07-28 10:26:38 GMT Daylight Time <bobthephysicist> Thanks Rachel!\n",
      "1288043029752877061 2020-07-28 10:26:03 GMT Daylight Time <bobthephysicist> Thanks Bianca!\n",
      "1287765103396487168 2020-07-27 16:01:40 GMT Daylight Time <bobthephysicist> Thanks Katie! How are you doing?\n",
      "1287761983144693760 2020-07-27 15:49:16 GMT Daylight Time <bobthephysicist> Thanks Colin! How's things in Belfast?\n",
      "1287754657457201154 2020-07-27 15:20:10 GMT Daylight Time <bobthephysicist> Thanks Tom! Hope you're doing well!\n",
      "1287746230861398019 2020-07-27 14:46:41 GMT Daylight Time <bobthephysicist>  pic.twitter.com/fbdpnVzwH6\n",
      "1287745915562991617 2020-07-27 14:45:26 GMT Daylight Time <bobthephysicist> Thanks Hayden!\n",
      "1287735296755367939 2020-07-27 14:03:14 GMT Daylight Time <bobthephysicist> Thanks Kirsty! pic.twitter.com/BuKCQ7PfeS\n",
      "unicode error [x] output._output\n",
      "1287734397865799680 2020-07-27 13:59:40 GMT Daylight Time <bobthephysicist> Oh boy! I know the feeling though. I'm getting ready to start a data science course next week.\n",
      "1287731726349983745 2020-07-27 13:49:03 GMT Daylight Time <bobthephysicist> Thanks! I managed to spend some of the weekend chilling with Paddy pic.twitter.com/hARLxzDGwz\n",
      "1287731198102511617 2020-07-27 13:46:57 GMT Daylight Time <bobthephysicist> Thanks Alison! You managed to get some rest since submitting yours?\n",
      "1287731090397040640 2020-07-27 13:46:31 GMT Daylight Time <bobthephysicist> Thanks Liam! How have you been doing?\n",
      "unicode error [x] output._output\n",
      "1282699856251949057 2020-07-13 16:34:11 GMT Daylight Time <bobthephysicist> Wait. You mean your uni credentials work for journals... Off campus???\n",
      "1282648331093762048 2020-07-13 13:09:27 GMT Daylight Time <bobthephysicist> It should be open access already, if that's what you're referring to?\n",
      "1282611403724140545 2020-07-13 10:42:43 GMT Daylight Time <bobthephysicist> Now, if I can just finish off this thesis...\n",
      "1282610025358405632 2020-07-13 10:37:14 GMT Daylight Time <bobthephysicist> Plus!  The code for automated measurements and data processing described in the paper is available here:   http://researchdata.gla.ac.uk/1032/ \n",
      "unicode error [x] output._output\n",
      "1281229733410242566 2020-07-09 15:12:27 GMT Daylight Time <bobthephysicist> Would you recommend to stop thesis-writing time from slipping away?\n",
      "1280977177929035782 2020-07-08 22:28:53 GMT Daylight Time <bobthephysicist> Does this mean thesis writing counts as a rollercoaster? #PhDchat #thesis https://twitter.com/benpershing/status/1280918225782538241 …\n",
      "1280919059777847296 2020-07-08 18:37:56 GMT Daylight Time <bobthephysicist>  pic.twitter.com/wmnlUh4UsS\n",
      "1280551220634161157 2020-07-07 18:16:17 GMT Daylight Time <bobthephysicist> Haha.  I could write it as 4±1 mugs, though really the confidence intervals are skewed toward the higher values.  Probably enough for today.\n",
      "1280537779059990528 2020-07-07 17:22:52 GMT Daylight Time <bobthephysicist> Saaaaaame. Been catching myself for a couple of weeks now.\n",
      "1280536457329991682 2020-07-07 17:17:37 GMT Daylight Time <bobthephysicist> Should I stop drinking #coffee for the day if I can't say with certainty how many cups I've had? #thesis #phdchat\n",
      "1280424692021710848 2020-07-07 09:53:30 GMT Daylight Time <bobthephysicist> This is amazing. Hopefully it's useful for my science tweeps. https://twitter.com/NPRougier/status/1280249448774414339 …\n",
      "1280088706506985473 2020-07-06 11:38:25 GMT Daylight Time <bobthephysicist>  https://twitter.com/BBCWorld/status/1279976642794881025 … pic.twitter.com/0iWQPFoB5J\n",
      "1278692940244803584 2020-07-02 15:12:08 GMT Daylight Time <bobthephysicist> Writing a thesis from home these last few months would have been impossible without scihub\n",
      "1271041843048972293 2020-06-11 12:29:24 GMT Daylight Time <bobthephysicist> Thesis writing breaks have consisted almost entirely of #knitting the past month or so. Just the sleeves left to go on this #WIP jumper! #phdlife pic.twitter.com/jodt0EWNVt\n",
      "1268108789896622080 2020-06-03 10:14:30 GMT Daylight Time <bobthephysicist> Maybe so, but that doesn't make it a reasonable thing to do. Would you be happy if an MP for a constituency in Wales, Scotland or NI was appointed to the cabinet to handle EVEL matters?"
     ]
    },
    {
     "name": "stderr",
     "output_type": "stream",
     "text": [
      "CRITICAL:root:twint.get:User:'NoneType' object is not subscriptable\n",
      "CRITICAL:root:twint.output:_output:UnicodeEncodeError\n",
      "CRITICAL:root:twint.output:_output:UnicodeEncodeError\n",
      "CRITICAL:root:twint.output:_output:UnicodeEncodeError\n",
      "CRITICAL:root:twint.output:_output:UnicodeEncodeError\n",
      "CRITICAL:root:twint.output:_output:UnicodeEncodeError\n",
      "CRITICAL:root:twint.output:_output:UnicodeEncodeError\n",
      "CRITICAL:root:twint.output:_output:UnicodeEncodeError\n",
      "CRITICAL:root:twint.output:_output:UnicodeEncodeError\n",
      "CRITICAL:root:twint.output:_output:UnicodeEncodeError\n",
      "CRITICAL:root:twint.output:_output:UnicodeEncodeError\n",
      "CRITICAL:root:twint.output:_output:UnicodeEncodeError\n",
      "CRITICAL:root:twint.output:_output:UnicodeEncodeError\n",
      "CRITICAL:root:twint.output:_output:UnicodeEncodeError\n",
      "CRITICAL:root:twint.output:_output:UnicodeEncodeError\n",
      "CRITICAL:root:twint.output:_output:UnicodeEncodeError\n"
     ]
    },
    {
     "name": "stdout",
     "output_type": "stream",
     "text": [
      "\n",
      "1267950302809993218 2020-06-02 23:44:44 GMT Daylight Time <bobthephysicist> Ah yes, Milton Keynes... That we'll known region of Scotland....  https://twitter.com/paulhutcheon/status/1267876435492036608 … pic.twitter.com/VvajQl7gbr\n",
      "1262388929313099776 2020-05-18 15:25:49 GMT Daylight Time <bobthephysicist> Oooh I know that feel. pic.twitter.com/LAd0D6lutN\n",
      "1259522007068225546 2020-05-10 17:33:41 GMT Daylight Time <bobthephysicist> Some important Sunday content... https://twitter.com/Pandamoanimum/status/1259207916403462144 …\n",
      "1257036966094405633 2020-05-03 20:59:01 GMT Daylight Time <bobthephysicist> This is Paddy, the family doggo.\n",
      "1256952263874134017 2020-05-03 15:22:27 GMT Daylight Time <bobthephysicist> My new supervisor, peering over my shoulder. Will woof-read thesis chapters for snackos. #phdchat #phdlife #thesis #DogsofTwittter pic.twitter.com/Llzo1wLDug\n",
      "unicode error [x] output._output\n",
      "1245359502268018689 2020-04-01 15:36:57 GMT Daylight Time <bobthephysicist>  pic.twitter.com/fLbwydvbg4\n",
      "1245306583673974786 2020-04-01 12:06:40 GMT Daylight Time <bobthephysicist> If I get really tight on time, maybe I'll go for 1MeV\n",
      "unicode error [x] output._output\n",
      "1240310242782720006 2020-03-18 16:13:00 GMT Daylight Time <bobthephysicist> Day 4 of trying to cobble together a normal shop:  I have succeeded in procuring cooking oil and potatoes.   Carrots still elude me... pic.twitter.com/fSrfnBITy4\n",
      "unicode error [x] output._output\n",
      "1234907367940202496 2020-03-03 18:23:54 GMT Daylight Time <bobthephysicist> It's like a new verse for \"We didn't start the fire\"\n",
      "1234797517302312960 2020-03-03 11:07:24 GMT Daylight Time <bobthephysicist> Note to self: making filter #coffee is more successful when you remember the filter... pic.twitter.com/OgtwmiUzk7\n",
      "1233797699788517378 2020-02-29 16:54:29 GMT Daylight Time <bobthephysicist> Was it that long ago already? Feels like last week. pic.twitter.com/2zwCNLkkN8\n",
      "1233791988488601600 2020-02-29 16:31:47 GMT Daylight Time <bobthephysicist> Did you not watch Drag Race UK as it aired?\n",
      "1233550234552279043 2020-02-29 00:31:08 GMT Daylight Time <bobthephysicist> That's a good point! I shall look into those.\n",
      "1233545883553275905 2020-02-29 00:13:51 GMT Daylight Time <bobthephysicist> 100 for L and 90 for M, though.\n",
      "1233545228998660104 2020-02-29 00:11:15 GMT Daylight Time <bobthephysicist> Wowww. That's an eye opener. I can kind of see that there's something there in all the rows of the s column, but it's not enough for me to be able to actually tell what letters they are past 30.\n",
      "1231628179980288002 2020-02-23 17:13:35 GMT Daylight Time <bobthephysicist> Star Trek has always been political, though. Roddenberry arguably started it for purpose of being political. I think the main differences with Picard comes from the more contemporary, long form storytelling, as opposed to the \"monster of the week\" style TV that Trek used to be.\n",
      "1231190005831405569 2020-02-22 12:12:26 GMT Daylight Time <bobthephysicist> I am here for @Rylan slowly resurrecting all the greats of 90's TV. https://twitter.com/BBC/status/1231172279934939138 …\n",
      "1229450831419842567 2020-02-17 17:01:34 GMT Daylight Time <bobthephysicist> Turns out the Cernettes are actually on twitter @cernettes and are also the feature of the first image on the Internet! #TheMoreYouKnow pic.twitter.com/vuFfPTchNl\n",
      "1229447123537666048 2020-02-17 16:46:50 GMT Daylight Time <bobthephysicist> I was today years old when I learned about \"Les Horribles Cernettes\", a #CERN girl group.  I cannot believe I had never heard of them before.  Thanks @ellen_dev and @f_lassandro for bringing this to my attention.  This is too good not to share. Enjoy. https://youtu.be/1e1eLe1ihT0 \n",
      "1228341330755104770 2020-02-14 15:32:49 GMT Daylight Time <bobthephysicist>  pic.twitter.com/k2cwcKeNrF\n",
      "1228341066564341765 2020-02-14 15:31:46 GMT Daylight Time <bobthephysicist>  pic.twitter.com/vjzwZF5bBN\n",
      "1227986563482685440 2020-02-13 16:03:06 GMT Daylight Time <bobthephysicist> 2016 Me: Processes a pile of data in a spreadsheet with no comments or explanations.  Current Me, trying to write a thesis: #phdchat #phdlife pic.twitter.com/lvukIoHX4d\n",
      "1227634682768056321 2020-02-12 16:44:51 GMT Daylight Time <bobthephysicist> This could be significant! Much focus in the article on flexible #tech but, in the face of shortages of resources for ITO touchscreens, this is surely secondary? Much bigger deal being able to radically reduce the raw materials needed in #ElectronicsManufacturing Thoughts? https://twitter.com/PhysicsWorld/status/1227617351379668992 …\n",
      "1227249900800266244 2020-02-11 15:15:52 GMT Daylight Time <bobthephysicist> Fascinating! If you've ever been interested in the #tech behind #subtitles and #captioning, this is well worth a read. https://twitter.com/DDDSchmidt/status/1227242337211801600 …\n",
      "1227196926216589313 2020-02-11 11:45:22 GMT Daylight Time <bobthephysicist> 3/3 And a few science tweeps that I haven't had the joy of meeting (yet!) #WomenInScienceDay @laura_bocher @JulieCairney @HappyGeologist @HopeJahren @IBJIYONGI @ShellyStem @sarahhaigh_mcr @amy_flanagandy @jesswade\n",
      "1227196924429819904 2020-02-11 11:45:21 GMT Daylight Time <bobthephysicist> 2/3 Oh, there's more, btw!  #WomenInScienceDay @alisoncowan0 @AnnandKirsty @katehhhh @ralunney @McCaul_me_maybe @TheHelenGiles @aineclareob @holliewrightre @doyin_mansell @RoseFWaugh @AstroAngieSays\n",
      "1227196922525556738 2020-02-11 11:45:21 GMT Daylight Time <bobthephysicist> 1/3 It's #WomenInScienceDay! I am, in fact, not a woman (shocking, I know), but here's a shout-out to some tweeps who I've had the privilege of being friends & colleagues with, and who you should definitely follow! @beamsontoast @monifa_monifa @kirsty_ap @PhysicsBianca\n",
      "unicode error [x] output._output\n",
      "unicode error [x] output._output\n",
      "1225441915371491329 2020-02-06 15:31:34 GMT Daylight Time <bobthephysicist>  https://twitter.com/year_progress/status/1225433972613828608 … pic.twitter.com/uQRRK1GQUC\n",
      "1221911703375482880 2020-01-27 21:43:46 GMT Daylight Time <bobthephysicist> Join the dark side, use LaTeX......\n",
      "1221130605510975488 2020-01-25 17:59:58 GMT Daylight Time <bobthephysicist> Just watched #Picard and, needless to say, I was not prepared for the episode to end when it did. Bring on next Friday!\n",
      "1220489391845642241 2020-01-23 23:32:01 GMT Daylight Time <bobthephysicist> The first episode is already live!!!\n",
      "unicode error [x] output._output\n",
      "1219374514418724866 2020-01-20 21:41:53 GMT Daylight Time <bobthephysicist> I would highly recommend a browse of @DoggoDating @samoyds @corgo and @dog_feelings for happy wholesome content pic.twitter.com/qJr8FOvIoo\n",
      "1219318275236093952 2020-01-20 17:58:25 GMT Daylight Time <bobthephysicist>  pic.twitter.com/md0UrVuInI\n",
      "unicode error [x] output._output\n",
      "1215036922801901568 2020-01-08 22:25:51 GMT Daylight Time <bobthephysicist>  pic.twitter.com/ckFj7xP9UV\n",
      "1213844603637583873 2020-01-05 15:28:00 GMT Daylight Time <bobthephysicist> Seems about right  https://twitter.com/RobJustJokin/status/1213243792062586884 … pic.twitter.com/c9AF86OaKO\n",
      "1212390733585494017 2020-01-01 15:10:50 GMT Daylight Time <bobthephysicist> Interesting to see what has and hasn't been realised in the last 30 years... https://twitter.com/BBCArchive/status/1212018067804311552 …\n",
      "1208360991169433600 2019-12-21 12:18:05 GMT Daylight Time <bobthephysicist>  pic.twitter.com/07Bbk3Btv4\n",
      "1205269171224948736 2019-12-12 23:32:17 GMT Daylight Time <bobthephysicist> This gif is very timely. #GE2019 https://twitter.com/swear_trek/status/1205246176976658438 …\n",
      "1203779506735063040 2019-12-08 20:52:54 GMT Daylight Time <bobthephysicist> This week on \"Lib-Dem self-sabotage in Scotland\".... #GE2019 https://twitter.com/kacnutt/status/1203619770526031872 …\n",
      "1203271487320408064 2019-12-07 11:14:12 GMT Daylight Time <bobthephysicist> Or is it unreasonable of me to expect that, when you say \"no problems reported\" on a route, that I'll actually be able to get on a train?\n",
      "1203269471395299330 2019-12-07 11:06:12 GMT Daylight Time <bobthephysicist> It would be nice if information like this was readily available on the scotrail app. For instance, in the affected routes section of the front page?\n",
      "1203267697338925056 2019-12-07 10:59:09 GMT Daylight Time <bobthephysicist> Ummm, @ScotRail, where are all the northbound trains from Queen Street that go further than Stirling??? Would be nice to know what's going on.\n",
      "1202305067094859776 2019-12-04 19:14:00 GMT Daylight Time <bobthephysicist> I feel seen... https://twitter.com/swyx/status/1202202923385536513 …\n",
      "1202268263167778817 2019-12-04 16:47:45 GMT Daylight Time <bobthephysicist> I swear one day of thesis writing requires more than one day of mental effort... pic.twitter.com/3IaZMYvbt7\n",
      "1202252586440630275 2019-12-04 15:45:28 GMT Daylight Time <bobthephysicist> An interesting development. Unfortunate that the alternative is indium, which is already in dangerously heavy use in tech. #physics #technology https://twitter.com/PhysicsWorld/status/1202165168026914816 …\n",
      "1200632678380396545 2019-11-30 04:28:31 GMT Daylight Time <bobthephysicist>  pic.twitter.com/ujLNkwirwG\n",
      "1199817455369170944 2019-11-27 22:29:07 GMT Daylight Time <bobthephysicist>  pic.twitter.com/2WQimqzP9c\n",
      "unicode error [x] output._output\n",
      "1199331716424458241 2019-11-26 14:18:58 GMT Daylight Time <bobthephysicist> Exactly.  And another of the requirements - \"Should have proven ability to present research at an international conference\" - is even less likely! Who is paying undergrads to go to these? It can be hard enough to secure conference funding as a PhD student.\n",
      "1199305359049003009 2019-11-26 12:34:14 GMT Daylight Time <bobthephysicist> \"Applicants should have publications\"  So, just to be clear, you now need to be an experienced researcher to get into a programme which is supposed to be a stepping stone into research?  I just can't with this department sometimes....  #phdchat  https://twitter.com/cmuell15/status/1199211100300070912 … pic.twitter.com/EsOGfuDBQm\n",
      "1197608136368164865 2019-11-21 20:10:04 GMT Daylight Time <bobthephysicist> Nope, I stand corrected. Check this out. Astronomers are truly mad.   https://iopscience.iop.org/article/10.1088/0067-0049/210/1/11 …\n",
      "1197606883483410439 2019-11-21 20:05:06 GMT Daylight Time <bobthephysicist> Hey, @beamsontoast, I've just learned about what is possibly the most ridiculous science acronym ever......  http://holmes.iap.fr/  #phdchat pic.twitter.com/ACJ0jI0iJo\n",
      "1197289305439383560 2019-11-20 23:03:09 GMT Daylight Time <bobthephysicist> Python even contains \"y tho\" in the name...\n",
      "1196213766435852290 2019-11-17 23:49:21 GMT Daylight Time <bobthephysicist> Honestly can't believe that result. Especially when that salsa this week was just chopped tomatoes.\n",
      "1191476191527669760 2019-11-04 22:03:55 GMT Daylight Time <bobthephysicist> Me returning to work after a holiday. #phdlife #phdchat https://twitter.com/nathanwpyle/status/1191360774113038337 …\n",
      "1191475543046316039 2019-11-04 22:01:20 GMT Daylight Time <bobthephysicist> Thesis? Who is she? I don't know her.  (Pictured: me, living in denial, in Bellagio, Italy)  #holiday #phdlife #como #Italy pic.twitter.com/YXuC1lGxWv\n",
      "1187507298224226304 2019-10-25 00:12:57 GMT Daylight Time <bobthephysicist> Evidently, they can be distracted with some titanium...\n",
      "1184951195313545216 2019-10-17 22:55:54 GMT Daylight Time <bobthephysicist> Hey @bbcthree, could we PLEASE get Wuthering Heights as a lip-sync on #dragraceUK ???  (or failing that, some Total Eclipse of the Heart, plz)  plz\n",
      "1184187386235891713 2019-10-15 20:20:48 GMT Daylight Time <bobthephysicist> Aw maaaaaan. This is, without a doubt, the best gig I've ever been to.  I still, from time to time, wish I was still there. https://twitter.com/robynkonichiwa/status/1184145260643045376 …\n",
      "1183360014918017024 2019-10-13 13:33:07 GMT Daylight Time <bobthephysicist> If anyone is looking for a new #book to read (or just any distraction from thesis writing), I can happily reccommend 'Before the coffee gets cold.'  It's an enthralling read, and has been the perfect way to spend a lazy #sunday afternoon.  #phdlife #phdchat pic.twitter.com/JjYQqSut43\n",
      "1183148884329189377 2019-10-12 23:34:10 GMT Daylight Time <bobthephysicist>  pic.twitter.com/zJZGmdZZRl\n",
      "1183123292493930502 2019-10-12 21:52:28 GMT Daylight Time <bobthephysicist> Thanks. Nanostructured Heusler alloys for me.\n",
      "1183084542267154434 2019-10-12 19:18:30 GMT Daylight Time <bobthephysicist> Aah, no way! I work on thermoelectrics in my PhD.\n",
      "unicode error [x] output._output\n",
      "unicode error [x] output._output\n",
      "1180091891615981568 2019-10-04 13:06:46 GMT Daylight Time <bobthephysicist> Sometimes I can't believe the utter tripe they manage to dredge up for the #bbcqt audience. He and everyone who applauded him should be ashamed.  https://twitter.com/SpillerOfTea/status/1180026203778027520 … pic.twitter.com/jJkYKriH8i\n",
      "1176975417737175040 2019-09-25 22:43:01 GMT Daylight Time <bobthephysicist> Now all we need is someone to dub a stormtrooper screaming over the top. https://twitter.com/JTSHEEPS35/status/1174280558932877312 …\n",
      "1176519218981998594 2019-09-24 16:30:15 GMT Daylight Time <bobthephysicist> Alt caption: \"Theresa May tries out her #Cersei #Lannister impression in public\"\n",
      "1176517048274489345 2019-09-24 16:21:37 GMT Daylight Time <bobthephysicist> Looks like Theresa is enjoying herself in Torremolinos @JaneyGodley https://twitter.com/mikegalsworthy/status/1176466044451459072 …\n",
      "1176138853285056512 2019-09-23 15:18:48 GMT Daylight Time <bobthephysicist> Ooft that was awkward to watch.\n",
      "unicode error [x] output._output\n",
      "1168269341743357954 2019-09-01 22:08:11 GMT Daylight Time <bobthephysicist> And for a twist, the eurovision song a computer came up with. https://youtu.be/4MKAf6YX_7M \n",
      "1168268987047784448 2019-09-01 22:06:46 GMT Daylight Time <bobthephysicist> Other notable mentions: Apricot Stone - Armenia Fuego - Cyprus Terminal 3 - Ireland Dschingis Khan - Germany Love love peace peace - Swedish Hosts Toy - Israel To name a few...\n",
      "1168266989137211392 2019-09-01 21:58:50 GMT Daylight Time <bobthephysicist> Well, if we're going down the eurovision route, Verka Serduchka is a classic. https://youtu.be/hfjHJneVonE \n",
      "1168265441170665472 2019-09-01 21:52:41 GMT Daylight Time <bobthephysicist> Anything by Robyn. Particularly off the album Honey.\n",
      "1166275675847843840 2019-08-27 10:06:04 GMT Daylight Time <bobthephysicist> So  http://hackerrank.com  has lots of short challenges that work on different concepts in python as well as loads of other stuff. There are loads of courses that you can do for free on  http://coursera.com  too, which can be basic python or python for specific applications.\n",
      "1165654989064290304 2019-08-25 16:59:40 GMT Daylight Time <bobthephysicist> OK but where are the Scottish Queens? #RuPaulsDragRaceUK https://twitter.com/bbcpress/status/1164069666446295041 …\n",
      "1161278567348625408 2019-08-13 15:09:20 GMT Daylight Time <bobthephysicist>  pic.twitter.com/D9MO4W35zp\n",
      "1161275181245108225 2019-08-13 14:55:53 GMT Daylight Time <bobthephysicist> Or maybe it has something to do with the 25% more tea per tea...\n",
      "1161267944657235968 2019-08-13 14:27:07 GMT Daylight Time <bobthephysicist> 1040 teabags seems rather arbitrary. Makes you wonder how they came to that number.\n",
      "1161266668603154432 2019-08-13 14:22:03 GMT Daylight Time <bobthephysicist> Cheers @JamieBGall for the badges. They've taken pride of place on my jacket. Also love the wee astronaut sticker on the envelope. pic.twitter.com/0YBXgxIC2v\n",
      "1157233432797372417 2019-08-02 11:15:25 GMT Daylight Time <bobthephysicist> Lidl in partick has a bakery that does them.\n",
      "1149609196020649986 2019-07-12 10:19:25 GMT Daylight Time <bobthephysicist> Love a good rainbow graph. pic.twitter.com/BG3Xeib9gc\n",
      "1147504401185157121 2019-07-06 14:55:43 GMT Daylight Time <bobthephysicist> With great leg-room comes great responsibility....\n",
      "1139114688724328453 2019-06-13 11:18:00 GMT Daylight Time <bobthephysicist> I didn't realise @BBC #YearsAndYears was a prophetic work. Can we please get these morons as far away from positions of power as possible? https://twitter.com/nedsimons/status/1138738146789793792 …\n",
      "1134579695197085699 2019-05-31 22:57:33 GMT Daylight Time <bobthephysicist> Well then... Full voting record on  http://theyworkforyou.com  pic.twitter.com/3p12xRfbOT\n",
      "1133491339591606273 2019-05-28 22:52:49 GMT Daylight Time <bobthephysicist>  pic.twitter.com/drDj7M60da\n",
      "1133472463394922496 2019-05-28 21:37:48 GMT Daylight Time <bobthephysicist> I would highly reccommend the BBCs #yearsandyears to anyone who would like to top up their sense of existential dread. Anyway, off to recover with some cute doggos. http://www.bbc.co.uk/iplayer/episode/m000539d …\n",
      "1132637220312166401 2019-05-26 14:18:51 GMT Daylight Time <bobthephysicist> Hey @Google how come I can't get anything but news stories and Wikipedia pages from a Google search on android??? Was there a conscious choice to make Google unusable?\n",
      "unicode error [x] output._output\n",
      "1121448093965258753 2019-04-25 17:17:15 GMT Daylight Time <bobthephysicist> Unfortunately for you, your completely unfounded assumption doesn't invalidate real world data. That this problem exists to any extent is terrible.\n",
      "1116703399846789120 2019-04-12 15:03:32 GMT Daylight Time <bobthephysicist>  pic.twitter.com/I6MfVgJsKo\n",
      "1089174273137217536 2019-01-26 14:52:37 GMT Daylight Time <bobthephysicist> My recent paper on #nanostructures in #thermoelectric #materials is featured on the cover of this months' issue of #APLMaterials!  You can read the paper here:  https://doi.org/10.1063/1.5052361 …. pic.twitter.com/0XxnZSZln7\n",
      "unicode error [x] output._output\n",
      "1041423757875638272 2018-09-16 21:29:07 GMT Daylight Time <bobthephysicist> Good morning #Sydney from @tarongazoo pic.twitter.com/z2h8e6uUFB\n",
      "1039135242919890944 2018-09-10 13:55:22 GMT Daylight Time <bobthephysicist> View of the @SydOperaHouse from the ferry to Neutral bay the other day on our way for some top notch brunch. #Sydney pic.twitter.com/3xURbF8DqJ\n",
      "1039133668256567296 2018-09-10 13:49:07 GMT Daylight Time <bobthephysicist> If you missed me presenting my work @IMC19Sydney today, you can catch me at my next talk just before 5pm on Weds at theatrette 3. @UofG_MCMP #microscopy pic.twitter.com/OuVN5jeQfz\n",
      "1037097155394068482 2018-09-04 22:56:44 GMT Daylight Time <bobthephysicist> And so we go into day 3 sans luggage. It's supposedly been in Sydney since yesterday morning, yet in 24 hours hasn't managed to find its way to us.\n",
      "unicode error [x] output._output\n",
      "1036970464894042114 2018-09-04 14:33:19 GMT Daylight Time <bobthephysicist> Over 24 hours later, still no sign of luggage. The only person @emirates @EmiratesSupport who seems to have any information doesn't pick up the phone.\n",
      "unicode error [x] output._output\n",
      "1029374944306753536 2018-08-14 15:31:26 GMT Daylight Time <bobthephysicist> It's also a fair bit more than a PhD stipend...\n",
      "1009709123292811264 2018-06-21 09:06:29 GMT Daylight Time <bobthephysicist> Did you try Loratadine or Cetirizine? It might be that only one in particular works for you.\n",
      "994249710222364673 2018-05-09 17:16:17 GMT Daylight Time <bobthephysicist> Are the dates actually confirmed yet?\n",
      "960855259617873921 2018-02-06 12:38:40 GMT Daylight Time <bobthephysicist> Excited to be accepted to present my work on #thermoelectrics as part of @UofG_MCMP in #Parliament at the @STEM4Brit event in March!\n"
     ]
    },
    {
     "name": "stderr",
     "output_type": "stream",
     "text": [
      "CRITICAL:root:twint.output:_output:UnicodeEncodeError\n",
      "CRITICAL:root:twint.output:_output:UnicodeEncodeError\n",
      "CRITICAL:root:twint.output:_output:UnicodeEncodeError\n",
      "CRITICAL:root:twint.output:_output:UnicodeEncodeError\n",
      "CRITICAL:root:twint.output:_output:UnicodeEncodeError\n"
     ]
    }
   ],
   "source": [
    "!twint -u bobthephysicist -o bobthephysicist.csv --csv"
   ]
  },
  {
   "cell_type": "code",
   "execution_count": null,
   "metadata": {},
   "outputs": [],
   "source": []
  }
 ],
 "metadata": {
  "kernelspec": {
   "display_name": "Python 3",
   "language": "python",
   "name": "python3"
  },
  "language_info": {
   "codemirror_mode": {
    "name": "ipython",
    "version": 3
   },
   "file_extension": ".py",
   "mimetype": "text/x-python",
   "name": "python",
   "nbconvert_exporter": "python",
   "pygments_lexer": "ipython3",
   "version": "3.7.1"
  }
 },
 "nbformat": 4,
 "nbformat_minor": 4
}
