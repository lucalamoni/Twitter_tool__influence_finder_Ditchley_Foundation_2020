{
 "cells": [
  {
   "cell_type": "markdown",
   "metadata": {},
   "source": [
    "# Using twint update 2020-08-12"
   ]
  },
  {
   "cell_type": "code",
   "execution_count": 1,
   "metadata": {},
   "outputs": [],
   "source": [
    "import sys\n",
    "import os\n",
    "import json\n",
    "import pandas as pd\n",
    "import nest_asyncio\n",
    "nest_asyncio.apply()\n",
    "import twint"
   ]
  },
  {
   "cell_type": "code",
   "execution_count": 2,
   "metadata": {},
   "outputs": [
    {
     "name": "stdout",
     "output_type": "stream",
     "text": [
      "D:\\S2DS\\Ditchley\\Aug20_Ditchley\\notebooks\n"
     ]
    }
   ],
   "source": [
    "data_path = '../data/raw/' # define location for data to be saved relative to notebook location\n",
    "print(os.getcwd())"
   ]
  },
  {
   "cell_type": "markdown",
   "metadata": {},
   "source": [
    "## Get Information about user"
   ]
  },
  {
   "cell_type": "code",
   "execution_count": 3,
   "metadata": {},
   "outputs": [
    {
     "name": "stderr",
     "output_type": "stream",
     "text": [
      "CRITICAL:root:twint.get:User:\n"
     ]
    },
    {
     "name": "stdout",
     "output_type": "stream",
     "text": [
      "FindingAda\n",
      "jlesliedata\n",
      "kimknilsson\n",
      "olly_mn\n",
      "JaseMuller\n",
      "Pivigo\n",
      "s2ds\n",
      "mtt_json\n",
      "MLinScience\n",
      "MrNigelNg\n",
      "BrentSpiner\n",
      "drjoshuawolrich\n",
      "Sunkensie\n",
      "xandvt\n",
      "SirPatStew\n",
      "JessicaValenti\n",
      "PriyamvadaGopal\n",
      "jvn\n",
      "wgsaraband\n",
      "JohnBoyega\n",
      "KayBurley\n",
      "carolecadwalla\n",
      "lola_lennox\n",
      "haveigotnews\n",
      "WholesomeMeme\n",
      "thegailymail\n",
      "MrAndrewCotter\n",
      "PandemicPGRs\n",
      "Pandamoanimum\n",
      "firstgendocs\n",
      "StA_Classics\n",
      "marylwk\n",
      "jameelajamil\n",
      "molecularfndry\n",
      "Marina_Sirtis\n",
      "LewisCapaldi\n",
      "GHS\n",
      "TrekCore\n",
      "malorieblackman\n",
      "TriciaMarwick\n",
      "susie_dent\n",
      "becky_reccs\n",
      "IFLScience\n",
      "paulcoxon\n",
      "ProfCTurner\n",
      "PrideinSTEM\n",
      "PDLComics\n",
      "f_lassandro\n",
      "BMatB\n",
      "MathieuKociak\n",
      "TEMULimerick\n",
      "ProfRachelGaN\n",
      "DDDSchmidt\n",
      "sciencefreak_\n",
      "NiamhTalking90\n",
      "AstroAngieSays\n",
      "RoseFWaugh\n",
      "doyin_mansell\n",
      "holliewrightre\n",
      "katehhhh\n",
      "GatanJosh\n",
      "AnnieLennox\n",
      "Schofe\n",
      "LMolina_Luna\n",
      "CraicScience\n",
      "McCaul_me_maybe\n",
      "year_progress\n",
      "BBCArchive\n",
      "bbcthesocial\n",
      "frankieboyle\n",
      "quantumbeans\n",
      "scopusdiaries\n",
      "cassidoo\n",
      "DENSsolutions\n",
      "HappyGeologist\n",
      "bob_stamps\n",
      "AureHierro\n",
      "HopeJahren\n",
      "robynkonichiwa\n",
      "JulieCairney\n",
      "KENNETHWILLlAMS\n",
      "TheOnlyVinegar\n",
      "Esteem3Project\n",
      "dragraceukbbc\n",
      "IBJIYONGI\n",
      "ralunney\n",
      "nathanwpyle\n",
      "ShappiKhorsandi\n",
      "benatipsosmori\n",
      "StringNinjas\n",
      "TheKateMulgrew\n",
      "NineCirclesLtd\n",
      "SofieHagen\n",
      "hwgoodfellow\n",
      "DrCarpineti\n",
      "SarahCAndersen\n",
      "jwamble25\n",
      "BootstrapCook\n",
      "thoughtsofaphd\n",
      "JamieBGall\n",
      "BorderIrish\n",
      "PyDataEdinburgh\n",
      "Jonas_K_Sunde\n",
      "Rylan\n",
      "JaneyGodley\n",
      "nicolacoughlan\n",
      "Hannahgadsby\n",
      "mmc_series\n",
      "theannalytical\n",
      "lokiscottishrap\n",
      "StephenAtHome\n",
      "dog_rates\n",
      "dog_feelings\n",
      "fostergraph\n",
      "NicolaSturgeon\n",
      "IoP_EMAG\n",
      "janine_saunders\n",
      "lizzo\n",
      "JennyLConstable\n",
      "Amy_Fallas\n",
      "PhDisillusion\n",
      "DrEOChapman\n",
      "iamdevloper\n",
      "AdamMcK1995\n",
      "ShellyStem\n",
      "ATHannington\n",
      "sarahhaigh_mcr\n",
      "jesswade\n",
      "CommonsSTC\n",
      "NaturePhysics\n",
      "monifa_monifa\n",
      "WigtownBookShop\n",
      "laura_bocher\n",
      "CEMES_CNRS\n",
      "beamsontoast\n",
      "ChrisMarrows\n",
      "perthhighphys\n",
      "eurmicsoc\n",
      "bottonsgroup\n",
      "CCEMCanada\n",
      "KelvinHall16\n",
      "JofMicroscopy\n",
      "RebelWilson\n",
      "APSphysics\n",
      "PhysicsNews\n",
      "emc2020_dk\n",
      "PhysicsWorld\n",
      "zeiss_micro\n",
      "debenuk\n",
      "nature\n",
      "JEOLUSA\n",
      "JEOLEUROPE\n",
      "SCMICryoEM\n",
      "pajb\n",
      "OxfordAtomProbe\n",
      "GatanMicroscopy\n",
      "physicsscotland\n",
      "IMC19Sydney\n",
      "PhysAstroStAnd\n",
      "cdqMat\n",
      "hooleyca\n",
      "BarackObama\n",
      "kirsty_ap\n",
      "John_E_Halpin\n",
      "swear_trek\n",
      "QDetectors\n",
      "STEM4Brit\n",
      "DTUNanolab\n",
      "LPS_Orsay\n",
      "STEM_LPS\n",
      "SciTecDaresbury\n",
      "SuperSTEM_UK\n",
      "mcg_dr\n",
      "damaclaren\n",
      "liamwright217\n",
      "RHULPhysics\n",
      "PHDcomics\n",
      "muddy_physicist\n",
      "EPSRC\n",
      "WriteThatPhD\n",
      "PigeonWrench\n",
      "AnnaMRice\n",
      "animepanda5500\n",
      "liamsutton4\n",
      "TheHelenGiles\n",
      "GeoffSaulnier\n",
      "eforsyth1194\n",
      "ChrisBlackhole\n",
      "TheGilchristPG\n",
      "Daly_Planet\n",
      "jwg_bos\n",
      "etdyn\n",
      "fasttrackimpact\n",
      "_MrFahrenheit\n",
      "cityofscience\n",
      "ellen_dev\n",
      "UStAAikido\n",
      "Kinggroup_ARPES\n",
      "UofGPGRGuru\n",
      "tomamacgregor\n"
     ]
    },
    {
     "name": "stderr",
     "output_type": "stream",
     "text": [
      "CRITICAL:root:twint.feed:Follow:IndexError\n"
     ]
    },
    {
     "name": "stdout",
     "output_type": "stream",
     "text": [
      "PhysicsBianca\n",
      "UofGlasgow\n",
      "alisoncowan0\n",
      "UofGSciEng\n",
      "UofGSciEngGrads\n",
      "DrTrev_Almeida\n",
      "UofGPhysAstro\n",
      "AnnandKirsty\n",
      "gavmacauley\n",
      "UofG_MCMP\n"
     ]
    },
    {
     "name": "stderr",
     "output_type": "stream",
     "text": [
      "CRITICAL:root:twint.feed:Follow:IndexError\n"
     ]
    }
   ],
   "source": [
    "for username in ['bobthephysicist',]:\n",
    "    c = twint.Config()\n",
    "    c.Username = username\n",
    "    c.User_full = False\n",
    "    c.Store_object = True\n",
    "    \n",
    "    twint.run.Following(c)\n",
    "    \n",
    "    following = twint.output.follows_list\n",
    "    \n",
    "    with open(data_path+'_'+username+'_followers.json', \"w\") as file:\n",
    "        json.dump(following, file, ensure_ascii=False)\n",
    "    "
   ]
  },
  {
   "cell_type": "code",
   "execution_count": 4,
   "metadata": {},
   "outputs": [
    {
     "data": {
      "text/plain": [
       "210"
      ]
     },
     "execution_count": 4,
     "metadata": {},
     "output_type": "execute_result"
    }
   ],
   "source": [
    "len(twint.output.follows_list)"
   ]
  },
  {
   "cell_type": "code",
   "execution_count": 3,
   "metadata": {},
   "outputs": [
    {
     "name": "stderr",
     "output_type": "stream",
     "text": [
      "CRITICAL:root:twint.get:User:'NoneType' object is not subscriptable\n"
     ]
    }
   ],
   "source": [
    "for username in ['carolecadwalla',]:\n",
    "    twint.output.tweets_list = []\n",
    "    c = twint.Config()\n",
    "    c.Username = username\n",
    "    c.User_full = False\n",
    "    c.Limit=10000\n",
    "    c.Store_object = True\n",
    "    c.Hide_output = True\n",
    "    \n",
    "    twint.run.Search(c)\n",
    "    \n",
    "    tweets = twint.output.tweets_list"
   ]
  },
  {
   "cell_type": "code",
   "execution_count": 4,
   "metadata": {},
   "outputs": [
    {
     "data": {
      "text/plain": [
       "10017"
      ]
     },
     "execution_count": 4,
     "metadata": {},
     "output_type": "execute_result"
    }
   ],
   "source": [
    "len(twint.output.tweets_list)"
   ]
  },
  {
   "cell_type": "code",
   "execution_count": 5,
   "metadata": {},
   "outputs": [
    {
     "data": {
      "text/plain": [
       "'2015-09-22'"
      ]
     },
     "execution_count": 5,
     "metadata": {},
     "output_type": "execute_result"
    }
   ],
   "source": [
    "tweets[-1].datestamp"
   ]
  },
  {
   "cell_type": "code",
   "execution_count": null,
   "metadata": {},
   "outputs": [],
   "source": []
  }
 ],
 "metadata": {
  "kernelspec": {
   "display_name": "Python 3",
   "language": "python",
   "name": "python3"
  },
  "language_info": {
   "codemirror_mode": {
    "name": "ipython",
    "version": 3
   },
   "file_extension": ".py",
   "mimetype": "text/x-python",
   "name": "python",
   "nbconvert_exporter": "python",
   "pygments_lexer": "ipython3",
   "version": "3.7.1"
  }
 },
 "nbformat": 4,
 "nbformat_minor": 4
}
