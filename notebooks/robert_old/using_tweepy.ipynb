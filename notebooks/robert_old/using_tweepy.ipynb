{
 "cells": [
  {
   "cell_type": "markdown",
   "metadata": {},
   "source": [
    "# Pulling data from Twitter using the API with tweepy"
   ]
  },
  {
   "cell_type": "markdown",
   "metadata": {},
   "source": [
    "Before using this code, need to generate a json file for providing api keys using the code in notebook `store_twitter_credentials_as_json.ipynb`."
   ]
  },
  {
   "cell_type": "code",
   "execution_count": 3,
   "metadata": {},
   "outputs": [
    {
     "name": "stdout",
     "output_type": "stream",
     "text": [
      "Collecting tweepy==3.9.0\n",
      "  Downloading tweepy-3.9.0-py2.py3-none-any.whl (30 kB)\n",
      "Collecting requests-oauthlib>=0.7.0\n",
      "  Downloading requests_oauthlib-1.3.0-py2.py3-none-any.whl (23 kB)\n",
      "Requirement already satisfied: requests[socks]>=2.11.1 in /usr/lib/python3/dist-packages (from tweepy==3.9.0) (2.22.0)\n",
      "Requirement already satisfied: six>=1.10.0 in /usr/lib/python3/dist-packages (from tweepy==3.9.0) (1.14.0)\n",
      "Requirement already satisfied: oauthlib>=3.0.0 in /usr/lib/python3/dist-packages (from requests-oauthlib>=0.7.0->tweepy==3.9.0) (3.1.0)\n",
      "Requirement already satisfied: PySocks!=1.5.7,>=1.5.6 in /home/robert/.local/lib/python3.8/site-packages (from requests[socks]>=2.11.1->tweepy==3.9.0) (1.7.1)\n",
      "Installing collected packages: requests-oauthlib, tweepy\n",
      "Successfully installed requests-oauthlib-1.3.0 tweepy-3.9.0\n"
     ]
    }
   ],
   "source": [
    "!pip3 install tweepy==3.9.0"
   ]
  },
  {
   "cell_type": "code",
   "execution_count": 4,
   "metadata": {},
   "outputs": [],
   "source": [
    "import os\n",
    "import time\n",
    "import json\n",
    "import pandas\n",
    "\n",
    "import tweepy"
   ]
  },
  {
   "cell_type": "code",
   "execution_count": 5,
   "metadata": {},
   "outputs": [],
   "source": [
    "api_keys_fp = '../twitter_credentials.json'"
   ]
  },
  {
   "cell_type": "code",
   "execution_count": 6,
   "metadata": {},
   "outputs": [],
   "source": [
    "def load_api(keys_file):\n",
    "    '''\n",
    "    \n",
    "    '''\n",
    "    # Load twitter credentials\n",
    "    with open(keys_file, 'r') as file:\n",
    "        creds = json.load(file)\n",
    "\n",
    "    # Use credentials to set up API access authorisation\n",
    "    auth = tweepy.OAuthHandler(creds['CONSUMER_KEY'], creds['CONSUMER_SECRET'])\n",
    "    auth.set_access_token(creds['ACCESS_TOKEN'], creds['ACCESS_SECRET'])\n",
    "    api = tweepy.API(auth, wait_on_rate_limit=True)\n",
    "    \n",
    "    return api"
   ]
  },
  {
   "cell_type": "code",
   "execution_count": 7,
   "metadata": {},
   "outputs": [],
   "source": [
    "tw_api = load_api(api_keys_fp)"
   ]
  },
  {
   "cell_type": "code",
   "execution_count": 8,
   "metadata": {},
   "outputs": [],
   "source": [
    "def get_followers_by_id(api, username, autowait=False):\n",
    "    '''\n",
    "    Function to scrape a list of followers of a specific user.\n",
    "    \n",
    "    Parameters\n",
    "    ----------\n",
    "    api : tweepy API object\n",
    "        \n",
    "    username : str\n",
    "        the twitter handle of the user whose followers to pull.\n",
    "    autowait : bool\n",
    "        If true, overrides requirement for user input at start\n",
    "        \n",
    "    Returns\n",
    "    -------\n",
    "    followers : list of ints\n",
    "    '''\n",
    "    \n",
    "    # First run a quick check at user follows\n",
    "    user = api.get_user(username)\n",
    "    nFollows = user.followers_count\n",
    "    nRate = 5000*15\n",
    "    if not autowait:\n",
    "        if nFollows > nRate:\n",
    "            duration = (nFollows%nRate)*15\n",
    "            decision = input('Request will take approx. '+str(duration)+' minutes.  Proceed? (y/n)')\n",
    "            if decision != 'y':\n",
    "                return None\n",
    "    \n",
    "    ids = []\n",
    "    \n",
    "    for page in tweepy.Cursor(api.followers_ids, screen_name=username).pages():\n",
    "        ids.extend(page)\n",
    "    \n",
    "    return ids"
   ]
  },
  {
   "cell_type": "code",
   "execution_count": 9,
   "metadata": {},
   "outputs": [],
   "source": [
    "followers = get_followers_by_id(tw_api, 'bobthephysicist')"
   ]
  },
  {
   "cell_type": "code",
   "execution_count": 10,
   "metadata": {},
   "outputs": [
    {
     "name": "stdout",
     "output_type": "stream",
     "text": [
      "147\n"
     ]
    }
   ],
   "source": [
    "print(len(followers))"
   ]
  },
  {
   "cell_type": "code",
   "execution_count": 11,
   "metadata": {},
   "outputs": [],
   "source": [
    "user = tw_api.get_user('bobthephysicist')"
   ]
  },
  {
   "cell_type": "code",
   "execution_count": 12,
   "metadata": {},
   "outputs": [
    {
     "data": {
      "text/plain": [
       "147"
      ]
     },
     "execution_count": 12,
     "metadata": {},
     "output_type": "execute_result"
    }
   ],
   "source": [
    "user.followers_count"
   ]
  },
  {
   "cell_type": "code",
   "execution_count": 14,
   "metadata": {},
   "outputs": [],
   "source": [
    "ids = []\n",
    "for page in tweepy.Cursor(tw_api.followers_ids, screen_name='bobthephysicist').pages():\n",
    "    ids.extend(page)\n",
    "    #time.sleep(60)"
   ]
  },
  {
   "cell_type": "code",
   "execution_count": 15,
   "metadata": {},
   "outputs": [
    {
     "data": {
      "text/plain": [
       "[2494308547,\n",
       " 1291311246248009728,\n",
       " 918945949610889218,\n",
       " 1056563882557431814,\n",
       " 1280993379837304832,\n",
       " 1149332088635777024,\n",
       " 1014057864799780865,\n",
       " 1352413740,\n",
       " 431580871,\n",
       " 3406988183,\n",
       " 189773769,\n",
       " 1565252448,\n",
       " 2369130127,\n",
       " 545338250,\n",
       " 839744052,\n",
       " 227255222,\n",
       " 712390112936595456,\n",
       " 872076043838009345,\n",
       " 18118081,\n",
       " 927189231784603648,\n",
       " 20500058,\n",
       " 714382760,\n",
       " 1213107465627193349,\n",
       " 1533204464,\n",
       " 2730824087,\n",
       " 1161306259603251200,\n",
       " 975725305280323586,\n",
       " 557346262,\n",
       " 1031508832428519424,\n",
       " 1121410304913616896,\n",
       " 940655344556142592,\n",
       " 1191395875194580997,\n",
       " 1187649899225063424,\n",
       " 2451484729,\n",
       " 756391909606715392,\n",
       " 1195971857314279424,\n",
       " 913127149,\n",
       " 3296513241,\n",
       " 146076566,\n",
       " 1109414543229227008,\n",
       " 2488752192,\n",
       " 909383230293504000,\n",
       " 31514876,\n",
       " 152684914,\n",
       " 1129636697329864705,\n",
       " 1130410589124268032,\n",
       " 152939273,\n",
       " 527427182,\n",
       " 3081638848,\n",
       " 867340418333192192,\n",
       " 498817833,\n",
       " 215361607,\n",
       " 1060135641797836800,\n",
       " 397896165,\n",
       " 2347051676,\n",
       " 857280418986561536,\n",
       " 921822661663252480,\n",
       " 4000407796,\n",
       " 458724793,\n",
       " 887718267137249281,\n",
       " 34347409,\n",
       " 2612792257,\n",
       " 589368195,\n",
       " 798299212970676224,\n",
       " 1144811507089321984,\n",
       " 1012631784100696064,\n",
       " 211114019,\n",
       " 1069226202802651137,\n",
       " 715112588665884672,\n",
       " 827342540449906688,\n",
       " 2498022291,\n",
       " 64801066,\n",
       " 993625729647525888,\n",
       " 1081100859327565825,\n",
       " 2292623938,\n",
       " 2694729677,\n",
       " 955312007510724609,\n",
       " 794627239207899137,\n",
       " 1115998600041906176,\n",
       " 2204345678,\n",
       " 292495521,\n",
       " 304348711,\n",
       " 1144705540230172673,\n",
       " 1120287302603952128,\n",
       " 719862367,\n",
       " 330561634,\n",
       " 1132603463660167168,\n",
       " 932557350598266880,\n",
       " 269129587,\n",
       " 167208432,\n",
       " 337783724,\n",
       " 158733647,\n",
       " 44327307,\n",
       " 2925056932,\n",
       " 1083889612576063488,\n",
       " 3198654107,\n",
       " 241043105,\n",
       " 1902403578,\n",
       " 989133676213690369,\n",
       " 4356587062,\n",
       " 971137721875001351,\n",
       " 1102230062068363264,\n",
       " 1480750986,\n",
       " 1033570936316936193,\n",
       " 355036710,\n",
       " 1060058193022246912,\n",
       " 1003921780157898752,\n",
       " 1536109176,\n",
       " 152207159,\n",
       " 1045267752838189056,\n",
       " 19535249,\n",
       " 1049293199146192896,\n",
       " 1066325044824064001,\n",
       " 2860186846,\n",
       " 1280529180,\n",
       " 266658508,\n",
       " 4845492935,\n",
       " 3214684547,\n",
       " 901932909740777473,\n",
       " 115002890,\n",
       " 908782914824998913,\n",
       " 829629932636602372,\n",
       " 3431215379,\n",
       " 14250384,\n",
       " 299585413,\n",
       " 36112662,\n",
       " 959082679852589056,\n",
       " 3000261466,\n",
       " 797416177203118080,\n",
       " 571768437,\n",
       " 790112248165531648,\n",
       " 755065416645480448,\n",
       " 324434225,\n",
       " 300078426,\n",
       " 905166043701809152,\n",
       " 1689115465,\n",
       " 20049286,\n",
       " 25561518,\n",
       " 2813374567,\n",
       " 847524980749467648,\n",
       " 3309741917,\n",
       " 95449208,\n",
       " 703889419808481280,\n",
       " 51775558,\n",
       " 753917518008422400,\n",
       " 299393069,\n",
       " 800671859020681216]"
      ]
     },
     "execution_count": 15,
     "metadata": {},
     "output_type": "execute_result"
    }
   ],
   "source": [
    "ids"
   ]
  },
  {
   "cell_type": "code",
   "execution_count": null,
   "metadata": {},
   "outputs": [],
   "source": []
  }
 ],
 "metadata": {
  "kernelspec": {
   "display_name": "Python 3",
   "language": "python",
   "name": "python3"
  },
  "language_info": {
   "codemirror_mode": {
    "name": "ipython",
    "version": 3
   },
   "file_extension": ".py",
   "mimetype": "text/x-python",
   "name": "python",
   "nbconvert_exporter": "python",
   "pygments_lexer": "ipython3",
   "version": "3.7.1"
  }
 },
 "nbformat": 4,
 "nbformat_minor": 4
}
