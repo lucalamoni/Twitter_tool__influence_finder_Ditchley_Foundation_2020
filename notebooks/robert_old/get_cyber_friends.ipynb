{
 "cells": [
  {
   "cell_type": "markdown",
   "metadata": {},
   "source": [
    "# Scraping journalists then using twint to get who they follow"
   ]
  },
  {
   "cell_type": "code",
   "execution_count": 1,
   "metadata": {},
   "outputs": [],
   "source": [
    "import sys\n",
    "import os\n",
    "import time\n",
    "import json\n",
    "\n",
    "import nest_asyncio\n",
    "nest_asyncio.apply()\n",
    "import twint\n",
    "\n",
    "sys.path.insert(1, '../')\n",
    "from src.data import journalists as journos"
   ]
  },
  {
   "cell_type": "markdown",
   "metadata": {},
   "source": [
    "### 1. Getting journalist twitter handles according to topic"
   ]
  },
  {
   "cell_type": "code",
   "execution_count": 3,
   "metadata": {},
   "outputs": [
    {
     "name": "stdout",
     "output_type": "stream",
     "text": [
      "12\n"
     ]
    }
   ],
   "source": [
    "journo_handles = journos.get_handles_by_keyword('cyber')\n",
    "print(len(journo_handles))"
   ]
  },
  {
   "cell_type": "code",
   "execution_count": 4,
   "metadata": {},
   "outputs": [
    {
     "name": "stdout",
     "output_type": "stream",
     "text": [
      "['jennystrasburg', 'dannsimmons', 'LeoKelion', 'gordoncorera', 'joetidy', '_lucyingham', 'dannyjpalmer', 'SophiaFurber', 'SCFGallagher', 'MsHannahMurphy', 'JesscaHaworth', 'Ad_Nauseum74']\n"
     ]
    }
   ],
   "source": [
    "print(journo_handles)"
   ]
  },
  {
   "cell_type": "markdown",
   "metadata": {},
   "source": [
    "### 2. Loop over journalists and get who they follow"
   ]
  },
  {
   "cell_type": "code",
   "execution_count": 5,
   "metadata": {},
   "outputs": [
    {
     "name": "stderr",
     "output_type": "stream",
     "text": [
      "CRITICAL:root:twint.get:User:'NoneType' object is not subscriptable\n",
      "CRITICAL:root:twint.feed:Follow:IndexError\n",
      "CRITICAL:root:twint.get:User:'NoneType' object is not subscriptable\n",
      "CRITICAL:root:twint.feed:Follow:IndexError\n",
      "CRITICAL:root:twint.get:User:'NoneType' object is not subscriptable\n",
      "CRITICAL:root:twint.feed:Follow:IndexError\n",
      "CRITICAL:root:twint.feed:Follow:IndexError\n",
      "CRITICAL:root:twint.get:User:'NoneType' object is not subscriptable\n",
      "CRITICAL:root:twint.feed:Follow:IndexError\n",
      "CRITICAL:root:twint.feed:Follow:IndexError\n",
      "CRITICAL:root:twint.get:User:'NoneType' object is not subscriptable\n",
      "CRITICAL:root:twint.feed:Follow:IndexError\n",
      "CRITICAL:root:twint.feed:Follow:IndexError\n",
      "CRITICAL:root:twint.get:User:'NoneType' object is not subscriptable\n",
      "CRITICAL:root:twint.feed:Follow:IndexError\n",
      "CRITICAL:root:twint.feed:Follow:IndexError\n",
      "CRITICAL:root:twint.get:User:'NoneType' object is not subscriptable\n",
      "CRITICAL:root:twint.feed:Follow:IndexError\n",
      "CRITICAL:root:twint.get:User:'NoneType' object is not subscriptable\n",
      "CRITICAL:root:twint.feed:Follow:IndexError\n",
      "CRITICAL:root:twint.get:User:'NoneType' object is not subscriptable\n",
      "CRITICAL:root:twint.feed:Follow:IndexError\n",
      "CRITICAL:root:twint.get:User:'NoneType' object is not subscriptable\n",
      "CRITICAL:root:twint.feed:Follow:IndexError\n",
      "CRITICAL:root:twint.get:User:'NoneType' object is not subscriptable\n",
      "CRITICAL:root:twint.feed:Follow:IndexError\n",
      "CRITICAL:root:twint.feed:Follow:IndexError\n",
      "CRITICAL:root:twint.get:User:'NoneType' object is not subscriptable\n",
      "CRITICAL:root:twint.feed:Follow:IndexError\n",
      "CRITICAL:root:twint.feed:Follow:IndexError\n"
     ]
    }
   ],
   "source": [
    "following = {}\n",
    "\n",
    "for username in journo_handles:\n",
    "    twint.output.follows_list = []\n",
    "    c = twint.Config()\n",
    "    c.Username = username\n",
    "    c.User_full = False\n",
    "    c.Store_object = True\n",
    "    c.Hide_output = True\n",
    "    \n",
    "    twint.run.Following(c)\n",
    "    \n",
    "    following[username] = twint.output.follows_list"
   ]
  },
  {
   "cell_type": "code",
   "execution_count": 44,
   "metadata": {},
   "outputs": [
    {
     "name": "stdout",
     "output_type": "stream",
     "text": [
      "Total number of handles pulled: 21804\n",
      "Number of unique usernames: 18918\n"
     ]
    }
   ],
   "source": [
    "total = 0\n",
    "all_names = []\n",
    "for key in following.keys():\n",
    "    total += len(following[key])\n",
    "    all_names.extend(following[key])\n",
    "unique = len(set(all_names))\n",
    "\n",
    "print('Total number of handles pulled: '+str(total))\n",
    "print('Number of unique usernames: '+str(unique))\n",
    "\n",
    "failed = []\n",
    "for key in following.keys():\n",
    "    if len(following[key])==0:\n",
    "        print('Zero following in list for @'+key)\n",
    "        failed.append(key)"
   ]
  },
  {
   "cell_type": "markdown",
   "metadata": {},
   "source": [
    "If some of the requests seem to have failed, can try them again:"
   ]
  },
  {
   "cell_type": "code",
   "execution_count": 30,
   "metadata": {},
   "outputs": [
    {
     "name": "stderr",
     "output_type": "stream",
     "text": [
      "CRITICAL:root:twint.get:User:'NoneType' object is not subscriptable\n",
      "CRITICAL:root:twint.feed:Follow:IndexError\n",
      "CRITICAL:root:twint.feed:Follow:IndexError\n",
      "CRITICAL:root:twint.get:User:'NoneType' object is not subscriptable\n",
      "CRITICAL:root:twint.feed:Follow:IndexError\n",
      "CRITICAL:root:twint.feed:Follow:IndexError\n"
     ]
    }
   ],
   "source": [
    "for username in failed:\n",
    "    twint.output.follows_list = []\n",
    "    c = twint.Config()\n",
    "    c.Username = username\n",
    "    c.User_full = False\n",
    "    c.Store_object = True\n",
    "    c.Hide_output = True\n",
    "    \n",
    "    twint.run.Following(c)\n",
    "    \n",
    "    following[username] = twint.output.follows_list"
   ]
  },
  {
   "cell_type": "markdown",
   "metadata": {},
   "source": [
    "Interestingly, most of the handles must appear only once, suggesting there are only a few users that are followed by more than one of the journalists in this list."
   ]
  },
  {
   "cell_type": "code",
   "execution_count": 43,
   "metadata": {},
   "outputs": [],
   "source": [
    "with open('../data/raw/cyber_journalist_friends.json', 'r') as file:\n",
    "    following = json.load(file)"
   ]
  },
  {
   "cell_type": "code",
   "execution_count": 47,
   "metadata": {},
   "outputs": [],
   "source": [
    "new_following = {}\n",
    "\n",
    "for i, key in enumerate(following.keys()):\n",
    "    new_following[i] = {'screen_name': key,\n",
    "                        'friends': following[key]}"
   ]
  },
  {
   "cell_type": "code",
   "execution_count": 54,
   "metadata": {},
   "outputs": [],
   "source": [
    "datastring = ''\n",
    "for key in new_following.keys():\n",
    "            datastring += json.dumps(new_following[key])\n",
    "with open('../data/raw/cyber_journalist_friends_3.json', \"w\") as file:\n",
    "            json.dump(datastring, file)"
   ]
  },
  {
   "cell_type": "code",
   "execution_count": 56,
   "metadata": {},
   "outputs": [],
   "source": [
    "import pandas as pd"
   ]
  },
  {
   "cell_type": "code",
   "execution_count": 60,
   "metadata": {},
   "outputs": [],
   "source": [
    "df_test = pd.DataFrame.from_dict(new_following, orient='index')"
   ]
  },
  {
   "cell_type": "code",
   "execution_count": 61,
   "metadata": {},
   "outputs": [
    {
     "data": {
      "text/html": [
       "<div>\n",
       "<style scoped>\n",
       "    .dataframe tbody tr th:only-of-type {\n",
       "        vertical-align: middle;\n",
       "    }\n",
       "\n",
       "    .dataframe tbody tr th {\n",
       "        vertical-align: top;\n",
       "    }\n",
       "\n",
       "    .dataframe thead th {\n",
       "        text-align: right;\n",
       "    }\n",
       "</style>\n",
       "<table border=\"1\" class=\"dataframe\">\n",
       "  <thead>\n",
       "    <tr style=\"text-align: right;\">\n",
       "      <th></th>\n",
       "      <th>screen_name</th>\n",
       "      <th>friends</th>\n",
       "    </tr>\n",
       "  </thead>\n",
       "  <tbody>\n",
       "    <tr>\n",
       "      <th>0</th>\n",
       "      <td>jennystrasburg</td>\n",
       "      <td>[RobaHusseini, HashemOsseiran, liveanthony, El...</td>\n",
       "    </tr>\n",
       "    <tr>\n",
       "      <th>1</th>\n",
       "      <td>dannsimmons</td>\n",
       "      <td>[RoyalMailHelp, RoyalMail, MoonchikM, TheCyber...</td>\n",
       "    </tr>\n",
       "    <tr>\n",
       "      <th>2</th>\n",
       "      <td>LeoKelion</td>\n",
       "      <td>[samscam, Danny_Cortes95, jennifercobbe, samue...</td>\n",
       "    </tr>\n",
       "    <tr>\n",
       "      <th>3</th>\n",
       "      <td>gordoncorera</td>\n",
       "      <td>[emilyrauhala, AuroraIntel, cdketchie, charles...</td>\n",
       "    </tr>\n",
       "    <tr>\n",
       "      <th>4</th>\n",
       "      <td>joetidy</td>\n",
       "      <td>[spiesdontdie, GOllumfun, 1337core, Beatrix_vS...</td>\n",
       "    </tr>\n",
       "  </tbody>\n",
       "</table>\n",
       "</div>"
      ],
      "text/plain": [
       "      screen_name                                            friends\n",
       "0  jennystrasburg  [RobaHusseini, HashemOsseiran, liveanthony, El...\n",
       "1     dannsimmons  [RoyalMailHelp, RoyalMail, MoonchikM, TheCyber...\n",
       "2       LeoKelion  [samscam, Danny_Cortes95, jennifercobbe, samue...\n",
       "3    gordoncorera  [emilyrauhala, AuroraIntel, cdketchie, charles...\n",
       "4         joetidy  [spiesdontdie, GOllumfun, 1337core, Beatrix_vS..."
      ]
     },
     "execution_count": 61,
     "metadata": {},
     "output_type": "execute_result"
    }
   ],
   "source": [
    "df_test.head()"
   ]
  },
  {
   "cell_type": "code",
   "execution_count": 62,
   "metadata": {},
   "outputs": [],
   "source": [
    "df_test.to_csv('../data/raw/cyber_journalist_friends.csv', index=False)"
   ]
  },
  {
   "cell_type": "code",
   "execution_count": 10,
   "metadata": {},
   "outputs": [],
   "source": [
    "from collections import Counter"
   ]
  },
  {
   "cell_type": "code",
   "execution_count": 33,
   "metadata": {},
   "outputs": [],
   "source": [
    "counted = Counter(all_names)"
   ]
  },
  {
   "cell_type": "code",
   "execution_count": 34,
   "metadata": {},
   "outputs": [
    {
     "data": {
      "text/plain": [
       "[('MalwareTechBlog', 9),\n",
       " ('briankrebs', 9),\n",
       " ('gcluley', 8),\n",
       " ('TaylorLorenz', 7),\n",
       " ('alexhern', 7),\n",
       " ('jimwaterson', 7),\n",
       " ('faisalislam', 7),\n",
       " ('BBCBreaking', 7),\n",
       " ('ProfWoodward', 7),\n",
       " ('DaveLeeFT', 7),\n",
       " ('TechCrunch', 7),\n",
       " ('ruskin147', 7),\n",
       " ('alexstamos', 7),\n",
       " ('jamesrbuk', 7),\n",
       " ('NCSC', 7),\n",
       " ('KimZetter', 7),\n",
       " ('GossiTheDog', 7),\n",
       " ('geoffwhite247', 7),\n",
       " ('bbclaurak', 7),\n",
       " ('mikko', 6),\n",
       " ('dnvolz', 6),\n",
       " ('elonmusk', 6),\n",
       " ('realDonaldTrump', 6),\n",
       " ('TheEconomist', 6),\n",
       " ('troyhunt', 6),\n",
       " ('jleyden', 6),\n",
       " ('DanRaywood', 6),\n",
       " ('oliviasolon', 6),\n",
       " ('WIRED', 6),\n",
       " ('drjessicabarker', 6),\n",
       " ('charlottejee', 6),\n",
       " ('campuscodi', 6),\n",
       " ('joetidy', 6),\n",
       " ('SecurityCharlie', 6),\n",
       " ('josephfcox', 6),\n",
       " ('carolecadwalla', 6),\n",
       " ('amolrajan', 6),\n",
       " ('SwiftOnSecurity', 6),\n",
       " ('DarkReading', 6),\n",
       " ('meghamohan', 6),\n",
       " ('e_kaspersky', 6),\n",
       " ('iblametom', 6),\n",
       " ('zackwhittaker', 6),\n",
       " ('Peston', 6),\n",
       " ('lorenzofb', 6),\n",
       " ('FSecure', 5),\n",
       " ('ericgeller', 5),\n",
       " ('kashhill', 5),\n",
       " ('rcallimachi', 5),\n",
       " ('noUpside', 5)]"
      ]
     },
     "execution_count": 34,
     "metadata": {},
     "output_type": "execute_result"
    }
   ],
   "source": [
    "counted.most_common(50)"
   ]
  },
  {
   "cell_type": "code",
   "execution_count": 35,
   "metadata": {},
   "outputs": [],
   "source": []
  },
  {
   "cell_type": "code",
   "execution_count": 36,
   "metadata": {},
   "outputs": [
    {
     "data": {
      "text/plain": [
       "range(0, 20)"
      ]
     },
     "execution_count": 36,
     "metadata": {},
     "output_type": "execute_result"
    }
   ],
   "source": []
  },
  {
   "cell_type": "code",
   "execution_count": 37,
   "metadata": {},
   "outputs": [
    {
     "name": "stdout",
     "output_type": "stream",
     "text": [
      "0\n",
      "1\n",
      "2\n",
      "3\n",
      "4\n",
      "5\n",
      "6\n",
      "7\n",
      "8\n",
      "9\n",
      "10\n",
      "11\n",
      "12\n",
      "13\n",
      "14\n",
      "15\n",
      "16\n",
      "17\n",
      "18\n",
      "19\n"
     ]
    }
   ],
   "source": []
  },
  {
   "cell_type": "code",
   "execution_count": null,
   "metadata": {},
   "outputs": [],
   "source": []
  }
 ],
 "metadata": {
  "kernelspec": {
   "display_name": "Python 3",
   "language": "python",
   "name": "python3"
  },
  "language_info": {
   "codemirror_mode": {
    "name": "ipython",
    "version": 3
   },
   "file_extension": ".py",
   "mimetype": "text/x-python",
   "name": "python",
   "nbconvert_exporter": "python",
   "pygments_lexer": "ipython3",
   "version": "3.7.1"
  }
 },
 "nbformat": 4,
 "nbformat_minor": 4
}
