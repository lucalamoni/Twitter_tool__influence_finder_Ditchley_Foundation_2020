{
 "cells": [
  {
   "cell_type": "markdown",
   "metadata": {},
   "source": [
    "# Testing User Timeline Retrieval"
   ]
  },
  {
   "cell_type": "code",
   "execution_count": 1,
   "metadata": {},
   "outputs": [],
   "source": [
    "import os\n",
    "import time\n",
    "import datetime\n",
    "import json\n",
    "import pandas as pd\n",
    "\n",
    "import tweepy"
   ]
  },
  {
   "cell_type": "code",
   "execution_count": 2,
   "metadata": {},
   "outputs": [],
   "source": [
    "api_keys_fp = '../twitter_credentials.json'"
   ]
  },
  {
   "cell_type": "code",
   "execution_count": 3,
   "metadata": {},
   "outputs": [],
   "source": [
    "def load_api(keys_file):\n",
    "    '''\n",
    "    \n",
    "    '''\n",
    "    # Load twitter credentials\n",
    "    with open(keys_file, 'r') as file:\n",
    "        creds = json.load(file)\n",
    "\n",
    "    # Use credentials to set up API access authorisation\n",
    "    auth = tweepy.OAuthHandler(creds['CONSUMER_KEY'], creds['CONSUMER_SECRET'])\n",
    "    auth.set_access_token(creds['ACCESS_TOKEN'], creds['ACCESS_SECRET'])\n",
    "    api = tweepy.API(auth, wait_on_rate_limit=True)\n",
    "    \n",
    "    return api"
   ]
  },
  {
   "cell_type": "code",
   "execution_count": 4,
   "metadata": {},
   "outputs": [],
   "source": [
    "tw_api = load_api(api_keys_fp)"
   ]
  },
  {
   "cell_type": "code",
   "execution_count": 12,
   "metadata": {},
   "outputs": [
    {
     "name": "stdout",
     "output_type": "stream",
     "text": [
      "Retrieving tweets from @carolecadwalla\n",
      "Last Tweet @ 2020-07-23 10:55:25  - fetching some more\n",
      "Last Tweet @ 2020-07-12 15:18:58  - fetching some more\n",
      "Last Tweet @ 2020-06-20 11:35:52  - fetching some more\n",
      "Last Tweet @ 2020-06-03 20:47:39  - fetching some more\n",
      "Last Tweet @ 2020-05-27 21:57:23  - fetching some more\n",
      "Last Tweet @ 2020-05-20 05:53:40  - fetching some more\n",
      "Last Tweet @ 2020-05-04 20:30:25  - fetching some more\n",
      "Last Tweet @ 2020-04-21 08:39:43  - fetching some more\n",
      "Last Tweet @ 2020-04-15 09:40:34  - fetching some more\n",
      "Last Tweet @ 2020-04-08 22:47:49  - fetching some more\n",
      "Last Tweet @ 2020-03-29 22:22:34  - fetching some more\n",
      "Last Tweet @ 2020-03-21 12:18:36  - fetching some more\n",
      "Last Tweet @ 2020-03-16 10:18:38  - fetching some more\n",
      "Last Tweet @ 2020-02-20 09:39:25  - fetching some more\n",
      "Last Tweet @ 2020-01-20 13:08:37  - fetching some more\n",
      "Last Tweet @ 2019-12-23 13:54:08  - fetching some more\n",
      "Last Tweet @ 2019-12-22 10:01:27  - fetching some more\n"
     ]
    }
   ],
   "source": [
    "handle_list= ['_lucyingham', 'JesscaHaworth', 'Ad_Nauseum74']\n",
    "\n",
    "#twitter_dict={}\n",
    "counter=0\n",
    "\n",
    "startDate = datetime.datetime(2019, 5, 1, 0, 0, 0)\n",
    "endDate =   datetime.datetime(2020, 8, 11, 0, 0, 0)\n",
    "\n",
    "tweets = {}\n",
    "all_tweets = {}\n",
    "\n",
    "handle_list = ['carolecadwalla',]\n",
    "\n",
    "for name in handle_list:\n",
    "    print('Retrieving tweets from @'+name)\n",
    "    tmpTweets = tw_api.user_timeline(name, tweet_mode = 'extended', include_retweets=True, wait_on_rate_limit=True, count=200)\n",
    "    for tweet in tmpTweets:\n",
    "        if tweet.created_at < endDate and tweet.created_at > startDate:\n",
    "            #tweets.append(tweet)\n",
    "            tweets[counter] = {key: vars(tweet)[key] for key in list(vars(tweet).keys())[2:]}\n",
    "            counter +=1\n",
    "\n",
    "    happy = tmpTweets[-1].created_at > startDate\n",
    "    while happy:\n",
    "        print(\"Last Tweet @\", tmpTweets[-1].created_at, \" - fetching some more\")\n",
    "        tmpTweets = tw_api.user_timeline(name, max_id = tmpTweets[-1].id, tweet_mode = 'extended', include_retweets=True, wait_on_rate_limit=True, count=200)\n",
    "        for tweet in tmpTweets:\n",
    "            if tweet.created_at < endDate and tweet.created_at > startDate and len(tmpTweets)>1:\n",
    "                #tweets.append(tweet)\n",
    "                tweets[counter] = {key: vars(tweet)[key] for key in list(vars(tweet).keys())[2:]}\n",
    "\n",
    "                counter +=1\n",
    "            else:\n",
    "                happy = False"
   ]
  },
  {
   "cell_type": "code",
   "execution_count": 13,
   "metadata": {},
   "outputs": [
    {
     "data": {
      "text/plain": [
       "3206"
      ]
     },
     "execution_count": 13,
     "metadata": {},
     "output_type": "execute_result"
    }
   ],
   "source": [
    "len(tweets)"
   ]
  },
  {
   "cell_type": "markdown",
   "metadata": {},
   "source": [
    "## Testing home-made functions"
   ]
  },
  {
   "cell_type": "code",
   "execution_count": 5,
   "metadata": {},
   "outputs": [],
   "source": [
    "import sys\n",
    "sys.path.insert(1, '../')"
   ]
  },
  {
   "cell_type": "code",
   "execution_count": 6,
   "metadata": {},
   "outputs": [],
   "source": [
    "from src.data.api_tweepy import connect_API\n",
    "from src.data.api_tweet_tools import request_user_timeline"
   ]
  },
  {
   "cell_type": "code",
   "execution_count": 6,
   "metadata": {},
   "outputs": [],
   "source": [
    "api_keys_fp = '../twitter_credentials.json'\n",
    "tw_api = connect_API(api_keys_fp)"
   ]
  },
  {
   "cell_type": "code",
   "execution_count": 7,
   "metadata": {},
   "outputs": [],
   "source": [
    "trial = request_user_timeline(tw_api, 'bobthephysicist', kwargs={'max_id':12345, 'count':200})"
   ]
  },
  {
   "cell_type": "code",
   "execution_count": 9,
   "metadata": {},
   "outputs": [
    {
     "name": "stdout",
     "output_type": "stream",
     "text": [
      "20\n"
     ]
    },
    {
     "data": {
      "text/plain": [
       "Status(_api=<tweepy.api.API object at 0x000002CE59334390>, _json={'created_at': 'Mon Jul 27 12:46:57 +0000 2020', 'id': 1287731198102511617, 'id_str': '1287731198102511617', 'text': '@alisoncowan0 Thanks Alison! You managed to get some rest since submitting yours?', 'truncated': False, 'entities': {'hashtags': [], 'symbols': [], 'user_mentions': [{'screen_name': 'alisoncowan0', 'name': 'Alison Cowan', 'id': 51775558, 'id_str': '51775558', 'indices': [0, 13]}], 'urls': []}, 'source': '<a href=\"http://twitter.com/download/android\" rel=\"nofollow\">Twitter for Android</a>', 'in_reply_to_status_id': 1287729234358743040, 'in_reply_to_status_id_str': '1287729234358743040', 'in_reply_to_user_id': 51775558, 'in_reply_to_user_id_str': '51775558', 'in_reply_to_screen_name': 'alisoncowan0', 'user': {'id': 927293298280198145, 'id_str': '927293298280198145', 'name': 'Robert Webster', 'screen_name': 'bobthephysicist', 'location': 'Glasgow', 'description': 'Physics PhD researcher @UofG_MCMP. Can also be found at the (virtual) aikido club. Spending the lockdown thesis writing and knitting.\\nHe/him', 'url': 'https://t.co/mZWNgstdcR', 'entities': {'url': {'urls': [{'url': 'https://t.co/mZWNgstdcR', 'expanded_url': 'http://robertwebster.info', 'display_url': 'robertwebster.info', 'indices': [0, 23]}]}, 'description': {'urls': []}}, 'protected': False, 'followers_count': 149, 'friends_count': 210, 'listed_count': 0, 'created_at': 'Sun Nov 05 21:55:25 +0000 2017', 'favourites_count': 1959, 'utc_offset': None, 'time_zone': None, 'geo_enabled': False, 'verified': False, 'statuses_count': 291, 'lang': None, 'contributors_enabled': False, 'is_translator': False, 'is_translation_enabled': False, 'profile_background_color': 'F5F8FA', 'profile_background_image_url': None, 'profile_background_image_url_https': None, 'profile_background_tile': False, 'profile_image_url': 'http://pbs.twimg.com/profile_images/1191475725175578627/LP7Mdwaw_normal.jpg', 'profile_image_url_https': 'https://pbs.twimg.com/profile_images/1191475725175578627/LP7Mdwaw_normal.jpg', 'profile_banner_url': 'https://pbs.twimg.com/profile_banners/927293298280198145/1537254118', 'profile_link_color': '1DA1F2', 'profile_sidebar_border_color': 'C0DEED', 'profile_sidebar_fill_color': 'DDEEF6', 'profile_text_color': '333333', 'profile_use_background_image': True, 'has_extended_profile': False, 'default_profile': True, 'default_profile_image': False, 'following': False, 'follow_request_sent': False, 'notifications': False, 'translator_type': 'none'}, 'geo': None, 'coordinates': None, 'place': None, 'contributors': None, 'is_quote_status': False, 'retweet_count': 0, 'favorite_count': 0, 'favorited': False, 'retweeted': False, 'lang': 'en'}, created_at=datetime.datetime(2020, 7, 27, 12, 46, 57), id=1287731198102511617, id_str='1287731198102511617', text='@alisoncowan0 Thanks Alison! You managed to get some rest since submitting yours?', truncated=False, entities={'hashtags': [], 'symbols': [], 'user_mentions': [{'screen_name': 'alisoncowan0', 'name': 'Alison Cowan', 'id': 51775558, 'id_str': '51775558', 'indices': [0, 13]}], 'urls': []}, source='Twitter for Android', source_url='http://twitter.com/download/android', in_reply_to_status_id=1287729234358743040, in_reply_to_status_id_str='1287729234358743040', in_reply_to_user_id=51775558, in_reply_to_user_id_str='51775558', in_reply_to_screen_name='alisoncowan0', author=User(_api=<tweepy.api.API object at 0x000002CE59334390>, _json={'id': 927293298280198145, 'id_str': '927293298280198145', 'name': 'Robert Webster', 'screen_name': 'bobthephysicist', 'location': 'Glasgow', 'description': 'Physics PhD researcher @UofG_MCMP. Can also be found at the (virtual) aikido club. Spending the lockdown thesis writing and knitting.\\nHe/him', 'url': 'https://t.co/mZWNgstdcR', 'entities': {'url': {'urls': [{'url': 'https://t.co/mZWNgstdcR', 'expanded_url': 'http://robertwebster.info', 'display_url': 'robertwebster.info', 'indices': [0, 23]}]}, 'description': {'urls': []}}, 'protected': False, 'followers_count': 149, 'friends_count': 210, 'listed_count': 0, 'created_at': 'Sun Nov 05 21:55:25 +0000 2017', 'favourites_count': 1959, 'utc_offset': None, 'time_zone': None, 'geo_enabled': False, 'verified': False, 'statuses_count': 291, 'lang': None, 'contributors_enabled': False, 'is_translator': False, 'is_translation_enabled': False, 'profile_background_color': 'F5F8FA', 'profile_background_image_url': None, 'profile_background_image_url_https': None, 'profile_background_tile': False, 'profile_image_url': 'http://pbs.twimg.com/profile_images/1191475725175578627/LP7Mdwaw_normal.jpg', 'profile_image_url_https': 'https://pbs.twimg.com/profile_images/1191475725175578627/LP7Mdwaw_normal.jpg', 'profile_banner_url': 'https://pbs.twimg.com/profile_banners/927293298280198145/1537254118', 'profile_link_color': '1DA1F2', 'profile_sidebar_border_color': 'C0DEED', 'profile_sidebar_fill_color': 'DDEEF6', 'profile_text_color': '333333', 'profile_use_background_image': True, 'has_extended_profile': False, 'default_profile': True, 'default_profile_image': False, 'following': False, 'follow_request_sent': False, 'notifications': False, 'translator_type': 'none'}, id=927293298280198145, id_str='927293298280198145', name='Robert Webster', screen_name='bobthephysicist', location='Glasgow', description='Physics PhD researcher @UofG_MCMP. Can also be found at the (virtual) aikido club. Spending the lockdown thesis writing and knitting.\\nHe/him', url='https://t.co/mZWNgstdcR', entities={'url': {'urls': [{'url': 'https://t.co/mZWNgstdcR', 'expanded_url': 'http://robertwebster.info', 'display_url': 'robertwebster.info', 'indices': [0, 23]}]}, 'description': {'urls': []}}, protected=False, followers_count=149, friends_count=210, listed_count=0, created_at=datetime.datetime(2017, 11, 5, 21, 55, 25), favourites_count=1959, utc_offset=None, time_zone=None, geo_enabled=False, verified=False, statuses_count=291, lang=None, contributors_enabled=False, is_translator=False, is_translation_enabled=False, profile_background_color='F5F8FA', profile_background_image_url=None, profile_background_image_url_https=None, profile_background_tile=False, profile_image_url='http://pbs.twimg.com/profile_images/1191475725175578627/LP7Mdwaw_normal.jpg', profile_image_url_https='https://pbs.twimg.com/profile_images/1191475725175578627/LP7Mdwaw_normal.jpg', profile_banner_url='https://pbs.twimg.com/profile_banners/927293298280198145/1537254118', profile_link_color='1DA1F2', profile_sidebar_border_color='C0DEED', profile_sidebar_fill_color='DDEEF6', profile_text_color='333333', profile_use_background_image=True, has_extended_profile=False, default_profile=True, default_profile_image=False, following=False, follow_request_sent=False, notifications=False, translator_type='none'), user=User(_api=<tweepy.api.API object at 0x000002CE59334390>, _json={'id': 927293298280198145, 'id_str': '927293298280198145', 'name': 'Robert Webster', 'screen_name': 'bobthephysicist', 'location': 'Glasgow', 'description': 'Physics PhD researcher @UofG_MCMP. Can also be found at the (virtual) aikido club. Spending the lockdown thesis writing and knitting.\\nHe/him', 'url': 'https://t.co/mZWNgstdcR', 'entities': {'url': {'urls': [{'url': 'https://t.co/mZWNgstdcR', 'expanded_url': 'http://robertwebster.info', 'display_url': 'robertwebster.info', 'indices': [0, 23]}]}, 'description': {'urls': []}}, 'protected': False, 'followers_count': 149, 'friends_count': 210, 'listed_count': 0, 'created_at': 'Sun Nov 05 21:55:25 +0000 2017', 'favourites_count': 1959, 'utc_offset': None, 'time_zone': None, 'geo_enabled': False, 'verified': False, 'statuses_count': 291, 'lang': None, 'contributors_enabled': False, 'is_translator': False, 'is_translation_enabled': False, 'profile_background_color': 'F5F8FA', 'profile_background_image_url': None, 'profile_background_image_url_https': None, 'profile_background_tile': False, 'profile_image_url': 'http://pbs.twimg.com/profile_images/1191475725175578627/LP7Mdwaw_normal.jpg', 'profile_image_url_https': 'https://pbs.twimg.com/profile_images/1191475725175578627/LP7Mdwaw_normal.jpg', 'profile_banner_url': 'https://pbs.twimg.com/profile_banners/927293298280198145/1537254118', 'profile_link_color': '1DA1F2', 'profile_sidebar_border_color': 'C0DEED', 'profile_sidebar_fill_color': 'DDEEF6', 'profile_text_color': '333333', 'profile_use_background_image': True, 'has_extended_profile': False, 'default_profile': True, 'default_profile_image': False, 'following': False, 'follow_request_sent': False, 'notifications': False, 'translator_type': 'none'}, id=927293298280198145, id_str='927293298280198145', name='Robert Webster', screen_name='bobthephysicist', location='Glasgow', description='Physics PhD researcher @UofG_MCMP. Can also be found at the (virtual) aikido club. Spending the lockdown thesis writing and knitting.\\nHe/him', url='https://t.co/mZWNgstdcR', entities={'url': {'urls': [{'url': 'https://t.co/mZWNgstdcR', 'expanded_url': 'http://robertwebster.info', 'display_url': 'robertwebster.info', 'indices': [0, 23]}]}, 'description': {'urls': []}}, protected=False, followers_count=149, friends_count=210, listed_count=0, created_at=datetime.datetime(2017, 11, 5, 21, 55, 25), favourites_count=1959, utc_offset=None, time_zone=None, geo_enabled=False, verified=False, statuses_count=291, lang=None, contributors_enabled=False, is_translator=False, is_translation_enabled=False, profile_background_color='F5F8FA', profile_background_image_url=None, profile_background_image_url_https=None, profile_background_tile=False, profile_image_url='http://pbs.twimg.com/profile_images/1191475725175578627/LP7Mdwaw_normal.jpg', profile_image_url_https='https://pbs.twimg.com/profile_images/1191475725175578627/LP7Mdwaw_normal.jpg', profile_banner_url='https://pbs.twimg.com/profile_banners/927293298280198145/1537254118', profile_link_color='1DA1F2', profile_sidebar_border_color='C0DEED', profile_sidebar_fill_color='DDEEF6', profile_text_color='333333', profile_use_background_image=True, has_extended_profile=False, default_profile=True, default_profile_image=False, following=False, follow_request_sent=False, notifications=False, translator_type='none'), geo=None, coordinates=None, place=None, contributors=None, is_quote_status=False, retweet_count=0, favorite_count=0, favorited=False, retweeted=False, lang='en')"
      ]
     },
     "execution_count": 9,
     "metadata": {},
     "output_type": "execute_result"
    }
   ],
   "source": [
    "print(len(trial))\n",
    "trial[-1]"
   ]
  },
  {
   "cell_type": "code",
   "execution_count": 11,
   "metadata": {},
   "outputs": [
    {
     "name": "stdout",
     "output_type": "stream",
     "text": [
      "Retrieving tweets from @_lucyingham\n",
      "Last Tweet @ 2020-07-21 15:14:17  - fetching some more\n",
      "Retrieving tweets from @JesscaHaworth\n",
      "Last Tweet @ 2020-07-16 13:23:22  - fetching some more\n",
      "Last Tweet @ 2020-07-16 13:23:22  - fetching some more\n",
      "Last Tweet @ 2020-07-16 13:23:22  - fetching some more\n"
     ]
    },
    {
     "ename": "KeyboardInterrupt",
     "evalue": "",
     "output_type": "error",
     "traceback": [
      "\u001b[0;31m---------------------------------------------------------------------------\u001b[0m",
      "\u001b[0;31mKeyboardInterrupt\u001b[0m                         Traceback (most recent call last)",
      "\u001b[0;32m<ipython-input-11-344e890ec4b7>\u001b[0m in \u001b[0;36m<module>\u001b[0;34m\u001b[0m\n\u001b[1;32m     24\u001b[0m     \u001b[0;32mwhile\u001b[0m \u001b[0mhappy\u001b[0m\u001b[0;34m:\u001b[0m\u001b[0;34m\u001b[0m\u001b[0;34m\u001b[0m\u001b[0m\n\u001b[1;32m     25\u001b[0m         \u001b[0mprint\u001b[0m\u001b[0;34m(\u001b[0m\u001b[0;34m\"Last Tweet @\"\u001b[0m\u001b[0;34m,\u001b[0m \u001b[0mtmpTweets\u001b[0m\u001b[0;34m[\u001b[0m\u001b[0;34m-\u001b[0m\u001b[0;36m1\u001b[0m\u001b[0;34m]\u001b[0m\u001b[0;34m.\u001b[0m\u001b[0mcreated_at\u001b[0m\u001b[0;34m,\u001b[0m \u001b[0;34m\" - fetching some more\"\u001b[0m\u001b[0;34m)\u001b[0m\u001b[0;34m\u001b[0m\u001b[0;34m\u001b[0m\u001b[0m\n\u001b[0;32m---> 26\u001b[0;31m         \u001b[0mtmpTweets\u001b[0m \u001b[0;34m=\u001b[0m \u001b[0mrequest_user_timeline\u001b[0m\u001b[0;34m(\u001b[0m\u001b[0mtw_api\u001b[0m\u001b[0;34m,\u001b[0m \u001b[0mname\u001b[0m\u001b[0;34m,\u001b[0m \u001b[0;34m{\u001b[0m\u001b[0;34m'max_id'\u001b[0m\u001b[0;34m:\u001b[0m \u001b[0mtmpTweets\u001b[0m\u001b[0;34m[\u001b[0m\u001b[0;34m-\u001b[0m\u001b[0;36m1\u001b[0m\u001b[0;34m]\u001b[0m\u001b[0;34m.\u001b[0m\u001b[0mid\u001b[0m\u001b[0;34m,\u001b[0m \u001b[0;34m'tweet_mode'\u001b[0m \u001b[0;34m:\u001b[0m \u001b[0;34m'extended'\u001b[0m\u001b[0;34m,\u001b[0m \u001b[0;34m'include_retweets'\u001b[0m\u001b[0;34m:\u001b[0m\u001b[0;32mTrue\u001b[0m\u001b[0;34m,\u001b[0m \u001b[0;34m'wait_on_rate_limit'\u001b[0m\u001b[0;34m:\u001b[0m\u001b[0;32mTrue\u001b[0m\u001b[0;34m,\u001b[0m \u001b[0;34m'count'\u001b[0m\u001b[0;34m:\u001b[0m\u001b[0;36m20\u001b[0m\u001b[0;34m}\u001b[0m\u001b[0;34m)\u001b[0m\u001b[0;34m\u001b[0m\u001b[0;34m\u001b[0m\u001b[0m\n\u001b[0m\u001b[1;32m     27\u001b[0m         \u001b[0;32mfor\u001b[0m \u001b[0mtweet\u001b[0m \u001b[0;32min\u001b[0m \u001b[0mtmpTweets\u001b[0m\u001b[0;34m:\u001b[0m\u001b[0;34m\u001b[0m\u001b[0;34m\u001b[0m\u001b[0m\n\u001b[1;32m     28\u001b[0m             \u001b[0;32mif\u001b[0m \u001b[0mtweet\u001b[0m\u001b[0;34m.\u001b[0m\u001b[0mcreated_at\u001b[0m \u001b[0;34m<\u001b[0m \u001b[0mendDate\u001b[0m \u001b[0;32mand\u001b[0m \u001b[0mtweet\u001b[0m\u001b[0;34m.\u001b[0m\u001b[0mcreated_at\u001b[0m \u001b[0;34m>\u001b[0m \u001b[0mstartDate\u001b[0m \u001b[0;32mand\u001b[0m \u001b[0mlen\u001b[0m\u001b[0;34m(\u001b[0m\u001b[0mtmpTweets\u001b[0m\u001b[0;34m)\u001b[0m\u001b[0;34m>\u001b[0m\u001b[0;36m1\u001b[0m\u001b[0;34m:\u001b[0m\u001b[0;34m\u001b[0m\u001b[0;34m\u001b[0m\u001b[0m\n",
      "\u001b[0;32m~/host/Ditchley/Aug20_Ditchley/src/data/api_tweet_tools.py\u001b[0m in \u001b[0;36mrequest_user_timeline\u001b[0;34m(api, user, api_delay, kwargs)\u001b[0m\n\u001b[1;32m     48\u001b[0m \u001b[0;34m\u001b[0m\u001b[0m\n\u001b[1;32m     49\u001b[0m     \u001b[0;32mif\u001b[0m \u001b[0mapi_delay\u001b[0m\u001b[0;34m:\u001b[0m\u001b[0;34m\u001b[0m\u001b[0;34m\u001b[0m\u001b[0m\n\u001b[0;32m---> 50\u001b[0;31m         \u001b[0mtime\u001b[0m\u001b[0;34m.\u001b[0m\u001b[0msleep\u001b[0m\u001b[0;34m(\u001b[0m\u001b[0;36m1\u001b[0m\u001b[0;34m)\u001b[0m \u001b[0;31m# Allowed to make 900 requests per 15 minutes, or 1 per second\u001b[0m\u001b[0;34m\u001b[0m\u001b[0;34m\u001b[0m\u001b[0m\n\u001b[0m\u001b[1;32m     51\u001b[0m \u001b[0;34m\u001b[0m\u001b[0m\n\u001b[1;32m     52\u001b[0m     \u001b[0mTL_tweets\u001b[0m\u001b[0;34m.\u001b[0m\u001b[0mextend\u001b[0m\u001b[0;34m(\u001b[0m\u001b[0;34m[\u001b[0m\u001b[0mitem\u001b[0m \u001b[0;32mfor\u001b[0m \u001b[0mitem\u001b[0m \u001b[0;32min\u001b[0m \u001b[0mtweets\u001b[0m\u001b[0;34m]\u001b[0m\u001b[0;34m)\u001b[0m \u001b[0;31m# parse tweets from object into list\u001b[0m\u001b[0;34m\u001b[0m\u001b[0;34m\u001b[0m\u001b[0m\n",
      "\u001b[0;31mKeyboardInterrupt\u001b[0m: "
     ]
    }
   ],
   "source": [
    "handle_list= ['_lucyingham', 'JesscaHaworth', 'Ad_Nauseum74']\n",
    "\n",
    "#twitter_dict={}\n",
    "counter=0\n",
    "\n",
    "startDate = datetime.datetime(2019, 5, 1, 0, 0, 0)\n",
    "endDate =   datetime.datetime(2020, 8, 12, 0, 0, 0)\n",
    "\n",
    "tweets = {}\n",
    "all_tweets = {}\n",
    "\n",
    "#handle_list = ['carolecadwalla',]\n",
    "\n",
    "for name in handle_list:\n",
    "    print('Retrieving tweets from @'+name)\n",
    "    tmpTweets = request_user_timeline(tw_api, name, kwargs={'tweet_mode' : 'extended', 'include_retweets':True, 'wait_on_rate_limit':True, 'count':20})\n",
    "    for tweet in tmpTweets:\n",
    "        if tweet.created_at < endDate and tweet.created_at > startDate:\n",
    "            #tweets.append(tweet)\n",
    "            tweets[counter] = {key: vars(tweet)[key] for key in list(vars(tweet).keys())[2:]}\n",
    "            counter +=1\n",
    "\n",
    "    happy = tmpTweets[-1].created_at > startDate\n",
    "    while happy:\n",
    "        print(\"Last Tweet @\", tmpTweets[-1].created_at, \" - fetching some more\")\n",
    "        tmpTweets = request_user_timeline(tw_api, name, {'max_id': tmpTweets[-1].id, 'tweet_mode' : 'extended', 'include_retweets':True, 'wait_on_rate_limit':True, 'count':20})\n",
    "        for tweet in tmpTweets:\n",
    "            if tweet.created_at < endDate and tweet.created_at > startDate and len(tmpTweets)>1:\n",
    "                #tweets.append(tweet)\n",
    "                tweets[counter] = {key: vars(tweet)[key] for key in list(vars(tweet).keys())[2:]}\n",
    "\n",
    "                counter +=1\n",
    "            else:\n",
    "                happy = False"
   ]
  },
  {
   "cell_type": "code",
   "execution_count": null,
   "metadata": {},
   "outputs": [],
   "source": []
  }
 ],
 "metadata": {
  "kernelspec": {
   "display_name": "Python 3",
   "language": "python",
   "name": "python3"
  },
  "language_info": {
   "codemirror_mode": {
    "name": "ipython",
    "version": 3
   },
   "file_extension": ".py",
   "mimetype": "text/x-python",
   "name": "python",
   "nbconvert_exporter": "python",
   "pygments_lexer": "ipython3",
   "version": "3.7.1"
  }
 },
 "nbformat": 4,
 "nbformat_minor": 4
}
