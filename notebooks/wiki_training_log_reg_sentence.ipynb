{
 "cells": [
  {
   "cell_type": "code",
   "execution_count": 1,
   "metadata": {},
   "outputs": [
    {
     "name": "stdout",
     "output_type": "stream",
     "text": [
      "Requirement already satisfied: gensim==3.8.3 in c:\\users\\elizabeth\\anaconda3\\envs\\python36\\lib\\site-packages (3.8.3)\n",
      "Requirement already satisfied: Cython==0.29.14 in c:\\users\\elizabeth\\anaconda3\\envs\\python36\\lib\\site-packages (from gensim==3.8.3) (0.29.14)\n",
      "Requirement already satisfied: scipy>=0.18.1 in c:\\users\\elizabeth\\anaconda3\\envs\\python36\\lib\\site-packages (from gensim==3.8.3) (1.4.1)\n",
      "Requirement already satisfied: six>=1.5.0 in c:\\users\\elizabeth\\anaconda3\\envs\\python36\\lib\\site-packages (from gensim==3.8.3) (1.15.0)\n",
      "Requirement already satisfied: smart-open>=1.8.1 in c:\\users\\elizabeth\\anaconda3\\envs\\python36\\lib\\site-packages (from gensim==3.8.3) (2.1.0)\n",
      "Requirement already satisfied: numpy>=1.11.3 in c:\\users\\elizabeth\\anaconda3\\envs\\python36\\lib\\site-packages (from gensim==3.8.3) (1.17.0)\n",
      "Requirement already satisfied: requests in c:\\users\\elizabeth\\anaconda3\\envs\\python36\\lib\\site-packages (from smart-open>=1.8.1->gensim==3.8.3) (2.24.0)\n",
      "Requirement already satisfied: boto3 in c:\\users\\elizabeth\\anaconda3\\envs\\python36\\lib\\site-packages (from smart-open>=1.8.1->gensim==3.8.3) (1.14.47)\n",
      "Requirement already satisfied: boto in c:\\users\\elizabeth\\anaconda3\\envs\\python36\\lib\\site-packages (from smart-open>=1.8.1->gensim==3.8.3) (2.49.0)\n",
      "Requirement already satisfied: urllib3!=1.25.0,!=1.25.1,<1.26,>=1.21.1 in c:\\users\\elizabeth\\anaconda3\\envs\\python36\\lib\\site-packages (from requests->smart-open>=1.8.1->gensim==3.8.3) (1.24.3)\n",
      "Requirement already satisfied: certifi>=2017.4.17 in c:\\users\\elizabeth\\anaconda3\\envs\\python36\\lib\\site-packages (from requests->smart-open>=1.8.1->gensim==3.8.3) (2020.6.20)\n",
      "Requirement already satisfied: chardet<4,>=3.0.2 in c:\\users\\elizabeth\\anaconda3\\envs\\python36\\lib\\site-packages (from requests->smart-open>=1.8.1->gensim==3.8.3) (3.0.4)\n",
      "Requirement already satisfied: idna<3,>=2.5 in c:\\users\\elizabeth\\anaconda3\\envs\\python36\\lib\\site-packages (from requests->smart-open>=1.8.1->gensim==3.8.3) (2.10)\n",
      "Requirement already satisfied: botocore<1.18.0,>=1.17.47 in c:\\users\\elizabeth\\anaconda3\\envs\\python36\\lib\\site-packages (from boto3->smart-open>=1.8.1->gensim==3.8.3) (1.17.47)\n",
      "Requirement already satisfied: jmespath<1.0.0,>=0.7.1 in c:\\users\\elizabeth\\anaconda3\\envs\\python36\\lib\\site-packages (from boto3->smart-open>=1.8.1->gensim==3.8.3) (0.10.0)\n",
      "Requirement already satisfied: s3transfer<0.4.0,>=0.3.0 in c:\\users\\elizabeth\\anaconda3\\envs\\python36\\lib\\site-packages (from boto3->smart-open>=1.8.1->gensim==3.8.3) (0.3.3)\n",
      "Requirement already satisfied: python-dateutil<3.0.0,>=2.1 in c:\\users\\elizabeth\\anaconda3\\envs\\python36\\lib\\site-packages (from botocore<1.18.0,>=1.17.47->boto3->smart-open>=1.8.1->gensim==3.8.3) (2.8.1)\n",
      "Requirement already satisfied: docutils<0.16,>=0.10 in c:\\users\\elizabeth\\anaconda3\\envs\\python36\\lib\\site-packages (from botocore<1.18.0,>=1.17.47->boto3->smart-open>=1.8.1->gensim==3.8.3) (0.15.2)\n"
     ]
    }
   ],
   "source": [
    "!pip install gensim==3.8.3"
   ]
  },
  {
   "cell_type": "code",
   "execution_count": 2,
   "metadata": {},
   "outputs": [
    {
     "name": "stdout",
     "output_type": "stream",
     "text": [
      "Requirement already satisfied: wikipedia in c:\\users\\elizabeth\\anaconda3\\envs\\python36\\lib\\site-packages (1.4.0)\n",
      "Requirement already satisfied: beautifulsoup4 in c:\\users\\elizabeth\\anaconda3\\envs\\python36\\lib\\site-packages (from wikipedia) (4.9.1)\n",
      "Requirement already satisfied: requests<3.0.0,>=2.0.0 in c:\\users\\elizabeth\\anaconda3\\envs\\python36\\lib\\site-packages (from wikipedia) (2.24.0)\n",
      "Requirement already satisfied: soupsieve>1.2 in c:\\users\\elizabeth\\anaconda3\\envs\\python36\\lib\\site-packages (from beautifulsoup4->wikipedia) (2.0.1)\n",
      "Requirement already satisfied: chardet<4,>=3.0.2 in c:\\users\\elizabeth\\anaconda3\\envs\\python36\\lib\\site-packages (from requests<3.0.0,>=2.0.0->wikipedia) (3.0.4)\n",
      "Requirement already satisfied: idna<3,>=2.5 in c:\\users\\elizabeth\\anaconda3\\envs\\python36\\lib\\site-packages (from requests<3.0.0,>=2.0.0->wikipedia) (2.10)\n",
      "Requirement already satisfied: urllib3!=1.25.0,!=1.25.1,<1.26,>=1.21.1 in c:\\users\\elizabeth\\anaconda3\\envs\\python36\\lib\\site-packages (from requests<3.0.0,>=2.0.0->wikipedia) (1.24.3)\n",
      "Requirement already satisfied: certifi>=2017.4.17 in c:\\users\\elizabeth\\anaconda3\\envs\\python36\\lib\\site-packages (from requests<3.0.0,>=2.0.0->wikipedia) (2020.6.20)\n"
     ]
    }
   ],
   "source": [
    "!pip install wikipedia"
   ]
  },
  {
   "cell_type": "code",
   "execution_count": 3,
   "metadata": {},
   "outputs": [],
   "source": [
    "import sys\n",
    "import os\n",
    "import itertools as it\n",
    "import pandas as pd\n",
    "import numpy as np\n",
    "from tqdm import tqdm\n",
    "tqdm.pandas(desc=\"progress-bar\")\n",
    "from gensim.models import Doc2Vec\n",
    "from sklearn import utils\n",
    "from sklearn.model_selection import train_test_split\n",
    "from sklearn import decomposition as skd\n",
    "from sklearn import feature_extraction as skfe\n",
    "from sklearn.linear_model import LogisticRegression\n",
    "from sklearn.metrics import accuracy_score, f1_score\n",
    "import gensim\n",
    "from gensim.models.doc2vec import TaggedDocument\n",
    "import re\n",
    "import matplotlib.pyplot as plt\n",
    "%matplotlib inline\n",
    "import seaborn as sns\n",
    "from collections import Counter\n",
    "import wikipedia\n",
    "import difflib\n",
    "import nltk\n",
    "#nltk.download('punkt')\n",
    "#nltk.download('stopwords')\n",
    "\n",
    "wikipedia.set_lang('en')\n",
    "\n"
   ]
  },
  {
   "cell_type": "markdown",
   "metadata": {},
   "source": [
    "#### Load tweet data files and extract hashtags"
   ]
  },
  {
   "cell_type": "code",
   "execution_count": null,
   "metadata": {},
   "outputs": [],
   "source": [
    "src_dir = r'C:\\Users\\elizabeth\\Documents\\cleaned tweets\\cyber friends tweets'\n",
    "\n",
    "files = [file for file in os.listdir(src_dir) if os.path.isfile(os.path.join(src_dir, file))] # build list of files to iterate through\n",
    "\n",
    "hashtags = pd.DataFrame()\n",
    "\n",
    "with tqdm(total=len(files), desc='Files') as pbar:\n",
    "    for file in files:\n",
    "        df = pd.read_csv(os.path.join(src_dir, file), low_memory=False)\n",
    "        hashtags = pd.concat([hashtags, df[['hashtags']]], axis=0)\n",
    "        pbar.update(1)"
   ]
  },
  {
   "cell_type": "code",
   "execution_count": null,
   "metadata": {},
   "outputs": [],
   "source": [
    "hashtags = hashtags[hashtags.astype(str)['hashtags'] != '[]'] # remove empties\n",
    "hashtags"
   ]
  },
  {
   "cell_type": "markdown",
   "metadata": {},
   "source": [
    "#### Build flat list of all hashtags"
   ]
  },
  {
   "cell_type": "code",
   "execution_count": null,
   "metadata": {},
   "outputs": [],
   "source": [
    "hlist = [] \n",
    "for hashtag in hashtags['hashtags']:\n",
    "    hlist.extend(eval(hashtag))"
   ]
  },
  {
   "cell_type": "markdown",
   "metadata": {},
   "source": [
    "#### Count frequency of each hashtag and sort the list in descending order"
   ]
  },
  {
   "cell_type": "code",
   "execution_count": null,
   "metadata": {},
   "outputs": [],
   "source": [
    "counted = Counter(hlist)\n",
    "tf = sorted(dict(counted).items(), key=lambda x: x[1], reverse=True) # Sort hashtags by frequency in descending order\n",
    "print(tf[:25])"
   ]
  },
  {
   "cell_type": "markdown",
   "metadata": {},
   "source": [
    "#### For initial investigation, select only hashtags used more than 1000 times"
   ]
  },
  {
   "cell_type": "code",
   "execution_count": null,
   "metadata": {},
   "outputs": [],
   "source": [
    "use_threshold = 1000\n",
    "tf_popular = []\n",
    "print('Length before: '+str(len(tf)))\n",
    "for tag in tf:\n",
    "    if  tag[1] >= use_threshold:\n",
    "        tf_popular.append(tag)\n",
    "print('Length after: '+str(len(tf_popular)))"
   ]
  },
  {
   "cell_type": "markdown",
   "metadata": {},
   "source": [
    "#### Build a matrix of concurrent use of hashtags, correlate and visualise"
   ]
  },
  {
   "cell_type": "code",
   "execution_count": null,
   "metadata": {},
   "outputs": [],
   "source": [
    "popular_hashtags = [item[0] for item in tf_popular]\n",
    "hashtag_matrix = pd.DataFrame(0, index=popular_hashtags, columns=popular_hashtags).astype(int)\n",
    "\n",
    "for item in hashtags['hashtags'].values:\n",
    "    hashtag_list = eval(item)\n",
    "    for a, b in it.permutations(hashtag_list, 2):\n",
    "        if all([hashtag in popular_hashtags for hashtag in [a,b]]):\n",
    "            hashtag_matrix.at[a, b] += 1\n",
    "            \n",
    "hashtag_matrix"
   ]
  },
  {
   "cell_type": "code",
   "execution_count": null,
   "metadata": {},
   "outputs": [],
   "source": [
    "# calculate the correlation matrix\n",
    "correlations = hashtag_matrix.corr()"
   ]
  },
  {
   "cell_type": "code",
   "execution_count": null,
   "metadata": {},
   "outputs": [],
   "source": [
    "# plot the correlation matrix\n",
    "plt.figure(figsize=(25, 25))\n",
    "sns.heatmap(correlations,\n",
    "    cmap='RdBu',\n",
    "    vmin=-1,\n",
    "    vmax=1,\n",
    "    square = True,\n",
    "    cbar_kws={'label':'correlation'})\n",
    "plt.show()"
   ]
  },
  {
   "cell_type": "code",
   "execution_count": null,
   "metadata": {},
   "outputs": [],
   "source": [
    "correlations"
   ]
  },
  {
   "cell_type": "markdown",
   "metadata": {},
   "source": [
    "#### Inspect a ranked list of correlated pairs of hashtags"
   ]
  },
  {
   "cell_type": "code",
   "execution_count": null,
   "metadata": {},
   "outputs": [],
   "source": [
    "s = correlations.unstack()\n",
    "so = s.sort_values(kind=\"quicksort\", ascending=False)"
   ]
  },
  {
   "cell_type": "code",
   "execution_count": null,
   "metadata": {},
   "outputs": [],
   "source": [
    "so[97:200:2] # There are 97 hashtags in the popular list, so the first 97 entries are self-correlations.  Each pair is duplicated in the list, too"
   ]
  },
  {
   "cell_type": "markdown",
   "metadata": {},
   "source": [
    "#### Use sklearn's CountVectorizer to one-hot encode the use of hashtags in each tweet\n",
    "\n",
    "This is for all 200k hashtags. Needs to be sparse"
   ]
  },
  {
   "cell_type": "code",
   "execution_count": null,
   "metadata": {},
   "outputs": [],
   "source": [
    "cv = skfe.text.CountVectorizer()\n",
    "one_hot = cv.fit_transform(hashtags['hashtags'].apply(lambda x: \" \".join(eval(x)) ))\n",
    "feature_names = cv.get_feature_names()\n",
    "hashtag_observations= pd.DataFrame.sparse.from_spmatrix(one_hot, index=hashtags.index, columns=cv.get_feature_names())"
   ]
  },
  {
   "cell_type": "code",
   "execution_count": null,
   "metadata": {},
   "outputs": [],
   "source": [
    "hashtag_observations.info()"
   ]
  },
  {
   "cell_type": "code",
   "execution_count": null,
   "metadata": {},
   "outputs": [],
   "source": [
    "hashtag_observations.sparse.density"
   ]
  },
  {
   "cell_type": "markdown",
   "metadata": {},
   "source": [
    "#### Dimensionality Reduction\n",
    "Can't use PCA on a sparse matrix, so use TruncatedSVD instead. The only difference is that PCA would 'center' the data first."
   ]
  },
  {
   "cell_type": "code",
   "execution_count": null,
   "metadata": {},
   "outputs": [],
   "source": [
    "svd = skd.TruncatedSVD(n_components=100, random_state=32864)\n",
    "svd.fit(hashtag_observations)\n",
    "print(svd.explained_variance_ratio_.sum())\n",
    "svd_comps = svd.components_"
   ]
  },
  {
   "cell_type": "code",
   "execution_count": null,
   "metadata": {},
   "outputs": [],
   "source": [
    "plt.figure()\n",
    "plt.bar([i for i in range(len(svd.explained_variance_ratio_))], svd.explained_variance_ratio_)\n",
    "plt.show()"
   ]
  },
  {
   "cell_type": "markdown",
   "metadata": {},
   "source": [
    "#### Attempt to establish which hashtags are significant for each component of the SVD, and create topics based on these sets"
   ]
  },
  {
   "cell_type": "code",
   "execution_count": null,
   "metadata": {},
   "outputs": [],
   "source": [
    "significant = 0.3\n",
    "print('Correlated: \\t Anticorrelated:')\n",
    "for j, comp in enumerate(svd_comps):\n",
    "    if any(np.abs(comp)>significant):\n",
    "        print(str(j) + ': ' + str([feature_names[i] for i in range(len(feature_names))\n",
    "                                   if comp[i]>significant])+'\\t'+str([feature_names[i] \n",
    "                                                                      for i in range(len(feature_names)) \n",
    "                                                                      if comp[i]<-significant]))"
   ]
  },
  {
   "cell_type": "code",
   "execution_count": null,
   "metadata": {},
   "outputs": [],
   "source": [
    "topics = []\n",
    "themes = []\n",
    "for comp in svd_comps:\n",
    "    if any(comp>significant):\n",
    "        theme_list = [feature_names[i] for i in range(len(feature_names)) if comp[i]>significant]\n",
    "        themes.extend(theme_list)\n",
    "        topics.append(theme_list)\n",
    "themes = list(set(themes))\n",
    "print(topics)"
   ]
  },
  {
   "cell_type": "code",
   "execution_count": null,
   "metadata": {},
   "outputs": [],
   "source": [
    "translation_matrix = pd.DataFrame()\n",
    "translation_matrix['hashtags'] = themes\n",
    "translation_matrix.head()"
   ]
  },
  {
   "cell_type": "markdown",
   "metadata": {},
   "source": [
    "#### Attempt to get wikipedia pages relating to each hashtag in each topic"
   ]
  },
  {
   "cell_type": "code",
   "execution_count": null,
   "metadata": {},
   "outputs": [],
   "source": [
    "tags_to_pages = [] # Create a dict that will map hashtags to wikipedia page titles\n",
    "tags_to_search = []\n",
    "\n",
    "print('Hashtag: -> Suggestion: -> Search Result:')\n",
    "for theme in themes:\n",
    "    suggestion = wiki.suggest(theme) # This returns a \"did you mean\"-style alternative to the searching hashtag, this can be useful in identifying an accurate subject match\n",
    "    if suggestion is not None:\n",
    "        # If an alternative is suggested, need to decide if the alternative is going to be better than the hashtag\n",
    "        # Generally, issues in identifying pages correctly arise from a lack of spaces in multi-word hashtags, \n",
    "        # So the following 2 lines of code only accept the alternative if it is the same as the hashtag but punctuated with spaces.\n",
    "        # Suggested alternatives which in any way alter the letters contained in the hashtag are rejected, and the hashtag used instead\n",
    "        diff = list(difflib.ndiff(theme, suggestion)) \n",
    "        if any([item != '+  ' for item in [diff[i] for i in range(len(diff)) if diff[i][0] is not ' ']]):\n",
    "            search_term = theme\n",
    "        else:\n",
    "            search_term = suggestion\n",
    "    else:\n",
    "        search_term = theme\n",
    "    \n",
    "    search_results = wiki.search(search_term, results=3)\n",
    "        \n",
    "    print(theme  + ' -> ' + str(suggestion) + ' -> ' + str(search_results)) # print the top result\n",
    "    #print('For theme {}, using search term {}.'.format(theme, search_term))\n",
    "    if len(search_results)>0:\n",
    "        tags_to_pages.append(search_results[0])\n",
    "        tags_to_search.append(search_results)\n",
    "    else:\n",
    "        tags_to_pages.append(None)\n",
    "        tags_to_search.append(None)\n",
    "    \n",
    "translation_matrix['pages'] = tags_to_pages\n",
    "translation_matrix['search_results'] = tags_to_search"
   ]
  },
  {
   "cell_type": "code",
   "execution_count": null,
   "metadata": {},
   "outputs": [],
   "source": [
    "translation_matrix"
   ]
  },
  {
   "cell_type": "code",
   "execution_count": null,
   "metadata": {},
   "outputs": [],
   "source": [
    "pages = []\n",
    "\n",
    "for topic in topics:\n",
    "    pages.append([translation_matrix.loc[translation_matrix['hashtags']==theme,'pages'].values[0] for theme in topic])\n",
    "\n",
    "pages"
   ]
  },
  {
   "cell_type": "markdown",
   "metadata": {},
   "source": [
    "#### Attempt to bridge overlapping topics"
   ]
  },
  {
   "cell_type": "code",
   "execution_count": null,
   "metadata": {},
   "outputs": [],
   "source": [
    "bridged_topics = []\n",
    "\n",
    "for i, topic in enumerate(pages):\n",
    "    truth_table = [len(set(theme_list).intersection(topic)) > 0 for theme_list in bridged_topics]\n",
    "    #print(truth_table)\n",
    "    if any(truth_table):\n",
    "        idx = truth_table.index(True)\n",
    "        merged_topic = list(set(bridged_topics[idx])|set(topic))\n",
    "        bridged_topics[idx] = merged_topic\n",
    "        \n",
    "    else:\n",
    "        bridged_topics.append(topic)\n",
    "    \n",
    "\n",
    "bridged_topics"
   ]
  },
  {
   "cell_type": "code",
   "execution_count": null,
   "metadata": {},
   "outputs": [],
   "source": [
    "other = []\n",
    "for page in other_theme:\n",
    "    full_page = wikipedia.page(page).content\n",
    "    full_page = full_page.split(\"== See also ==\")[0]    #Remove text after \"See also\"\n",
    "    page_split = re.split(\"\\. |\\.\\n\",str(full_page))\n",
    "    \n",
    "    final_page_split = []    \n",
    "    for sentence in page_split:\n",
    "        if len(sentence) >= min_characters_sentence:\n",
    "            final_page_split.append(sentence)\n",
    "    final_page_split = final_page_split[0:20]\n",
    "    other.append(final_page_split) \n",
    "    #Append sentences to final other_theme corpus\n",
    "    #for sentence in final_page_split:\n",
    "    #    training_corpus = training_corpus.append({'Text':sentence, 'Theme':theme, 'Source':'Wikipedia'}, ignore_index=True)"
   ]
  },
  {
   "cell_type": "markdown",
   "metadata": {},
   "source": [
    "#### Here we need some human input to check the topics etc, perhaps join some more..."
   ]
  },
  {
   "cell_type": "code",
   "execution_count": 4,
   "metadata": {},
   "outputs": [],
   "source": [
    "topics = [['Coronavirus disease 2019', 'Lockdown'], \n",
    "['Artificial intelligence', 'Computer security', 'Financial technology', 'Internet of things', 'Robotics'], \n",
    "['Data science', 'Machine learning'],\n",
    "['Information security'],\n",
    "['Blockchain', 'Payment', 'Cryptocurrency'],\n",
    "['Innovation', 'Technology'],\n",
    "['Data', 'General Data Protection Regulation'],\n",
    "['Brexit'],\n",
    "['Privacy'],\n",
    "['Startup company'],\n",
    "['China'],\n",
    "['5G'],\n",
    "['Digital transformation'],\n",
    "['Mental health'],\n",
    "['2020 Beirut explosion', 'Lebanon', 'Beirut'],\n",
    "['2020 Belarusian protests'],\n",
    "['Journalism', 'Travel'], \n",
    "['Business'],\n",
    "['Apple Inc.', 'Final Cut Pro X', 'Video'],\n",
    "['Augmented reality', 'Vertual reality'], \n",
    "['Property', 'Real estate'], \n",
    "['Architecture', 'Design'],\n",
    "['Climate change', 'Environmental, social and corporate governance', 'Sustainability'],\n",
    "['Health care'],\n",
    "['Cybercrime', 'Ransomeware', 'Malware'],\n",
    "['Facebook', 'Social media'],\n",
    "['Other (philosophy)', 'Lexie Brown', 'Baseball broadcasting firsts', 'Rhydlewis', 'Moisés Alou',\n",
    "    '3rd Weather Squadron', 'Gifty Acheampong', 'Kollines', 'Access Now, Inc. v. Southwest Airlines Co.', 'Australia Made Preference League',\n",
    "    'Buddhist councils', '2009–10 Olympique de Marseille season', '2013 Tour of Flanders', 'Michael Britten','Frits Potgieter',\n",
    "    'First Among Sequels', 'Lend Lease Project Management & Construction', 'B. M. Choudary', 'USS La Moure County (LST-1194)', 'John McGinnis', \n",
    "    'Valerie Maxfield', 'Lydian language', 'Nathan Alcock', 'İzbırak, Midyat', 'Leonhard Baldner',\n",
    "    'Julian H. Scaff', \"The Boy's Doin' It\", \"America's Got Talent (season 8)\", 'Mass media in the Czech Republic', 'Rear-eject haul truck bodies',\n",
    "    'Davy Crockett, Indian Scout', 'Métis flag', 'The Second Scroll', 'Institute of Physics and Engineering in Medicine', 'Honda Mobilio',\n",
    "    'Forced marriage', 'Wetaskiwin', 'Mort Hoppenfeld', 'Saddam Hussein and al-Qaeda link allegations', 'Crane Creek (Melbourne, Florida)']]\n"
   ]
  },
  {
   "cell_type": "markdown",
   "metadata": {},
   "source": [
    "Adapted from Martin's code ref:  https://towardsdatascience.com/multi-class-text-classification-with-doc2vec-logistic-regression-9da9947b43f4"
   ]
  },
  {
   "cell_type": "code",
   "execution_count": 5,
   "metadata": {},
   "outputs": [],
   "source": [
    "min_characters_sent = 3   #Min characters in a paragraph (inclusive)\n",
    "min_characters_word = 3     #Min characters in a word (inclusive)\n",
    "test_size = 0.2     #Fraction of corpus to keep back for testing"
   ]
  },
  {
   "cell_type": "code",
   "execution_count": 6,
   "metadata": {},
   "outputs": [
    {
     "name": "stdout",
     "output_type": "stream",
     "text": [
      "['Coronavirus disease 2019_Lockdown', 'Artificial intelligence_Computer security_Financial technology_Internet of things_Robotics', 'Data science_Machine learning', 'Information security', 'Blockchain_Payment_Cryptocurrency', 'Innovation_Technology', 'Data_General Data Protection Regulation', 'Brexit', 'Privacy', 'Startup company', 'China', '5G', 'Digital transformation', 'Mental health', '2020 Beirut explosion_Lebanon_Beirut', '2020 Belarusian protests', 'Journalism_Travel', 'Business', 'Apple Inc._Final Cut Pro X_Video', 'Augmented reality_Vertual reality', 'Property_Real estate', 'Architecture_Design', 'Climate change_Environmental, social and corporate governance_Sustainability', 'Health care', 'Cybercrime_Ransomeware_Malware', 'Facebook_Social media', 'Other']\n"
     ]
    },
    {
     "data": {
      "image/png": "[encoded data removed]",
      "text/plain": [
       "<Figure size 1080x360 with 1 Axes>"
      ]
     },
     "metadata": {
      "needs_background": "light"
     },
     "output_type": "display_data"
    }
   ],
   "source": [
    "wiki_pages = topics\n",
    "themes = ['_'.join(topic) for topic in topics]\n",
    "del themes[-1]\n",
    "themes.append('Other')\n",
    "\n",
    "print(themes)\n",
    "\n",
    "training_corpus = pd.DataFrame(columns=['Text','Theme','Source'])\n",
    "\n",
    "for theme,page in zip(themes,wiki_pages):\n",
    "    all_page = ''\n",
    "    if isinstance(page, str):\n",
    "        page=[page,]\n",
    "    for p in page:\n",
    "        full_page = wikipedia.page(p).content\n",
    "        full_page = full_page.split(\"== See also ==\")[0]    #Remove text after \"See also\"\n",
    "        all_page += full_page\n",
    "    \n",
    "    #page_split = str(all_page).split(\"\\n\")\n",
    "    page_split = re.split(\"\\. |\\.\\n\",str(all_page))\n",
    "    #print(\"Number of paragraphs before trimming = \"+str(len(page_split)))\n",
    "\n",
    "    #Only retain paragraphs with at least N characters to retain only proper paragraphs\n",
    "    final_page_split = []    \n",
    "    for sent in page_split:\n",
    "        if len(sent) >= min_characters_sent:\n",
    "            final_page_split.append(sent)\n",
    "\n",
    "    n_docs_to_proc = len(final_page_split)\n",
    "    #print(\"Number of paragraphs after trimming = \"+str(n_docs_to_proc))\n",
    "\n",
    "    #Append paragraphs to final corpus\n",
    "    for sentence in final_page_split:\n",
    "        training_corpus = training_corpus.append({'Text':sentence, 'Theme':theme, 'Source':'Wikipedia'}, ignore_index=True)\n",
    "\n",
    "training_corpus['Theme'].value_counts().plot.barh(figsize=(15,5))\n",
    "plt.show()"
   ]
  },
  {
   "cell_type": "markdown",
   "metadata": {},
   "source": [
    "# Pre-process training data"
   ]
  },
  {
   "cell_type": "code",
   "execution_count": 7,
   "metadata": {},
   "outputs": [],
   "source": [
    "# Clean the text - mainly used for processing html\n",
    "\n",
    "from bs4 import BeautifulSoup\n",
    "\n",
    "def cleanText(text):\n",
    "#    text = BeautifulSoup(text, \"lxml\").text\n",
    "#    text = re.sub(r'\\|\\|\\|', r' ', text) \n",
    "#    text = re.sub(r'http\\S+', r'<URL>', text)\n",
    "    text = text.lower()\n",
    "#    text = text.replace('x', '')\n",
    "    return text\n",
    "\n",
    "training_corpus['Text'] = training_corpus['Text'].apply(cleanText)"
   ]
  },
  {
   "cell_type": "code",
   "execution_count": 8,
   "metadata": {},
   "outputs": [],
   "source": [
    "train, test = train_test_split(training_corpus, test_size=test_size, random_state=42)\n",
    "import nltk\n",
    "from nltk.corpus import stopwords\n",
    "stop_words = set(stopwords.words('english'))\n",
    "\n",
    "def tokenize_text(text):\n",
    "    tokens = []\n",
    "    for sent in nltk.sent_tokenize(text):\n",
    "        for word in nltk.word_tokenize(sent):\n",
    "            if (len(word) >= min_characters_word) & (word not in stop_words) : tokens.append(word)\n",
    "#            if (len(word) >= min_characters_word) : tokens.append(word)\n",
    "    return tokens\n",
    "\n",
    "train_tagged = train.apply(\n",
    "    lambda r: TaggedDocument(words=tokenize_text(r['Text']), tags=[r.Theme]), axis=1)\n",
    "test_tagged = test.apply(\n",
    "    lambda r: TaggedDocument(words=tokenize_text(r['Text']), tags=[r.Theme]), axis=1)\n"
   ]
  },
  {
   "cell_type": "markdown",
   "metadata": {},
   "source": [
    "# Apply models"
   ]
  },
  {
   "cell_type": "markdown",
   "metadata": {},
   "source": [
    "# # Distributed bag of words\n"
   ]
  },
  {
   "cell_type": "code",
   "execution_count": 9,
   "metadata": {},
   "outputs": [],
   "source": [
    "import multiprocessing\n",
    "cores = multiprocessing.cpu_count()"
   ]
  },
  {
   "cell_type": "code",
   "execution_count": 10,
   "metadata": {},
   "outputs": [
    {
     "name": "stderr",
     "output_type": "stream",
     "text": [
      "100%|████████████████████████████████████████████████████████████████████████████████████| 11888/11888 [00:00<?, ?it/s]\n"
     ]
    }
   ],
   "source": [
    "#model_dbow = Doc2Vec(dm=0, vector_size=300, negative=5, hs=0, min_count=2, sample=0, workers=cores) #Values from tutorial\n",
    "\n",
    "model_dbow = Doc2Vec(dm=0, vector_size=500, negative=5, hs=1, min_count=2, sample=0, workers=cores) #My optimised values\n",
    "\n",
    "model_dbow.build_vocab([x for x in tqdm(train_tagged.values)])"
   ]
  },
  {
   "cell_type": "code",
   "execution_count": 11,
   "metadata": {},
   "outputs": [
    {
     "name": "stderr",
     "output_type": "stream",
     "text": [
      "100%|████████████████████████████████████████████████████████████████████████████████████| 11888/11888 [00:00<?, ?it/s]\n",
      "100%|████████████████████████████████████████████████████████████████████████████████████| 11888/11888 [00:00<?, ?it/s]\n",
      "100%|████████████████████████████████████████████████████████████████████████| 11888/11888 [00:00<00:00, 762892.42it/s]\n",
      "100%|████████████████████████████████████████████████████████████████████████████████████| 11888/11888 [00:00<?, ?it/s]\n",
      "100%|████████████████████████████████████████████████████████████████████████████████████| 11888/11888 [00:00<?, ?it/s]\n",
      "100%|████████████████████████████████████████████████████████████████████████████████████| 11888/11888 [00:00<?, ?it/s]\n",
      "100%|███████████████████████████████████████████████████████████████████████| 11888/11888 [00:00<00:00, 1697946.13it/s]\n",
      "100%|████████████████████████████████████████████████████████████████████████████████████| 11888/11888 [00:00<?, ?it/s]\n",
      "100%|████████████████████████████████████████████████████████████████████████████████████| 11888/11888 [00:00<?, ?it/s]\n",
      "100%|███████████████████████████████████████████████████████████████████████| 11888/11888 [00:00<00:00, 1172889.68it/s]\n",
      "100%|████████████████████████████████████████████████████████████████████████| 11888/11888 [00:00<00:00, 722185.97it/s]\n",
      "100%|████████████████████████████████████████████████████████████████████████| 11888/11888 [00:00<00:00, 764494.89it/s]\n",
      "100%|████████████████████████████████████████████████████████████████████████| 11888/11888 [00:00<00:00, 760507.08it/s]\n",
      "100%|████████████████████████████████████████████████████████████████████████████████████| 11888/11888 [00:00<?, ?it/s]\n",
      "100%|████████████████████████████████████████████████████████████████████████████████████| 11888/11888 [00:00<?, ?it/s]\n",
      "100%|████████████████████████████████████████████████████████████████████████████████████| 11888/11888 [00:00<?, ?it/s]\n",
      "100%|████████████████████████████████████████████████████████████████████████████████████| 11888/11888 [00:00<?, ?it/s]\n",
      "100%|████████████████████████████████████████████████████████████████████████| 11888/11888 [00:00<00:00, 761180.44it/s]\n",
      "100%|████████████████████████████████████████████████████████████████████████████████████| 11888/11888 [00:00<?, ?it/s]\n",
      "100%|████████████████████████████████████████████████████████████████████████████████████| 11888/11888 [00:00<?, ?it/s]\n",
      "100%|████████████████████████████████████████████████████████████████████████████████████| 11888/11888 [00:00<?, ?it/s]\n",
      "100%|████████████████████████████████████████████████████████████████████████████████████| 11888/11888 [00:00<?, ?it/s]\n",
      "100%|████████████████████████████████████████████████████████████████████████████████████| 11888/11888 [00:00<?, ?it/s]\n",
      "100%|███████████████████████████████████████████████████████████████████████| 11888/11888 [00:00<00:00, 2116468.69it/s]\n",
      "100%|████████████████████████████████████████████████████████████████████████████████████| 11888/11888 [00:00<?, ?it/s]\n",
      "100%|████████████████████████████████████████████████████████████████████████| 11888/11888 [00:00<00:00, 760924.89it/s]\n",
      "100%|████████████████████████████████████████████████████████████████████████████████████| 11888/11888 [00:00<?, ?it/s]\n",
      "100%|████████████████████████████████████████████████████████████████████████████████████| 11888/11888 [00:00<?, ?it/s]\n",
      "100%|████████████████████████████████████████████████████████████████████████████████████| 11888/11888 [00:00<?, ?it/s]\n",
      "100%|████████████████████████████████████████████████████████████████████████████████████| 11888/11888 [00:00<?, ?it/s]\n"
     ]
    },
    {
     "name": "stdout",
     "output_type": "stream",
     "text": [
      "Wall time: 35.1 s\n"
     ]
    }
   ],
   "source": [
    "%%time\n",
    "for epoch in range(30):\n",
    "    model_dbow.train(utils.shuffle([x for x in tqdm(train_tagged.values)]), total_examples=len(train_tagged.values), epochs=1)\n",
    "    model_dbow.alpha -= 0.002\n",
    "    model_dbow.min_alpha = model_dbow.alpha"
   ]
  },
  {
   "cell_type": "code",
   "execution_count": 12,
   "metadata": {},
   "outputs": [],
   "source": [
    "def vec_for_learning(model, tagged_docs):\n",
    "    sents = tagged_docs.values\n",
    "    targets, regressors = zip(*[(doc.tags[0], model.infer_vector(doc.words, steps=20)) for doc in sents])\n",
    "    return targets, regressors"
   ]
  },
  {
   "cell_type": "code",
   "execution_count": 13,
   "metadata": {},
   "outputs": [
    {
     "name": "stdout",
     "output_type": "stream",
     "text": [
      "logreg_dbow Testing accuracy 0.5026917900403769\n",
      "logreg_dbow Testing F1 score: 0.49523627319170943\n"
     ]
    },
    {
     "name": "stderr",
     "output_type": "stream",
     "text": [
      "C:\\Users\\elizabeth\\anaconda3\\envs\\python36\\lib\\site-packages\\sklearn\\linear_model\\_logistic.py:764: ConvergenceWarning: lbfgs failed to converge (status=1):\n",
      "STOP: TOTAL NO. of ITERATIONS REACHED LIMIT.\n",
      "\n",
      "Increase the number of iterations (max_iter) or scale the data as shown in:\n",
      "    https://scikit-learn.org/stable/modules/preprocessing.html\n",
      "Please also refer to the documentation for alternative solver options:\n",
      "    https://scikit-learn.org/stable/modules/linear_model.html#logistic-regression\n",
      "  extra_warning_msg=_LOGISTIC_SOLVER_CONVERGENCE_MSG)\n"
     ]
    }
   ],
   "source": [
    "# Distributed Bag of Words (DBOW) model\n",
    "\n",
    "y_train, X_train = vec_for_learning(model_dbow, train_tagged)\n",
    "y_test, X_test = vec_for_learning(model_dbow, test_tagged)\n",
    "logreg_dbow = LogisticRegression(n_jobs=1, C=1e5, max_iter=1000)\n",
    "logreg_dbow.fit(X_train, y_train)\n",
    "y_pred = logreg_dbow.predict(X_test)\n",
    "print('logreg_dbow Testing accuracy %s' % accuracy_score(y_test, y_pred))\n",
    "print('logreg_dbow Testing F1 score: {}'.format(f1_score(y_test, y_pred, average='weighted')))"
   ]
  },
  {
   "cell_type": "markdown",
   "metadata": {},
   "source": [
    "# Distributed memory\n"
   ]
  },
  {
   "cell_type": "code",
   "execution_count": 14,
   "metadata": {},
   "outputs": [
    {
     "name": "stderr",
     "output_type": "stream",
     "text": [
      "100%|███████████████████████████████████████████████████████████████████████| 11888/11888 [00:00<00:00, 2971861.12it/s]\n"
     ]
    }
   ],
   "source": [
    "#model_dmm = Doc2Vec(dm=1, dm_mean=1, vector_size=300, window=10, negative=5, min_count=1, workers=cores, alpha=0.065, min_alpha=0.065)  #Values from tutorial\n",
    "\n",
    "model_dmm = Doc2Vec(dm=1, dm_mean=0, vector_size=500, window=10, negative=5, min_count=1, workers=cores, alpha=0.1, min_alpha=0) #My optimised values\n",
    "\n",
    "model_dmm.build_vocab([x for x in tqdm(train_tagged.values)])"
   ]
  },
  {
   "cell_type": "code",
   "execution_count": 15,
   "metadata": {},
   "outputs": [
    {
     "name": "stderr",
     "output_type": "stream",
     "text": [
      "100%|███████████████████████████████████████████████████████████████████████| 11888/11888 [00:00<00:00, 1364434.27it/s]\n",
      "100%|████████████████████████████████████████████████████████████████████████████████████| 11888/11888 [00:00<?, ?it/s]\n",
      "100%|████████████████████████████████████████████████████████████████████████████████████| 11888/11888 [00:00<?, ?it/s]\n",
      "100%|████████████████████████████████████████████████████████████████████████| 11888/11888 [00:00<00:00, 891919.83it/s]\n",
      "100%|███████████████████████████████████████████████████████████████████████| 11888/11888 [00:00<00:00, 2943788.28it/s]\n",
      "100%|████████████████████████████████████████████████████████████████████████████████████| 11888/11888 [00:00<?, ?it/s]\n",
      "100%|████████████████████████████████████████████████████████████████████████| 11888/11888 [00:00<00:00, 987677.01it/s]\n",
      "100%|████████████████████████████████████████████████████████████████████████████████████| 11888/11888 [00:00<?, ?it/s]\n",
      "100%|████████████████████████████████████████████████████████████████████████| 11888/11888 [00:00<00:00, 665988.41it/s]\n",
      "100%|████████████████████████████████████████████████████████████████████████| 11888/11888 [00:00<00:00, 758759.58it/s]\n",
      "100%|████████████████████████████████████████████████████████████████████████████████████| 11888/11888 [00:00<?, ?it/s]\n",
      "100%|████████████████████████████████████████████████████████████████████████████████████| 11888/11888 [00:00<?, ?it/s]\n",
      "100%|████████████████████████████████████████████████████████████████████████████████████| 11888/11888 [00:00<?, ?it/s]\n",
      "100%|████████████████████████████████████████████████████████████████████████████████████| 11888/11888 [00:00<?, ?it/s]\n",
      "100%|████████████████████████████████████████████████████████████████████████████████████| 11888/11888 [00:00<?, ?it/s]\n",
      "100%|████████████████████████████████████████████████████████████████████████████████████| 11888/11888 [00:00<?, ?it/s]\n",
      "100%|████████████████████████████████████████████████████████████████████████████████████| 11888/11888 [00:00<?, ?it/s]\n",
      "100%|████████████████████████████████████████████████████████████████████████| 11888/11888 [00:00<00:00, 760391.10it/s]\n",
      "100%|████████████████████████████████████████████████████████████████████████████████████| 11888/11888 [00:00<?, ?it/s]\n",
      "100%|████████████████████████████████████████████████████████████████████████████████████| 11888/11888 [00:00<?, ?it/s]\n",
      "100%|███████████████████████████████████████████████████████████████████████| 11888/11888 [00:00<00:00, 1224025.09it/s]\n",
      "100%|████████████████████████████████████████████████████████████████████████| 11888/11888 [00:00<00:00, 758194.24it/s]\n",
      "100%|████████████████████████████████████████████████████████████████████████████████████| 11888/11888 [00:00<?, ?it/s]\n",
      "100%|████████████████████████████████████████████████████████████████████████████████████| 11888/11888 [00:00<?, ?it/s]\n",
      "100%|████████████████████████████████████████████████████████████████████████████████████| 11888/11888 [00:00<?, ?it/s]\n",
      "100%|████████████████████████████████████████████████████████████████████████████████████| 11888/11888 [00:00<?, ?it/s]\n",
      "100%|████████████████████████████████████████████████████████████████████████| 11888/11888 [00:00<00:00, 760565.08it/s]\n",
      "100%|████████████████████████████████████████████████████████████████████████████████████| 11888/11888 [00:00<?, ?it/s]\n",
      "100%|████████████████████████████████████████████████████████████████████████████████████| 11888/11888 [00:00<?, ?it/s]\n",
      "100%|████████████████████████████████████████████████████████████████████████| 11888/11888 [00:00<00:00, 760948.11it/s]\n"
     ]
    },
    {
     "name": "stdout",
     "output_type": "stream",
     "text": [
      "Wall time: 1min\n"
     ]
    }
   ],
   "source": [
    "%%time\n",
    "for epoch in range(30):\n",
    "    model_dmm.train(utils.shuffle([x for x in tqdm(train_tagged.values)]), total_examples=len(train_tagged.values), epochs=1)\n",
    "    model_dmm.alpha -= 0.002\n",
    "    model_dmm.min_alpha = model_dmm.alpha"
   ]
  },
  {
   "cell_type": "code",
   "execution_count": 16,
   "metadata": {},
   "outputs": [
    {
     "name": "stdout",
     "output_type": "stream",
     "text": [
      "logreg_dmm Testing accuracy 0.4888963660834455\n",
      "logreg_dmm Testing F1 score: 0.4916081121240112\n"
     ]
    },
    {
     "name": "stderr",
     "output_type": "stream",
     "text": [
      "C:\\Users\\elizabeth\\anaconda3\\envs\\python36\\lib\\site-packages\\sklearn\\linear_model\\_logistic.py:764: ConvergenceWarning: lbfgs failed to converge (status=1):\n",
      "STOP: TOTAL NO. of ITERATIONS REACHED LIMIT.\n",
      "\n",
      "Increase the number of iterations (max_iter) or scale the data as shown in:\n",
      "    https://scikit-learn.org/stable/modules/preprocessing.html\n",
      "Please also refer to the documentation for alternative solver options:\n",
      "    https://scikit-learn.org/stable/modules/linear_model.html#logistic-regression\n",
      "  extra_warning_msg=_LOGISTIC_SOLVER_CONVERGENCE_MSG)\n"
     ]
    }
   ],
   "source": [
    "# Distributed Memory (DM) model\n",
    "\n",
    "y_train, X_train = vec_for_learning(model_dmm, train_tagged)\n",
    "y_test, X_test = vec_for_learning(model_dmm, test_tagged)\n",
    "logreg_dmm = LogisticRegression(n_jobs=1, C=1e5, max_iter=1000)\n",
    "logreg_dmm.fit(X_train, y_train)\n",
    "y_pred = logreg_dmm.predict(X_test)\n",
    "print('logreg_dmm Testing accuracy %s' % accuracy_score(y_test, y_pred))\n",
    "print('logreg_dmm Testing F1 score: {}'.format(f1_score(y_test, y_pred, average='weighted')))"
   ]
  },
  {
   "cell_type": "markdown",
   "metadata": {},
   "source": [
    "# Combined model pairing"
   ]
  },
  {
   "cell_type": "code",
   "execution_count": 17,
   "metadata": {},
   "outputs": [],
   "source": [
    "from gensim.test.test_doc2vec import ConcatenatedDoc2Vec\n",
    "model_new = ConcatenatedDoc2Vec([model_dbow, model_dmm])"
   ]
  },
  {
   "cell_type": "code",
   "execution_count": 18,
   "metadata": {},
   "outputs": [],
   "source": [
    "def get_vectors(model, tagged_docs):\n",
    "    sents = tagged_docs.values\n",
    "    targets, regressors = zip(*[(doc.tags[0], model.infer_vector(doc.words, steps=20)) for doc in sents])\n",
    "    return targets, regressors"
   ]
  },
  {
   "cell_type": "code",
   "execution_count": 19,
   "metadata": {},
   "outputs": [
    {
     "name": "stdout",
     "output_type": "stream",
     "text": [
      "logreg_new Testing accuracy 0.5864737550471063\n",
      "logreg_new Testing F1 score: 0.5916891340435733\n"
     ]
    },
    {
     "name": "stderr",
     "output_type": "stream",
     "text": [
      "C:\\Users\\elizabeth\\anaconda3\\envs\\python36\\lib\\site-packages\\sklearn\\linear_model\\_logistic.py:764: ConvergenceWarning: lbfgs failed to converge (status=1):\n",
      "STOP: TOTAL NO. of ITERATIONS REACHED LIMIT.\n",
      "\n",
      "Increase the number of iterations (max_iter) or scale the data as shown in:\n",
      "    https://scikit-learn.org/stable/modules/preprocessing.html\n",
      "Please also refer to the documentation for alternative solver options:\n",
      "    https://scikit-learn.org/stable/modules/linear_model.html#logistic-regression\n",
      "  extra_warning_msg=_LOGISTIC_SOLVER_CONVERGENCE_MSG)\n"
     ]
    }
   ],
   "source": [
    "# Model Pairing method\n",
    "\n",
    "y_train, X_train = get_vectors(model_new, train_tagged)\n",
    "y_test, X_test = get_vectors(model_new, test_tagged)\n",
    "logreg_new = LogisticRegression(n_jobs=1, C=1e5, max_iter=1000)\n",
    "logreg_new.fit(X_train, y_train)\n",
    "y_pred = logreg_new.predict(X_test)\n",
    "print('logreg_new Testing accuracy %s' % accuracy_score(y_test, y_pred))\n",
    "print('logreg_new Testing F1 score: {}'.format(f1_score(y_test, y_pred, average='weighted')))"
   ]
  },
  {
   "cell_type": "code",
   "execution_count": 20,
   "metadata": {},
   "outputs": [],
   "source": [
    "#Free up memory (not necessary for our small training sample)\n",
    "model_dbow.delete_temporary_training_data(keep_doctags_vectors=True, keep_inference=True)\n",
    "model_dmm.delete_temporary_training_data(keep_doctags_vectors=True, keep_inference=True)"
   ]
  },
  {
   "cell_type": "markdown",
   "metadata": {},
   "source": [
    "# Apply to tweets"
   ]
  },
  {
   "cell_type": "code",
   "execution_count": 21,
   "metadata": {},
   "outputs": [],
   "source": [
    "def get_vectors_apply(model, docs_to_classify):\n",
    "    sents = docs_to_classify.values\n",
    "    regressors = [model.infer_vector(doc.words, steps=20) for doc in sents]\n",
    "    return regressors"
   ]
  },
  {
   "cell_type": "code",
   "execution_count": 22,
   "metadata": {},
   "outputs": [],
   "source": [
    "def clean_text(text):\n",
    "    text = re.sub(r\"http\\S+\", \"\", str(text)) #remove urls\n",
    "    text = re.sub(r'\\S+\\.com\\S+','',str(text)) #remove urls\n",
    "    text = re.sub(r'\\@\\w+','',str(text)) #remove mentions\n",
    "    text =re.sub(r'\\#','',str(text)) #remove hashtags\n",
    "    text = re.findall(r'[A-Za-z]+',str(text))\n",
    "    text = ' '.join(text) \n",
    "    return text"
   ]
  },
  {
   "cell_type": "code",
   "execution_count": 24,
   "metadata": {
    "scrolled": true
   },
   "outputs": [
    {
     "name": "stderr",
     "output_type": "stream",
     "text": [
      "Files:   2%|█▊                                                                       | 1/40 [05:59<3:53:50, 359.76s/it]"
     ]
    },
    {
     "name": "stdout",
     "output_type": "stream",
     "text": [
      "              tweet_id   screen_name  \\\n",
      "0  1294203275043110912  robahusseini   \n",
      "1  1293934001514848256  robahusseini   \n",
      "2  1293580602055299072  robahusseini   \n",
      "3  1293160356240592896  robahusseini   \n",
      "4  1292555363393458179  robahusseini   \n",
      "\n",
      "                                                text  \\\n",
      "0  Beirut blast who knew what when My latest for ...   \n",
      "1  RT Breaking via FBI to join Beirut blast probe...   \n",
      "2  RT BREAKING Lebanon prosecutor to question sev...   \n",
      "3  When the boy saw blood on his feet he started ...   \n",
      "4                                                 RT   \n",
      "\n",
      "                                 y_pred     score  \\\n",
      "0     Coronavirus disease 2019_Lockdown  0.476468   \n",
      "1              2020 Belarusian protests  0.999837   \n",
      "2  2020 Beirut explosion_Lebanon_Beirut  0.999960   \n",
      "3              2020 Belarusian protests  1.000000   \n",
      "4                                 Other  0.604117   \n",
      "\n",
      "   2020 Beirut explosion_Lebanon_Beirut  2020 Belarusian protests  \\\n",
      "0                          1.651853e-05              1.108791e-01   \n",
      "1                          1.418921e-04              9.998374e-01   \n",
      "2                          9.999602e-01              1.499825e-18   \n",
      "3                          1.176701e-25              1.000000e+00   \n",
      "4                          9.071146e-02              7.227061e-05   \n",
      "\n",
      "             5G  Apple Inc._Final Cut Pro X_Video  Architecture_Design  ...  \\\n",
      "0  2.191323e-12                      1.138545e-03         4.438903e-22  ...   \n",
      "1  1.229210e-21                      2.291720e-16         2.231896e-23  ...   \n",
      "2  9.948189e-32                      3.059745e-16         1.996707e-20  ...   \n",
      "3  3.685725e-55                      2.004901e-35         6.853369e-38  ...   \n",
      "4  2.811076e-05                      2.761321e-04         2.944666e-03  ...   \n",
      "\n",
      "    Health care  Information security  Innovation_Technology  \\\n",
      "0  2.266012e-18          9.761068e-18           9.745134e-13   \n",
      "1  1.109879e-09          7.209120e-14           7.302441e-10   \n",
      "2  4.131764e-28          1.753011e-41           6.832490e-25   \n",
      "3  5.731063e-51          4.527596e-56           4.401560e-44   \n",
      "4  1.453584e-06          6.166758e-03           1.286698e-05   \n",
      "\n",
      "   Journalism_Travel  Mental health         Other       Privacy  \\\n",
      "0       1.773106e-07   1.940719e-10  2.426465e-01  5.259368e-19   \n",
      "1       5.245191e-16   1.207105e-28  5.720282e-13  9.863956e-23   \n",
      "2       1.107176e-06   1.510463e-22  3.110269e-34  3.157188e-27   \n",
      "3       1.929855e-37   6.259560e-40  1.481736e-47  5.725181e-33   \n",
      "4       1.314093e-03   3.500269e-03  6.041171e-01  2.911217e-04   \n",
      "\n",
      "   Property_Real estate  Startup company     score  \n",
      "0          1.075886e-23     4.733057e-21  0.476468  \n",
      "1          3.409874e-18     1.406605e-22  0.999837  \n",
      "2          1.040234e-31     8.156869e-25  0.999960  \n",
      "3          3.894565e-46     1.879710e-58  1.000000  \n",
      "4          1.595174e-01     7.673940e-02  0.604117  \n",
      "\n",
      "[5 rows x 33 columns]\n"
     ]
    },
    {
     "name": "stderr",
     "output_type": "stream",
     "text": [
      "Files:   5%|███▋                                                                     | 2/40 [12:08<3:50:47, 364.41s/it]"
     ]
    },
    {
     "name": "stdout",
     "output_type": "stream",
     "text": [
      "              tweet_id     screen_name  \\\n",
      "0  1275530996822269953  lachcartwright   \n",
      "1  1275049519592456192  lachcartwright   \n",
      "2  1275042365875662848  lachcartwright   \n",
      "3  1274841046640443393  lachcartwright   \n",
      "4  1274840726791229440  lachcartwright   \n",
      "\n",
      "                                                text  \\\n",
      "0  Trump Goes to Court to Block Niece s Tell All ...   \n",
      "1  RT New President Trump says niece not allowed ...   \n",
      "2  RT Steven Bannon s platform to air COVID consp...   \n",
      "3  RT One of the ways we knew that Mary had signe...   \n",
      "4  Donald Trump Confirms Niece Mary Trump Signed ...   \n",
      "\n",
      "                             y_pred     score  \\\n",
      "0             Innovation_Technology  0.999999   \n",
      "1              Property_Real estate  0.988902   \n",
      "2                             Other  0.682641   \n",
      "3                          Business  0.999644   \n",
      "4  Apple Inc._Final Cut Pro X_Video  0.988967   \n",
      "\n",
      "   2020 Beirut explosion_Lebanon_Beirut  2020 Belarusian protests  \\\n",
      "0                          3.957441e-26              5.506328e-32   \n",
      "1                          4.228147e-22              3.667927e-28   \n",
      "2                          4.105565e-14              1.106786e-14   \n",
      "3                          1.821134e-32              1.186453e-25   \n",
      "4                          1.604359e-11              3.533903e-04   \n",
      "\n",
      "             5G  Apple Inc._Final Cut Pro X_Video  Architecture_Design  ...  \\\n",
      "0  1.000241e-25                      8.972516e-08         4.182941e-21  ...   \n",
      "1  1.438587e-32                      3.572659e-23         2.090130e-40  ...   \n",
      "2  1.126342e-27                      9.560553e-11         1.108394e-38  ...   \n",
      "3  2.852850e-07                      1.660915e-20         1.030528e-31  ...   \n",
      "4  3.015794e-05                      9.889666e-01         1.166696e-16  ...   \n",
      "\n",
      "    Health care  Information security  Innovation_Technology  \\\n",
      "0  2.548043e-27          8.526743e-23           9.999992e-01   \n",
      "1  1.289783e-24          2.381707e-21           1.082750e-02   \n",
      "2  6.830881e-28          3.691305e-46           8.416134e-09   \n",
      "3  1.370937e-35          3.451689e-04           6.102975e-21   \n",
      "4  7.588223e-19          4.299699e-16           1.187770e-16   \n",
      "\n",
      "   Journalism_Travel  Mental health         Other       Privacy  \\\n",
      "0       1.514103e-31   1.063850e-23  7.066138e-10  4.207555e-22   \n",
      "1       9.744123e-16   4.465745e-20  2.380448e-04  1.086619e-26   \n",
      "2       5.451995e-06   1.040885e-31  6.826415e-01  5.232237e-35   \n",
      "3       3.901097e-28   4.570491e-14  3.822835e-10  6.004669e-12   \n",
      "4       1.062232e-05   5.289713e-07  1.668080e-06  5.683810e-17   \n",
      "\n",
      "   Property_Real estate  Startup company     score  \n",
      "0          2.401282e-35     7.381905e-07  0.999999  \n",
      "1          9.889022e-01     1.668475e-28  0.988902  \n",
      "2          3.218473e-25     1.782333e-34  0.682641  \n",
      "3          1.681253e-20     8.048301e-27  0.999644  \n",
      "4          2.063980e-15     3.379617e-20  0.988967  \n",
      "\n",
      "[5 rows x 33 columns]\n"
     ]
    },
    {
     "name": "stderr",
     "output_type": "stream",
     "text": [
      "\n"
     ]
    }
   ],
   "source": [
    "src_dir = r'C:\\Users\\elizabeth\\Documents\\cleaned tweets\\cyber friends tweets'\n",
    "\n",
    "files = [file for file in os.listdir(src_dir) if os.path.isfile(os.path.join(src_dir, file))]\n",
    "logreg_model = logreg_new\n",
    "model = model_new\n",
    "\n",
    "with tqdm(total=len(files), desc='Files') as pbar:\n",
    "    i=0\n",
    "    for file in files[:2]:\n",
    "        df = pd.read_csv(os.path.join(src_dir, file), low_memory=False)\n",
    "        df = df[df.text != '']\n",
    "        df['clean_tweet'] = df['text'].apply(lambda x: clean_text(x))\n",
    "        test_tagged = df.apply(\n",
    "            lambda r: TaggedDocument(words=tokenize_text(r['clean_tweet']), tags=[r.screen_name]), axis=1)\n",
    "        X_test = get_vectors_apply(model, test_tagged)\n",
    "        df['y_pred'] = logreg_model.predict(X_test)\n",
    "        y_pred_score = logreg_model.predict_proba(X_test)\n",
    "        df2 = pd.DataFrame(y_pred_score)\n",
    "        df2.columns=logreg_model.classes_\n",
    "        df2['score'] = df2.max(axis=1)\n",
    "        df['score'] = df2['score']\n",
    "        df3 = df[['tweet_id','screen_name', 'text', 'y_pred', 'score']].copy()\n",
    "        df4 = pd.concat([df3, df2], axis=1)\n",
    "        df3.to_csv('topic_modelled_sentences_'+str(i)+'.csv', index=False)\n",
    "        df4.to_csv('all_topics_modelled_sentences_'+str(i)+'.csv', index=False)\n",
    "        print(df4.head())\n",
    "        pbar.update(1)\n",
    "        i = i+1\n"
   ]
  },
  {
   "cell_type": "markdown",
   "metadata": {},
   "source": [
    "# How are journalists interests are spread?"
   ]
  },
  {
   "cell_type": "markdown",
   "metadata": {},
   "source": [
    "first we need to drop the row where the classification has been less than 0.5, then we can pool over user_name"
   ]
  },
  {
   "cell_type": "code",
   "execution_count": null,
   "metadata": {},
   "outputs": [],
   "source": [
    "src_dir = r'C:\\Users\\elizabeth\\Documents\\Python Scripts\\all_topics_modelled'\n",
    "\n",
    "files = [file for file in os.listdir(src_dir) if os.path.isfile(os.path.join(src_dir, file))]\n",
    "ls = list(logreg_dmm.classes_)\n",
    "ls.insert(0, 'screen_name')\n",
    "df_totalled_topics = pd.DataFrame(columns=ls)\n",
    "\n",
    "df_totalled_topics"
   ]
  },
  {
   "cell_type": "code",
   "execution_count": null,
   "metadata": {},
   "outputs": [],
   "source": [
    "with tqdm(total=len(files), desc='Files') as pbar:\n",
    "    for file in files:\n",
    "        df = pd.read_csv(os.path.join(src_dir, file), low_memory=False)\n",
    "        df1 = df[~(df['score'] <= 0.5)] \n",
    "        df2 = df1.groupby('screen_name')['5g', 'IOT', 'ai', 'analyticsinvestment',\n",
    "                                        'apple', 'banking', 'beirut', 'belarus', 'blacklivesmatter',\n",
    "                                        'brexit', 'business', 'china', 'climatechange', 'cloud',\n",
    "                                        'covid19', 'crypto', 'cryptocurrency', 'cybersecurity', 'data',\n",
    "                                        'datascience', 'demconvention', 'economy', 'esg', 'fintech', 'gdpr',\n",
    "                                        'healthcare', 'hongkong', 'infosec', 'insurance', 'iran', 'jobs', 'leadership',\n",
    "                                        'machinelearning', 'mentalhealth', 'paymentsprivacy', 'phishing', 'podcast',\n",
    "                                        'property', 'regtech', 'retail', 'robotics', 'socialmedia', 'startup',\n",
    "                                        'sustainability', 'syria', 'vr', 'webinar', 'womenintech'].sum()\n",
    "        df_totalled_topics = pd.concat([df_totalled_topics, df2])\n",
    "        pbar.update(1)\n",
    "df_totalled_topics.head()\n"
   ]
  },
  {
   "cell_type": "code",
   "execution_count": null,
   "metadata": {},
   "outputs": [],
   "source": [
    "df_totalled_topics['total'] = df_totalled_topics.sum(axis = 1)"
   ]
  },
  {
   "cell_type": "code",
   "execution_count": null,
   "metadata": {},
   "outputs": [],
   "source": [
    "df3 = df_totalled_topics[['5g', 'IOT', 'ai', 'analyticsinvestment',\n",
    "                        'apple', 'banking', 'beirut', 'belarus', 'blacklivesmatter',\n",
    "                        'brexit', 'business', 'china', 'climatechange', 'cloud',\n",
    "                        'covid19', 'crypto', 'cryptocurrency', 'cybersecurity', 'data',\n",
    "                        'datascience', 'demconvention', 'economy', 'esg', 'fintech', 'gdpr',\n",
    "                        'healthcare', 'hongkong', 'infosec', 'insurance', 'iran', 'jobs', 'leadership',\n",
    "                        'machinelearning', 'mentalhealth', 'paymentsprivacy', 'phishing', 'podcast',\n",
    "                        'property', 'regtech', 'retail', 'robotics', 'socialmedia', 'startup',\n",
    "                        'sustainability', 'syria', 'vr', 'webinar', 'womenintech', 'total']].div(df_totalled_topics.total, axis=0)\n",
    "df3 = df3.drop(['total'], axis=1)\n",
    "df3.reset_index(inplace=True)"
   ]
  },
  {
   "cell_type": "code",
   "execution_count": null,
   "metadata": {},
   "outputs": [],
   "source": [
    "df3 = df3.rename(columns={'index': 'user_name'})\n",
    "df3"
   ]
  },
  {
   "cell_type": "code",
   "execution_count": null,
   "metadata": {},
   "outputs": [],
   "source": [
    "df3.to_csv('user_name_topics_summed.csv', index=False)\n"
   ]
  },
  {
   "cell_type": "code",
   "execution_count": null,
   "metadata": {},
   "outputs": [],
   "source": [
    "df4 = df3.set_index('user_name')"
   ]
  },
  {
   "cell_type": "code",
   "execution_count": null,
   "metadata": {
    "scrolled": true
   },
   "outputs": [],
   "source": [
    "\n",
    "\n",
    "x = [0, 0.01, 0.02, 0.03, 0.04, 0.05, 0.06]\n",
    "labels = list(df4.columns)\n",
    "row1 = df4.iloc[0]\n",
    "row1.plot(kind='bar',title='Oxchich', color='r',stacked=False, figsize=(15,5))\n",
    "\n",
    "\n",
    "\n"
   ]
  },
  {
   "cell_type": "code",
   "execution_count": null,
   "metadata": {},
   "outputs": [],
   "source": [
    "x = [0, 0.01, 0.02, 0.03, 0.04, 0.05, 0.06]\n",
    "labels = list(df2.columns)\n",
    "row1 = df2.iloc[1]\n",
    "row1.plot(kind='bar',title='_benkatz', color='r',stacked=False, figsize=(15,5))\n"
   ]
  },
  {
   "cell_type": "code",
   "execution_count": null,
   "metadata": {},
   "outputs": [],
   "source": [
    "x = [0, 0.01, 0.02, 0.03, 0.04, 0.05, 0.06]\n",
    "labels = list(df4.columns)\n",
    "row1 = df4.iloc[0]\n",
    "row1.plot(kind='bar',title='_john_handel', color='r',stacked=False, figsize=(15,5))"
   ]
  },
  {
   "cell_type": "markdown",
   "metadata": {},
   "source": [
    "# Wordclouds for a sense check "
   ]
  },
  {
   "cell_type": "code",
   "execution_count": null,
   "metadata": {},
   "outputs": [],
   "source": [
    "!pip install wordcloud\n"
   ]
  },
  {
   "cell_type": "code",
   "execution_count": null,
   "metadata": {},
   "outputs": [],
   "source": [
    "from os import path\n",
    "from PIL import Image\n",
    "from wordcloud import WordCloud, STOPWORDS, ImageColorGenerator\n",
    "import matplotlib.pyplot as plt"
   ]
  },
  {
   "cell_type": "code",
   "execution_count": null,
   "metadata": {},
   "outputs": [],
   "source": [
    "def wordcloud_plot(text):\n",
    "    wordcloud = WordCloud(collocations=False, \n",
    "                          width = 1000, \n",
    "                          height = 700, \n",
    "                          background_color ='white', \n",
    "                          min_font_size = 10).generate(text)\n",
    "    \n",
    "    plt.figure(figsize = (8,8))\n",
    "    plt.imshow(wordcloud, interpolation='bilinear')\n",
    "    plt.axis(\"off\")\n",
    "    plt.tight_layout(pad = 0)\n",
    "    plt.show()"
   ]
  },
  {
   "cell_type": "code",
   "execution_count": null,
   "metadata": {
    "scrolled": true
   },
   "outputs": [],
   "source": [
    "src_dir = r'C:\\Users\\elizabeth\\Documents\\Python Scripts\\cyber_topic_modelled'\n",
    "\n",
    "files = [file for file in os.listdir(src_dir) if os.path.isfile(os.path.join(src_dir, file))]\n",
    "with tqdm(total=len(files), desc='Files') as pbar:\n",
    "    for file in files[:5]:\n",
    "        df = pd.read_csv(os.path.join(src_dir, file), low_memory=False)\n",
    "        df1 = df.groupby(['y_pred'])[['text']].sum()\n",
    "        pbar.update(1)\n",
    "        \n",
    "\n"
   ]
  },
  {
   "cell_type": "code",
   "execution_count": null,
   "metadata": {},
   "outputs": [],
   "source": [
    "df1.head(3).style.set_properties(subset=['text'], **{'width':'1000px'})"
   ]
  },
  {
   "cell_type": "code",
   "execution_count": null,
   "metadata": {},
   "outputs": [],
   "source": [
    "wordcloud_plot(df1['text'][0])\n"
   ]
  },
  {
   "cell_type": "code",
   "execution_count": null,
   "metadata": {},
   "outputs": [],
   "source": [
    "wordcloud_plot(df1['text'][1])"
   ]
  },
  {
   "cell_type": "code",
   "execution_count": null,
   "metadata": {},
   "outputs": [],
   "source": [
    "wordcloud_plot(df1['text'][2])"
   ]
  }
 ],
 "metadata": {
  "kernelspec": {
   "display_name": "Python 3",
   "language": "python",
   "name": "python3"
  },
  "language_info": {
   "codemirror_mode": {
    "name": "ipython",
    "version": 3
   },
   "file_extension": ".py",
   "mimetype": "text/x-python",
   "name": "python",
   "nbconvert_exporter": "python",
   "pygments_lexer": "ipython3",
   "version": "3.6.10"
  }
 },
 "nbformat": 4,
 "nbformat_minor": 4
}
